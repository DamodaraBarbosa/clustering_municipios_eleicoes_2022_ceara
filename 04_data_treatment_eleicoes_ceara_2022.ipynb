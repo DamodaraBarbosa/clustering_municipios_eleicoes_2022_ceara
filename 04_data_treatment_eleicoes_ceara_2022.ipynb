{
 "cells": [
  {
   "attachments": {},
   "cell_type": "markdown",
   "metadata": {},
   "source": [
    "Importando as bibliotecas"
   ]
  },
  {
   "cell_type": "code",
   "execution_count": 40,
   "metadata": {},
   "outputs": [],
   "source": [
    "import pandas as pd"
   ]
  },
  {
   "attachments": {},
   "cell_type": "markdown",
   "metadata": {},
   "source": [
    "# 1. Carregamento dos dados"
   ]
  },
  {
   "cell_type": "code",
   "execution_count": 41,
   "metadata": {},
   "outputs": [],
   "source": [
    "df = pd.read_csv(\n",
    "    r'C:\\Users\\Nityananda\\Desktop\\Datasets\\votacao_secao_2022_CE.csv',\n",
    "    sep= ';', encoding= 'latin-1'\n",
    ")"
   ]
  },
  {
   "cell_type": "code",
   "execution_count": 42,
   "metadata": {},
   "outputs": [
    {
     "data": {
      "text/html": [
       "<div>\n",
       "<style scoped>\n",
       "    .dataframe tbody tr th:only-of-type {\n",
       "        vertical-align: middle;\n",
       "    }\n",
       "\n",
       "    .dataframe tbody tr th {\n",
       "        vertical-align: top;\n",
       "    }\n",
       "\n",
       "    .dataframe thead th {\n",
       "        text-align: right;\n",
       "    }\n",
       "</style>\n",
       "<table border=\"1\" class=\"dataframe\">\n",
       "  <thead>\n",
       "    <tr style=\"text-align: right;\">\n",
       "      <th></th>\n",
       "      <th>DT_GERACAO</th>\n",
       "      <th>HH_GERACAO</th>\n",
       "      <th>ANO_ELEICAO</th>\n",
       "      <th>CD_TIPO_ELEICAO</th>\n",
       "      <th>NM_TIPO_ELEICAO</th>\n",
       "      <th>NR_TURNO</th>\n",
       "      <th>CD_ELEICAO</th>\n",
       "      <th>DS_ELEICAO</th>\n",
       "      <th>DT_ELEICAO</th>\n",
       "      <th>TP_ABRANGENCIA</th>\n",
       "      <th>...</th>\n",
       "      <th>NR_SECAO</th>\n",
       "      <th>CD_CARGO</th>\n",
       "      <th>DS_CARGO</th>\n",
       "      <th>NR_VOTAVEL</th>\n",
       "      <th>NM_VOTAVEL</th>\n",
       "      <th>QT_VOTOS</th>\n",
       "      <th>NR_LOCAL_VOTACAO</th>\n",
       "      <th>SQ_CANDIDATO</th>\n",
       "      <th>NM_LOCAL_VOTACAO</th>\n",
       "      <th>DS_LOCAL_VOTACAO_ENDERECO</th>\n",
       "    </tr>\n",
       "  </thead>\n",
       "  <tbody>\n",
       "    <tr>\n",
       "      <th>0</th>\n",
       "      <td>01/11/2022</td>\n",
       "      <td>16:05:25</td>\n",
       "      <td>2022</td>\n",
       "      <td>2</td>\n",
       "      <td>ELEIÇÃO ORDINÁRIA</td>\n",
       "      <td>1</td>\n",
       "      <td>546</td>\n",
       "      <td>ELEIÇÕES GERAIS ESTADUAIS 2022</td>\n",
       "      <td>02/10/2022</td>\n",
       "      <td>E</td>\n",
       "      <td>...</td>\n",
       "      <td>6</td>\n",
       "      <td>6</td>\n",
       "      <td>DEPUTADO FEDERAL</td>\n",
       "      <td>4444</td>\n",
       "      <td>HEITOR RODRIGO PEREIRA FREIRE</td>\n",
       "      <td>4</td>\n",
       "      <td>1023</td>\n",
       "      <td>60001608890</td>\n",
       "      <td>CENTRO COMUNITARIO CONJUNTO SAO FRANCISCO</td>\n",
       "      <td>RUA ILHA DO BOTE 367</td>\n",
       "    </tr>\n",
       "    <tr>\n",
       "      <th>1</th>\n",
       "      <td>01/11/2022</td>\n",
       "      <td>16:05:25</td>\n",
       "      <td>2022</td>\n",
       "      <td>2</td>\n",
       "      <td>ELEIÇÃO ORDINÁRIA</td>\n",
       "      <td>1</td>\n",
       "      <td>546</td>\n",
       "      <td>ELEIÇÕES GERAIS ESTADUAIS 2022</td>\n",
       "      <td>02/10/2022</td>\n",
       "      <td>E</td>\n",
       "      <td>...</td>\n",
       "      <td>266</td>\n",
       "      <td>6</td>\n",
       "      <td>DEPUTADO FEDERAL</td>\n",
       "      <td>4444</td>\n",
       "      <td>HEITOR RODRIGO PEREIRA FREIRE</td>\n",
       "      <td>13</td>\n",
       "      <td>1546</td>\n",
       "      <td>60001608890</td>\n",
       "      <td>ESCOLA MUNICIPAL ZINA MOREIRA</td>\n",
       "      <td>TIMBAUBA NOSSA SENHORA DAS DORES</td>\n",
       "    </tr>\n",
       "    <tr>\n",
       "      <th>2</th>\n",
       "      <td>01/11/2022</td>\n",
       "      <td>16:05:25</td>\n",
       "      <td>2022</td>\n",
       "      <td>2</td>\n",
       "      <td>ELEIÇÃO ORDINÁRIA</td>\n",
       "      <td>1</td>\n",
       "      <td>546</td>\n",
       "      <td>ELEIÇÕES GERAIS ESTADUAIS 2022</td>\n",
       "      <td>02/10/2022</td>\n",
       "      <td>E</td>\n",
       "      <td>...</td>\n",
       "      <td>119</td>\n",
       "      <td>6</td>\n",
       "      <td>DEPUTADO FEDERAL</td>\n",
       "      <td>4444</td>\n",
       "      <td>HEITOR RODRIGO PEREIRA FREIRE</td>\n",
       "      <td>3</td>\n",
       "      <td>1058</td>\n",
       "      <td>60001608890</td>\n",
       "      <td>EEM ENGENHEIRO AGEU ROMERO</td>\n",
       "      <td>RUA EVARISTO GOMES 143</td>\n",
       "    </tr>\n",
       "  </tbody>\n",
       "</table>\n",
       "<p>3 rows × 26 columns</p>\n",
       "</div>"
      ],
      "text/plain": [
       "   DT_GERACAO HH_GERACAO  ANO_ELEICAO  CD_TIPO_ELEICAO    NM_TIPO_ELEICAO  \\\n",
       "0  01/11/2022   16:05:25         2022                2  ELEIÇÃO ORDINÁRIA   \n",
       "1  01/11/2022   16:05:25         2022                2  ELEIÇÃO ORDINÁRIA   \n",
       "2  01/11/2022   16:05:25         2022                2  ELEIÇÃO ORDINÁRIA   \n",
       "\n",
       "   NR_TURNO  CD_ELEICAO                      DS_ELEICAO  DT_ELEICAO  \\\n",
       "0         1         546  ELEIÇÕES GERAIS ESTADUAIS 2022  02/10/2022   \n",
       "1         1         546  ELEIÇÕES GERAIS ESTADUAIS 2022  02/10/2022   \n",
       "2         1         546  ELEIÇÕES GERAIS ESTADUAIS 2022  02/10/2022   \n",
       "\n",
       "  TP_ABRANGENCIA  ... NR_SECAO CD_CARGO          DS_CARGO  NR_VOTAVEL  \\\n",
       "0              E  ...        6        6  DEPUTADO FEDERAL        4444   \n",
       "1              E  ...      266        6  DEPUTADO FEDERAL        4444   \n",
       "2              E  ...      119        6  DEPUTADO FEDERAL        4444   \n",
       "\n",
       "                      NM_VOTAVEL  QT_VOTOS  NR_LOCAL_VOTACAO  SQ_CANDIDATO  \\\n",
       "0  HEITOR RODRIGO PEREIRA FREIRE         4              1023   60001608890   \n",
       "1  HEITOR RODRIGO PEREIRA FREIRE        13              1546   60001608890   \n",
       "2  HEITOR RODRIGO PEREIRA FREIRE         3              1058   60001608890   \n",
       "\n",
       "                            NM_LOCAL_VOTACAO         DS_LOCAL_VOTACAO_ENDERECO  \n",
       "0  CENTRO COMUNITARIO CONJUNTO SAO FRANCISCO              RUA ILHA DO BOTE 367  \n",
       "1              ESCOLA MUNICIPAL ZINA MOREIRA  TIMBAUBA NOSSA SENHORA DAS DORES  \n",
       "2                 EEM ENGENHEIRO AGEU ROMERO            RUA EVARISTO GOMES 143  \n",
       "\n",
       "[3 rows x 26 columns]"
      ]
     },
     "execution_count": 42,
     "metadata": {},
     "output_type": "execute_result"
    }
   ],
   "source": [
    "df.head(3)"
   ]
  },
  {
   "attachments": {},
   "cell_type": "markdown",
   "metadata": {},
   "source": [
    "# 2. Informações dos *dataframes*"
   ]
  },
  {
   "attachments": {},
   "cell_type": "markdown",
   "metadata": {},
   "source": [
    "## 2.1 Dimensões dos *dataframes*"
   ]
  },
  {
   "attachments": {},
   "cell_type": "markdown",
   "metadata": {},
   "source": [
    "Determinar as dimensões de um *dataframe* é indicar a quantidade de colunas e linhas."
   ]
  },
  {
   "cell_type": "code",
   "execution_count": 43,
   "metadata": {},
   "outputs": [
    {
     "data": {
      "text/plain": [
       "'O dataframe contém 26 colunas e 2509903 linhas.'"
      ]
     },
     "execution_count": 43,
     "metadata": {},
     "output_type": "execute_result"
    }
   ],
   "source": [
    "f'O dataframe contém {df.shape[1]} colunas e {df.shape[0]} linhas.'"
   ]
  },
  {
   "attachments": {},
   "cell_type": "markdown",
   "metadata": {},
   "source": [
    "## 2.2 Infos do *dataframe*"
   ]
  },
  {
   "cell_type": "code",
   "execution_count": 44,
   "metadata": {},
   "outputs": [
    {
     "name": "stdout",
     "output_type": "stream",
     "text": [
      "<class 'pandas.core.frame.DataFrame'>\n",
      "RangeIndex: 2509903 entries, 0 to 2509902\n",
      "Data columns (total 26 columns):\n",
      " #   Column                     Dtype \n",
      "---  ------                     ----- \n",
      " 0   DT_GERACAO                 object\n",
      " 1   HH_GERACAO                 object\n",
      " 2   ANO_ELEICAO                int64 \n",
      " 3   CD_TIPO_ELEICAO            int64 \n",
      " 4   NM_TIPO_ELEICAO            object\n",
      " 5   NR_TURNO                   int64 \n",
      " 6   CD_ELEICAO                 int64 \n",
      " 7   DS_ELEICAO                 object\n",
      " 8   DT_ELEICAO                 object\n",
      " 9   TP_ABRANGENCIA             object\n",
      " 10  SG_UF                      object\n",
      " 11  SG_UE                      object\n",
      " 12  NM_UE                      object\n",
      " 13  CD_MUNICIPIO               int64 \n",
      " 14  NM_MUNICIPIO               object\n",
      " 15  NR_ZONA                    int64 \n",
      " 16  NR_SECAO                   int64 \n",
      " 17  CD_CARGO                   int64 \n",
      " 18  DS_CARGO                   object\n",
      " 19  NR_VOTAVEL                 int64 \n",
      " 20  NM_VOTAVEL                 object\n",
      " 21  QT_VOTOS                   int64 \n",
      " 22  NR_LOCAL_VOTACAO           int64 \n",
      " 23  SQ_CANDIDATO               int64 \n",
      " 24  NM_LOCAL_VOTACAO           object\n",
      " 25  DS_LOCAL_VOTACAO_ENDERECO  object\n",
      "dtypes: int64(12), object(14)\n",
      "memory usage: 497.9+ MB\n"
     ]
    }
   ],
   "source": [
    "df.info()"
   ]
  },
  {
   "attachments": {},
   "cell_type": "markdown",
   "metadata": {},
   "source": [
    "## 2.3 Dados faltantes"
   ]
  },
  {
   "attachments": {},
   "cell_type": "markdown",
   "metadata": {},
   "source": [
    "É importante identificar a presença de dados faltantes (\"not a number\" ou `NaN`)."
   ]
  },
  {
   "cell_type": "code",
   "execution_count": 45,
   "metadata": {},
   "outputs": [
    {
     "data": {
      "text/plain": [
       "DT_GERACAO                   0\n",
       "HH_GERACAO                   0\n",
       "ANO_ELEICAO                  0\n",
       "CD_TIPO_ELEICAO              0\n",
       "NM_TIPO_ELEICAO              0\n",
       "NR_TURNO                     0\n",
       "CD_ELEICAO                   0\n",
       "DS_ELEICAO                   0\n",
       "DT_ELEICAO                   0\n",
       "TP_ABRANGENCIA               0\n",
       "SG_UF                        0\n",
       "SG_UE                        0\n",
       "NM_UE                        0\n",
       "CD_MUNICIPIO                 0\n",
       "NM_MUNICIPIO                 0\n",
       "NR_ZONA                      0\n",
       "NR_SECAO                     0\n",
       "CD_CARGO                     0\n",
       "DS_CARGO                     0\n",
       "NR_VOTAVEL                   0\n",
       "NM_VOTAVEL                   0\n",
       "QT_VOTOS                     0\n",
       "NR_LOCAL_VOTACAO             0\n",
       "SQ_CANDIDATO                 0\n",
       "NM_LOCAL_VOTACAO             0\n",
       "DS_LOCAL_VOTACAO_ENDERECO    0\n",
       "dtype: int64"
      ]
     },
     "execution_count": 45,
     "metadata": {},
     "output_type": "execute_result"
    }
   ],
   "source": [
    "df.isnull().sum()"
   ]
  },
  {
   "attachments": {},
   "cell_type": "markdown",
   "metadata": {},
   "source": [
    "Não há em nenhuma das colunas do conjunto de dados a presença de dados faltantes."
   ]
  },
  {
   "attachments": {},
   "cell_type": "markdown",
   "metadata": {},
   "source": [
    "## 2.4 Presença de dados faltantes"
   ]
  },
  {
   "attachments": {},
   "cell_type": "markdown",
   "metadata": {},
   "source": [
    "Para integridade dos dados também é importante detectar se há dados duplicados. Para isso:"
   ]
  },
  {
   "cell_type": "code",
   "execution_count": 46,
   "metadata": {},
   "outputs": [
    {
     "data": {
      "text/html": [
       "<div>\n",
       "<style scoped>\n",
       "    .dataframe tbody tr th:only-of-type {\n",
       "        vertical-align: middle;\n",
       "    }\n",
       "\n",
       "    .dataframe tbody tr th {\n",
       "        vertical-align: top;\n",
       "    }\n",
       "\n",
       "    .dataframe thead th {\n",
       "        text-align: right;\n",
       "    }\n",
       "</style>\n",
       "<table border=\"1\" class=\"dataframe\">\n",
       "  <thead>\n",
       "    <tr style=\"text-align: right;\">\n",
       "      <th></th>\n",
       "      <th>DT_GERACAO</th>\n",
       "      <th>HH_GERACAO</th>\n",
       "      <th>ANO_ELEICAO</th>\n",
       "      <th>CD_TIPO_ELEICAO</th>\n",
       "      <th>NM_TIPO_ELEICAO</th>\n",
       "      <th>NR_TURNO</th>\n",
       "      <th>CD_ELEICAO</th>\n",
       "      <th>DS_ELEICAO</th>\n",
       "      <th>DT_ELEICAO</th>\n",
       "      <th>TP_ABRANGENCIA</th>\n",
       "      <th>...</th>\n",
       "      <th>NR_SECAO</th>\n",
       "      <th>CD_CARGO</th>\n",
       "      <th>DS_CARGO</th>\n",
       "      <th>NR_VOTAVEL</th>\n",
       "      <th>NM_VOTAVEL</th>\n",
       "      <th>QT_VOTOS</th>\n",
       "      <th>NR_LOCAL_VOTACAO</th>\n",
       "      <th>SQ_CANDIDATO</th>\n",
       "      <th>NM_LOCAL_VOTACAO</th>\n",
       "      <th>DS_LOCAL_VOTACAO_ENDERECO</th>\n",
       "    </tr>\n",
       "  </thead>\n",
       "  <tbody>\n",
       "  </tbody>\n",
       "</table>\n",
       "<p>0 rows × 26 columns</p>\n",
       "</div>"
      ],
      "text/plain": [
       "Empty DataFrame\n",
       "Columns: [DT_GERACAO, HH_GERACAO, ANO_ELEICAO, CD_TIPO_ELEICAO, NM_TIPO_ELEICAO, NR_TURNO, CD_ELEICAO, DS_ELEICAO, DT_ELEICAO, TP_ABRANGENCIA, SG_UF, SG_UE, NM_UE, CD_MUNICIPIO, NM_MUNICIPIO, NR_ZONA, NR_SECAO, CD_CARGO, DS_CARGO, NR_VOTAVEL, NM_VOTAVEL, QT_VOTOS, NR_LOCAL_VOTACAO, SQ_CANDIDATO, NM_LOCAL_VOTACAO, DS_LOCAL_VOTACAO_ENDERECO]\n",
       "Index: []\n",
       "\n",
       "[0 rows x 26 columns]"
      ]
     },
     "execution_count": 46,
     "metadata": {},
     "output_type": "execute_result"
    }
   ],
   "source": [
    "df.loc[df.duplicated()]"
   ]
  },
  {
   "attachments": {},
   "cell_type": "markdown",
   "metadata": {},
   "source": [
    "Não há dados duplicados no conjunto de dados."
   ]
  },
  {
   "attachments": {},
   "cell_type": "markdown",
   "metadata": {},
   "source": [
    "# 3. Pré-processamento dos dados"
   ]
  },
  {
   "attachments": {},
   "cell_type": "markdown",
   "metadata": {},
   "source": [
    "## 3.1 Eliminação de colunas"
   ]
  },
  {
   "attachments": {},
   "cell_type": "markdown",
   "metadata": {},
   "source": [
    "As colunas entre `DT_GERACAO` e `NM_UE` contém apenas valores únicos. Além disso, os dados em algumas outras colunas da base de dados não serão úteis para o objetivo da análise posterior, por isso também devem ser excluídas. "
   ]
  },
  {
   "attachments": {},
   "cell_type": "markdown",
   "metadata": {},
   "source": [
    "São mantidas as colunas `NM_MUNICIPIO`, `NR_ZONA`, `NR_SECAO`, `DS_CARGO`, `NR_VOTAVEL`, `NM_VOTAVEL` e `QT_VOTOS`. Elas contêm informações sobre o nome do município, zona eleitoral, seção eleitoral, cargo ao qual o candidato concorreu, número do candidato e quantidade de votos, respectivamente:"
   ]
  },
  {
   "cell_type": "code",
   "execution_count": 47,
   "metadata": {},
   "outputs": [],
   "source": [
    "df = df[['NM_MUNICIPIO', 'NR_ZONA', 'NR_SECAO', 'DS_CARGO', 'NR_VOTAVEL', 'NM_VOTAVEL', 'QT_VOTOS']]"
   ]
  },
  {
   "cell_type": "code",
   "execution_count": 48,
   "metadata": {},
   "outputs": [
    {
     "data": {
      "text/html": [
       "<div>\n",
       "<style scoped>\n",
       "    .dataframe tbody tr th:only-of-type {\n",
       "        vertical-align: middle;\n",
       "    }\n",
       "\n",
       "    .dataframe tbody tr th {\n",
       "        vertical-align: top;\n",
       "    }\n",
       "\n",
       "    .dataframe thead th {\n",
       "        text-align: right;\n",
       "    }\n",
       "</style>\n",
       "<table border=\"1\" class=\"dataframe\">\n",
       "  <thead>\n",
       "    <tr style=\"text-align: right;\">\n",
       "      <th></th>\n",
       "      <th>NM_MUNICIPIO</th>\n",
       "      <th>NR_ZONA</th>\n",
       "      <th>NR_SECAO</th>\n",
       "      <th>DS_CARGO</th>\n",
       "      <th>NR_VOTAVEL</th>\n",
       "      <th>NM_VOTAVEL</th>\n",
       "      <th>QT_VOTOS</th>\n",
       "    </tr>\n",
       "  </thead>\n",
       "  <tbody>\n",
       "    <tr>\n",
       "      <th>0</th>\n",
       "      <td>FORTALEZA</td>\n",
       "      <td>94</td>\n",
       "      <td>6</td>\n",
       "      <td>DEPUTADO FEDERAL</td>\n",
       "      <td>4444</td>\n",
       "      <td>HEITOR RODRIGO PEREIRA FREIRE</td>\n",
       "      <td>4</td>\n",
       "    </tr>\n",
       "    <tr>\n",
       "      <th>1</th>\n",
       "      <td>RUSSAS</td>\n",
       "      <td>9</td>\n",
       "      <td>266</td>\n",
       "      <td>DEPUTADO FEDERAL</td>\n",
       "      <td>4444</td>\n",
       "      <td>HEITOR RODRIGO PEREIRA FREIRE</td>\n",
       "      <td>13</td>\n",
       "    </tr>\n",
       "  </tbody>\n",
       "</table>\n",
       "</div>"
      ],
      "text/plain": [
       "  NM_MUNICIPIO  NR_ZONA  NR_SECAO          DS_CARGO  NR_VOTAVEL  \\\n",
       "0    FORTALEZA       94         6  DEPUTADO FEDERAL        4444   \n",
       "1       RUSSAS        9       266  DEPUTADO FEDERAL        4444   \n",
       "\n",
       "                      NM_VOTAVEL  QT_VOTOS  \n",
       "0  HEITOR RODRIGO PEREIRA FREIRE         4  \n",
       "1  HEITOR RODRIGO PEREIRA FREIRE        13  "
      ]
     },
     "execution_count": 48,
     "metadata": {},
     "output_type": "execute_result"
    }
   ],
   "source": [
    "df.head(2)"
   ]
  },
  {
   "attachments": {},
   "cell_type": "markdown",
   "metadata": {},
   "source": [
    "## 3.2 Renomeação das colunas"
   ]
  },
  {
   "attachments": {},
   "cell_type": "markdown",
   "metadata": {},
   "source": [
    "Por razão estética e de boas práticas, os nomes das colunas são renomeados de forma que todos os caracteres estejam em caixa baixa."
   ]
  },
  {
   "cell_type": "code",
   "execution_count": 49,
   "metadata": {},
   "outputs": [],
   "source": [
    "df = df.rename(\n",
    "    {'NM_MUNICIPIO': 'nm_municipio', 'NR_ZONA': 'nr_zona', 'NR_SECAO': 'nr_secao', 'DS_CARGO': 'ds_cargo', \n",
    "     'NR_VOTAVEL': 'nr_votavel', 'NM_VOTAVEL': 'nm_votavel', 'QT_VOTOS': 'qt_votos'}, axis= 1\n",
    ")"
   ]
  },
  {
   "cell_type": "code",
   "execution_count": 50,
   "metadata": {},
   "outputs": [
    {
     "data": {
      "text/html": [
       "<div>\n",
       "<style scoped>\n",
       "    .dataframe tbody tr th:only-of-type {\n",
       "        vertical-align: middle;\n",
       "    }\n",
       "\n",
       "    .dataframe tbody tr th {\n",
       "        vertical-align: top;\n",
       "    }\n",
       "\n",
       "    .dataframe thead th {\n",
       "        text-align: right;\n",
       "    }\n",
       "</style>\n",
       "<table border=\"1\" class=\"dataframe\">\n",
       "  <thead>\n",
       "    <tr style=\"text-align: right;\">\n",
       "      <th></th>\n",
       "      <th>nm_municipio</th>\n",
       "      <th>nr_zona</th>\n",
       "      <th>nr_secao</th>\n",
       "      <th>ds_cargo</th>\n",
       "      <th>nr_votavel</th>\n",
       "      <th>nm_votavel</th>\n",
       "      <th>qt_votos</th>\n",
       "    </tr>\n",
       "  </thead>\n",
       "  <tbody>\n",
       "    <tr>\n",
       "      <th>0</th>\n",
       "      <td>FORTALEZA</td>\n",
       "      <td>94</td>\n",
       "      <td>6</td>\n",
       "      <td>DEPUTADO FEDERAL</td>\n",
       "      <td>4444</td>\n",
       "      <td>HEITOR RODRIGO PEREIRA FREIRE</td>\n",
       "      <td>4</td>\n",
       "    </tr>\n",
       "    <tr>\n",
       "      <th>1</th>\n",
       "      <td>RUSSAS</td>\n",
       "      <td>9</td>\n",
       "      <td>266</td>\n",
       "      <td>DEPUTADO FEDERAL</td>\n",
       "      <td>4444</td>\n",
       "      <td>HEITOR RODRIGO PEREIRA FREIRE</td>\n",
       "      <td>13</td>\n",
       "    </tr>\n",
       "  </tbody>\n",
       "</table>\n",
       "</div>"
      ],
      "text/plain": [
       "  nm_municipio  nr_zona  nr_secao          ds_cargo  nr_votavel  \\\n",
       "0    FORTALEZA       94         6  DEPUTADO FEDERAL        4444   \n",
       "1       RUSSAS        9       266  DEPUTADO FEDERAL        4444   \n",
       "\n",
       "                      nm_votavel  qt_votos  \n",
       "0  HEITOR RODRIGO PEREIRA FREIRE         4  \n",
       "1  HEITOR RODRIGO PEREIRA FREIRE        13  "
      ]
     },
     "execution_count": 50,
     "metadata": {},
     "output_type": "execute_result"
    }
   ],
   "source": [
    "df.head(2)"
   ]
  },
  {
   "attachments": {},
   "cell_type": "markdown",
   "metadata": {},
   "source": [
    "## 3.3 Transformação dos dados das colunas `nr_zona` e `nr_secao`"
   ]
  },
  {
   "attachments": {},
   "cell_type": "markdown",
   "metadata": {},
   "source": [
    "Apesar de serem dados com valores numéricos e do tipo *int*, são dados que representam zonas e seções eleitorais. Portanto, são valores nominais. Por isso, devem ser covertidos para *str*."
   ]
  },
  {
   "attachments": {},
   "cell_type": "markdown",
   "metadata": {},
   "source": [
    "### 3.3.1 Coluna `nr_zona`"
   ]
  },
  {
   "cell_type": "code",
   "execution_count": 51,
   "metadata": {},
   "outputs": [
    {
     "data": {
      "text/plain": [
       "dtype('int64')"
      ]
     },
     "execution_count": 51,
     "metadata": {},
     "output_type": "execute_result"
    }
   ],
   "source": [
    "df['nr_zona'].dtypes # retorna o tipo de dado da coluna nr_zona"
   ]
  },
  {
   "attachments": {},
   "cell_type": "markdown",
   "metadata": {},
   "source": [
    "Os dados da coluna são convertidos:"
   ]
  },
  {
   "cell_type": "code",
   "execution_count": 52,
   "metadata": {},
   "outputs": [],
   "source": [
    "df['nr_zona'] = df['nr_zona'].astype(str)"
   ]
  },
  {
   "attachments": {},
   "cell_type": "markdown",
   "metadata": {},
   "source": [
    "### 3.3.2 Coluna `nr_secao`"
   ]
  },
  {
   "cell_type": "code",
   "execution_count": 53,
   "metadata": {},
   "outputs": [
    {
     "data": {
      "text/plain": [
       "dtype('int64')"
      ]
     },
     "execution_count": 53,
     "metadata": {},
     "output_type": "execute_result"
    }
   ],
   "source": [
    "df['nr_secao'].dtypes # retorna o de tipo de dado da coluna nr_secao"
   ]
  },
  {
   "cell_type": "code",
   "execution_count": 54,
   "metadata": {},
   "outputs": [],
   "source": [
    "df['nr_secao'] = df['nr_secao'].astype(str)"
   ]
  },
  {
   "attachments": {},
   "cell_type": "markdown",
   "metadata": {},
   "source": [
    "As colunas com os dados convertidos para *string*:"
   ]
  },
  {
   "cell_type": "code",
   "execution_count": 55,
   "metadata": {},
   "outputs": [
    {
     "data": {
      "text/plain": [
       "nr_zona     object\n",
       "nr_secao    object\n",
       "dtype: object"
      ]
     },
     "execution_count": 55,
     "metadata": {},
     "output_type": "execute_result"
    }
   ],
   "source": [
    "df[['nr_zona', 'nr_secao']].dtypes"
   ]
  },
  {
   "cell_type": "code",
   "execution_count": 56,
   "metadata": {},
   "outputs": [
    {
     "data": {
      "text/plain": [
       "nm_municipio    object\n",
       "nr_zona         object\n",
       "nr_secao        object\n",
       "ds_cargo        object\n",
       "nr_votavel       int64\n",
       "nm_votavel      object\n",
       "qt_votos         int64\n",
       "dtype: object"
      ]
     },
     "execution_count": 56,
     "metadata": {},
     "output_type": "execute_result"
    }
   ],
   "source": [
    "df.dtypes"
   ]
  },
  {
   "attachments": {},
   "cell_type": "markdown",
   "metadata": {},
   "source": [
    "# 4. Exportação dos dados processados"
   ]
  },
  {
   "attachments": {},
   "cell_type": "markdown",
   "metadata": {},
   "source": [
    "Finalizado o tratamento dos dados o conjunto de dados passa a ter a seguinte configuração:\n",
    "\n",
    "* `nm_municipio`: nome do município do estado do Ceará;\n",
    "* `nr_zona`: número da zona eleitoral;\n",
    "* `nr_secao`: número da seção eleitoral;\n",
    "* `ds_cargo`: cargo disputado;\n",
    "* `nr_votavel`: número do candidato;\n",
    "* `nm_votavel`: nome do candidato;\n",
    "* `qt_votos`: quantidade de votos."
   ]
  },
  {
   "attachments": {},
   "cell_type": "markdown",
   "metadata": {},
   "source": [
    "Exportam-se os dados em um arquivo de formato *csv*:"
   ]
  },
  {
   "cell_type": "code",
   "execution_count": 57,
   "metadata": {},
   "outputs": [],
   "source": [
    "df.to_csv(\n",
    "    r'C:\\Users\\Nityananda\\Desktop\\Datasets\\votacao_secao_2022_CE_tratado.csv',\n",
    "    index= False, encoding= 'latin-1'\n",
    ")"
   ]
  }
 ],
 "metadata": {
  "kernelspec": {
   "display_name": "Python 3",
   "language": "python",
   "name": "python3"
  },
  "language_info": {
   "codemirror_mode": {
    "name": "ipython",
    "version": 3
   },
   "file_extension": ".py",
   "mimetype": "text/x-python",
   "name": "python",
   "nbconvert_exporter": "python",
   "pygments_lexer": "ipython3",
   "version": "3.10.11"
  },
  "orig_nbformat": 4
 },
 "nbformat": 4,
 "nbformat_minor": 2
}
