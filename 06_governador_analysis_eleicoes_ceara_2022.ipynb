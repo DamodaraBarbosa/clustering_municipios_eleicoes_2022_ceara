{
  "cells": [
    {
      "cell_type": "markdown",
      "metadata": {
        "id": "view-in-github",
        "colab_type": "text"
      },
      "source": [
        "<a href=\"https://colab.research.google.com/github/DamodaraBarbosa/eleicoes_ceara_2022/blob/main/06_governador_analysis_eleicoes_ceara_2022.ipynb\" target=\"_parent\"><img src=\"https://colab.research.google.com/assets/colab-badge.svg\" alt=\"Open In Colab\"/></a>"
      ]
    },
    {
      "cell_type": "code",
      "execution_count": 1,
      "metadata": {
        "colab": {
          "base_uri": "https://localhost:8080/"
        },
        "id": "GNOh-dgZu4qp",
        "outputId": "34da1547-ac8c-49b5-96c9-d7832776c21a"
      },
      "outputs": [
        {
          "output_type": "stream",
          "name": "stdout",
          "text": [
            "Looking in indexes: https://pypi.org/simple, https://us-python.pkg.dev/colab-wheels/public/simple/\n",
            "Requirement already satisfied: geopandas in /usr/local/lib/python3.9/dist-packages (0.7.0)\n",
            "Requirement already satisfied: geobr in /usr/local/lib/python3.9/dist-packages (0.2.0)\n",
            "Requirement already satisfied: descartes in /usr/local/lib/python3.9/dist-packages (1.1.0)\n",
            "Requirement already satisfied: fiona in /usr/local/lib/python3.9/dist-packages (from geopandas) (1.9.3)\n",
            "Requirement already satisfied: pandas>=0.23.0 in /usr/local/lib/python3.9/dist-packages (from geopandas) (1.5.3)\n",
            "Requirement already satisfied: shapely in /usr/local/lib/python3.9/dist-packages (from geopandas) (1.8.5.post1)\n",
            "Requirement already satisfied: pyproj>=2.2.0 in /usr/local/lib/python3.9/dist-packages (from geopandas) (3.5.0)\n",
            "Requirement already satisfied: matplotlib in /usr/local/lib/python3.9/dist-packages (from descartes) (3.7.1)\n",
            "Requirement already satisfied: numpy>=1.20.3 in /usr/local/lib/python3.9/dist-packages (from pandas>=0.23.0->geopandas) (1.22.4)\n",
            "Requirement already satisfied: pytz>=2020.1 in /usr/local/lib/python3.9/dist-packages (from pandas>=0.23.0->geopandas) (2022.7.1)\n",
            "Requirement already satisfied: python-dateutil>=2.8.1 in /usr/local/lib/python3.9/dist-packages (from pandas>=0.23.0->geopandas) (2.8.2)\n",
            "Requirement already satisfied: certifi in /usr/local/lib/python3.9/dist-packages (from pyproj>=2.2.0->geopandas) (2022.12.7)\n",
            "Requirement already satisfied: munch>=2.3.2 in /usr/local/lib/python3.9/dist-packages (from fiona->geopandas) (2.5.0)\n",
            "Requirement already satisfied: cligj>=0.5 in /usr/local/lib/python3.9/dist-packages (from fiona->geopandas) (0.7.2)\n",
            "Requirement already satisfied: attrs>=19.2.0 in /usr/local/lib/python3.9/dist-packages (from fiona->geopandas) (23.1.0)\n",
            "Requirement already satisfied: click~=8.0 in /usr/local/lib/python3.9/dist-packages (from fiona->geopandas) (8.1.3)\n",
            "Requirement already satisfied: importlib-metadata in /usr/local/lib/python3.9/dist-packages (from fiona->geopandas) (6.4.1)\n",
            "Requirement already satisfied: click-plugins>=1.0 in /usr/local/lib/python3.9/dist-packages (from fiona->geopandas) (1.1.1)\n",
            "Requirement already satisfied: cycler>=0.10 in /usr/local/lib/python3.9/dist-packages (from matplotlib->descartes) (0.11.0)\n",
            "Requirement already satisfied: kiwisolver>=1.0.1 in /usr/local/lib/python3.9/dist-packages (from matplotlib->descartes) (1.4.4)\n",
            "Requirement already satisfied: fonttools>=4.22.0 in /usr/local/lib/python3.9/dist-packages (from matplotlib->descartes) (4.39.3)\n",
            "Requirement already satisfied: contourpy>=1.0.1 in /usr/local/lib/python3.9/dist-packages (from matplotlib->descartes) (1.0.7)\n",
            "Requirement already satisfied: importlib-resources>=3.2.0 in /usr/local/lib/python3.9/dist-packages (from matplotlib->descartes) (5.12.0)\n",
            "Requirement already satisfied: packaging>=20.0 in /usr/local/lib/python3.9/dist-packages (from matplotlib->descartes) (23.1)\n",
            "Requirement already satisfied: pillow>=6.2.0 in /usr/local/lib/python3.9/dist-packages (from matplotlib->descartes) (8.4.0)\n",
            "Requirement already satisfied: pyparsing>=2.3.1 in /usr/local/lib/python3.9/dist-packages (from matplotlib->descartes) (3.0.9)\n",
            "Requirement already satisfied: zipp>=3.1.0 in /usr/local/lib/python3.9/dist-packages (from importlib-resources>=3.2.0->matplotlib->descartes) (3.15.0)\n",
            "Requirement already satisfied: six in /usr/local/lib/python3.9/dist-packages (from munch>=2.3.2->fiona->geopandas) (1.16.0)\n"
          ]
        }
      ],
      "source": [
        "!pip install geopandas geobr descartes"
      ]
    },
    {
      "cell_type": "markdown",
      "metadata": {
        "id": "cTON5c-hS8oB"
      },
      "source": [
        "Importando as bibliotecas"
      ]
    },
    {
      "cell_type": "code",
      "execution_count": 2,
      "metadata": {
        "id": "9OFh-oGMSvHk"
      },
      "outputs": [],
      "source": [
        "import pandas as pd\n",
        "import numpy as np\n",
        "import geopandas as gpd\n",
        "from geobr import read_municipality\n",
        "import plotly.express as px\n",
        "import plotly.graph_objects as go\n",
        "import matplotlib.pyplot as plt"
      ]
    },
    {
      "cell_type": "markdown",
      "metadata": {
        "id": "dkr5u3uBTCt7"
      },
      "source": [
        "# 1. Carregando os dados no *dataframe*"
      ]
    },
    {
      "cell_type": "code",
      "execution_count": 3,
      "metadata": {
        "id": "nkjoEcyZTCAg"
      },
      "outputs": [],
      "source": [
        "votacao_ce = pd.read_csv(\n",
        "    '/content/drive/MyDrive/Datasets/votacao_secao_2022_CE_tratado.csv',\n",
        "    sep= ',', encoding= 'latin-1'\n",
        ")"
      ]
    },
    {
      "cell_type": "code",
      "execution_count": 4,
      "metadata": {
        "colab": {
          "base_uri": "https://localhost:8080/",
          "height": 143
        },
        "id": "-4MtJM3XT6yQ",
        "outputId": "0563a72a-7932-4422-f563-e786165cd351"
      },
      "outputs": [
        {
          "output_type": "execute_result",
          "data": {
            "text/plain": [
              "  nm_municipio  nr_zona  nr_secao          ds_cargo  nr_votavel  \\\n",
              "0    FORTALEZA       94         6  DEPUTADO FEDERAL        4444   \n",
              "1       RUSSAS        9       266  DEPUTADO FEDERAL        4444   \n",
              "2    PARAIPABA      109       119  DEPUTADO FEDERAL        4444   \n",
              "\n",
              "                      nm_votavel  qt_votos  \n",
              "0  HEITOR RODRIGO PEREIRA FREIRE         4  \n",
              "1  HEITOR RODRIGO PEREIRA FREIRE        13  \n",
              "2  HEITOR RODRIGO PEREIRA FREIRE         3  "
            ],
            "text/html": [
              "\n",
              "  <div id=\"df-74a87a3c-e194-4050-b269-f0d1f0bf0b4b\">\n",
              "    <div class=\"colab-df-container\">\n",
              "      <div>\n",
              "<style scoped>\n",
              "    .dataframe tbody tr th:only-of-type {\n",
              "        vertical-align: middle;\n",
              "    }\n",
              "\n",
              "    .dataframe tbody tr th {\n",
              "        vertical-align: top;\n",
              "    }\n",
              "\n",
              "    .dataframe thead th {\n",
              "        text-align: right;\n",
              "    }\n",
              "</style>\n",
              "<table border=\"1\" class=\"dataframe\">\n",
              "  <thead>\n",
              "    <tr style=\"text-align: right;\">\n",
              "      <th></th>\n",
              "      <th>nm_municipio</th>\n",
              "      <th>nr_zona</th>\n",
              "      <th>nr_secao</th>\n",
              "      <th>ds_cargo</th>\n",
              "      <th>nr_votavel</th>\n",
              "      <th>nm_votavel</th>\n",
              "      <th>qt_votos</th>\n",
              "    </tr>\n",
              "  </thead>\n",
              "  <tbody>\n",
              "    <tr>\n",
              "      <th>0</th>\n",
              "      <td>FORTALEZA</td>\n",
              "      <td>94</td>\n",
              "      <td>6</td>\n",
              "      <td>DEPUTADO FEDERAL</td>\n",
              "      <td>4444</td>\n",
              "      <td>HEITOR RODRIGO PEREIRA FREIRE</td>\n",
              "      <td>4</td>\n",
              "    </tr>\n",
              "    <tr>\n",
              "      <th>1</th>\n",
              "      <td>RUSSAS</td>\n",
              "      <td>9</td>\n",
              "      <td>266</td>\n",
              "      <td>DEPUTADO FEDERAL</td>\n",
              "      <td>4444</td>\n",
              "      <td>HEITOR RODRIGO PEREIRA FREIRE</td>\n",
              "      <td>13</td>\n",
              "    </tr>\n",
              "    <tr>\n",
              "      <th>2</th>\n",
              "      <td>PARAIPABA</td>\n",
              "      <td>109</td>\n",
              "      <td>119</td>\n",
              "      <td>DEPUTADO FEDERAL</td>\n",
              "      <td>4444</td>\n",
              "      <td>HEITOR RODRIGO PEREIRA FREIRE</td>\n",
              "      <td>3</td>\n",
              "    </tr>\n",
              "  </tbody>\n",
              "</table>\n",
              "</div>\n",
              "      <button class=\"colab-df-convert\" onclick=\"convertToInteractive('df-74a87a3c-e194-4050-b269-f0d1f0bf0b4b')\"\n",
              "              title=\"Convert this dataframe to an interactive table.\"\n",
              "              style=\"display:none;\">\n",
              "        \n",
              "  <svg xmlns=\"http://www.w3.org/2000/svg\" height=\"24px\"viewBox=\"0 0 24 24\"\n",
              "       width=\"24px\">\n",
              "    <path d=\"M0 0h24v24H0V0z\" fill=\"none\"/>\n",
              "    <path d=\"M18.56 5.44l.94 2.06.94-2.06 2.06-.94-2.06-.94-.94-2.06-.94 2.06-2.06.94zm-11 1L8.5 8.5l.94-2.06 2.06-.94-2.06-.94L8.5 2.5l-.94 2.06-2.06.94zm10 10l.94 2.06.94-2.06 2.06-.94-2.06-.94-.94-2.06-.94 2.06-2.06.94z\"/><path d=\"M17.41 7.96l-1.37-1.37c-.4-.4-.92-.59-1.43-.59-.52 0-1.04.2-1.43.59L10.3 9.45l-7.72 7.72c-.78.78-.78 2.05 0 2.83L4 21.41c.39.39.9.59 1.41.59.51 0 1.02-.2 1.41-.59l7.78-7.78 2.81-2.81c.8-.78.8-2.07 0-2.86zM5.41 20L4 18.59l7.72-7.72 1.47 1.35L5.41 20z\"/>\n",
              "  </svg>\n",
              "      </button>\n",
              "      \n",
              "  <style>\n",
              "    .colab-df-container {\n",
              "      display:flex;\n",
              "      flex-wrap:wrap;\n",
              "      gap: 12px;\n",
              "    }\n",
              "\n",
              "    .colab-df-convert {\n",
              "      background-color: #E8F0FE;\n",
              "      border: none;\n",
              "      border-radius: 50%;\n",
              "      cursor: pointer;\n",
              "      display: none;\n",
              "      fill: #1967D2;\n",
              "      height: 32px;\n",
              "      padding: 0 0 0 0;\n",
              "      width: 32px;\n",
              "    }\n",
              "\n",
              "    .colab-df-convert:hover {\n",
              "      background-color: #E2EBFA;\n",
              "      box-shadow: 0px 1px 2px rgba(60, 64, 67, 0.3), 0px 1px 3px 1px rgba(60, 64, 67, 0.15);\n",
              "      fill: #174EA6;\n",
              "    }\n",
              "\n",
              "    [theme=dark] .colab-df-convert {\n",
              "      background-color: #3B4455;\n",
              "      fill: #D2E3FC;\n",
              "    }\n",
              "\n",
              "    [theme=dark] .colab-df-convert:hover {\n",
              "      background-color: #434B5C;\n",
              "      box-shadow: 0px 1px 3px 1px rgba(0, 0, 0, 0.15);\n",
              "      filter: drop-shadow(0px 1px 2px rgba(0, 0, 0, 0.3));\n",
              "      fill: #FFFFFF;\n",
              "    }\n",
              "  </style>\n",
              "\n",
              "      <script>\n",
              "        const buttonEl =\n",
              "          document.querySelector('#df-74a87a3c-e194-4050-b269-f0d1f0bf0b4b button.colab-df-convert');\n",
              "        buttonEl.style.display =\n",
              "          google.colab.kernel.accessAllowed ? 'block' : 'none';\n",
              "\n",
              "        async function convertToInteractive(key) {\n",
              "          const element = document.querySelector('#df-74a87a3c-e194-4050-b269-f0d1f0bf0b4b');\n",
              "          const dataTable =\n",
              "            await google.colab.kernel.invokeFunction('convertToInteractive',\n",
              "                                                     [key], {});\n",
              "          if (!dataTable) return;\n",
              "\n",
              "          const docLinkHtml = 'Like what you see? Visit the ' +\n",
              "            '<a target=\"_blank\" href=https://colab.research.google.com/notebooks/data_table.ipynb>data table notebook</a>'\n",
              "            + ' to learn more about interactive tables.';\n",
              "          element.innerHTML = '';\n",
              "          dataTable['output_type'] = 'display_data';\n",
              "          await google.colab.output.renderOutput(dataTable, element);\n",
              "          const docLink = document.createElement('div');\n",
              "          docLink.innerHTML = docLinkHtml;\n",
              "          element.appendChild(docLink);\n",
              "        }\n",
              "      </script>\n",
              "    </div>\n",
              "  </div>\n",
              "  "
            ]
          },
          "metadata": {},
          "execution_count": 4
        }
      ],
      "source": [
        "votacao_ce.head(3)"
      ]
    },
    {
      "cell_type": "markdown",
      "metadata": {
        "id": "gfgTZPqRUIIN"
      },
      "source": [
        "# 2. Informações do *dataframe*"
      ]
    },
    {
      "cell_type": "markdown",
      "metadata": {
        "id": "XhEHo9PIUMPv"
      },
      "source": [
        "## 2.1 Dimensões do *dataframe*"
      ]
    },
    {
      "cell_type": "markdown",
      "metadata": {
        "id": "WQczXPkTUQni"
      },
      "source": [
        "Definir as dimensões de um *dataframe* é indicar o número de colunas e linhas do mesmo. "
      ]
    },
    {
      "cell_type": "code",
      "execution_count": 5,
      "metadata": {
        "colab": {
          "base_uri": "https://localhost:8080/",
          "height": 35
        },
        "id": "49yjY5Y4ULih",
        "outputId": "42724fd6-1b1d-46eb-c2e6-9726601f73eb"
      },
      "outputs": [
        {
          "output_type": "execute_result",
          "data": {
            "text/plain": [
              "'O dataframe contém 7 colunas e 2509903 linhas.'"
            ],
            "application/vnd.google.colaboratory.intrinsic+json": {
              "type": "string"
            }
          },
          "metadata": {},
          "execution_count": 5
        }
      ],
      "source": [
        "f'O dataframe contém {votacao_ce.shape[1]} colunas e {votacao_ce.shape[0]} linhas.'"
      ]
    },
    {
      "cell_type": "markdown",
      "metadata": {
        "id": "GBYSY4cjU_Aj"
      },
      "source": [
        "## 2.2 Infos do *dataframe*"
      ]
    },
    {
      "cell_type": "code",
      "execution_count": 6,
      "metadata": {
        "colab": {
          "base_uri": "https://localhost:8080/"
        },
        "id": "rcxx8tKtUeYi",
        "outputId": "e2ebd9b5-9471-42d9-ab25-f74b806c4576"
      },
      "outputs": [
        {
          "output_type": "stream",
          "name": "stdout",
          "text": [
            "<class 'pandas.core.frame.DataFrame'>\n",
            "RangeIndex: 2509903 entries, 0 to 2509902\n",
            "Data columns (total 7 columns):\n",
            " #   Column        Dtype \n",
            "---  ------        ----- \n",
            " 0   nm_municipio  object\n",
            " 1   nr_zona       int64 \n",
            " 2   nr_secao      int64 \n",
            " 3   ds_cargo      object\n",
            " 4   nr_votavel    int64 \n",
            " 5   nm_votavel    object\n",
            " 6   qt_votos      int64 \n",
            "dtypes: int64(4), object(3)\n",
            "memory usage: 134.0+ MB\n"
          ]
        }
      ],
      "source": [
        "votacao_ce.info()"
      ]
    },
    {
      "cell_type": "markdown",
      "metadata": {
        "id": "ycP_U90qVEGJ"
      },
      "source": [
        "## 2.3 Dados faltantes"
      ]
    },
    {
      "cell_type": "markdown",
      "metadata": {
        "id": "uScQXTwzVHOT"
      },
      "source": [
        "É importante identificar a presença de dados faltantes (\"not a number\" ou `NaN`)."
      ]
    },
    {
      "cell_type": "code",
      "execution_count": 7,
      "metadata": {
        "colab": {
          "base_uri": "https://localhost:8080/"
        },
        "id": "AjoW_h8eVCqq",
        "outputId": "87e5bab6-db2b-4f66-ab00-dabba9147760"
      },
      "outputs": [
        {
          "output_type": "execute_result",
          "data": {
            "text/plain": [
              "nm_municipio    0\n",
              "nr_zona         0\n",
              "nr_secao        0\n",
              "ds_cargo        0\n",
              "nr_votavel      0\n",
              "nm_votavel      0\n",
              "qt_votos        0\n",
              "dtype: int64"
            ]
          },
          "metadata": {},
          "execution_count": 7
        }
      ],
      "source": [
        "votacao_ce.isna().sum()"
      ]
    },
    {
      "cell_type": "markdown",
      "metadata": {
        "id": "vQbzewERVa2H"
      },
      "source": [
        "Não há em nenhuma das colunas do conjunto de dados a presença de dados faltantes."
      ]
    },
    {
      "cell_type": "markdown",
      "metadata": {
        "id": "JYszjtzOYKy5"
      },
      "source": [
        "## 2.4 Presença de dados duplicados"
      ]
    },
    {
      "cell_type": "markdown",
      "metadata": {
        "id": "3EyFP6SWYON6"
      },
      "source": [
        "Para integridade dos dados também é importante detectar se há dados duplicados. Para isso:"
      ]
    },
    {
      "cell_type": "code",
      "execution_count": 8,
      "metadata": {
        "colab": {
          "base_uri": "https://localhost:8080/",
          "height": 49
        },
        "id": "ezOHA8D2YWom",
        "outputId": "83ed3b05-8e3f-4fdb-98a2-3574242e624f"
      },
      "outputs": [
        {
          "output_type": "execute_result",
          "data": {
            "text/plain": [
              "Empty DataFrame\n",
              "Columns: [nm_municipio, nr_zona, nr_secao, ds_cargo, nr_votavel, nm_votavel, qt_votos]\n",
              "Index: []"
            ],
            "text/html": [
              "\n",
              "  <div id=\"df-069f80e0-65e3-4067-a3b8-0b43e01ba68f\">\n",
              "    <div class=\"colab-df-container\">\n",
              "      <div>\n",
              "<style scoped>\n",
              "    .dataframe tbody tr th:only-of-type {\n",
              "        vertical-align: middle;\n",
              "    }\n",
              "\n",
              "    .dataframe tbody tr th {\n",
              "        vertical-align: top;\n",
              "    }\n",
              "\n",
              "    .dataframe thead th {\n",
              "        text-align: right;\n",
              "    }\n",
              "</style>\n",
              "<table border=\"1\" class=\"dataframe\">\n",
              "  <thead>\n",
              "    <tr style=\"text-align: right;\">\n",
              "      <th></th>\n",
              "      <th>nm_municipio</th>\n",
              "      <th>nr_zona</th>\n",
              "      <th>nr_secao</th>\n",
              "      <th>ds_cargo</th>\n",
              "      <th>nr_votavel</th>\n",
              "      <th>nm_votavel</th>\n",
              "      <th>qt_votos</th>\n",
              "    </tr>\n",
              "  </thead>\n",
              "  <tbody>\n",
              "  </tbody>\n",
              "</table>\n",
              "</div>\n",
              "      <button class=\"colab-df-convert\" onclick=\"convertToInteractive('df-069f80e0-65e3-4067-a3b8-0b43e01ba68f')\"\n",
              "              title=\"Convert this dataframe to an interactive table.\"\n",
              "              style=\"display:none;\">\n",
              "        \n",
              "  <svg xmlns=\"http://www.w3.org/2000/svg\" height=\"24px\"viewBox=\"0 0 24 24\"\n",
              "       width=\"24px\">\n",
              "    <path d=\"M0 0h24v24H0V0z\" fill=\"none\"/>\n",
              "    <path d=\"M18.56 5.44l.94 2.06.94-2.06 2.06-.94-2.06-.94-.94-2.06-.94 2.06-2.06.94zm-11 1L8.5 8.5l.94-2.06 2.06-.94-2.06-.94L8.5 2.5l-.94 2.06-2.06.94zm10 10l.94 2.06.94-2.06 2.06-.94-2.06-.94-.94-2.06-.94 2.06-2.06.94z\"/><path d=\"M17.41 7.96l-1.37-1.37c-.4-.4-.92-.59-1.43-.59-.52 0-1.04.2-1.43.59L10.3 9.45l-7.72 7.72c-.78.78-.78 2.05 0 2.83L4 21.41c.39.39.9.59 1.41.59.51 0 1.02-.2 1.41-.59l7.78-7.78 2.81-2.81c.8-.78.8-2.07 0-2.86zM5.41 20L4 18.59l7.72-7.72 1.47 1.35L5.41 20z\"/>\n",
              "  </svg>\n",
              "      </button>\n",
              "      \n",
              "  <style>\n",
              "    .colab-df-container {\n",
              "      display:flex;\n",
              "      flex-wrap:wrap;\n",
              "      gap: 12px;\n",
              "    }\n",
              "\n",
              "    .colab-df-convert {\n",
              "      background-color: #E8F0FE;\n",
              "      border: none;\n",
              "      border-radius: 50%;\n",
              "      cursor: pointer;\n",
              "      display: none;\n",
              "      fill: #1967D2;\n",
              "      height: 32px;\n",
              "      padding: 0 0 0 0;\n",
              "      width: 32px;\n",
              "    }\n",
              "\n",
              "    .colab-df-convert:hover {\n",
              "      background-color: #E2EBFA;\n",
              "      box-shadow: 0px 1px 2px rgba(60, 64, 67, 0.3), 0px 1px 3px 1px rgba(60, 64, 67, 0.15);\n",
              "      fill: #174EA6;\n",
              "    }\n",
              "\n",
              "    [theme=dark] .colab-df-convert {\n",
              "      background-color: #3B4455;\n",
              "      fill: #D2E3FC;\n",
              "    }\n",
              "\n",
              "    [theme=dark] .colab-df-convert:hover {\n",
              "      background-color: #434B5C;\n",
              "      box-shadow: 0px 1px 3px 1px rgba(0, 0, 0, 0.15);\n",
              "      filter: drop-shadow(0px 1px 2px rgba(0, 0, 0, 0.3));\n",
              "      fill: #FFFFFF;\n",
              "    }\n",
              "  </style>\n",
              "\n",
              "      <script>\n",
              "        const buttonEl =\n",
              "          document.querySelector('#df-069f80e0-65e3-4067-a3b8-0b43e01ba68f button.colab-df-convert');\n",
              "        buttonEl.style.display =\n",
              "          google.colab.kernel.accessAllowed ? 'block' : 'none';\n",
              "\n",
              "        async function convertToInteractive(key) {\n",
              "          const element = document.querySelector('#df-069f80e0-65e3-4067-a3b8-0b43e01ba68f');\n",
              "          const dataTable =\n",
              "            await google.colab.kernel.invokeFunction('convertToInteractive',\n",
              "                                                     [key], {});\n",
              "          if (!dataTable) return;\n",
              "\n",
              "          const docLinkHtml = 'Like what you see? Visit the ' +\n",
              "            '<a target=\"_blank\" href=https://colab.research.google.com/notebooks/data_table.ipynb>data table notebook</a>'\n",
              "            + ' to learn more about interactive tables.';\n",
              "          element.innerHTML = '';\n",
              "          dataTable['output_type'] = 'display_data';\n",
              "          await google.colab.output.renderOutput(dataTable, element);\n",
              "          const docLink = document.createElement('div');\n",
              "          docLink.innerHTML = docLinkHtml;\n",
              "          element.appendChild(docLink);\n",
              "        }\n",
              "      </script>\n",
              "    </div>\n",
              "  </div>\n",
              "  "
            ]
          },
          "metadata": {},
          "execution_count": 8
        }
      ],
      "source": [
        "votacao_ce.loc[votacao_ce.duplicated()]"
      ]
    },
    {
      "cell_type": "markdown",
      "metadata": {
        "id": "Gnijq7YVYaYn"
      },
      "source": [
        "Não há dados duplicados no conjunto de dados."
      ]
    },
    {
      "cell_type": "markdown",
      "metadata": {
        "id": "ZjqkQ7AtEOLC"
      },
      "source": [
        "# 3. Tratamento dos dados"
      ]
    },
    {
      "cell_type": "markdown",
      "source": [
        "Os dados referentes às zonas e seções eleitorais apesar serem valores numéricos, são valores categóricos. Portanto, é possível converter esses dados para *string*."
      ],
      "metadata": {
        "id": "A8gOw4fLw-v3"
      }
    },
    {
      "cell_type": "code",
      "execution_count": 9,
      "metadata": {
        "id": "ORbSO4QQEZ0B"
      },
      "outputs": [],
      "source": [
        "# Usa-se a função astype para converter os dados das duas colunas para string:\n",
        "\n",
        "votacao_ce['nr_zona'] = votacao_ce['nr_zona'].astype(str)\n",
        "votacao_ce['nr_secao'] = votacao_ce['nr_secao'].astype(str)"
      ]
    },
    {
      "cell_type": "code",
      "execution_count": 10,
      "metadata": {
        "colab": {
          "base_uri": "https://localhost:8080/"
        },
        "id": "FUaQjdrUEmHN",
        "outputId": "f5d06aed-c6d5-4421-fc67-34d1ff814478"
      },
      "outputs": [
        {
          "output_type": "execute_result",
          "data": {
            "text/plain": [
              "nm_municipio    object\n",
              "nr_zona         object\n",
              "nr_secao        object\n",
              "ds_cargo        object\n",
              "nr_votavel       int64\n",
              "nm_votavel      object\n",
              "qt_votos         int64\n",
              "dtype: object"
            ]
          },
          "metadata": {},
          "execution_count": 10
        }
      ],
      "source": [
        "votacao_ce.dtypes"
      ]
    },
    {
      "cell_type": "markdown",
      "metadata": {
        "id": "eRTqwBhvKDVX"
      },
      "source": [
        "# 5. Análise eleitoral"
      ]
    },
    {
      "cell_type": "markdown",
      "metadata": {
        "id": "NMc_UuDWKGtX"
      },
      "source": [
        "## 5.1 Cargo governador"
      ]
    },
    {
      "cell_type": "markdown",
      "metadata": {
        "id": "osJri71yKjGQ"
      },
      "source": [
        "### 5.1.1 Número de votos por candidato ao governo do estado do Ceará"
      ]
    },
    {
      "cell_type": "code",
      "execution_count": 11,
      "metadata": {
        "id": "5ywcd_kDKE8o",
        "colab": {
          "base_uri": "https://localhost:8080/",
          "height": 332
        },
        "outputId": "35bdd05f-b4ff-47a2-8217-381fa5d7908c"
      },
      "outputs": [
        {
          "output_type": "execute_result",
          "data": {
            "text/plain": [
              "                                    qt_votos\n",
              "nm_votavel                                  \n",
              "ELMANO DE FREITAS DA COSTA           2808300\n",
              "WAGNER SOUSA GOMES                   1649213\n",
              "ROBERTO CLÁUDIO RODRIGUES BEZERRA     734976\n",
              "VOTO NULO                             249099\n",
              "VOTO BRANCO                           175459\n",
              "FRANCISCO RAIMUNDO MALTA DE ARAÚJO      3015\n",
              "SERLEY DE SOUSA LEAL                    1881\n",
              "JOSÉ BATISTA NETO                       1507"
            ],
            "text/html": [
              "\n",
              "  <div id=\"df-c6cc8dfa-f77d-4836-aea8-fce565a6392a\">\n",
              "    <div class=\"colab-df-container\">\n",
              "      <div>\n",
              "<style scoped>\n",
              "    .dataframe tbody tr th:only-of-type {\n",
              "        vertical-align: middle;\n",
              "    }\n",
              "\n",
              "    .dataframe tbody tr th {\n",
              "        vertical-align: top;\n",
              "    }\n",
              "\n",
              "    .dataframe thead th {\n",
              "        text-align: right;\n",
              "    }\n",
              "</style>\n",
              "<table border=\"1\" class=\"dataframe\">\n",
              "  <thead>\n",
              "    <tr style=\"text-align: right;\">\n",
              "      <th></th>\n",
              "      <th>qt_votos</th>\n",
              "    </tr>\n",
              "    <tr>\n",
              "      <th>nm_votavel</th>\n",
              "      <th></th>\n",
              "    </tr>\n",
              "  </thead>\n",
              "  <tbody>\n",
              "    <tr>\n",
              "      <th>ELMANO DE FREITAS DA COSTA</th>\n",
              "      <td>2808300</td>\n",
              "    </tr>\n",
              "    <tr>\n",
              "      <th>WAGNER SOUSA GOMES</th>\n",
              "      <td>1649213</td>\n",
              "    </tr>\n",
              "    <tr>\n",
              "      <th>ROBERTO CLÁUDIO RODRIGUES BEZERRA</th>\n",
              "      <td>734976</td>\n",
              "    </tr>\n",
              "    <tr>\n",
              "      <th>VOTO NULO</th>\n",
              "      <td>249099</td>\n",
              "    </tr>\n",
              "    <tr>\n",
              "      <th>VOTO BRANCO</th>\n",
              "      <td>175459</td>\n",
              "    </tr>\n",
              "    <tr>\n",
              "      <th>FRANCISCO RAIMUNDO MALTA DE ARAÚJO</th>\n",
              "      <td>3015</td>\n",
              "    </tr>\n",
              "    <tr>\n",
              "      <th>SERLEY DE SOUSA LEAL</th>\n",
              "      <td>1881</td>\n",
              "    </tr>\n",
              "    <tr>\n",
              "      <th>JOSÉ BATISTA NETO</th>\n",
              "      <td>1507</td>\n",
              "    </tr>\n",
              "  </tbody>\n",
              "</table>\n",
              "</div>\n",
              "      <button class=\"colab-df-convert\" onclick=\"convertToInteractive('df-c6cc8dfa-f77d-4836-aea8-fce565a6392a')\"\n",
              "              title=\"Convert this dataframe to an interactive table.\"\n",
              "              style=\"display:none;\">\n",
              "        \n",
              "  <svg xmlns=\"http://www.w3.org/2000/svg\" height=\"24px\"viewBox=\"0 0 24 24\"\n",
              "       width=\"24px\">\n",
              "    <path d=\"M0 0h24v24H0V0z\" fill=\"none\"/>\n",
              "    <path d=\"M18.56 5.44l.94 2.06.94-2.06 2.06-.94-2.06-.94-.94-2.06-.94 2.06-2.06.94zm-11 1L8.5 8.5l.94-2.06 2.06-.94-2.06-.94L8.5 2.5l-.94 2.06-2.06.94zm10 10l.94 2.06.94-2.06 2.06-.94-2.06-.94-.94-2.06-.94 2.06-2.06.94z\"/><path d=\"M17.41 7.96l-1.37-1.37c-.4-.4-.92-.59-1.43-.59-.52 0-1.04.2-1.43.59L10.3 9.45l-7.72 7.72c-.78.78-.78 2.05 0 2.83L4 21.41c.39.39.9.59 1.41.59.51 0 1.02-.2 1.41-.59l7.78-7.78 2.81-2.81c.8-.78.8-2.07 0-2.86zM5.41 20L4 18.59l7.72-7.72 1.47 1.35L5.41 20z\"/>\n",
              "  </svg>\n",
              "      </button>\n",
              "      \n",
              "  <style>\n",
              "    .colab-df-container {\n",
              "      display:flex;\n",
              "      flex-wrap:wrap;\n",
              "      gap: 12px;\n",
              "    }\n",
              "\n",
              "    .colab-df-convert {\n",
              "      background-color: #E8F0FE;\n",
              "      border: none;\n",
              "      border-radius: 50%;\n",
              "      cursor: pointer;\n",
              "      display: none;\n",
              "      fill: #1967D2;\n",
              "      height: 32px;\n",
              "      padding: 0 0 0 0;\n",
              "      width: 32px;\n",
              "    }\n",
              "\n",
              "    .colab-df-convert:hover {\n",
              "      background-color: #E2EBFA;\n",
              "      box-shadow: 0px 1px 2px rgba(60, 64, 67, 0.3), 0px 1px 3px 1px rgba(60, 64, 67, 0.15);\n",
              "      fill: #174EA6;\n",
              "    }\n",
              "\n",
              "    [theme=dark] .colab-df-convert {\n",
              "      background-color: #3B4455;\n",
              "      fill: #D2E3FC;\n",
              "    }\n",
              "\n",
              "    [theme=dark] .colab-df-convert:hover {\n",
              "      background-color: #434B5C;\n",
              "      box-shadow: 0px 1px 3px 1px rgba(0, 0, 0, 0.15);\n",
              "      filter: drop-shadow(0px 1px 2px rgba(0, 0, 0, 0.3));\n",
              "      fill: #FFFFFF;\n",
              "    }\n",
              "  </style>\n",
              "\n",
              "      <script>\n",
              "        const buttonEl =\n",
              "          document.querySelector('#df-c6cc8dfa-f77d-4836-aea8-fce565a6392a button.colab-df-convert');\n",
              "        buttonEl.style.display =\n",
              "          google.colab.kernel.accessAllowed ? 'block' : 'none';\n",
              "\n",
              "        async function convertToInteractive(key) {\n",
              "          const element = document.querySelector('#df-c6cc8dfa-f77d-4836-aea8-fce565a6392a');\n",
              "          const dataTable =\n",
              "            await google.colab.kernel.invokeFunction('convertToInteractive',\n",
              "                                                     [key], {});\n",
              "          if (!dataTable) return;\n",
              "\n",
              "          const docLinkHtml = 'Like what you see? Visit the ' +\n",
              "            '<a target=\"_blank\" href=https://colab.research.google.com/notebooks/data_table.ipynb>data table notebook</a>'\n",
              "            + ' to learn more about interactive tables.';\n",
              "          element.innerHTML = '';\n",
              "          dataTable['output_type'] = 'display_data';\n",
              "          await google.colab.output.renderOutput(dataTable, element);\n",
              "          const docLink = document.createElement('div');\n",
              "          docLink.innerHTML = docLinkHtml;\n",
              "          element.appendChild(docLink);\n",
              "        }\n",
              "      </script>\n",
              "    </div>\n",
              "  </div>\n",
              "  "
            ]
          },
          "metadata": {},
          "execution_count": 11
        }
      ],
      "source": [
        "votos_governador = votacao_ce.query('ds_cargo == \"GOVERNADOR\"').groupby('nm_votavel')['qt_votos'].sum().sort_values(ascending= False).to_frame()\n",
        "votos_governador"
      ]
    },
    {
      "cell_type": "code",
      "execution_count": 12,
      "metadata": {
        "id": "86iz3Xe4KsoY",
        "colab": {
          "base_uri": "https://localhost:8080/",
          "height": 542
        },
        "outputId": "af94f136-977a-44ac-993d-9b5c1729edca"
      },
      "outputs": [
        {
          "output_type": "display_data",
          "data": {
            "text/html": [
              "<html>\n",
              "<head><meta charset=\"utf-8\" /></head>\n",
              "<body>\n",
              "    <div>            <script src=\"https://cdnjs.cloudflare.com/ajax/libs/mathjax/2.7.5/MathJax.js?config=TeX-AMS-MML_SVG\"></script><script type=\"text/javascript\">if (window.MathJax && window.MathJax.Hub && window.MathJax.Hub.Config) {window.MathJax.Hub.Config({SVG: {font: \"STIX-Web\"}});}</script>                <script type=\"text/javascript\">window.PlotlyConfig = {MathJaxConfig: 'local'};</script>\n",
              "        <script src=\"https://cdn.plot.ly/plotly-2.18.2.min.js\"></script>                <div id=\"f29a94c9-faa8-49d6-938f-e99e31d99e83\" class=\"plotly-graph-div\" style=\"height:525px; width:100%;\"></div>            <script type=\"text/javascript\">                                    window.PLOTLYENV=window.PLOTLYENV || {};                                    if (document.getElementById(\"f29a94c9-faa8-49d6-938f-e99e31d99e83\")) {                    Plotly.newPlot(                        \"f29a94c9-faa8-49d6-938f-e99e31d99e83\",                        [{\"alignmentgroup\":\"True\",\"hovertemplate\":\"nm_votavel=%{y}<br>qt_votos=%{x}<extra></extra>\",\"legendgroup\":\"ELMANO DE FREITAS DA COSTA\",\"marker\":{\"color\":\"#636efa\",\"pattern\":{\"shape\":\"\"}},\"name\":\"ELMANO DE FREITAS DA COSTA\",\"offsetgroup\":\"ELMANO DE FREITAS DA COSTA\",\"orientation\":\"h\",\"showlegend\":true,\"textposition\":\"auto\",\"x\":[2808300],\"xaxis\":\"x\",\"y\":[\"ELMANO DE FREITAS DA COSTA\"],\"yaxis\":\"y\",\"type\":\"bar\"},{\"alignmentgroup\":\"True\",\"hovertemplate\":\"nm_votavel=%{y}<br>qt_votos=%{x}<extra></extra>\",\"legendgroup\":\"WAGNER SOUSA GOMES\",\"marker\":{\"color\":\"#EF553B\",\"pattern\":{\"shape\":\"\"}},\"name\":\"WAGNER SOUSA GOMES\",\"offsetgroup\":\"WAGNER SOUSA GOMES\",\"orientation\":\"h\",\"showlegend\":true,\"textposition\":\"auto\",\"x\":[1649213],\"xaxis\":\"x\",\"y\":[\"WAGNER SOUSA GOMES\"],\"yaxis\":\"y\",\"type\":\"bar\"},{\"alignmentgroup\":\"True\",\"hovertemplate\":\"nm_votavel=%{y}<br>qt_votos=%{x}<extra></extra>\",\"legendgroup\":\"ROBERTO CL\\u00c1UDIO RODRIGUES BEZERRA\",\"marker\":{\"color\":\"#00cc96\",\"pattern\":{\"shape\":\"\"}},\"name\":\"ROBERTO CL\\u00c1UDIO RODRIGUES BEZERRA\",\"offsetgroup\":\"ROBERTO CL\\u00c1UDIO RODRIGUES BEZERRA\",\"orientation\":\"h\",\"showlegend\":true,\"textposition\":\"auto\",\"x\":[734976],\"xaxis\":\"x\",\"y\":[\"ROBERTO CL\\u00c1UDIO RODRIGUES BEZERRA\"],\"yaxis\":\"y\",\"type\":\"bar\"},{\"alignmentgroup\":\"True\",\"hovertemplate\":\"nm_votavel=%{y}<br>qt_votos=%{x}<extra></extra>\",\"legendgroup\":\"VOTO NULO\",\"marker\":{\"color\":\"#ab63fa\",\"pattern\":{\"shape\":\"\"}},\"name\":\"VOTO NULO\",\"offsetgroup\":\"VOTO NULO\",\"orientation\":\"h\",\"showlegend\":true,\"textposition\":\"auto\",\"x\":[249099],\"xaxis\":\"x\",\"y\":[\"VOTO NULO\"],\"yaxis\":\"y\",\"type\":\"bar\"},{\"alignmentgroup\":\"True\",\"hovertemplate\":\"nm_votavel=%{y}<br>qt_votos=%{x}<extra></extra>\",\"legendgroup\":\"VOTO BRANCO\",\"marker\":{\"color\":\"#FFA15A\",\"pattern\":{\"shape\":\"\"}},\"name\":\"VOTO BRANCO\",\"offsetgroup\":\"VOTO BRANCO\",\"orientation\":\"h\",\"showlegend\":true,\"textposition\":\"auto\",\"x\":[175459],\"xaxis\":\"x\",\"y\":[\"VOTO BRANCO\"],\"yaxis\":\"y\",\"type\":\"bar\"},{\"alignmentgroup\":\"True\",\"hovertemplate\":\"nm_votavel=%{y}<br>qt_votos=%{x}<extra></extra>\",\"legendgroup\":\"FRANCISCO RAIMUNDO MALTA DE ARA\\u00daJO\",\"marker\":{\"color\":\"#19d3f3\",\"pattern\":{\"shape\":\"\"}},\"name\":\"FRANCISCO RAIMUNDO MALTA DE ARA\\u00daJO\",\"offsetgroup\":\"FRANCISCO RAIMUNDO MALTA DE ARA\\u00daJO\",\"orientation\":\"h\",\"showlegend\":true,\"textposition\":\"auto\",\"x\":[3015],\"xaxis\":\"x\",\"y\":[\"FRANCISCO RAIMUNDO MALTA DE ARA\\u00daJO\"],\"yaxis\":\"y\",\"type\":\"bar\"},{\"alignmentgroup\":\"True\",\"hovertemplate\":\"nm_votavel=%{y}<br>qt_votos=%{x}<extra></extra>\",\"legendgroup\":\"SERLEY DE SOUSA LEAL\",\"marker\":{\"color\":\"#FF6692\",\"pattern\":{\"shape\":\"\"}},\"name\":\"SERLEY DE SOUSA LEAL\",\"offsetgroup\":\"SERLEY DE SOUSA LEAL\",\"orientation\":\"h\",\"showlegend\":true,\"textposition\":\"auto\",\"x\":[1881],\"xaxis\":\"x\",\"y\":[\"SERLEY DE SOUSA LEAL\"],\"yaxis\":\"y\",\"type\":\"bar\"},{\"alignmentgroup\":\"True\",\"hovertemplate\":\"nm_votavel=%{y}<br>qt_votos=%{x}<extra></extra>\",\"legendgroup\":\"JOS\\u00c9 BATISTA NETO\",\"marker\":{\"color\":\"#B6E880\",\"pattern\":{\"shape\":\"\"}},\"name\":\"JOS\\u00c9 BATISTA NETO\",\"offsetgroup\":\"JOS\\u00c9 BATISTA NETO\",\"orientation\":\"h\",\"showlegend\":true,\"textposition\":\"auto\",\"x\":[1507],\"xaxis\":\"x\",\"y\":[\"JOS\\u00c9 BATISTA NETO\"],\"yaxis\":\"y\",\"type\":\"bar\"}],                        {\"template\":{\"data\":{\"histogram2dcontour\":[{\"type\":\"histogram2dcontour\",\"colorbar\":{\"outlinewidth\":0,\"ticks\":\"\"},\"colorscale\":[[0.0,\"#0d0887\"],[0.1111111111111111,\"#46039f\"],[0.2222222222222222,\"#7201a8\"],[0.3333333333333333,\"#9c179e\"],[0.4444444444444444,\"#bd3786\"],[0.5555555555555556,\"#d8576b\"],[0.6666666666666666,\"#ed7953\"],[0.7777777777777778,\"#fb9f3a\"],[0.8888888888888888,\"#fdca26\"],[1.0,\"#f0f921\"]]}],\"choropleth\":[{\"type\":\"choropleth\",\"colorbar\":{\"outlinewidth\":0,\"ticks\":\"\"}}],\"histogram2d\":[{\"type\":\"histogram2d\",\"colorbar\":{\"outlinewidth\":0,\"ticks\":\"\"},\"colorscale\":[[0.0,\"#0d0887\"],[0.1111111111111111,\"#46039f\"],[0.2222222222222222,\"#7201a8\"],[0.3333333333333333,\"#9c179e\"],[0.4444444444444444,\"#bd3786\"],[0.5555555555555556,\"#d8576b\"],[0.6666666666666666,\"#ed7953\"],[0.7777777777777778,\"#fb9f3a\"],[0.8888888888888888,\"#fdca26\"],[1.0,\"#f0f921\"]]}],\"heatmap\":[{\"type\":\"heatmap\",\"colorbar\":{\"outlinewidth\":0,\"ticks\":\"\"},\"colorscale\":[[0.0,\"#0d0887\"],[0.1111111111111111,\"#46039f\"],[0.2222222222222222,\"#7201a8\"],[0.3333333333333333,\"#9c179e\"],[0.4444444444444444,\"#bd3786\"],[0.5555555555555556,\"#d8576b\"],[0.6666666666666666,\"#ed7953\"],[0.7777777777777778,\"#fb9f3a\"],[0.8888888888888888,\"#fdca26\"],[1.0,\"#f0f921\"]]}],\"heatmapgl\":[{\"type\":\"heatmapgl\",\"colorbar\":{\"outlinewidth\":0,\"ticks\":\"\"},\"colorscale\":[[0.0,\"#0d0887\"],[0.1111111111111111,\"#46039f\"],[0.2222222222222222,\"#7201a8\"],[0.3333333333333333,\"#9c179e\"],[0.4444444444444444,\"#bd3786\"],[0.5555555555555556,\"#d8576b\"],[0.6666666666666666,\"#ed7953\"],[0.7777777777777778,\"#fb9f3a\"],[0.8888888888888888,\"#fdca26\"],[1.0,\"#f0f921\"]]}],\"contourcarpet\":[{\"type\":\"contourcarpet\",\"colorbar\":{\"outlinewidth\":0,\"ticks\":\"\"}}],\"contour\":[{\"type\":\"contour\",\"colorbar\":{\"outlinewidth\":0,\"ticks\":\"\"},\"colorscale\":[[0.0,\"#0d0887\"],[0.1111111111111111,\"#46039f\"],[0.2222222222222222,\"#7201a8\"],[0.3333333333333333,\"#9c179e\"],[0.4444444444444444,\"#bd3786\"],[0.5555555555555556,\"#d8576b\"],[0.6666666666666666,\"#ed7953\"],[0.7777777777777778,\"#fb9f3a\"],[0.8888888888888888,\"#fdca26\"],[1.0,\"#f0f921\"]]}],\"surface\":[{\"type\":\"surface\",\"colorbar\":{\"outlinewidth\":0,\"ticks\":\"\"},\"colorscale\":[[0.0,\"#0d0887\"],[0.1111111111111111,\"#46039f\"],[0.2222222222222222,\"#7201a8\"],[0.3333333333333333,\"#9c179e\"],[0.4444444444444444,\"#bd3786\"],[0.5555555555555556,\"#d8576b\"],[0.6666666666666666,\"#ed7953\"],[0.7777777777777778,\"#fb9f3a\"],[0.8888888888888888,\"#fdca26\"],[1.0,\"#f0f921\"]]}],\"mesh3d\":[{\"type\":\"mesh3d\",\"colorbar\":{\"outlinewidth\":0,\"ticks\":\"\"}}],\"scatter\":[{\"fillpattern\":{\"fillmode\":\"overlay\",\"size\":10,\"solidity\":0.2},\"type\":\"scatter\"}],\"parcoords\":[{\"type\":\"parcoords\",\"line\":{\"colorbar\":{\"outlinewidth\":0,\"ticks\":\"\"}}}],\"scatterpolargl\":[{\"type\":\"scatterpolargl\",\"marker\":{\"colorbar\":{\"outlinewidth\":0,\"ticks\":\"\"}}}],\"bar\":[{\"error_x\":{\"color\":\"#2a3f5f\"},\"error_y\":{\"color\":\"#2a3f5f\"},\"marker\":{\"line\":{\"color\":\"#E5ECF6\",\"width\":0.5},\"pattern\":{\"fillmode\":\"overlay\",\"size\":10,\"solidity\":0.2}},\"type\":\"bar\"}],\"scattergeo\":[{\"type\":\"scattergeo\",\"marker\":{\"colorbar\":{\"outlinewidth\":0,\"ticks\":\"\"}}}],\"scatterpolar\":[{\"type\":\"scatterpolar\",\"marker\":{\"colorbar\":{\"outlinewidth\":0,\"ticks\":\"\"}}}],\"histogram\":[{\"marker\":{\"pattern\":{\"fillmode\":\"overlay\",\"size\":10,\"solidity\":0.2}},\"type\":\"histogram\"}],\"scattergl\":[{\"type\":\"scattergl\",\"marker\":{\"colorbar\":{\"outlinewidth\":0,\"ticks\":\"\"}}}],\"scatter3d\":[{\"type\":\"scatter3d\",\"line\":{\"colorbar\":{\"outlinewidth\":0,\"ticks\":\"\"}},\"marker\":{\"colorbar\":{\"outlinewidth\":0,\"ticks\":\"\"}}}],\"scattermapbox\":[{\"type\":\"scattermapbox\",\"marker\":{\"colorbar\":{\"outlinewidth\":0,\"ticks\":\"\"}}}],\"scatterternary\":[{\"type\":\"scatterternary\",\"marker\":{\"colorbar\":{\"outlinewidth\":0,\"ticks\":\"\"}}}],\"scattercarpet\":[{\"type\":\"scattercarpet\",\"marker\":{\"colorbar\":{\"outlinewidth\":0,\"ticks\":\"\"}}}],\"carpet\":[{\"aaxis\":{\"endlinecolor\":\"#2a3f5f\",\"gridcolor\":\"white\",\"linecolor\":\"white\",\"minorgridcolor\":\"white\",\"startlinecolor\":\"#2a3f5f\"},\"baxis\":{\"endlinecolor\":\"#2a3f5f\",\"gridcolor\":\"white\",\"linecolor\":\"white\",\"minorgridcolor\":\"white\",\"startlinecolor\":\"#2a3f5f\"},\"type\":\"carpet\"}],\"table\":[{\"cells\":{\"fill\":{\"color\":\"#EBF0F8\"},\"line\":{\"color\":\"white\"}},\"header\":{\"fill\":{\"color\":\"#C8D4E3\"},\"line\":{\"color\":\"white\"}},\"type\":\"table\"}],\"barpolar\":[{\"marker\":{\"line\":{\"color\":\"#E5ECF6\",\"width\":0.5},\"pattern\":{\"fillmode\":\"overlay\",\"size\":10,\"solidity\":0.2}},\"type\":\"barpolar\"}],\"pie\":[{\"automargin\":true,\"type\":\"pie\"}]},\"layout\":{\"autotypenumbers\":\"strict\",\"colorway\":[\"#636efa\",\"#EF553B\",\"#00cc96\",\"#ab63fa\",\"#FFA15A\",\"#19d3f3\",\"#FF6692\",\"#B6E880\",\"#FF97FF\",\"#FECB52\"],\"font\":{\"color\":\"#2a3f5f\"},\"hovermode\":\"closest\",\"hoverlabel\":{\"align\":\"left\"},\"paper_bgcolor\":\"white\",\"plot_bgcolor\":\"#E5ECF6\",\"polar\":{\"bgcolor\":\"#E5ECF6\",\"angularaxis\":{\"gridcolor\":\"white\",\"linecolor\":\"white\",\"ticks\":\"\"},\"radialaxis\":{\"gridcolor\":\"white\",\"linecolor\":\"white\",\"ticks\":\"\"}},\"ternary\":{\"bgcolor\":\"#E5ECF6\",\"aaxis\":{\"gridcolor\":\"white\",\"linecolor\":\"white\",\"ticks\":\"\"},\"baxis\":{\"gridcolor\":\"white\",\"linecolor\":\"white\",\"ticks\":\"\"},\"caxis\":{\"gridcolor\":\"white\",\"linecolor\":\"white\",\"ticks\":\"\"}},\"coloraxis\":{\"colorbar\":{\"outlinewidth\":0,\"ticks\":\"\"}},\"colorscale\":{\"sequential\":[[0.0,\"#0d0887\"],[0.1111111111111111,\"#46039f\"],[0.2222222222222222,\"#7201a8\"],[0.3333333333333333,\"#9c179e\"],[0.4444444444444444,\"#bd3786\"],[0.5555555555555556,\"#d8576b\"],[0.6666666666666666,\"#ed7953\"],[0.7777777777777778,\"#fb9f3a\"],[0.8888888888888888,\"#fdca26\"],[1.0,\"#f0f921\"]],\"sequentialminus\":[[0.0,\"#0d0887\"],[0.1111111111111111,\"#46039f\"],[0.2222222222222222,\"#7201a8\"],[0.3333333333333333,\"#9c179e\"],[0.4444444444444444,\"#bd3786\"],[0.5555555555555556,\"#d8576b\"],[0.6666666666666666,\"#ed7953\"],[0.7777777777777778,\"#fb9f3a\"],[0.8888888888888888,\"#fdca26\"],[1.0,\"#f0f921\"]],\"diverging\":[[0,\"#8e0152\"],[0.1,\"#c51b7d\"],[0.2,\"#de77ae\"],[0.3,\"#f1b6da\"],[0.4,\"#fde0ef\"],[0.5,\"#f7f7f7\"],[0.6,\"#e6f5d0\"],[0.7,\"#b8e186\"],[0.8,\"#7fbc41\"],[0.9,\"#4d9221\"],[1,\"#276419\"]]},\"xaxis\":{\"gridcolor\":\"white\",\"linecolor\":\"white\",\"ticks\":\"\",\"title\":{\"standoff\":15},\"zerolinecolor\":\"white\",\"automargin\":true,\"zerolinewidth\":2},\"yaxis\":{\"gridcolor\":\"white\",\"linecolor\":\"white\",\"ticks\":\"\",\"title\":{\"standoff\":15},\"zerolinecolor\":\"white\",\"automargin\":true,\"zerolinewidth\":2},\"scene\":{\"xaxis\":{\"backgroundcolor\":\"#E5ECF6\",\"gridcolor\":\"white\",\"linecolor\":\"white\",\"showbackground\":true,\"ticks\":\"\",\"zerolinecolor\":\"white\",\"gridwidth\":2},\"yaxis\":{\"backgroundcolor\":\"#E5ECF6\",\"gridcolor\":\"white\",\"linecolor\":\"white\",\"showbackground\":true,\"ticks\":\"\",\"zerolinecolor\":\"white\",\"gridwidth\":2},\"zaxis\":{\"backgroundcolor\":\"#E5ECF6\",\"gridcolor\":\"white\",\"linecolor\":\"white\",\"showbackground\":true,\"ticks\":\"\",\"zerolinecolor\":\"white\",\"gridwidth\":2}},\"shapedefaults\":{\"line\":{\"color\":\"#2a3f5f\"}},\"annotationdefaults\":{\"arrowcolor\":\"#2a3f5f\",\"arrowhead\":0,\"arrowwidth\":1},\"geo\":{\"bgcolor\":\"white\",\"landcolor\":\"#E5ECF6\",\"subunitcolor\":\"white\",\"showland\":true,\"showlakes\":true,\"lakecolor\":\"white\"},\"title\":{\"x\":0.05},\"mapbox\":{\"style\":\"light\"}}},\"xaxis\":{\"anchor\":\"y\",\"domain\":[0.0,1.0],\"title\":{\"text\":\"Quantidade de votos\"}},\"yaxis\":{\"anchor\":\"x\",\"domain\":[0.0,1.0],\"title\":{\"text\":\"Candidatos\"},\"categoryorder\":\"array\",\"categoryarray\":[\"JOS\\u00c9 BATISTA NETO\",\"SERLEY DE SOUSA LEAL\",\"FRANCISCO RAIMUNDO MALTA DE ARA\\u00daJO\",\"VOTO BRANCO\",\"VOTO NULO\",\"ROBERTO CL\\u00c1UDIO RODRIGUES BEZERRA\",\"WAGNER SOUSA GOMES\",\"ELMANO DE FREITAS DA COSTA\"]},\"legend\":{\"title\":{\"text\":\"Candidatos\"},\"tracegroupgap\":0},\"title\":{\"text\":\"Votos totais por candidato ao cargo de governador do Cear\\u00e1\",\"x\":0.5},\"barmode\":\"relative\"},                        {\"responsive\": true}                    ).then(function(){\n",
              "                            \n",
              "var gd = document.getElementById('f29a94c9-faa8-49d6-938f-e99e31d99e83');\n",
              "var x = new MutationObserver(function (mutations, observer) {{\n",
              "        var display = window.getComputedStyle(gd).display;\n",
              "        if (!display || display === 'none') {{\n",
              "            console.log([gd, 'removed!']);\n",
              "            Plotly.purge(gd);\n",
              "            observer.disconnect();\n",
              "        }}\n",
              "}});\n",
              "\n",
              "// Listen for the removal of the full notebook cells\n",
              "var notebookContainer = gd.closest('#notebook-container');\n",
              "if (notebookContainer) {{\n",
              "    x.observe(notebookContainer, {childList: true});\n",
              "}}\n",
              "\n",
              "// Listen for the clearing of the current output cell\n",
              "var outputEl = gd.closest('.output');\n",
              "if (outputEl) {{\n",
              "    x.observe(outputEl, {childList: true});\n",
              "}}\n",
              "\n",
              "                        })                };                            </script>        </div>\n",
              "</body>\n",
              "</html>"
            ]
          },
          "metadata": {}
        }
      ],
      "source": [
        "fig = px.bar(\n",
        "    data_frame= votos_governador,\n",
        "    y= votos_governador.index,\n",
        "    x= 'qt_votos',\n",
        "    color= votos_governador.index,\n",
        "    title= 'Votos totais por candidato ao cargo de governador do Ceará',\n",
        ")\n",
        "fig.update_layout(title= {'x': 0.5}, yaxis_title= 'Candidatos', xaxis_title= 'Quantidade de votos', legend_title= 'Candidatos')\n",
        "fig.show()"
      ]
    },
    {
      "cell_type": "markdown",
      "metadata": {
        "id": "nmV4lvMzxsur"
      },
      "source": [
        "### 5.1.2 Porcentagem de votos totais e válidos ao governo do estado"
      ]
    },
    {
      "cell_type": "markdown",
      "metadata": {
        "id": "yszPr3gFySGd"
      },
      "source": [
        "O número de votos totais de votos para o cargo de governador:"
      ]
    },
    {
      "cell_type": "code",
      "execution_count": 13,
      "metadata": {
        "id": "paJKiH3vsZe2",
        "colab": {
          "base_uri": "https://localhost:8080/"
        },
        "outputId": "3cbaa003-f56b-4d60-a9a7-3d02c696eeaf"
      },
      "outputs": [
        {
          "output_type": "stream",
          "name": "stdout",
          "text": [
            "Votos totais: 5623450\n"
          ]
        }
      ],
      "source": [
        "numero_votos_totais = votacao_ce.query('ds_cargo == \"GOVERNADOR\"')['qt_votos'].sum()\n",
        "print(f'Votos totais: {numero_votos_totais}')"
      ]
    },
    {
      "cell_type": "markdown",
      "metadata": {
        "id": "ejyI3SBxyzMc"
      },
      "source": [
        "E para determinar o número de votos válidos basta excluir os votos nulos e brancos:"
      ]
    },
    {
      "cell_type": "code",
      "execution_count": 14,
      "metadata": {
        "id": "d2ch5XLBrjQX"
      },
      "outputs": [],
      "source": [
        "votos_validos = votacao_ce.query('nm_votavel != \"VOTO NULO\" and nm_votavel != \"VOTO BRANCO\"')"
      ]
    },
    {
      "cell_type": "code",
      "execution_count": 15,
      "metadata": {
        "id": "sh2gNCDisupO",
        "colab": {
          "base_uri": "https://localhost:8080/"
        },
        "outputId": "2495412d-6973-44b1-a498-6f790d2dd528"
      },
      "outputs": [
        {
          "output_type": "stream",
          "name": "stdout",
          "text": [
            "Votos válidos: 5198892\n"
          ]
        }
      ],
      "source": [
        "numero_votos_validos = votos_validos.query('ds_cargo == \"GOVERNADOR\"')['qt_votos'].sum()\n",
        "print(f'Votos válidos: {numero_votos_validos}')"
      ]
    },
    {
      "cell_type": "markdown",
      "metadata": {
        "id": "xC5XE20Ny_L5"
      },
      "source": [
        "A porcentagem é calculada e mostrada na tabela abaixo:"
      ]
    },
    {
      "cell_type": "code",
      "execution_count": 16,
      "metadata": {
        "id": "J3DCNcBDr1iN"
      },
      "outputs": [],
      "source": [
        "porcentagem_votos_governadores = pd.DataFrame(\n",
        "    {'Votos válidos':round((votos_validos.query('ds_cargo == \"GOVERNADOR\"').groupby('nm_votavel')['qt_votos'].sum()/numero_votos_validos) * 100, 2),\n",
        "     'Votos totais': round((votacao_ce.query('ds_cargo == \"GOVERNADOR\"').groupby('nm_votavel')['qt_votos'].sum()/numero_votos_totais) * 100, 2)}\n",
        ").sort_values(['Votos válidos', 'Votos totais'], ascending= False)"
      ]
    },
    {
      "cell_type": "code",
      "execution_count": 17,
      "metadata": {
        "id": "5_QPFWp5tkRd",
        "colab": {
          "base_uri": "https://localhost:8080/",
          "height": 191
        },
        "outputId": "55c2fdbe-ed0d-41f5-f9bb-ed8e5750b93e"
      },
      "outputs": [
        {
          "output_type": "execute_result",
          "data": {
            "text/plain": [
              "nm_votavel     ELMANO DE FREITAS DA COSTA  WAGNER SOUSA GOMES  \\\n",
              "Votos válidos                       54.02               31.72   \n",
              "Votos totais                        49.94               29.33   \n",
              "\n",
              "nm_votavel     ROBERTO CLÁUDIO RODRIGUES BEZERRA  \\\n",
              "Votos válidos                              14.14   \n",
              "Votos totais                               13.07   \n",
              "\n",
              "nm_votavel     FRANCISCO RAIMUNDO MALTA DE ARAÚJO  SERLEY DE SOUSA LEAL  \\\n",
              "Votos válidos                                0.06                  0.04   \n",
              "Votos totais                                 0.05                  0.03   \n",
              "\n",
              "nm_votavel     JOSÉ BATISTA NETO  VOTO NULO  VOTO BRANCO  \n",
              "Votos válidos               0.03        NaN          NaN  \n",
              "Votos totais                0.03       4.43         3.12  "
            ],
            "text/html": [
              "\n",
              "  <div id=\"df-cf3b564d-a949-4784-afab-98b10f090590\">\n",
              "    <div class=\"colab-df-container\">\n",
              "      <div>\n",
              "<style scoped>\n",
              "    .dataframe tbody tr th:only-of-type {\n",
              "        vertical-align: middle;\n",
              "    }\n",
              "\n",
              "    .dataframe tbody tr th {\n",
              "        vertical-align: top;\n",
              "    }\n",
              "\n",
              "    .dataframe thead th {\n",
              "        text-align: right;\n",
              "    }\n",
              "</style>\n",
              "<table border=\"1\" class=\"dataframe\">\n",
              "  <thead>\n",
              "    <tr style=\"text-align: right;\">\n",
              "      <th>nm_votavel</th>\n",
              "      <th>ELMANO DE FREITAS DA COSTA</th>\n",
              "      <th>WAGNER SOUSA GOMES</th>\n",
              "      <th>ROBERTO CLÁUDIO RODRIGUES BEZERRA</th>\n",
              "      <th>FRANCISCO RAIMUNDO MALTA DE ARAÚJO</th>\n",
              "      <th>SERLEY DE SOUSA LEAL</th>\n",
              "      <th>JOSÉ BATISTA NETO</th>\n",
              "      <th>VOTO NULO</th>\n",
              "      <th>VOTO BRANCO</th>\n",
              "    </tr>\n",
              "  </thead>\n",
              "  <tbody>\n",
              "    <tr>\n",
              "      <th>Votos válidos</th>\n",
              "      <td>54.02</td>\n",
              "      <td>31.72</td>\n",
              "      <td>14.14</td>\n",
              "      <td>0.06</td>\n",
              "      <td>0.04</td>\n",
              "      <td>0.03</td>\n",
              "      <td>NaN</td>\n",
              "      <td>NaN</td>\n",
              "    </tr>\n",
              "    <tr>\n",
              "      <th>Votos totais</th>\n",
              "      <td>49.94</td>\n",
              "      <td>29.33</td>\n",
              "      <td>13.07</td>\n",
              "      <td>0.05</td>\n",
              "      <td>0.03</td>\n",
              "      <td>0.03</td>\n",
              "      <td>4.43</td>\n",
              "      <td>3.12</td>\n",
              "    </tr>\n",
              "  </tbody>\n",
              "</table>\n",
              "</div>\n",
              "      <button class=\"colab-df-convert\" onclick=\"convertToInteractive('df-cf3b564d-a949-4784-afab-98b10f090590')\"\n",
              "              title=\"Convert this dataframe to an interactive table.\"\n",
              "              style=\"display:none;\">\n",
              "        \n",
              "  <svg xmlns=\"http://www.w3.org/2000/svg\" height=\"24px\"viewBox=\"0 0 24 24\"\n",
              "       width=\"24px\">\n",
              "    <path d=\"M0 0h24v24H0V0z\" fill=\"none\"/>\n",
              "    <path d=\"M18.56 5.44l.94 2.06.94-2.06 2.06-.94-2.06-.94-.94-2.06-.94 2.06-2.06.94zm-11 1L8.5 8.5l.94-2.06 2.06-.94-2.06-.94L8.5 2.5l-.94 2.06-2.06.94zm10 10l.94 2.06.94-2.06 2.06-.94-2.06-.94-.94-2.06-.94 2.06-2.06.94z\"/><path d=\"M17.41 7.96l-1.37-1.37c-.4-.4-.92-.59-1.43-.59-.52 0-1.04.2-1.43.59L10.3 9.45l-7.72 7.72c-.78.78-.78 2.05 0 2.83L4 21.41c.39.39.9.59 1.41.59.51 0 1.02-.2 1.41-.59l7.78-7.78 2.81-2.81c.8-.78.8-2.07 0-2.86zM5.41 20L4 18.59l7.72-7.72 1.47 1.35L5.41 20z\"/>\n",
              "  </svg>\n",
              "      </button>\n",
              "      \n",
              "  <style>\n",
              "    .colab-df-container {\n",
              "      display:flex;\n",
              "      flex-wrap:wrap;\n",
              "      gap: 12px;\n",
              "    }\n",
              "\n",
              "    .colab-df-convert {\n",
              "      background-color: #E8F0FE;\n",
              "      border: none;\n",
              "      border-radius: 50%;\n",
              "      cursor: pointer;\n",
              "      display: none;\n",
              "      fill: #1967D2;\n",
              "      height: 32px;\n",
              "      padding: 0 0 0 0;\n",
              "      width: 32px;\n",
              "    }\n",
              "\n",
              "    .colab-df-convert:hover {\n",
              "      background-color: #E2EBFA;\n",
              "      box-shadow: 0px 1px 2px rgba(60, 64, 67, 0.3), 0px 1px 3px 1px rgba(60, 64, 67, 0.15);\n",
              "      fill: #174EA6;\n",
              "    }\n",
              "\n",
              "    [theme=dark] .colab-df-convert {\n",
              "      background-color: #3B4455;\n",
              "      fill: #D2E3FC;\n",
              "    }\n",
              "\n",
              "    [theme=dark] .colab-df-convert:hover {\n",
              "      background-color: #434B5C;\n",
              "      box-shadow: 0px 1px 3px 1px rgba(0, 0, 0, 0.15);\n",
              "      filter: drop-shadow(0px 1px 2px rgba(0, 0, 0, 0.3));\n",
              "      fill: #FFFFFF;\n",
              "    }\n",
              "  </style>\n",
              "\n",
              "      <script>\n",
              "        const buttonEl =\n",
              "          document.querySelector('#df-cf3b564d-a949-4784-afab-98b10f090590 button.colab-df-convert');\n",
              "        buttonEl.style.display =\n",
              "          google.colab.kernel.accessAllowed ? 'block' : 'none';\n",
              "\n",
              "        async function convertToInteractive(key) {\n",
              "          const element = document.querySelector('#df-cf3b564d-a949-4784-afab-98b10f090590');\n",
              "          const dataTable =\n",
              "            await google.colab.kernel.invokeFunction('convertToInteractive',\n",
              "                                                     [key], {});\n",
              "          if (!dataTable) return;\n",
              "\n",
              "          const docLinkHtml = 'Like what you see? Visit the ' +\n",
              "            '<a target=\"_blank\" href=https://colab.research.google.com/notebooks/data_table.ipynb>data table notebook</a>'\n",
              "            + ' to learn more about interactive tables.';\n",
              "          element.innerHTML = '';\n",
              "          dataTable['output_type'] = 'display_data';\n",
              "          await google.colab.output.renderOutput(dataTable, element);\n",
              "          const docLink = document.createElement('div');\n",
              "          docLink.innerHTML = docLinkHtml;\n",
              "          element.appendChild(docLink);\n",
              "        }\n",
              "      </script>\n",
              "    </div>\n",
              "  </div>\n",
              "  "
            ]
          },
          "metadata": {},
          "execution_count": 17
        }
      ],
      "source": [
        "porcentagem_votos_governadores = porcentagem_votos_governadores.transpose()\n",
        "porcentagem_votos_governadores"
      ]
    },
    {
      "cell_type": "markdown",
      "metadata": {
        "id": "BeYReODEzGeM"
      },
      "source": [
        "Por fim, o gráfico mostra a comparação entre os votos totais e válidos."
      ]
    },
    {
      "cell_type": "code",
      "execution_count": 18,
      "metadata": {
        "id": "9ETyx_wvt-wk",
        "colab": {
          "base_uri": "https://localhost:8080/",
          "height": 542
        },
        "outputId": "bb05c7f7-71d6-4f99-9aa0-2d91bd4eb8cc"
      },
      "outputs": [
        {
          "output_type": "display_data",
          "data": {
            "text/html": [
              "<html>\n",
              "<head><meta charset=\"utf-8\" /></head>\n",
              "<body>\n",
              "    <div>            <script src=\"https://cdnjs.cloudflare.com/ajax/libs/mathjax/2.7.5/MathJax.js?config=TeX-AMS-MML_SVG\"></script><script type=\"text/javascript\">if (window.MathJax && window.MathJax.Hub && window.MathJax.Hub.Config) {window.MathJax.Hub.Config({SVG: {font: \"STIX-Web\"}});}</script>                <script type=\"text/javascript\">window.PlotlyConfig = {MathJaxConfig: 'local'};</script>\n",
              "        <script src=\"https://cdn.plot.ly/plotly-2.18.2.min.js\"></script>                <div id=\"48b68dca-aa4f-42d2-9e09-2c3f812eb36c\" class=\"plotly-graph-div\" style=\"height:525px; width:100%;\"></div>            <script type=\"text/javascript\">                                    window.PLOTLYENV=window.PLOTLYENV || {};                                    if (document.getElementById(\"48b68dca-aa4f-42d2-9e09-2c3f812eb36c\")) {                    Plotly.newPlot(                        \"48b68dca-aa4f-42d2-9e09-2c3f812eb36c\",                        [{\"alignmentgroup\":\"True\",\"hovertemplate\":\"nm_votavel=ELMANO DE FREITAS DA COSTA<br>value=%{x}<br>index=%{y}<extra></extra>\",\"legendgroup\":\"ELMANO DE FREITAS DA COSTA\",\"marker\":{\"color\":\"#636efa\",\"pattern\":{\"shape\":\"\"}},\"name\":\"ELMANO DE FREITAS DA COSTA\",\"offsetgroup\":\"ELMANO DE FREITAS DA COSTA\",\"orientation\":\"h\",\"showlegend\":true,\"textposition\":\"auto\",\"x\":[54.02,49.94],\"xaxis\":\"x\",\"y\":[\"Votos v\\u00e1lidos\",\"Votos totais\"],\"yaxis\":\"y\",\"type\":\"bar\"},{\"alignmentgroup\":\"True\",\"hovertemplate\":\"nm_votavel=WAGNER SOUSA GOMES<br>value=%{x}<br>index=%{y}<extra></extra>\",\"legendgroup\":\"WAGNER SOUSA GOMES\",\"marker\":{\"color\":\"#EF553B\",\"pattern\":{\"shape\":\"\"}},\"name\":\"WAGNER SOUSA GOMES\",\"offsetgroup\":\"WAGNER SOUSA GOMES\",\"orientation\":\"h\",\"showlegend\":true,\"textposition\":\"auto\",\"x\":[31.72,29.33],\"xaxis\":\"x\",\"y\":[\"Votos v\\u00e1lidos\",\"Votos totais\"],\"yaxis\":\"y\",\"type\":\"bar\"},{\"alignmentgroup\":\"True\",\"hovertemplate\":\"nm_votavel=ROBERTO CL\\u00c1UDIO RODRIGUES BEZERRA<br>value=%{x}<br>index=%{y}<extra></extra>\",\"legendgroup\":\"ROBERTO CL\\u00c1UDIO RODRIGUES BEZERRA\",\"marker\":{\"color\":\"#00cc96\",\"pattern\":{\"shape\":\"\"}},\"name\":\"ROBERTO CL\\u00c1UDIO RODRIGUES BEZERRA\",\"offsetgroup\":\"ROBERTO CL\\u00c1UDIO RODRIGUES BEZERRA\",\"orientation\":\"h\",\"showlegend\":true,\"textposition\":\"auto\",\"x\":[14.14,13.07],\"xaxis\":\"x\",\"y\":[\"Votos v\\u00e1lidos\",\"Votos totais\"],\"yaxis\":\"y\",\"type\":\"bar\"},{\"alignmentgroup\":\"True\",\"hovertemplate\":\"nm_votavel=FRANCISCO RAIMUNDO MALTA DE ARA\\u00daJO<br>value=%{x}<br>index=%{y}<extra></extra>\",\"legendgroup\":\"FRANCISCO RAIMUNDO MALTA DE ARA\\u00daJO\",\"marker\":{\"color\":\"#ab63fa\",\"pattern\":{\"shape\":\"\"}},\"name\":\"FRANCISCO RAIMUNDO MALTA DE ARA\\u00daJO\",\"offsetgroup\":\"FRANCISCO RAIMUNDO MALTA DE ARA\\u00daJO\",\"orientation\":\"h\",\"showlegend\":true,\"textposition\":\"auto\",\"x\":[0.06,0.05],\"xaxis\":\"x\",\"y\":[\"Votos v\\u00e1lidos\",\"Votos totais\"],\"yaxis\":\"y\",\"type\":\"bar\"},{\"alignmentgroup\":\"True\",\"hovertemplate\":\"nm_votavel=SERLEY DE SOUSA LEAL<br>value=%{x}<br>index=%{y}<extra></extra>\",\"legendgroup\":\"SERLEY DE SOUSA LEAL\",\"marker\":{\"color\":\"#FFA15A\",\"pattern\":{\"shape\":\"\"}},\"name\":\"SERLEY DE SOUSA LEAL\",\"offsetgroup\":\"SERLEY DE SOUSA LEAL\",\"orientation\":\"h\",\"showlegend\":true,\"textposition\":\"auto\",\"x\":[0.04,0.03],\"xaxis\":\"x\",\"y\":[\"Votos v\\u00e1lidos\",\"Votos totais\"],\"yaxis\":\"y\",\"type\":\"bar\"},{\"alignmentgroup\":\"True\",\"hovertemplate\":\"nm_votavel=JOS\\u00c9 BATISTA NETO<br>value=%{x}<br>index=%{y}<extra></extra>\",\"legendgroup\":\"JOS\\u00c9 BATISTA NETO\",\"marker\":{\"color\":\"#19d3f3\",\"pattern\":{\"shape\":\"\"}},\"name\":\"JOS\\u00c9 BATISTA NETO\",\"offsetgroup\":\"JOS\\u00c9 BATISTA NETO\",\"orientation\":\"h\",\"showlegend\":true,\"textposition\":\"auto\",\"x\":[0.03,0.03],\"xaxis\":\"x\",\"y\":[\"Votos v\\u00e1lidos\",\"Votos totais\"],\"yaxis\":\"y\",\"type\":\"bar\"},{\"alignmentgroup\":\"True\",\"hovertemplate\":\"nm_votavel=VOTO NULO<br>value=%{x}<br>index=%{y}<extra></extra>\",\"legendgroup\":\"VOTO NULO\",\"marker\":{\"color\":\"#FF6692\",\"pattern\":{\"shape\":\"\"}},\"name\":\"VOTO NULO\",\"offsetgroup\":\"VOTO NULO\",\"orientation\":\"h\",\"showlegend\":true,\"textposition\":\"auto\",\"x\":[null,4.43],\"xaxis\":\"x\",\"y\":[\"Votos v\\u00e1lidos\",\"Votos totais\"],\"yaxis\":\"y\",\"type\":\"bar\"},{\"alignmentgroup\":\"True\",\"hovertemplate\":\"nm_votavel=VOTO BRANCO<br>value=%{x}<br>index=%{y}<extra></extra>\",\"legendgroup\":\"VOTO BRANCO\",\"marker\":{\"color\":\"#B6E880\",\"pattern\":{\"shape\":\"\"}},\"name\":\"VOTO BRANCO\",\"offsetgroup\":\"VOTO BRANCO\",\"orientation\":\"h\",\"showlegend\":true,\"textposition\":\"auto\",\"x\":[null,3.12],\"xaxis\":\"x\",\"y\":[\"Votos v\\u00e1lidos\",\"Votos totais\"],\"yaxis\":\"y\",\"type\":\"bar\"}],                        {\"template\":{\"data\":{\"histogram2dcontour\":[{\"type\":\"histogram2dcontour\",\"colorbar\":{\"outlinewidth\":0,\"ticks\":\"\"},\"colorscale\":[[0.0,\"#0d0887\"],[0.1111111111111111,\"#46039f\"],[0.2222222222222222,\"#7201a8\"],[0.3333333333333333,\"#9c179e\"],[0.4444444444444444,\"#bd3786\"],[0.5555555555555556,\"#d8576b\"],[0.6666666666666666,\"#ed7953\"],[0.7777777777777778,\"#fb9f3a\"],[0.8888888888888888,\"#fdca26\"],[1.0,\"#f0f921\"]]}],\"choropleth\":[{\"type\":\"choropleth\",\"colorbar\":{\"outlinewidth\":0,\"ticks\":\"\"}}],\"histogram2d\":[{\"type\":\"histogram2d\",\"colorbar\":{\"outlinewidth\":0,\"ticks\":\"\"},\"colorscale\":[[0.0,\"#0d0887\"],[0.1111111111111111,\"#46039f\"],[0.2222222222222222,\"#7201a8\"],[0.3333333333333333,\"#9c179e\"],[0.4444444444444444,\"#bd3786\"],[0.5555555555555556,\"#d8576b\"],[0.6666666666666666,\"#ed7953\"],[0.7777777777777778,\"#fb9f3a\"],[0.8888888888888888,\"#fdca26\"],[1.0,\"#f0f921\"]]}],\"heatmap\":[{\"type\":\"heatmap\",\"colorbar\":{\"outlinewidth\":0,\"ticks\":\"\"},\"colorscale\":[[0.0,\"#0d0887\"],[0.1111111111111111,\"#46039f\"],[0.2222222222222222,\"#7201a8\"],[0.3333333333333333,\"#9c179e\"],[0.4444444444444444,\"#bd3786\"],[0.5555555555555556,\"#d8576b\"],[0.6666666666666666,\"#ed7953\"],[0.7777777777777778,\"#fb9f3a\"],[0.8888888888888888,\"#fdca26\"],[1.0,\"#f0f921\"]]}],\"heatmapgl\":[{\"type\":\"heatmapgl\",\"colorbar\":{\"outlinewidth\":0,\"ticks\":\"\"},\"colorscale\":[[0.0,\"#0d0887\"],[0.1111111111111111,\"#46039f\"],[0.2222222222222222,\"#7201a8\"],[0.3333333333333333,\"#9c179e\"],[0.4444444444444444,\"#bd3786\"],[0.5555555555555556,\"#d8576b\"],[0.6666666666666666,\"#ed7953\"],[0.7777777777777778,\"#fb9f3a\"],[0.8888888888888888,\"#fdca26\"],[1.0,\"#f0f921\"]]}],\"contourcarpet\":[{\"type\":\"contourcarpet\",\"colorbar\":{\"outlinewidth\":0,\"ticks\":\"\"}}],\"contour\":[{\"type\":\"contour\",\"colorbar\":{\"outlinewidth\":0,\"ticks\":\"\"},\"colorscale\":[[0.0,\"#0d0887\"],[0.1111111111111111,\"#46039f\"],[0.2222222222222222,\"#7201a8\"],[0.3333333333333333,\"#9c179e\"],[0.4444444444444444,\"#bd3786\"],[0.5555555555555556,\"#d8576b\"],[0.6666666666666666,\"#ed7953\"],[0.7777777777777778,\"#fb9f3a\"],[0.8888888888888888,\"#fdca26\"],[1.0,\"#f0f921\"]]}],\"surface\":[{\"type\":\"surface\",\"colorbar\":{\"outlinewidth\":0,\"ticks\":\"\"},\"colorscale\":[[0.0,\"#0d0887\"],[0.1111111111111111,\"#46039f\"],[0.2222222222222222,\"#7201a8\"],[0.3333333333333333,\"#9c179e\"],[0.4444444444444444,\"#bd3786\"],[0.5555555555555556,\"#d8576b\"],[0.6666666666666666,\"#ed7953\"],[0.7777777777777778,\"#fb9f3a\"],[0.8888888888888888,\"#fdca26\"],[1.0,\"#f0f921\"]]}],\"mesh3d\":[{\"type\":\"mesh3d\",\"colorbar\":{\"outlinewidth\":0,\"ticks\":\"\"}}],\"scatter\":[{\"fillpattern\":{\"fillmode\":\"overlay\",\"size\":10,\"solidity\":0.2},\"type\":\"scatter\"}],\"parcoords\":[{\"type\":\"parcoords\",\"line\":{\"colorbar\":{\"outlinewidth\":0,\"ticks\":\"\"}}}],\"scatterpolargl\":[{\"type\":\"scatterpolargl\",\"marker\":{\"colorbar\":{\"outlinewidth\":0,\"ticks\":\"\"}}}],\"bar\":[{\"error_x\":{\"color\":\"#2a3f5f\"},\"error_y\":{\"color\":\"#2a3f5f\"},\"marker\":{\"line\":{\"color\":\"#E5ECF6\",\"width\":0.5},\"pattern\":{\"fillmode\":\"overlay\",\"size\":10,\"solidity\":0.2}},\"type\":\"bar\"}],\"scattergeo\":[{\"type\":\"scattergeo\",\"marker\":{\"colorbar\":{\"outlinewidth\":0,\"ticks\":\"\"}}}],\"scatterpolar\":[{\"type\":\"scatterpolar\",\"marker\":{\"colorbar\":{\"outlinewidth\":0,\"ticks\":\"\"}}}],\"histogram\":[{\"marker\":{\"pattern\":{\"fillmode\":\"overlay\",\"size\":10,\"solidity\":0.2}},\"type\":\"histogram\"}],\"scattergl\":[{\"type\":\"scattergl\",\"marker\":{\"colorbar\":{\"outlinewidth\":0,\"ticks\":\"\"}}}],\"scatter3d\":[{\"type\":\"scatter3d\",\"line\":{\"colorbar\":{\"outlinewidth\":0,\"ticks\":\"\"}},\"marker\":{\"colorbar\":{\"outlinewidth\":0,\"ticks\":\"\"}}}],\"scattermapbox\":[{\"type\":\"scattermapbox\",\"marker\":{\"colorbar\":{\"outlinewidth\":0,\"ticks\":\"\"}}}],\"scatterternary\":[{\"type\":\"scatterternary\",\"marker\":{\"colorbar\":{\"outlinewidth\":0,\"ticks\":\"\"}}}],\"scattercarpet\":[{\"type\":\"scattercarpet\",\"marker\":{\"colorbar\":{\"outlinewidth\":0,\"ticks\":\"\"}}}],\"carpet\":[{\"aaxis\":{\"endlinecolor\":\"#2a3f5f\",\"gridcolor\":\"white\",\"linecolor\":\"white\",\"minorgridcolor\":\"white\",\"startlinecolor\":\"#2a3f5f\"},\"baxis\":{\"endlinecolor\":\"#2a3f5f\",\"gridcolor\":\"white\",\"linecolor\":\"white\",\"minorgridcolor\":\"white\",\"startlinecolor\":\"#2a3f5f\"},\"type\":\"carpet\"}],\"table\":[{\"cells\":{\"fill\":{\"color\":\"#EBF0F8\"},\"line\":{\"color\":\"white\"}},\"header\":{\"fill\":{\"color\":\"#C8D4E3\"},\"line\":{\"color\":\"white\"}},\"type\":\"table\"}],\"barpolar\":[{\"marker\":{\"line\":{\"color\":\"#E5ECF6\",\"width\":0.5},\"pattern\":{\"fillmode\":\"overlay\",\"size\":10,\"solidity\":0.2}},\"type\":\"barpolar\"}],\"pie\":[{\"automargin\":true,\"type\":\"pie\"}]},\"layout\":{\"autotypenumbers\":\"strict\",\"colorway\":[\"#636efa\",\"#EF553B\",\"#00cc96\",\"#ab63fa\",\"#FFA15A\",\"#19d3f3\",\"#FF6692\",\"#B6E880\",\"#FF97FF\",\"#FECB52\"],\"font\":{\"color\":\"#2a3f5f\"},\"hovermode\":\"closest\",\"hoverlabel\":{\"align\":\"left\"},\"paper_bgcolor\":\"white\",\"plot_bgcolor\":\"#E5ECF6\",\"polar\":{\"bgcolor\":\"#E5ECF6\",\"angularaxis\":{\"gridcolor\":\"white\",\"linecolor\":\"white\",\"ticks\":\"\"},\"radialaxis\":{\"gridcolor\":\"white\",\"linecolor\":\"white\",\"ticks\":\"\"}},\"ternary\":{\"bgcolor\":\"#E5ECF6\",\"aaxis\":{\"gridcolor\":\"white\",\"linecolor\":\"white\",\"ticks\":\"\"},\"baxis\":{\"gridcolor\":\"white\",\"linecolor\":\"white\",\"ticks\":\"\"},\"caxis\":{\"gridcolor\":\"white\",\"linecolor\":\"white\",\"ticks\":\"\"}},\"coloraxis\":{\"colorbar\":{\"outlinewidth\":0,\"ticks\":\"\"}},\"colorscale\":{\"sequential\":[[0.0,\"#0d0887\"],[0.1111111111111111,\"#46039f\"],[0.2222222222222222,\"#7201a8\"],[0.3333333333333333,\"#9c179e\"],[0.4444444444444444,\"#bd3786\"],[0.5555555555555556,\"#d8576b\"],[0.6666666666666666,\"#ed7953\"],[0.7777777777777778,\"#fb9f3a\"],[0.8888888888888888,\"#fdca26\"],[1.0,\"#f0f921\"]],\"sequentialminus\":[[0.0,\"#0d0887\"],[0.1111111111111111,\"#46039f\"],[0.2222222222222222,\"#7201a8\"],[0.3333333333333333,\"#9c179e\"],[0.4444444444444444,\"#bd3786\"],[0.5555555555555556,\"#d8576b\"],[0.6666666666666666,\"#ed7953\"],[0.7777777777777778,\"#fb9f3a\"],[0.8888888888888888,\"#fdca26\"],[1.0,\"#f0f921\"]],\"diverging\":[[0,\"#8e0152\"],[0.1,\"#c51b7d\"],[0.2,\"#de77ae\"],[0.3,\"#f1b6da\"],[0.4,\"#fde0ef\"],[0.5,\"#f7f7f7\"],[0.6,\"#e6f5d0\"],[0.7,\"#b8e186\"],[0.8,\"#7fbc41\"],[0.9,\"#4d9221\"],[1,\"#276419\"]]},\"xaxis\":{\"gridcolor\":\"white\",\"linecolor\":\"white\",\"ticks\":\"\",\"title\":{\"standoff\":15},\"zerolinecolor\":\"white\",\"automargin\":true,\"zerolinewidth\":2},\"yaxis\":{\"gridcolor\":\"white\",\"linecolor\":\"white\",\"ticks\":\"\",\"title\":{\"standoff\":15},\"zerolinecolor\":\"white\",\"automargin\":true,\"zerolinewidth\":2},\"scene\":{\"xaxis\":{\"backgroundcolor\":\"#E5ECF6\",\"gridcolor\":\"white\",\"linecolor\":\"white\",\"showbackground\":true,\"ticks\":\"\",\"zerolinecolor\":\"white\",\"gridwidth\":2},\"yaxis\":{\"backgroundcolor\":\"#E5ECF6\",\"gridcolor\":\"white\",\"linecolor\":\"white\",\"showbackground\":true,\"ticks\":\"\",\"zerolinecolor\":\"white\",\"gridwidth\":2},\"zaxis\":{\"backgroundcolor\":\"#E5ECF6\",\"gridcolor\":\"white\",\"linecolor\":\"white\",\"showbackground\":true,\"ticks\":\"\",\"zerolinecolor\":\"white\",\"gridwidth\":2}},\"shapedefaults\":{\"line\":{\"color\":\"#2a3f5f\"}},\"annotationdefaults\":{\"arrowcolor\":\"#2a3f5f\",\"arrowhead\":0,\"arrowwidth\":1},\"geo\":{\"bgcolor\":\"white\",\"landcolor\":\"#E5ECF6\",\"subunitcolor\":\"white\",\"showland\":true,\"showlakes\":true,\"lakecolor\":\"white\"},\"title\":{\"x\":0.05},\"mapbox\":{\"style\":\"light\"}}},\"xaxis\":{\"anchor\":\"y\",\"domain\":[0.0,1.0],\"title\":{\"text\":\"Porcentagem dos votos\"}},\"yaxis\":{\"anchor\":\"x\",\"domain\":[0.0,1.0],\"title\":{\"text\":\"\"}},\"legend\":{\"title\":{\"text\":\"Candidatos\"},\"tracegroupgap\":0},\"title\":{\"text\":\"Porcentagem de votos totais e v\\u00e1lidos para o cargo de governador do Cear\\u00e1\",\"x\":0.5},\"barmode\":\"relative\"},                        {\"responsive\": true}                    ).then(function(){\n",
              "                            \n",
              "var gd = document.getElementById('48b68dca-aa4f-42d2-9e09-2c3f812eb36c');\n",
              "var x = new MutationObserver(function (mutations, observer) {{\n",
              "        var display = window.getComputedStyle(gd).display;\n",
              "        if (!display || display === 'none') {{\n",
              "            console.log([gd, 'removed!']);\n",
              "            Plotly.purge(gd);\n",
              "            observer.disconnect();\n",
              "        }}\n",
              "}});\n",
              "\n",
              "// Listen for the removal of the full notebook cells\n",
              "var notebookContainer = gd.closest('#notebook-container');\n",
              "if (notebookContainer) {{\n",
              "    x.observe(notebookContainer, {childList: true});\n",
              "}}\n",
              "\n",
              "// Listen for the clearing of the current output cell\n",
              "var outputEl = gd.closest('.output');\n",
              "if (outputEl) {{\n",
              "    x.observe(outputEl, {childList: true});\n",
              "}}\n",
              "\n",
              "                        })                };                            </script>        </div>\n",
              "</body>\n",
              "</html>"
            ]
          },
          "metadata": {}
        }
      ],
      "source": [
        "fig = px.bar(\n",
        "    data_frame= porcentagem_votos_governadores,\n",
        "    y= porcentagem_votos_governadores.index,\n",
        "    x= porcentagem_votos_governadores.columns,\n",
        "    title= 'Porcentagem de votos totais e válidos para o cargo de governador do Ceará'\n",
        ")\n",
        "fig.update_layout(title= {'x': 0.5}, yaxis_title= '', xaxis_title= 'Porcentagem dos votos', legend_title= 'Candidatos')\n",
        "fig.show()"
      ]
    },
    {
      "cell_type": "markdown",
      "metadata": {
        "id": "JuYH1U8G3GXb"
      },
      "source": [
        "## 5.2 Votos para o cargo de governador por município cearense"
      ]
    },
    {
      "cell_type": "markdown",
      "metadata": {
        "id": "iSwa7q9f4-o6"
      },
      "source": [
        "### 5.2.1 Contribuição de cada município para o panorama geral de votos no estado"
      ]
    },
    {
      "cell_type": "markdown",
      "metadata": {
        "id": "w3TaixUZ6V11"
      },
      "source": [
        "Calcula-se o quanto o número de votos no município representa em relação ao total de votos no estado do Ceará. E depois tal valor é convertido em porcentagem:"
      ]
    },
    {
      "cell_type": "code",
      "execution_count": 19,
      "metadata": {
        "id": "CnW54wf846SE"
      },
      "outputs": [],
      "source": [
        "votos_municipio_pelo_total = votacao_ce.query('ds_cargo == \"GOVERNADOR\"').groupby('nm_municipio')['qt_votos'].sum()/numero_votos_totais\n",
        "# selecionam-se os dados referentes aos votos em governador, são agrupados por município e somados.\n",
        "votos_porcentagem_municipio = round(votos_municipio_pelo_total * 100, 2) # os valores são convertidos em porcentagem."
      ]
    },
    {
      "cell_type": "code",
      "execution_count": 20,
      "metadata": {
        "id": "P8kPOrpN3vYq",
        "colab": {
          "base_uri": "https://localhost:8080/",
          "height": 238
        },
        "outputId": "503bae28-ff50-41b7-fcc6-d2c1d5d4470b"
      },
      "outputs": [
        {
          "output_type": "execute_result",
          "data": {
            "text/plain": [
              "                   qt_votos\n",
              "nm_municipio               \n",
              "FORTALEZA             27.74\n",
              "CAUCAIA                3.61\n",
              "JUAZEIRO DO NORTE      2.75\n",
              "MARACANAÚ              2.64\n",
              "SOBRAL                 2.23"
            ],
            "text/html": [
              "\n",
              "  <div id=\"df-c6c82ffe-899b-490a-9542-d53f86949f52\">\n",
              "    <div class=\"colab-df-container\">\n",
              "      <div>\n",
              "<style scoped>\n",
              "    .dataframe tbody tr th:only-of-type {\n",
              "        vertical-align: middle;\n",
              "    }\n",
              "\n",
              "    .dataframe tbody tr th {\n",
              "        vertical-align: top;\n",
              "    }\n",
              "\n",
              "    .dataframe thead th {\n",
              "        text-align: right;\n",
              "    }\n",
              "</style>\n",
              "<table border=\"1\" class=\"dataframe\">\n",
              "  <thead>\n",
              "    <tr style=\"text-align: right;\">\n",
              "      <th></th>\n",
              "      <th>qt_votos</th>\n",
              "    </tr>\n",
              "    <tr>\n",
              "      <th>nm_municipio</th>\n",
              "      <th></th>\n",
              "    </tr>\n",
              "  </thead>\n",
              "  <tbody>\n",
              "    <tr>\n",
              "      <th>FORTALEZA</th>\n",
              "      <td>27.74</td>\n",
              "    </tr>\n",
              "    <tr>\n",
              "      <th>CAUCAIA</th>\n",
              "      <td>3.61</td>\n",
              "    </tr>\n",
              "    <tr>\n",
              "      <th>JUAZEIRO DO NORTE</th>\n",
              "      <td>2.75</td>\n",
              "    </tr>\n",
              "    <tr>\n",
              "      <th>MARACANAÚ</th>\n",
              "      <td>2.64</td>\n",
              "    </tr>\n",
              "    <tr>\n",
              "      <th>SOBRAL</th>\n",
              "      <td>2.23</td>\n",
              "    </tr>\n",
              "  </tbody>\n",
              "</table>\n",
              "</div>\n",
              "      <button class=\"colab-df-convert\" onclick=\"convertToInteractive('df-c6c82ffe-899b-490a-9542-d53f86949f52')\"\n",
              "              title=\"Convert this dataframe to an interactive table.\"\n",
              "              style=\"display:none;\">\n",
              "        \n",
              "  <svg xmlns=\"http://www.w3.org/2000/svg\" height=\"24px\"viewBox=\"0 0 24 24\"\n",
              "       width=\"24px\">\n",
              "    <path d=\"M0 0h24v24H0V0z\" fill=\"none\"/>\n",
              "    <path d=\"M18.56 5.44l.94 2.06.94-2.06 2.06-.94-2.06-.94-.94-2.06-.94 2.06-2.06.94zm-11 1L8.5 8.5l.94-2.06 2.06-.94-2.06-.94L8.5 2.5l-.94 2.06-2.06.94zm10 10l.94 2.06.94-2.06 2.06-.94-2.06-.94-.94-2.06-.94 2.06-2.06.94z\"/><path d=\"M17.41 7.96l-1.37-1.37c-.4-.4-.92-.59-1.43-.59-.52 0-1.04.2-1.43.59L10.3 9.45l-7.72 7.72c-.78.78-.78 2.05 0 2.83L4 21.41c.39.39.9.59 1.41.59.51 0 1.02-.2 1.41-.59l7.78-7.78 2.81-2.81c.8-.78.8-2.07 0-2.86zM5.41 20L4 18.59l7.72-7.72 1.47 1.35L5.41 20z\"/>\n",
              "  </svg>\n",
              "      </button>\n",
              "      \n",
              "  <style>\n",
              "    .colab-df-container {\n",
              "      display:flex;\n",
              "      flex-wrap:wrap;\n",
              "      gap: 12px;\n",
              "    }\n",
              "\n",
              "    .colab-df-convert {\n",
              "      background-color: #E8F0FE;\n",
              "      border: none;\n",
              "      border-radius: 50%;\n",
              "      cursor: pointer;\n",
              "      display: none;\n",
              "      fill: #1967D2;\n",
              "      height: 32px;\n",
              "      padding: 0 0 0 0;\n",
              "      width: 32px;\n",
              "    }\n",
              "\n",
              "    .colab-df-convert:hover {\n",
              "      background-color: #E2EBFA;\n",
              "      box-shadow: 0px 1px 2px rgba(60, 64, 67, 0.3), 0px 1px 3px 1px rgba(60, 64, 67, 0.15);\n",
              "      fill: #174EA6;\n",
              "    }\n",
              "\n",
              "    [theme=dark] .colab-df-convert {\n",
              "      background-color: #3B4455;\n",
              "      fill: #D2E3FC;\n",
              "    }\n",
              "\n",
              "    [theme=dark] .colab-df-convert:hover {\n",
              "      background-color: #434B5C;\n",
              "      box-shadow: 0px 1px 3px 1px rgba(0, 0, 0, 0.15);\n",
              "      filter: drop-shadow(0px 1px 2px rgba(0, 0, 0, 0.3));\n",
              "      fill: #FFFFFF;\n",
              "    }\n",
              "  </style>\n",
              "\n",
              "      <script>\n",
              "        const buttonEl =\n",
              "          document.querySelector('#df-c6c82ffe-899b-490a-9542-d53f86949f52 button.colab-df-convert');\n",
              "        buttonEl.style.display =\n",
              "          google.colab.kernel.accessAllowed ? 'block' : 'none';\n",
              "\n",
              "        async function convertToInteractive(key) {\n",
              "          const element = document.querySelector('#df-c6c82ffe-899b-490a-9542-d53f86949f52');\n",
              "          const dataTable =\n",
              "            await google.colab.kernel.invokeFunction('convertToInteractive',\n",
              "                                                     [key], {});\n",
              "          if (!dataTable) return;\n",
              "\n",
              "          const docLinkHtml = 'Like what you see? Visit the ' +\n",
              "            '<a target=\"_blank\" href=https://colab.research.google.com/notebooks/data_table.ipynb>data table notebook</a>'\n",
              "            + ' to learn more about interactive tables.';\n",
              "          element.innerHTML = '';\n",
              "          dataTable['output_type'] = 'display_data';\n",
              "          await google.colab.output.renderOutput(dataTable, element);\n",
              "          const docLink = document.createElement('div');\n",
              "          docLink.innerHTML = docLinkHtml;\n",
              "          element.appendChild(docLink);\n",
              "        }\n",
              "      </script>\n",
              "    </div>\n",
              "  </div>\n",
              "  "
            ]
          },
          "metadata": {},
          "execution_count": 20
        }
      ],
      "source": [
        "votos_porcentagem_municipio = pd.DataFrame(votos_porcentagem_municipio.sort_values(ascending= False)) # ordenam-se os dados do maior para o menor.\n",
        "votos_porcentagem_municipio.head()"
      ]
    },
    {
      "cell_type": "code",
      "execution_count": 21,
      "metadata": {
        "id": "bobqR4yi3hfn",
        "colab": {
          "base_uri": "https://localhost:8080/",
          "height": 542
        },
        "outputId": "62646798-1db7-4152-8dcc-27003db03e44"
      },
      "outputs": [
        {
          "output_type": "display_data",
          "data": {
            "text/html": [
              "<html>\n",
              "<head><meta charset=\"utf-8\" /></head>\n",
              "<body>\n",
              "    <div>            <script src=\"https://cdnjs.cloudflare.com/ajax/libs/mathjax/2.7.5/MathJax.js?config=TeX-AMS-MML_SVG\"></script><script type=\"text/javascript\">if (window.MathJax && window.MathJax.Hub && window.MathJax.Hub.Config) {window.MathJax.Hub.Config({SVG: {font: \"STIX-Web\"}});}</script>                <script type=\"text/javascript\">window.PlotlyConfig = {MathJaxConfig: 'local'};</script>\n",
              "        <script src=\"https://cdn.plot.ly/plotly-2.18.2.min.js\"></script>                <div id=\"c2865632-eb03-420e-aed4-715f61663c8d\" class=\"plotly-graph-div\" style=\"height:525px; width:100%;\"></div>            <script type=\"text/javascript\">                                    window.PLOTLYENV=window.PLOTLYENV || {};                                    if (document.getElementById(\"c2865632-eb03-420e-aed4-715f61663c8d\")) {                    Plotly.newPlot(                        \"c2865632-eb03-420e-aed4-715f61663c8d\",                        [{\"x\":[\"FORTALEZA\",\"CAUCAIA\",\"JUAZEIRO DO NORTE\",\"MARACANA\\u00da\",\"SOBRAL\",\"ITAPIPOCA\",\"CRATO\",\"MARANGUAPE\",\"IGUATU\",\"AQUIRAZ\",\"QUIXAD\\u00c1\",\"HORIZONTE\",\"CASCAVEL\",\"RUSSAS\",\"QUIXERAMOBIM\",\"TIANGU\\u00c1\",\"CANIND\\u00c9\",\"CRATE\\u00daS\",\"ARACATI\",\"MORADA NOVA\",\"PACATUBA\",\"PACAJUS\",\"EUS\\u00c9BIO\",\"BARBALHA\",\"CAMOCIM\",\"LIMOEIRO DO NORTE\",\"IC\\u00d3\",\"S\\u00c3O GON\\u00c7ALO DO AMARANTE\",\"TRAIRI\",\"BEBERIBE\",\"VI\\u00c7OSA DO CEAR\\u00c1\",\"TAU\\u00c1\",\"ACARA\\u00da\",\"GRANJA\",\"BOA VIAGEM\",\"ITAPAJ\\u00c9\",\"ACOPIARA\",\"BREJO SANTO\",\"S\\u00c3O BENEDITO\",\"MAURITI\",\"SANTA QUIT\\u00c9RIA\",\"AMONTADA\",\"PENTECOSTE\",\"PARACURU\",\"PEDRA BRANCA\",\"IPU\",\"ITAITINGA\",\"MASSAP\\u00ca\",\"GUARACIABA DO NORTE\",\"ITAREMA\",\"V\\u00c1RZEA ALEGRE\",\"MOMBA\\u00c7A\",\"IPUEIRAS\",\"MISS\\u00c3O VELHA\",\"JAGUARUANA\",\"BATURIT\\u00c9\",\"JAGUARIBE\",\"PARAIPABA\",\"SANTANA DO ACARA\\u00da\",\"UBAJARA\",\"ARACOIABA\",\"PARAMBU\",\"OCARA\",\"TABULEIRO DO NORTE\",\"CARIRIA\\u00c7U\",\"NOVA RUSSAS\",\"REDEN\\u00c7\\u00c3O\",\"MARCO\",\"LAVRAS DA MANGABEIRA\",\"MILAGRES\",\"CRUZ\",\"NOVO ORIENTE\",\"INDEPEND\\u00caNCIA\",\"GUAI\\u00daBA\",\"SENADOR POMPEU\",\"TAMBORIL\",\"CEDRO\",\"BELA CRUZ\",\"JARDIM\",\"CAMPOS SALES\",\"PINDORETAMA\",\"IRAU\\u00c7UBA\",\"COREA\\u00da\",\"FORQUILHA\",\"AURORA\",\"BARREIRA\",\"IBIAPINA\",\"JUC\\u00c1S\",\"ASSAR\\u00c9\",\"JIJOCA DE JERICOACOARA\",\"CHOROZINHO\",\"QUIXER\\u00c9\",\"URUBURETAMA\",\"ITATIRA\",\"MORRINHOS\",\"ICAPU\\u00cd\",\"OR\\u00d3S\",\"CARIDADE\",\"FARIAS BRITO\",\"BARRO\",\"CAPISTRANO\",\"ARARIPE\",\"FORTIM\",\"ITAPI\\u00daNA\",\"VARJOTA\",\"QUITERIAN\\u00d3POLIS\",\"BANABUI\\u00da\",\"CARI\\u00daS\",\"JAGUARETAMA\",\"TEJU\\u00c7UOCA\",\"RERIUTABA\",\"TURURU\",\"HIDROL\\u00c2NDIA\",\"QUIXEL\\u00d4\",\"UMIRIM\",\"CARIR\\u00c9\",\"SOLON\\u00d3POLE\",\"MONSENHOR TABOSA\",\"PEREIRO\",\"CROAT\\u00c1\",\"BARROQUINHA\",\"SALITRE\",\"MADALENA\",\"SANTANA DO CARIRI\",\"PORTEIRAS\",\"FRECHEIRINHA\",\"CARNAUBAL\",\"ALTO SANTO\",\"APUIAR\\u00c9S\",\"MERUOCA\",\"IBARETAMA\",\"IBICUITINGA\",\"ACARAPE\",\"NOVA OLINDA\",\"MUCAMBO\",\"CHOR\\u00d3\",\"SABOEIRO\",\"MIRA\\u00cdMA\",\"S\\u00c3O LU\\u00cdS DO CURU\",\"PIQUET CARNEIRO\",\"GRA\\u00c7A\",\"ARATUBA\",\"IRACEMA\",\"URUOCA\",\"MILH\\u00c3\",\"AIUABA\",\"PARAMOTI\",\"MARTIN\\u00d3POLE\",\"PACOTI\",\"CHAVAL\",\"ALC\\u00c2NTARAS\",\"PALM\\u00c1CIA\",\"IPAPORANGA\",\"PALHANO\",\"GROA\\u00cdRAS\",\"PORANGA\",\"MULUNGU\",\"ARAREND\\u00c1\",\"IPAUMIRIM\",\"JAGUARIBARA\",\"CATUNDA\",\"PIRES FERREIRA\",\"PENAFORTE\",\"CATARINA\",\"MORA\\u00daJO\",\"DEPUTADO IRAPUAN PINHEIRO\",\"GENERAL SAMPAIO\",\"ABAIARA\",\"POTENGI\",\"ITAI\\u00c7ABA\",\"TARRAFAS\",\"ARNEIROZ\",\"SENADOR S\\u00c1\",\"JATI\",\"UMARI\",\"ANTONINA DO NORTE\",\"ALTANEIRA\",\"POTIRETAMA\",\"GUARAMIRANGA\",\"S\\u00c3O JO\\u00c3O DO JAGUARIBE\",\"PACUJ\\u00c1\",\"ERER\\u00c9\",\"BAIXIO\",\"GRANJEIRO\"],\"y\":[27.74,3.61,2.75,2.64,2.23,1.42,1.42,1.21,1.03,0.94,0.87,0.87,0.86,0.85,0.85,0.83,0.83,0.83,0.83,0.81,0.8,0.79,0.75,0.71,0.69,0.69,0.69,0.69,0.67,0.66,0.65,0.65,0.65,0.61,0.59,0.57,0.55,0.52,0.51,0.49,0.48,0.48,0.47,0.46,0.46,0.46,0.46,0.45,0.45,0.45,0.45,0.44,0.42,0.42,0.41,0.4,0.4,0.39,0.37,0.37,0.37,0.36,0.36,0.36,0.34,0.34,0.34,0.32,0.32,0.31,0.31,0.31,0.3,0.3,0.3,0.3,0.29,0.29,0.29,0.28,0.28,0.28,0.28,0.28,0.28,0.27,0.27,0.27,0.26,0.26,0.26,0.26,0.26,0.25,0.25,0.25,0.25,0.25,0.24,0.23,0.23,0.23,0.23,0.23,0.23,0.23,0.22,0.22,0.22,0.22,0.22,0.22,0.22,0.22,0.22,0.21,0.21,0.2,0.2,0.2,0.2,0.2,0.2,0.19,0.19,0.19,0.19,0.18,0.18,0.18,0.18,0.18,0.18,0.18,0.17,0.17,0.17,0.17,0.17,0.17,0.17,0.17,0.16,0.16,0.16,0.15,0.15,0.15,0.15,0.15,0.14,0.14,0.14,0.13,0.13,0.13,0.13,0.13,0.13,0.12,0.12,0.12,0.12,0.12,0.11,0.11,0.11,0.11,0.11,0.1,0.1,0.1,0.1,0.1,0.09,0.09,0.09,0.09,0.09,0.09,0.09,0.08,0.08,0.08],\"type\":\"waterfall\"}],                        {\"template\":{\"data\":{\"histogram2dcontour\":[{\"type\":\"histogram2dcontour\",\"colorbar\":{\"outlinewidth\":0,\"ticks\":\"\"},\"colorscale\":[[0.0,\"#0d0887\"],[0.1111111111111111,\"#46039f\"],[0.2222222222222222,\"#7201a8\"],[0.3333333333333333,\"#9c179e\"],[0.4444444444444444,\"#bd3786\"],[0.5555555555555556,\"#d8576b\"],[0.6666666666666666,\"#ed7953\"],[0.7777777777777778,\"#fb9f3a\"],[0.8888888888888888,\"#fdca26\"],[1.0,\"#f0f921\"]]}],\"choropleth\":[{\"type\":\"choropleth\",\"colorbar\":{\"outlinewidth\":0,\"ticks\":\"\"}}],\"histogram2d\":[{\"type\":\"histogram2d\",\"colorbar\":{\"outlinewidth\":0,\"ticks\":\"\"},\"colorscale\":[[0.0,\"#0d0887\"],[0.1111111111111111,\"#46039f\"],[0.2222222222222222,\"#7201a8\"],[0.3333333333333333,\"#9c179e\"],[0.4444444444444444,\"#bd3786\"],[0.5555555555555556,\"#d8576b\"],[0.6666666666666666,\"#ed7953\"],[0.7777777777777778,\"#fb9f3a\"],[0.8888888888888888,\"#fdca26\"],[1.0,\"#f0f921\"]]}],\"heatmap\":[{\"type\":\"heatmap\",\"colorbar\":{\"outlinewidth\":0,\"ticks\":\"\"},\"colorscale\":[[0.0,\"#0d0887\"],[0.1111111111111111,\"#46039f\"],[0.2222222222222222,\"#7201a8\"],[0.3333333333333333,\"#9c179e\"],[0.4444444444444444,\"#bd3786\"],[0.5555555555555556,\"#d8576b\"],[0.6666666666666666,\"#ed7953\"],[0.7777777777777778,\"#fb9f3a\"],[0.8888888888888888,\"#fdca26\"],[1.0,\"#f0f921\"]]}],\"heatmapgl\":[{\"type\":\"heatmapgl\",\"colorbar\":{\"outlinewidth\":0,\"ticks\":\"\"},\"colorscale\":[[0.0,\"#0d0887\"],[0.1111111111111111,\"#46039f\"],[0.2222222222222222,\"#7201a8\"],[0.3333333333333333,\"#9c179e\"],[0.4444444444444444,\"#bd3786\"],[0.5555555555555556,\"#d8576b\"],[0.6666666666666666,\"#ed7953\"],[0.7777777777777778,\"#fb9f3a\"],[0.8888888888888888,\"#fdca26\"],[1.0,\"#f0f921\"]]}],\"contourcarpet\":[{\"type\":\"contourcarpet\",\"colorbar\":{\"outlinewidth\":0,\"ticks\":\"\"}}],\"contour\":[{\"type\":\"contour\",\"colorbar\":{\"outlinewidth\":0,\"ticks\":\"\"},\"colorscale\":[[0.0,\"#0d0887\"],[0.1111111111111111,\"#46039f\"],[0.2222222222222222,\"#7201a8\"],[0.3333333333333333,\"#9c179e\"],[0.4444444444444444,\"#bd3786\"],[0.5555555555555556,\"#d8576b\"],[0.6666666666666666,\"#ed7953\"],[0.7777777777777778,\"#fb9f3a\"],[0.8888888888888888,\"#fdca26\"],[1.0,\"#f0f921\"]]}],\"surface\":[{\"type\":\"surface\",\"colorbar\":{\"outlinewidth\":0,\"ticks\":\"\"},\"colorscale\":[[0.0,\"#0d0887\"],[0.1111111111111111,\"#46039f\"],[0.2222222222222222,\"#7201a8\"],[0.3333333333333333,\"#9c179e\"],[0.4444444444444444,\"#bd3786\"],[0.5555555555555556,\"#d8576b\"],[0.6666666666666666,\"#ed7953\"],[0.7777777777777778,\"#fb9f3a\"],[0.8888888888888888,\"#fdca26\"],[1.0,\"#f0f921\"]]}],\"mesh3d\":[{\"type\":\"mesh3d\",\"colorbar\":{\"outlinewidth\":0,\"ticks\":\"\"}}],\"scatter\":[{\"fillpattern\":{\"fillmode\":\"overlay\",\"size\":10,\"solidity\":0.2},\"type\":\"scatter\"}],\"parcoords\":[{\"type\":\"parcoords\",\"line\":{\"colorbar\":{\"outlinewidth\":0,\"ticks\":\"\"}}}],\"scatterpolargl\":[{\"type\":\"scatterpolargl\",\"marker\":{\"colorbar\":{\"outlinewidth\":0,\"ticks\":\"\"}}}],\"bar\":[{\"error_x\":{\"color\":\"#2a3f5f\"},\"error_y\":{\"color\":\"#2a3f5f\"},\"marker\":{\"line\":{\"color\":\"#E5ECF6\",\"width\":0.5},\"pattern\":{\"fillmode\":\"overlay\",\"size\":10,\"solidity\":0.2}},\"type\":\"bar\"}],\"scattergeo\":[{\"type\":\"scattergeo\",\"marker\":{\"colorbar\":{\"outlinewidth\":0,\"ticks\":\"\"}}}],\"scatterpolar\":[{\"type\":\"scatterpolar\",\"marker\":{\"colorbar\":{\"outlinewidth\":0,\"ticks\":\"\"}}}],\"histogram\":[{\"marker\":{\"pattern\":{\"fillmode\":\"overlay\",\"size\":10,\"solidity\":0.2}},\"type\":\"histogram\"}],\"scattergl\":[{\"type\":\"scattergl\",\"marker\":{\"colorbar\":{\"outlinewidth\":0,\"ticks\":\"\"}}}],\"scatter3d\":[{\"type\":\"scatter3d\",\"line\":{\"colorbar\":{\"outlinewidth\":0,\"ticks\":\"\"}},\"marker\":{\"colorbar\":{\"outlinewidth\":0,\"ticks\":\"\"}}}],\"scattermapbox\":[{\"type\":\"scattermapbox\",\"marker\":{\"colorbar\":{\"outlinewidth\":0,\"ticks\":\"\"}}}],\"scatterternary\":[{\"type\":\"scatterternary\",\"marker\":{\"colorbar\":{\"outlinewidth\":0,\"ticks\":\"\"}}}],\"scattercarpet\":[{\"type\":\"scattercarpet\",\"marker\":{\"colorbar\":{\"outlinewidth\":0,\"ticks\":\"\"}}}],\"carpet\":[{\"aaxis\":{\"endlinecolor\":\"#2a3f5f\",\"gridcolor\":\"white\",\"linecolor\":\"white\",\"minorgridcolor\":\"white\",\"startlinecolor\":\"#2a3f5f\"},\"baxis\":{\"endlinecolor\":\"#2a3f5f\",\"gridcolor\":\"white\",\"linecolor\":\"white\",\"minorgridcolor\":\"white\",\"startlinecolor\":\"#2a3f5f\"},\"type\":\"carpet\"}],\"table\":[{\"cells\":{\"fill\":{\"color\":\"#EBF0F8\"},\"line\":{\"color\":\"white\"}},\"header\":{\"fill\":{\"color\":\"#C8D4E3\"},\"line\":{\"color\":\"white\"}},\"type\":\"table\"}],\"barpolar\":[{\"marker\":{\"line\":{\"color\":\"#E5ECF6\",\"width\":0.5},\"pattern\":{\"fillmode\":\"overlay\",\"size\":10,\"solidity\":0.2}},\"type\":\"barpolar\"}],\"pie\":[{\"automargin\":true,\"type\":\"pie\"}]},\"layout\":{\"autotypenumbers\":\"strict\",\"colorway\":[\"#636efa\",\"#EF553B\",\"#00cc96\",\"#ab63fa\",\"#FFA15A\",\"#19d3f3\",\"#FF6692\",\"#B6E880\",\"#FF97FF\",\"#FECB52\"],\"font\":{\"color\":\"#2a3f5f\"},\"hovermode\":\"closest\",\"hoverlabel\":{\"align\":\"left\"},\"paper_bgcolor\":\"white\",\"plot_bgcolor\":\"#E5ECF6\",\"polar\":{\"bgcolor\":\"#E5ECF6\",\"angularaxis\":{\"gridcolor\":\"white\",\"linecolor\":\"white\",\"ticks\":\"\"},\"radialaxis\":{\"gridcolor\":\"white\",\"linecolor\":\"white\",\"ticks\":\"\"}},\"ternary\":{\"bgcolor\":\"#E5ECF6\",\"aaxis\":{\"gridcolor\":\"white\",\"linecolor\":\"white\",\"ticks\":\"\"},\"baxis\":{\"gridcolor\":\"white\",\"linecolor\":\"white\",\"ticks\":\"\"},\"caxis\":{\"gridcolor\":\"white\",\"linecolor\":\"white\",\"ticks\":\"\"}},\"coloraxis\":{\"colorbar\":{\"outlinewidth\":0,\"ticks\":\"\"}},\"colorscale\":{\"sequential\":[[0.0,\"#0d0887\"],[0.1111111111111111,\"#46039f\"],[0.2222222222222222,\"#7201a8\"],[0.3333333333333333,\"#9c179e\"],[0.4444444444444444,\"#bd3786\"],[0.5555555555555556,\"#d8576b\"],[0.6666666666666666,\"#ed7953\"],[0.7777777777777778,\"#fb9f3a\"],[0.8888888888888888,\"#fdca26\"],[1.0,\"#f0f921\"]],\"sequentialminus\":[[0.0,\"#0d0887\"],[0.1111111111111111,\"#46039f\"],[0.2222222222222222,\"#7201a8\"],[0.3333333333333333,\"#9c179e\"],[0.4444444444444444,\"#bd3786\"],[0.5555555555555556,\"#d8576b\"],[0.6666666666666666,\"#ed7953\"],[0.7777777777777778,\"#fb9f3a\"],[0.8888888888888888,\"#fdca26\"],[1.0,\"#f0f921\"]],\"diverging\":[[0,\"#8e0152\"],[0.1,\"#c51b7d\"],[0.2,\"#de77ae\"],[0.3,\"#f1b6da\"],[0.4,\"#fde0ef\"],[0.5,\"#f7f7f7\"],[0.6,\"#e6f5d0\"],[0.7,\"#b8e186\"],[0.8,\"#7fbc41\"],[0.9,\"#4d9221\"],[1,\"#276419\"]]},\"xaxis\":{\"gridcolor\":\"white\",\"linecolor\":\"white\",\"ticks\":\"\",\"title\":{\"standoff\":15},\"zerolinecolor\":\"white\",\"automargin\":true,\"zerolinewidth\":2},\"yaxis\":{\"gridcolor\":\"white\",\"linecolor\":\"white\",\"ticks\":\"\",\"title\":{\"standoff\":15},\"zerolinecolor\":\"white\",\"automargin\":true,\"zerolinewidth\":2},\"scene\":{\"xaxis\":{\"backgroundcolor\":\"#E5ECF6\",\"gridcolor\":\"white\",\"linecolor\":\"white\",\"showbackground\":true,\"ticks\":\"\",\"zerolinecolor\":\"white\",\"gridwidth\":2},\"yaxis\":{\"backgroundcolor\":\"#E5ECF6\",\"gridcolor\":\"white\",\"linecolor\":\"white\",\"showbackground\":true,\"ticks\":\"\",\"zerolinecolor\":\"white\",\"gridwidth\":2},\"zaxis\":{\"backgroundcolor\":\"#E5ECF6\",\"gridcolor\":\"white\",\"linecolor\":\"white\",\"showbackground\":true,\"ticks\":\"\",\"zerolinecolor\":\"white\",\"gridwidth\":2}},\"shapedefaults\":{\"line\":{\"color\":\"#2a3f5f\"}},\"annotationdefaults\":{\"arrowcolor\":\"#2a3f5f\",\"arrowhead\":0,\"arrowwidth\":1},\"geo\":{\"bgcolor\":\"white\",\"landcolor\":\"#E5ECF6\",\"subunitcolor\":\"white\",\"showland\":true,\"showlakes\":true,\"lakecolor\":\"white\"},\"title\":{\"x\":0.05},\"mapbox\":{\"style\":\"light\"}}},\"title\":{\"text\":\"Contribui\\u00e7\\u00e3o de votos, em porcentagem, dos munic\\u00edpios no panorama geral da vota\\u00e7\\u00e3o para governador do Cear\\u00e1\",\"x\":0.5},\"yaxis\":{\"title\":{\"text\":\"Porcentagem\"}},\"xaxis\":{\"title\":{\"text\":\"Munic\\u00edpios\"}}},                        {\"responsive\": true}                    ).then(function(){\n",
              "                            \n",
              "var gd = document.getElementById('c2865632-eb03-420e-aed4-715f61663c8d');\n",
              "var x = new MutationObserver(function (mutations, observer) {{\n",
              "        var display = window.getComputedStyle(gd).display;\n",
              "        if (!display || display === 'none') {{\n",
              "            console.log([gd, 'removed!']);\n",
              "            Plotly.purge(gd);\n",
              "            observer.disconnect();\n",
              "        }}\n",
              "}});\n",
              "\n",
              "// Listen for the removal of the full notebook cells\n",
              "var notebookContainer = gd.closest('#notebook-container');\n",
              "if (notebookContainer) {{\n",
              "    x.observe(notebookContainer, {childList: true});\n",
              "}}\n",
              "\n",
              "// Listen for the clearing of the current output cell\n",
              "var outputEl = gd.closest('.output');\n",
              "if (outputEl) {{\n",
              "    x.observe(outputEl, {childList: true});\n",
              "}}\n",
              "\n",
              "                        })                };                            </script>        </div>\n",
              "</body>\n",
              "</html>"
            ]
          },
          "metadata": {}
        }
      ],
      "source": [
        "fig = go.Figure()\n",
        "fig.add_trace(\n",
        "    go.Waterfall(x= votos_porcentagem_municipio.index, y= votos_porcentagem_municipio['qt_votos'])\n",
        ")\n",
        "fig.update_layout(\n",
        "    title= 'Contribuição de votos, em porcentagem, dos municípios no panorama geral da votação para governador do Ceará',\n",
        "    title_x= 0.5, yaxis_title= 'Porcentagem', xaxis_title= 'Municípios'\n",
        ")\n",
        "fig.show()"
      ]
    },
    {
      "cell_type": "markdown",
      "metadata": {
        "id": "2-p1sXsr8joZ"
      },
      "source": [
        "Fortaleza, capital do estado, sozinha corresponde a mais de um quarto dos votos (27,74%) e é seguida por outras cidades importantes como Caucaia (3,61%), Juazeiro do Norte (2,75%), Maracanaú (2,64%) e Sobral (2,23%)."
      ]
    },
    {
      "cell_type": "markdown",
      "metadata": {
        "id": "3jtgRd1X9jWl"
      },
      "source": [
        "### 5.2.2 Quantidade de municípios em que os candidatos venceram "
      ]
    },
    {
      "cell_type": "markdown",
      "metadata": {
        "id": "uniTIH3mFN_3"
      },
      "source": [
        "Selecionam-se os dados referentes ao cargo de governador e agrupam-se esses dados pelo município e nome do candidato. Os votos são, então, somados e o *index* transformado em colunas."
      ]
    },
    {
      "cell_type": "code",
      "execution_count": 22,
      "metadata": {
        "id": "Wk_IO0tC0Vh6"
      },
      "outputs": [],
      "source": [
        "votos_candidatos_por_municipio = votacao_ce.query('ds_cargo == \"GOVERNADOR\"')\\\n",
        "                                           .groupby(['nm_municipio', 'nm_votavel'])\\\n",
        "                                           ['qt_votos'].sum().reset_index()"
      ]
    },
    {
      "cell_type": "markdown",
      "metadata": {
        "id": "PXFP90VbP3rv"
      },
      "source": [
        "Ordenam-se os dados em ordem alfabética no caso das cidades e de quem obteve mais votos para menos votos."
      ]
    },
    {
      "cell_type": "code",
      "execution_count": 23,
      "metadata": {
        "id": "8x0d9ySH-Kzb"
      },
      "outputs": [],
      "source": [
        "votos_candidatos_por_municipio = votos_candidatos_por_municipio.sort_values(['nm_municipio', 'qt_votos'], ascending= [True, False])"
      ]
    },
    {
      "cell_type": "markdown",
      "metadata": {
        "id": "q1DplQdEQGob"
      },
      "source": [
        "Agrupa-se novavente os dados por município, selecionando apenas o primeiro candidato, que é o mais votado."
      ]
    },
    {
      "cell_type": "code",
      "execution_count": 24,
      "metadata": {
        "id": "vEJ99kZP-1ZE"
      },
      "outputs": [],
      "source": [
        "vencedores_por_municipio = votos_candidatos_por_municipio.groupby('nm_municipio').head(1)"
      ]
    },
    {
      "cell_type": "code",
      "execution_count": 25,
      "metadata": {
        "id": "9jjKiAKK_AJT",
        "colab": {
          "base_uri": "https://localhost:8080/",
          "height": 206
        },
        "outputId": "9d9c4605-7172-4460-e4fd-4f7ad0aac7b4"
      },
      "outputs": [
        {
          "output_type": "execute_result",
          "data": {
            "text/plain": [
              "   nm_municipio                  nm_votavel  qt_votos\n",
              "0       ABAIARA  ELMANO DE FREITAS DA COSTA      4182\n",
              "8       ACARAPE  ELMANO DE FREITAS DA COSTA      4652\n",
              "15       ACARAÚ  ELMANO DE FREITAS DA COSTA     20534\n",
              "23     ACOPIARA  ELMANO DE FREITAS DA COSTA     18015\n",
              "31       AIUABA  ELMANO DE FREITAS DA COSTA      4052"
            ],
            "text/html": [
              "\n",
              "  <div id=\"df-f561e17c-26ea-4e70-85cd-4b02871f0acb\">\n",
              "    <div class=\"colab-df-container\">\n",
              "      <div>\n",
              "<style scoped>\n",
              "    .dataframe tbody tr th:only-of-type {\n",
              "        vertical-align: middle;\n",
              "    }\n",
              "\n",
              "    .dataframe tbody tr th {\n",
              "        vertical-align: top;\n",
              "    }\n",
              "\n",
              "    .dataframe thead th {\n",
              "        text-align: right;\n",
              "    }\n",
              "</style>\n",
              "<table border=\"1\" class=\"dataframe\">\n",
              "  <thead>\n",
              "    <tr style=\"text-align: right;\">\n",
              "      <th></th>\n",
              "      <th>nm_municipio</th>\n",
              "      <th>nm_votavel</th>\n",
              "      <th>qt_votos</th>\n",
              "    </tr>\n",
              "  </thead>\n",
              "  <tbody>\n",
              "    <tr>\n",
              "      <th>0</th>\n",
              "      <td>ABAIARA</td>\n",
              "      <td>ELMANO DE FREITAS DA COSTA</td>\n",
              "      <td>4182</td>\n",
              "    </tr>\n",
              "    <tr>\n",
              "      <th>8</th>\n",
              "      <td>ACARAPE</td>\n",
              "      <td>ELMANO DE FREITAS DA COSTA</td>\n",
              "      <td>4652</td>\n",
              "    </tr>\n",
              "    <tr>\n",
              "      <th>15</th>\n",
              "      <td>ACARAÚ</td>\n",
              "      <td>ELMANO DE FREITAS DA COSTA</td>\n",
              "      <td>20534</td>\n",
              "    </tr>\n",
              "    <tr>\n",
              "      <th>23</th>\n",
              "      <td>ACOPIARA</td>\n",
              "      <td>ELMANO DE FREITAS DA COSTA</td>\n",
              "      <td>18015</td>\n",
              "    </tr>\n",
              "    <tr>\n",
              "      <th>31</th>\n",
              "      <td>AIUABA</td>\n",
              "      <td>ELMANO DE FREITAS DA COSTA</td>\n",
              "      <td>4052</td>\n",
              "    </tr>\n",
              "  </tbody>\n",
              "</table>\n",
              "</div>\n",
              "      <button class=\"colab-df-convert\" onclick=\"convertToInteractive('df-f561e17c-26ea-4e70-85cd-4b02871f0acb')\"\n",
              "              title=\"Convert this dataframe to an interactive table.\"\n",
              "              style=\"display:none;\">\n",
              "        \n",
              "  <svg xmlns=\"http://www.w3.org/2000/svg\" height=\"24px\"viewBox=\"0 0 24 24\"\n",
              "       width=\"24px\">\n",
              "    <path d=\"M0 0h24v24H0V0z\" fill=\"none\"/>\n",
              "    <path d=\"M18.56 5.44l.94 2.06.94-2.06 2.06-.94-2.06-.94-.94-2.06-.94 2.06-2.06.94zm-11 1L8.5 8.5l.94-2.06 2.06-.94-2.06-.94L8.5 2.5l-.94 2.06-2.06.94zm10 10l.94 2.06.94-2.06 2.06-.94-2.06-.94-.94-2.06-.94 2.06-2.06.94z\"/><path d=\"M17.41 7.96l-1.37-1.37c-.4-.4-.92-.59-1.43-.59-.52 0-1.04.2-1.43.59L10.3 9.45l-7.72 7.72c-.78.78-.78 2.05 0 2.83L4 21.41c.39.39.9.59 1.41.59.51 0 1.02-.2 1.41-.59l7.78-7.78 2.81-2.81c.8-.78.8-2.07 0-2.86zM5.41 20L4 18.59l7.72-7.72 1.47 1.35L5.41 20z\"/>\n",
              "  </svg>\n",
              "      </button>\n",
              "      \n",
              "  <style>\n",
              "    .colab-df-container {\n",
              "      display:flex;\n",
              "      flex-wrap:wrap;\n",
              "      gap: 12px;\n",
              "    }\n",
              "\n",
              "    .colab-df-convert {\n",
              "      background-color: #E8F0FE;\n",
              "      border: none;\n",
              "      border-radius: 50%;\n",
              "      cursor: pointer;\n",
              "      display: none;\n",
              "      fill: #1967D2;\n",
              "      height: 32px;\n",
              "      padding: 0 0 0 0;\n",
              "      width: 32px;\n",
              "    }\n",
              "\n",
              "    .colab-df-convert:hover {\n",
              "      background-color: #E2EBFA;\n",
              "      box-shadow: 0px 1px 2px rgba(60, 64, 67, 0.3), 0px 1px 3px 1px rgba(60, 64, 67, 0.15);\n",
              "      fill: #174EA6;\n",
              "    }\n",
              "\n",
              "    [theme=dark] .colab-df-convert {\n",
              "      background-color: #3B4455;\n",
              "      fill: #D2E3FC;\n",
              "    }\n",
              "\n",
              "    [theme=dark] .colab-df-convert:hover {\n",
              "      background-color: #434B5C;\n",
              "      box-shadow: 0px 1px 3px 1px rgba(0, 0, 0, 0.15);\n",
              "      filter: drop-shadow(0px 1px 2px rgba(0, 0, 0, 0.3));\n",
              "      fill: #FFFFFF;\n",
              "    }\n",
              "  </style>\n",
              "\n",
              "      <script>\n",
              "        const buttonEl =\n",
              "          document.querySelector('#df-f561e17c-26ea-4e70-85cd-4b02871f0acb button.colab-df-convert');\n",
              "        buttonEl.style.display =\n",
              "          google.colab.kernel.accessAllowed ? 'block' : 'none';\n",
              "\n",
              "        async function convertToInteractive(key) {\n",
              "          const element = document.querySelector('#df-f561e17c-26ea-4e70-85cd-4b02871f0acb');\n",
              "          const dataTable =\n",
              "            await google.colab.kernel.invokeFunction('convertToInteractive',\n",
              "                                                     [key], {});\n",
              "          if (!dataTable) return;\n",
              "\n",
              "          const docLinkHtml = 'Like what you see? Visit the ' +\n",
              "            '<a target=\"_blank\" href=https://colab.research.google.com/notebooks/data_table.ipynb>data table notebook</a>'\n",
              "            + ' to learn more about interactive tables.';\n",
              "          element.innerHTML = '';\n",
              "          dataTable['output_type'] = 'display_data';\n",
              "          await google.colab.output.renderOutput(dataTable, element);\n",
              "          const docLink = document.createElement('div');\n",
              "          docLink.innerHTML = docLinkHtml;\n",
              "          element.appendChild(docLink);\n",
              "        }\n",
              "      </script>\n",
              "    </div>\n",
              "  </div>\n",
              "  "
            ]
          },
          "metadata": {},
          "execution_count": 25
        }
      ],
      "source": [
        "vencedores_por_municipio.head()"
      ]
    },
    {
      "cell_type": "code",
      "execution_count": 26,
      "metadata": {
        "id": "sokMjEFX_Qnz",
        "colab": {
          "base_uri": "https://localhost:8080/",
          "height": 542
        },
        "outputId": "d14c8c78-039a-4126-81e7-a6beed5f3cf6"
      },
      "outputs": [
        {
          "output_type": "display_data",
          "data": {
            "text/html": [
              "<html>\n",
              "<head><meta charset=\"utf-8\" /></head>\n",
              "<body>\n",
              "    <div>            <script src=\"https://cdnjs.cloudflare.com/ajax/libs/mathjax/2.7.5/MathJax.js?config=TeX-AMS-MML_SVG\"></script><script type=\"text/javascript\">if (window.MathJax && window.MathJax.Hub && window.MathJax.Hub.Config) {window.MathJax.Hub.Config({SVG: {font: \"STIX-Web\"}});}</script>                <script type=\"text/javascript\">window.PlotlyConfig = {MathJaxConfig: 'local'};</script>\n",
              "        <script src=\"https://cdn.plot.ly/plotly-2.18.2.min.js\"></script>                <div id=\"f1817e26-215a-43a1-810d-56af5a487acd\" class=\"plotly-graph-div\" style=\"height:525px; width:100%;\"></div>            <script type=\"text/javascript\">                                    window.PLOTLYENV=window.PLOTLYENV || {};                                    if (document.getElementById(\"f1817e26-215a-43a1-810d-56af5a487acd\")) {                    Plotly.newPlot(                        \"f1817e26-215a-43a1-810d-56af5a487acd\",                        [{\"alignmentgroup\":\"True\",\"bingroup\":\"y\",\"hovertemplate\":\"nm_votavel=%{y}<br>count=%{x}<extra></extra>\",\"legendgroup\":\"ELMANO DE FREITAS DA COSTA\",\"marker\":{\"color\":\"#636efa\",\"pattern\":{\"shape\":\"\"}},\"name\":\"ELMANO DE FREITAS DA COSTA\",\"offsetgroup\":\"ELMANO DE FREITAS DA COSTA\",\"orientation\":\"h\",\"showlegend\":true,\"xaxis\":\"x\",\"y\":[\"ELMANO DE FREITAS DA COSTA\",\"ELMANO DE FREITAS DA COSTA\",\"ELMANO DE FREITAS DA COSTA\",\"ELMANO DE FREITAS DA COSTA\",\"ELMANO DE FREITAS DA COSTA\",\"ELMANO DE FREITAS DA COSTA\",\"ELMANO DE FREITAS DA COSTA\",\"ELMANO DE FREITAS DA COSTA\",\"ELMANO DE FREITAS DA COSTA\",\"ELMANO DE FREITAS DA COSTA\",\"ELMANO DE FREITAS DA COSTA\",\"ELMANO DE FREITAS DA COSTA\",\"ELMANO DE FREITAS DA COSTA\",\"ELMANO DE FREITAS DA COSTA\",\"ELMANO DE FREITAS DA COSTA\",\"ELMANO DE FREITAS DA COSTA\",\"ELMANO DE FREITAS DA COSTA\",\"ELMANO DE FREITAS DA COSTA\",\"ELMANO DE FREITAS DA COSTA\",\"ELMANO DE FREITAS DA COSTA\",\"ELMANO DE FREITAS DA COSTA\",\"ELMANO DE FREITAS DA COSTA\",\"ELMANO DE FREITAS DA COSTA\",\"ELMANO DE FREITAS DA COSTA\",\"ELMANO DE FREITAS DA COSTA\",\"ELMANO DE FREITAS DA COSTA\",\"ELMANO DE FREITAS DA COSTA\",\"ELMANO DE FREITAS DA COSTA\",\"ELMANO DE FREITAS DA COSTA\",\"ELMANO DE FREITAS DA COSTA\",\"ELMANO DE FREITAS DA COSTA\",\"ELMANO DE FREITAS DA COSTA\",\"ELMANO DE FREITAS DA COSTA\",\"ELMANO DE FREITAS DA COSTA\",\"ELMANO DE FREITAS DA COSTA\",\"ELMANO DE FREITAS DA COSTA\",\"ELMANO DE FREITAS DA COSTA\",\"ELMANO DE FREITAS DA COSTA\",\"ELMANO DE FREITAS DA COSTA\",\"ELMANO DE FREITAS DA COSTA\",\"ELMANO DE FREITAS DA COSTA\",\"ELMANO DE FREITAS DA COSTA\",\"ELMANO DE FREITAS DA COSTA\",\"ELMANO DE FREITAS DA COSTA\",\"ELMANO DE FREITAS DA COSTA\",\"ELMANO DE FREITAS DA COSTA\",\"ELMANO DE FREITAS DA COSTA\",\"ELMANO DE FREITAS DA COSTA\",\"ELMANO DE FREITAS DA COSTA\",\"ELMANO DE FREITAS DA COSTA\",\"ELMANO DE FREITAS DA COSTA\",\"ELMANO DE FREITAS DA COSTA\",\"ELMANO DE FREITAS DA COSTA\",\"ELMANO DE FREITAS DA COSTA\",\"ELMANO DE FREITAS DA COSTA\",\"ELMANO DE FREITAS DA COSTA\",\"ELMANO DE FREITAS DA COSTA\",\"ELMANO DE FREITAS DA COSTA\",\"ELMANO DE FREITAS DA COSTA\",\"ELMANO DE FREITAS DA COSTA\",\"ELMANO DE FREITAS DA COSTA\",\"ELMANO DE FREITAS DA COSTA\",\"ELMANO DE FREITAS DA COSTA\",\"ELMANO DE FREITAS DA COSTA\",\"ELMANO DE FREITAS DA COSTA\",\"ELMANO DE FREITAS DA COSTA\",\"ELMANO DE FREITAS DA COSTA\",\"ELMANO DE FREITAS DA COSTA\",\"ELMANO DE FREITAS DA COSTA\",\"ELMANO DE FREITAS DA COSTA\",\"ELMANO DE FREITAS DA COSTA\",\"ELMANO DE FREITAS DA COSTA\",\"ELMANO DE FREITAS DA COSTA\",\"ELMANO DE FREITAS DA COSTA\",\"ELMANO DE FREITAS DA COSTA\",\"ELMANO DE FREITAS DA COSTA\",\"ELMANO DE FREITAS DA COSTA\",\"ELMANO DE FREITAS DA COSTA\",\"ELMANO DE FREITAS DA COSTA\",\"ELMANO DE FREITAS DA COSTA\",\"ELMANO DE FREITAS DA COSTA\",\"ELMANO DE FREITAS DA COSTA\",\"ELMANO DE FREITAS DA COSTA\",\"ELMANO DE FREITAS DA COSTA\",\"ELMANO DE FREITAS DA COSTA\",\"ELMANO DE FREITAS DA COSTA\",\"ELMANO DE FREITAS DA COSTA\",\"ELMANO DE FREITAS DA COSTA\",\"ELMANO DE FREITAS DA COSTA\",\"ELMANO DE FREITAS DA COSTA\",\"ELMANO DE FREITAS DA COSTA\",\"ELMANO DE FREITAS DA COSTA\",\"ELMANO DE FREITAS DA COSTA\",\"ELMANO DE FREITAS DA COSTA\",\"ELMANO DE FREITAS DA COSTA\",\"ELMANO DE FREITAS DA COSTA\",\"ELMANO DE FREITAS DA COSTA\",\"ELMANO DE FREITAS DA COSTA\",\"ELMANO DE FREITAS DA COSTA\",\"ELMANO DE FREITAS DA COSTA\",\"ELMANO DE FREITAS DA COSTA\",\"ELMANO DE FREITAS DA COSTA\",\"ELMANO DE FREITAS DA COSTA\",\"ELMANO DE FREITAS DA COSTA\",\"ELMANO DE FREITAS DA COSTA\",\"ELMANO DE FREITAS DA COSTA\",\"ELMANO DE FREITAS DA COSTA\",\"ELMANO DE FREITAS DA COSTA\",\"ELMANO DE FREITAS DA COSTA\",\"ELMANO DE FREITAS DA COSTA\",\"ELMANO DE FREITAS DA COSTA\",\"ELMANO DE FREITAS DA COSTA\",\"ELMANO DE FREITAS DA COSTA\",\"ELMANO DE FREITAS DA COSTA\",\"ELMANO DE FREITAS DA COSTA\",\"ELMANO DE FREITAS DA COSTA\",\"ELMANO DE FREITAS DA COSTA\",\"ELMANO DE FREITAS DA COSTA\",\"ELMANO DE FREITAS DA COSTA\",\"ELMANO DE FREITAS DA COSTA\",\"ELMANO DE FREITAS DA COSTA\",\"ELMANO DE FREITAS DA COSTA\",\"ELMANO DE FREITAS DA COSTA\",\"ELMANO DE FREITAS DA COSTA\",\"ELMANO DE FREITAS DA COSTA\",\"ELMANO DE FREITAS DA COSTA\",\"ELMANO DE FREITAS DA COSTA\",\"ELMANO DE FREITAS DA COSTA\",\"ELMANO DE FREITAS DA COSTA\",\"ELMANO DE FREITAS DA COSTA\",\"ELMANO DE FREITAS DA COSTA\",\"ELMANO DE FREITAS DA COSTA\",\"ELMANO DE FREITAS DA COSTA\",\"ELMANO DE FREITAS DA COSTA\",\"ELMANO DE FREITAS DA COSTA\",\"ELMANO DE FREITAS DA COSTA\",\"ELMANO DE FREITAS DA COSTA\",\"ELMANO DE FREITAS DA COSTA\",\"ELMANO DE FREITAS DA COSTA\",\"ELMANO DE FREITAS DA COSTA\",\"ELMANO DE FREITAS DA COSTA\",\"ELMANO DE FREITAS DA COSTA\",\"ELMANO DE FREITAS DA COSTA\",\"ELMANO DE FREITAS DA COSTA\",\"ELMANO DE FREITAS DA COSTA\",\"ELMANO DE FREITAS DA COSTA\",\"ELMANO DE FREITAS DA COSTA\",\"ELMANO DE FREITAS DA COSTA\",\"ELMANO DE FREITAS DA COSTA\",\"ELMANO DE FREITAS DA COSTA\",\"ELMANO DE FREITAS DA COSTA\",\"ELMANO DE FREITAS DA COSTA\",\"ELMANO DE FREITAS DA COSTA\",\"ELMANO DE FREITAS DA COSTA\",\"ELMANO DE FREITAS DA COSTA\",\"ELMANO DE FREITAS DA COSTA\",\"ELMANO DE FREITAS DA COSTA\",\"ELMANO DE FREITAS DA COSTA\",\"ELMANO DE FREITAS DA COSTA\",\"ELMANO DE FREITAS DA COSTA\",\"ELMANO DE FREITAS DA COSTA\",\"ELMANO DE FREITAS DA COSTA\",\"ELMANO DE FREITAS DA COSTA\",\"ELMANO DE FREITAS DA COSTA\",\"ELMANO DE FREITAS DA COSTA\",\"ELMANO DE FREITAS DA COSTA\",\"ELMANO DE FREITAS DA COSTA\",\"ELMANO DE FREITAS DA COSTA\",\"ELMANO DE FREITAS DA COSTA\",\"ELMANO DE FREITAS DA COSTA\",\"ELMANO DE FREITAS DA COSTA\",\"ELMANO DE FREITAS DA COSTA\",\"ELMANO DE FREITAS DA COSTA\",\"ELMANO DE FREITAS DA COSTA\",\"ELMANO DE FREITAS DA COSTA\",\"ELMANO DE FREITAS DA COSTA\",\"ELMANO DE FREITAS DA COSTA\",\"ELMANO DE FREITAS DA COSTA\"],\"yaxis\":\"y\",\"type\":\"histogram\"},{\"alignmentgroup\":\"True\",\"bingroup\":\"y\",\"hovertemplate\":\"nm_votavel=%{y}<br>count=%{x}<extra></extra>\",\"legendgroup\":\"WAGNER SOUSA GOMES\",\"marker\":{\"color\":\"#EF553B\",\"pattern\":{\"shape\":\"\"}},\"name\":\"WAGNER SOUSA GOMES\",\"offsetgroup\":\"WAGNER SOUSA GOMES\",\"orientation\":\"h\",\"showlegend\":true,\"xaxis\":\"x\",\"y\":[\"WAGNER SOUSA GOMES\",\"WAGNER SOUSA GOMES\",\"WAGNER SOUSA GOMES\",\"WAGNER SOUSA GOMES\",\"WAGNER SOUSA GOMES\"],\"yaxis\":\"y\",\"type\":\"histogram\"},{\"alignmentgroup\":\"True\",\"bingroup\":\"y\",\"hovertemplate\":\"nm_votavel=%{y}<br>count=%{x}<extra></extra>\",\"legendgroup\":\"ROBERTO CL\\u00c1UDIO RODRIGUES BEZERRA\",\"marker\":{\"color\":\"#00cc96\",\"pattern\":{\"shape\":\"\"}},\"name\":\"ROBERTO CL\\u00c1UDIO RODRIGUES BEZERRA\",\"offsetgroup\":\"ROBERTO CL\\u00c1UDIO RODRIGUES BEZERRA\",\"orientation\":\"h\",\"showlegend\":true,\"xaxis\":\"x\",\"y\":[\"ROBERTO CL\\u00c1UDIO RODRIGUES BEZERRA\"],\"yaxis\":\"y\",\"type\":\"histogram\"}],                        {\"template\":{\"data\":{\"histogram2dcontour\":[{\"type\":\"histogram2dcontour\",\"colorbar\":{\"outlinewidth\":0,\"ticks\":\"\"},\"colorscale\":[[0.0,\"#0d0887\"],[0.1111111111111111,\"#46039f\"],[0.2222222222222222,\"#7201a8\"],[0.3333333333333333,\"#9c179e\"],[0.4444444444444444,\"#bd3786\"],[0.5555555555555556,\"#d8576b\"],[0.6666666666666666,\"#ed7953\"],[0.7777777777777778,\"#fb9f3a\"],[0.8888888888888888,\"#fdca26\"],[1.0,\"#f0f921\"]]}],\"choropleth\":[{\"type\":\"choropleth\",\"colorbar\":{\"outlinewidth\":0,\"ticks\":\"\"}}],\"histogram2d\":[{\"type\":\"histogram2d\",\"colorbar\":{\"outlinewidth\":0,\"ticks\":\"\"},\"colorscale\":[[0.0,\"#0d0887\"],[0.1111111111111111,\"#46039f\"],[0.2222222222222222,\"#7201a8\"],[0.3333333333333333,\"#9c179e\"],[0.4444444444444444,\"#bd3786\"],[0.5555555555555556,\"#d8576b\"],[0.6666666666666666,\"#ed7953\"],[0.7777777777777778,\"#fb9f3a\"],[0.8888888888888888,\"#fdca26\"],[1.0,\"#f0f921\"]]}],\"heatmap\":[{\"type\":\"heatmap\",\"colorbar\":{\"outlinewidth\":0,\"ticks\":\"\"},\"colorscale\":[[0.0,\"#0d0887\"],[0.1111111111111111,\"#46039f\"],[0.2222222222222222,\"#7201a8\"],[0.3333333333333333,\"#9c179e\"],[0.4444444444444444,\"#bd3786\"],[0.5555555555555556,\"#d8576b\"],[0.6666666666666666,\"#ed7953\"],[0.7777777777777778,\"#fb9f3a\"],[0.8888888888888888,\"#fdca26\"],[1.0,\"#f0f921\"]]}],\"heatmapgl\":[{\"type\":\"heatmapgl\",\"colorbar\":{\"outlinewidth\":0,\"ticks\":\"\"},\"colorscale\":[[0.0,\"#0d0887\"],[0.1111111111111111,\"#46039f\"],[0.2222222222222222,\"#7201a8\"],[0.3333333333333333,\"#9c179e\"],[0.4444444444444444,\"#bd3786\"],[0.5555555555555556,\"#d8576b\"],[0.6666666666666666,\"#ed7953\"],[0.7777777777777778,\"#fb9f3a\"],[0.8888888888888888,\"#fdca26\"],[1.0,\"#f0f921\"]]}],\"contourcarpet\":[{\"type\":\"contourcarpet\",\"colorbar\":{\"outlinewidth\":0,\"ticks\":\"\"}}],\"contour\":[{\"type\":\"contour\",\"colorbar\":{\"outlinewidth\":0,\"ticks\":\"\"},\"colorscale\":[[0.0,\"#0d0887\"],[0.1111111111111111,\"#46039f\"],[0.2222222222222222,\"#7201a8\"],[0.3333333333333333,\"#9c179e\"],[0.4444444444444444,\"#bd3786\"],[0.5555555555555556,\"#d8576b\"],[0.6666666666666666,\"#ed7953\"],[0.7777777777777778,\"#fb9f3a\"],[0.8888888888888888,\"#fdca26\"],[1.0,\"#f0f921\"]]}],\"surface\":[{\"type\":\"surface\",\"colorbar\":{\"outlinewidth\":0,\"ticks\":\"\"},\"colorscale\":[[0.0,\"#0d0887\"],[0.1111111111111111,\"#46039f\"],[0.2222222222222222,\"#7201a8\"],[0.3333333333333333,\"#9c179e\"],[0.4444444444444444,\"#bd3786\"],[0.5555555555555556,\"#d8576b\"],[0.6666666666666666,\"#ed7953\"],[0.7777777777777778,\"#fb9f3a\"],[0.8888888888888888,\"#fdca26\"],[1.0,\"#f0f921\"]]}],\"mesh3d\":[{\"type\":\"mesh3d\",\"colorbar\":{\"outlinewidth\":0,\"ticks\":\"\"}}],\"scatter\":[{\"fillpattern\":{\"fillmode\":\"overlay\",\"size\":10,\"solidity\":0.2},\"type\":\"scatter\"}],\"parcoords\":[{\"type\":\"parcoords\",\"line\":{\"colorbar\":{\"outlinewidth\":0,\"ticks\":\"\"}}}],\"scatterpolargl\":[{\"type\":\"scatterpolargl\",\"marker\":{\"colorbar\":{\"outlinewidth\":0,\"ticks\":\"\"}}}],\"bar\":[{\"error_x\":{\"color\":\"#2a3f5f\"},\"error_y\":{\"color\":\"#2a3f5f\"},\"marker\":{\"line\":{\"color\":\"#E5ECF6\",\"width\":0.5},\"pattern\":{\"fillmode\":\"overlay\",\"size\":10,\"solidity\":0.2}},\"type\":\"bar\"}],\"scattergeo\":[{\"type\":\"scattergeo\",\"marker\":{\"colorbar\":{\"outlinewidth\":0,\"ticks\":\"\"}}}],\"scatterpolar\":[{\"type\":\"scatterpolar\",\"marker\":{\"colorbar\":{\"outlinewidth\":0,\"ticks\":\"\"}}}],\"histogram\":[{\"marker\":{\"pattern\":{\"fillmode\":\"overlay\",\"size\":10,\"solidity\":0.2}},\"type\":\"histogram\"}],\"scattergl\":[{\"type\":\"scattergl\",\"marker\":{\"colorbar\":{\"outlinewidth\":0,\"ticks\":\"\"}}}],\"scatter3d\":[{\"type\":\"scatter3d\",\"line\":{\"colorbar\":{\"outlinewidth\":0,\"ticks\":\"\"}},\"marker\":{\"colorbar\":{\"outlinewidth\":0,\"ticks\":\"\"}}}],\"scattermapbox\":[{\"type\":\"scattermapbox\",\"marker\":{\"colorbar\":{\"outlinewidth\":0,\"ticks\":\"\"}}}],\"scatterternary\":[{\"type\":\"scatterternary\",\"marker\":{\"colorbar\":{\"outlinewidth\":0,\"ticks\":\"\"}}}],\"scattercarpet\":[{\"type\":\"scattercarpet\",\"marker\":{\"colorbar\":{\"outlinewidth\":0,\"ticks\":\"\"}}}],\"carpet\":[{\"aaxis\":{\"endlinecolor\":\"#2a3f5f\",\"gridcolor\":\"white\",\"linecolor\":\"white\",\"minorgridcolor\":\"white\",\"startlinecolor\":\"#2a3f5f\"},\"baxis\":{\"endlinecolor\":\"#2a3f5f\",\"gridcolor\":\"white\",\"linecolor\":\"white\",\"minorgridcolor\":\"white\",\"startlinecolor\":\"#2a3f5f\"},\"type\":\"carpet\"}],\"table\":[{\"cells\":{\"fill\":{\"color\":\"#EBF0F8\"},\"line\":{\"color\":\"white\"}},\"header\":{\"fill\":{\"color\":\"#C8D4E3\"},\"line\":{\"color\":\"white\"}},\"type\":\"table\"}],\"barpolar\":[{\"marker\":{\"line\":{\"color\":\"#E5ECF6\",\"width\":0.5},\"pattern\":{\"fillmode\":\"overlay\",\"size\":10,\"solidity\":0.2}},\"type\":\"barpolar\"}],\"pie\":[{\"automargin\":true,\"type\":\"pie\"}]},\"layout\":{\"autotypenumbers\":\"strict\",\"colorway\":[\"#636efa\",\"#EF553B\",\"#00cc96\",\"#ab63fa\",\"#FFA15A\",\"#19d3f3\",\"#FF6692\",\"#B6E880\",\"#FF97FF\",\"#FECB52\"],\"font\":{\"color\":\"#2a3f5f\"},\"hovermode\":\"closest\",\"hoverlabel\":{\"align\":\"left\"},\"paper_bgcolor\":\"white\",\"plot_bgcolor\":\"#E5ECF6\",\"polar\":{\"bgcolor\":\"#E5ECF6\",\"angularaxis\":{\"gridcolor\":\"white\",\"linecolor\":\"white\",\"ticks\":\"\"},\"radialaxis\":{\"gridcolor\":\"white\",\"linecolor\":\"white\",\"ticks\":\"\"}},\"ternary\":{\"bgcolor\":\"#E5ECF6\",\"aaxis\":{\"gridcolor\":\"white\",\"linecolor\":\"white\",\"ticks\":\"\"},\"baxis\":{\"gridcolor\":\"white\",\"linecolor\":\"white\",\"ticks\":\"\"},\"caxis\":{\"gridcolor\":\"white\",\"linecolor\":\"white\",\"ticks\":\"\"}},\"coloraxis\":{\"colorbar\":{\"outlinewidth\":0,\"ticks\":\"\"}},\"colorscale\":{\"sequential\":[[0.0,\"#0d0887\"],[0.1111111111111111,\"#46039f\"],[0.2222222222222222,\"#7201a8\"],[0.3333333333333333,\"#9c179e\"],[0.4444444444444444,\"#bd3786\"],[0.5555555555555556,\"#d8576b\"],[0.6666666666666666,\"#ed7953\"],[0.7777777777777778,\"#fb9f3a\"],[0.8888888888888888,\"#fdca26\"],[1.0,\"#f0f921\"]],\"sequentialminus\":[[0.0,\"#0d0887\"],[0.1111111111111111,\"#46039f\"],[0.2222222222222222,\"#7201a8\"],[0.3333333333333333,\"#9c179e\"],[0.4444444444444444,\"#bd3786\"],[0.5555555555555556,\"#d8576b\"],[0.6666666666666666,\"#ed7953\"],[0.7777777777777778,\"#fb9f3a\"],[0.8888888888888888,\"#fdca26\"],[1.0,\"#f0f921\"]],\"diverging\":[[0,\"#8e0152\"],[0.1,\"#c51b7d\"],[0.2,\"#de77ae\"],[0.3,\"#f1b6da\"],[0.4,\"#fde0ef\"],[0.5,\"#f7f7f7\"],[0.6,\"#e6f5d0\"],[0.7,\"#b8e186\"],[0.8,\"#7fbc41\"],[0.9,\"#4d9221\"],[1,\"#276419\"]]},\"xaxis\":{\"gridcolor\":\"white\",\"linecolor\":\"white\",\"ticks\":\"\",\"title\":{\"standoff\":15},\"zerolinecolor\":\"white\",\"automargin\":true,\"zerolinewidth\":2},\"yaxis\":{\"gridcolor\":\"white\",\"linecolor\":\"white\",\"ticks\":\"\",\"title\":{\"standoff\":15},\"zerolinecolor\":\"white\",\"automargin\":true,\"zerolinewidth\":2},\"scene\":{\"xaxis\":{\"backgroundcolor\":\"#E5ECF6\",\"gridcolor\":\"white\",\"linecolor\":\"white\",\"showbackground\":true,\"ticks\":\"\",\"zerolinecolor\":\"white\",\"gridwidth\":2},\"yaxis\":{\"backgroundcolor\":\"#E5ECF6\",\"gridcolor\":\"white\",\"linecolor\":\"white\",\"showbackground\":true,\"ticks\":\"\",\"zerolinecolor\":\"white\",\"gridwidth\":2},\"zaxis\":{\"backgroundcolor\":\"#E5ECF6\",\"gridcolor\":\"white\",\"linecolor\":\"white\",\"showbackground\":true,\"ticks\":\"\",\"zerolinecolor\":\"white\",\"gridwidth\":2}},\"shapedefaults\":{\"line\":{\"color\":\"#2a3f5f\"}},\"annotationdefaults\":{\"arrowcolor\":\"#2a3f5f\",\"arrowhead\":0,\"arrowwidth\":1},\"geo\":{\"bgcolor\":\"white\",\"landcolor\":\"#E5ECF6\",\"subunitcolor\":\"white\",\"showland\":true,\"showlakes\":true,\"lakecolor\":\"white\"},\"title\":{\"x\":0.05},\"mapbox\":{\"style\":\"light\"}}},\"xaxis\":{\"anchor\":\"y\",\"domain\":[0.0,1.0],\"title\":{\"text\":\"N\\u00famero de cidades\"}},\"yaxis\":{\"anchor\":\"x\",\"domain\":[0.0,1.0],\"title\":{\"text\":\"Candidatos\"},\"categoryorder\":\"array\",\"categoryarray\":[\"ROBERTO CL\\u00c1UDIO RODRIGUES BEZERRA\",\"WAGNER SOUSA GOMES\",\"ELMANO DE FREITAS DA COSTA\"]},\"legend\":{\"title\":{\"text\":\"Candidatos\"},\"tracegroupgap\":0},\"title\":{\"text\":\"Quantidade de munic\\u00edpios cearenses em que cada candidato saiu vencedor\",\"x\":0.5},\"barmode\":\"relative\"},                        {\"responsive\": true}                    ).then(function(){\n",
              "                            \n",
              "var gd = document.getElementById('f1817e26-215a-43a1-810d-56af5a487acd');\n",
              "var x = new MutationObserver(function (mutations, observer) {{\n",
              "        var display = window.getComputedStyle(gd).display;\n",
              "        if (!display || display === 'none') {{\n",
              "            console.log([gd, 'removed!']);\n",
              "            Plotly.purge(gd);\n",
              "            observer.disconnect();\n",
              "        }}\n",
              "}});\n",
              "\n",
              "// Listen for the removal of the full notebook cells\n",
              "var notebookContainer = gd.closest('#notebook-container');\n",
              "if (notebookContainer) {{\n",
              "    x.observe(notebookContainer, {childList: true});\n",
              "}}\n",
              "\n",
              "// Listen for the clearing of the current output cell\n",
              "var outputEl = gd.closest('.output');\n",
              "if (outputEl) {{\n",
              "    x.observe(outputEl, {childList: true});\n",
              "}}\n",
              "\n",
              "                        })                };                            </script>        </div>\n",
              "</body>\n",
              "</html>"
            ]
          },
          "metadata": {}
        }
      ],
      "source": [
        "fig = px.histogram(\n",
        "    data_frame= vencedores_por_municipio,\n",
        "    y= 'nm_votavel', color= 'nm_votavel',\n",
        "    title= 'Quantidade de municípios cearenses em que cada candidato saiu vencedor'\n",
        ")\n",
        "fig.update_layout(title= {'x': 0.5}, yaxis_title= 'Candidatos', xaxis_title= 'Número de cidades', legend_title= 'Candidatos')\n",
        "fig.show()"
      ]
    },
    {
      "cell_type": "markdown",
      "metadata": {
        "id": "b6iAm-Q8RGwi"
      },
      "source": [
        "O candidato Elmano de Freitas saiu vencedor em 178 cidades cearenses. Enquanto os candidatos Wagner Gomes e Roberto Claúdio só saíram vencedores em 5 e 3 cidades, respectivamente."
      ]
    },
    {
      "cell_type": "markdown",
      "metadata": {
        "id": "gUl0fYQBY0DG"
      },
      "source": [
        "#### 5.2.2.1 Cidades em que o candidato Wagner Sousa Gomes venceu"
      ]
    },
    {
      "cell_type": "code",
      "execution_count": 27,
      "metadata": {
        "id": "x0Cn0HR7Rppv",
        "colab": {
          "base_uri": "https://localhost:8080/",
          "height": 206
        },
        "outputId": "007b639b-baa2-4147-9abd-73cce4b1e15e"
      },
      "outputs": [
        {
          "output_type": "execute_result",
          "data": {
            "text/plain": [
              "                 nm_municipio          nm_votavel  qt_votos\n",
              "431                   EUSÉBIO  WAGNER SOUSA GOMES     18787\n",
              "455                 FORTALEZA  WAGNER SOUSA GOMES    602050\n",
              "820                     MARCO  WAGNER SOUSA GOMES      8170\n",
              "920                 MORRINHOS  WAGNER SOUSA GOMES      6503\n",
              "1274  SÃO GONÇALO DO AMARANTE  WAGNER SOUSA GOMES     16630"
            ],
            "text/html": [
              "\n",
              "  <div id=\"df-41ffe354-c8a4-48b7-bb10-43d853e7c81b\">\n",
              "    <div class=\"colab-df-container\">\n",
              "      <div>\n",
              "<style scoped>\n",
              "    .dataframe tbody tr th:only-of-type {\n",
              "        vertical-align: middle;\n",
              "    }\n",
              "\n",
              "    .dataframe tbody tr th {\n",
              "        vertical-align: top;\n",
              "    }\n",
              "\n",
              "    .dataframe thead th {\n",
              "        text-align: right;\n",
              "    }\n",
              "</style>\n",
              "<table border=\"1\" class=\"dataframe\">\n",
              "  <thead>\n",
              "    <tr style=\"text-align: right;\">\n",
              "      <th></th>\n",
              "      <th>nm_municipio</th>\n",
              "      <th>nm_votavel</th>\n",
              "      <th>qt_votos</th>\n",
              "    </tr>\n",
              "  </thead>\n",
              "  <tbody>\n",
              "    <tr>\n",
              "      <th>431</th>\n",
              "      <td>EUSÉBIO</td>\n",
              "      <td>WAGNER SOUSA GOMES</td>\n",
              "      <td>18787</td>\n",
              "    </tr>\n",
              "    <tr>\n",
              "      <th>455</th>\n",
              "      <td>FORTALEZA</td>\n",
              "      <td>WAGNER SOUSA GOMES</td>\n",
              "      <td>602050</td>\n",
              "    </tr>\n",
              "    <tr>\n",
              "      <th>820</th>\n",
              "      <td>MARCO</td>\n",
              "      <td>WAGNER SOUSA GOMES</td>\n",
              "      <td>8170</td>\n",
              "    </tr>\n",
              "    <tr>\n",
              "      <th>920</th>\n",
              "      <td>MORRINHOS</td>\n",
              "      <td>WAGNER SOUSA GOMES</td>\n",
              "      <td>6503</td>\n",
              "    </tr>\n",
              "    <tr>\n",
              "      <th>1274</th>\n",
              "      <td>SÃO GONÇALO DO AMARANTE</td>\n",
              "      <td>WAGNER SOUSA GOMES</td>\n",
              "      <td>16630</td>\n",
              "    </tr>\n",
              "  </tbody>\n",
              "</table>\n",
              "</div>\n",
              "      <button class=\"colab-df-convert\" onclick=\"convertToInteractive('df-41ffe354-c8a4-48b7-bb10-43d853e7c81b')\"\n",
              "              title=\"Convert this dataframe to an interactive table.\"\n",
              "              style=\"display:none;\">\n",
              "        \n",
              "  <svg xmlns=\"http://www.w3.org/2000/svg\" height=\"24px\"viewBox=\"0 0 24 24\"\n",
              "       width=\"24px\">\n",
              "    <path d=\"M0 0h24v24H0V0z\" fill=\"none\"/>\n",
              "    <path d=\"M18.56 5.44l.94 2.06.94-2.06 2.06-.94-2.06-.94-.94-2.06-.94 2.06-2.06.94zm-11 1L8.5 8.5l.94-2.06 2.06-.94-2.06-.94L8.5 2.5l-.94 2.06-2.06.94zm10 10l.94 2.06.94-2.06 2.06-.94-2.06-.94-.94-2.06-.94 2.06-2.06.94z\"/><path d=\"M17.41 7.96l-1.37-1.37c-.4-.4-.92-.59-1.43-.59-.52 0-1.04.2-1.43.59L10.3 9.45l-7.72 7.72c-.78.78-.78 2.05 0 2.83L4 21.41c.39.39.9.59 1.41.59.51 0 1.02-.2 1.41-.59l7.78-7.78 2.81-2.81c.8-.78.8-2.07 0-2.86zM5.41 20L4 18.59l7.72-7.72 1.47 1.35L5.41 20z\"/>\n",
              "  </svg>\n",
              "      </button>\n",
              "      \n",
              "  <style>\n",
              "    .colab-df-container {\n",
              "      display:flex;\n",
              "      flex-wrap:wrap;\n",
              "      gap: 12px;\n",
              "    }\n",
              "\n",
              "    .colab-df-convert {\n",
              "      background-color: #E8F0FE;\n",
              "      border: none;\n",
              "      border-radius: 50%;\n",
              "      cursor: pointer;\n",
              "      display: none;\n",
              "      fill: #1967D2;\n",
              "      height: 32px;\n",
              "      padding: 0 0 0 0;\n",
              "      width: 32px;\n",
              "    }\n",
              "\n",
              "    .colab-df-convert:hover {\n",
              "      background-color: #E2EBFA;\n",
              "      box-shadow: 0px 1px 2px rgba(60, 64, 67, 0.3), 0px 1px 3px 1px rgba(60, 64, 67, 0.15);\n",
              "      fill: #174EA6;\n",
              "    }\n",
              "\n",
              "    [theme=dark] .colab-df-convert {\n",
              "      background-color: #3B4455;\n",
              "      fill: #D2E3FC;\n",
              "    }\n",
              "\n",
              "    [theme=dark] .colab-df-convert:hover {\n",
              "      background-color: #434B5C;\n",
              "      box-shadow: 0px 1px 3px 1px rgba(0, 0, 0, 0.15);\n",
              "      filter: drop-shadow(0px 1px 2px rgba(0, 0, 0, 0.3));\n",
              "      fill: #FFFFFF;\n",
              "    }\n",
              "  </style>\n",
              "\n",
              "      <script>\n",
              "        const buttonEl =\n",
              "          document.querySelector('#df-41ffe354-c8a4-48b7-bb10-43d853e7c81b button.colab-df-convert');\n",
              "        buttonEl.style.display =\n",
              "          google.colab.kernel.accessAllowed ? 'block' : 'none';\n",
              "\n",
              "        async function convertToInteractive(key) {\n",
              "          const element = document.querySelector('#df-41ffe354-c8a4-48b7-bb10-43d853e7c81b');\n",
              "          const dataTable =\n",
              "            await google.colab.kernel.invokeFunction('convertToInteractive',\n",
              "                                                     [key], {});\n",
              "          if (!dataTable) return;\n",
              "\n",
              "          const docLinkHtml = 'Like what you see? Visit the ' +\n",
              "            '<a target=\"_blank\" href=https://colab.research.google.com/notebooks/data_table.ipynb>data table notebook</a>'\n",
              "            + ' to learn more about interactive tables.';\n",
              "          element.innerHTML = '';\n",
              "          dataTable['output_type'] = 'display_data';\n",
              "          await google.colab.output.renderOutput(dataTable, element);\n",
              "          const docLink = document.createElement('div');\n",
              "          docLink.innerHTML = docLinkHtml;\n",
              "          element.appendChild(docLink);\n",
              "        }\n",
              "      </script>\n",
              "    </div>\n",
              "  </div>\n",
              "  "
            ]
          },
          "metadata": {},
          "execution_count": 27
        }
      ],
      "source": [
        "vencedores_por_municipio.query('nm_votavel == \"WAGNER SOUSA GOMES\"')"
      ]
    },
    {
      "cell_type": "markdown",
      "metadata": {
        "id": "kJrief5IY6yO"
      },
      "source": [
        "#### 5.2.2.2 Cidades em que o candidato Roberto Claúdio venceu"
      ]
    },
    {
      "cell_type": "code",
      "execution_count": 28,
      "metadata": {
        "id": "r3XTqGy9SbFs",
        "colab": {
          "base_uri": "https://localhost:8080/",
          "height": 81
        },
        "outputId": "e88c48b3-e78a-457a-941c-0014c7f3ec59"
      },
      "outputs": [
        {
          "output_type": "execute_result",
          "data": {
            "text/plain": [
              "        nm_municipio                         nm_votavel  qt_votos\n",
              "1096  PIRES FERREIRA  ROBERTO CLÁUDIO RODRIGUES BEZERRA      2644"
            ],
            "text/html": [
              "\n",
              "  <div id=\"df-d3e61940-ffa0-40cd-8fce-74819caedcee\">\n",
              "    <div class=\"colab-df-container\">\n",
              "      <div>\n",
              "<style scoped>\n",
              "    .dataframe tbody tr th:only-of-type {\n",
              "        vertical-align: middle;\n",
              "    }\n",
              "\n",
              "    .dataframe tbody tr th {\n",
              "        vertical-align: top;\n",
              "    }\n",
              "\n",
              "    .dataframe thead th {\n",
              "        text-align: right;\n",
              "    }\n",
              "</style>\n",
              "<table border=\"1\" class=\"dataframe\">\n",
              "  <thead>\n",
              "    <tr style=\"text-align: right;\">\n",
              "      <th></th>\n",
              "      <th>nm_municipio</th>\n",
              "      <th>nm_votavel</th>\n",
              "      <th>qt_votos</th>\n",
              "    </tr>\n",
              "  </thead>\n",
              "  <tbody>\n",
              "    <tr>\n",
              "      <th>1096</th>\n",
              "      <td>PIRES FERREIRA</td>\n",
              "      <td>ROBERTO CLÁUDIO RODRIGUES BEZERRA</td>\n",
              "      <td>2644</td>\n",
              "    </tr>\n",
              "  </tbody>\n",
              "</table>\n",
              "</div>\n",
              "      <button class=\"colab-df-convert\" onclick=\"convertToInteractive('df-d3e61940-ffa0-40cd-8fce-74819caedcee')\"\n",
              "              title=\"Convert this dataframe to an interactive table.\"\n",
              "              style=\"display:none;\">\n",
              "        \n",
              "  <svg xmlns=\"http://www.w3.org/2000/svg\" height=\"24px\"viewBox=\"0 0 24 24\"\n",
              "       width=\"24px\">\n",
              "    <path d=\"M0 0h24v24H0V0z\" fill=\"none\"/>\n",
              "    <path d=\"M18.56 5.44l.94 2.06.94-2.06 2.06-.94-2.06-.94-.94-2.06-.94 2.06-2.06.94zm-11 1L8.5 8.5l.94-2.06 2.06-.94-2.06-.94L8.5 2.5l-.94 2.06-2.06.94zm10 10l.94 2.06.94-2.06 2.06-.94-2.06-.94-.94-2.06-.94 2.06-2.06.94z\"/><path d=\"M17.41 7.96l-1.37-1.37c-.4-.4-.92-.59-1.43-.59-.52 0-1.04.2-1.43.59L10.3 9.45l-7.72 7.72c-.78.78-.78 2.05 0 2.83L4 21.41c.39.39.9.59 1.41.59.51 0 1.02-.2 1.41-.59l7.78-7.78 2.81-2.81c.8-.78.8-2.07 0-2.86zM5.41 20L4 18.59l7.72-7.72 1.47 1.35L5.41 20z\"/>\n",
              "  </svg>\n",
              "      </button>\n",
              "      \n",
              "  <style>\n",
              "    .colab-df-container {\n",
              "      display:flex;\n",
              "      flex-wrap:wrap;\n",
              "      gap: 12px;\n",
              "    }\n",
              "\n",
              "    .colab-df-convert {\n",
              "      background-color: #E8F0FE;\n",
              "      border: none;\n",
              "      border-radius: 50%;\n",
              "      cursor: pointer;\n",
              "      display: none;\n",
              "      fill: #1967D2;\n",
              "      height: 32px;\n",
              "      padding: 0 0 0 0;\n",
              "      width: 32px;\n",
              "    }\n",
              "\n",
              "    .colab-df-convert:hover {\n",
              "      background-color: #E2EBFA;\n",
              "      box-shadow: 0px 1px 2px rgba(60, 64, 67, 0.3), 0px 1px 3px 1px rgba(60, 64, 67, 0.15);\n",
              "      fill: #174EA6;\n",
              "    }\n",
              "\n",
              "    [theme=dark] .colab-df-convert {\n",
              "      background-color: #3B4455;\n",
              "      fill: #D2E3FC;\n",
              "    }\n",
              "\n",
              "    [theme=dark] .colab-df-convert:hover {\n",
              "      background-color: #434B5C;\n",
              "      box-shadow: 0px 1px 3px 1px rgba(0, 0, 0, 0.15);\n",
              "      filter: drop-shadow(0px 1px 2px rgba(0, 0, 0, 0.3));\n",
              "      fill: #FFFFFF;\n",
              "    }\n",
              "  </style>\n",
              "\n",
              "      <script>\n",
              "        const buttonEl =\n",
              "          document.querySelector('#df-d3e61940-ffa0-40cd-8fce-74819caedcee button.colab-df-convert');\n",
              "        buttonEl.style.display =\n",
              "          google.colab.kernel.accessAllowed ? 'block' : 'none';\n",
              "\n",
              "        async function convertToInteractive(key) {\n",
              "          const element = document.querySelector('#df-d3e61940-ffa0-40cd-8fce-74819caedcee');\n",
              "          const dataTable =\n",
              "            await google.colab.kernel.invokeFunction('convertToInteractive',\n",
              "                                                     [key], {});\n",
              "          if (!dataTable) return;\n",
              "\n",
              "          const docLinkHtml = 'Like what you see? Visit the ' +\n",
              "            '<a target=\"_blank\" href=https://colab.research.google.com/notebooks/data_table.ipynb>data table notebook</a>'\n",
              "            + ' to learn more about interactive tables.';\n",
              "          element.innerHTML = '';\n",
              "          dataTable['output_type'] = 'display_data';\n",
              "          await google.colab.output.renderOutput(dataTable, element);\n",
              "          const docLink = document.createElement('div');\n",
              "          docLink.innerHTML = docLinkHtml;\n",
              "          element.appendChild(docLink);\n",
              "        }\n",
              "      </script>\n",
              "    </div>\n",
              "  </div>\n",
              "  "
            ]
          },
          "metadata": {},
          "execution_count": 28
        }
      ],
      "source": [
        "vencedores_por_municipio.query('nm_votavel == \"ROBERTO CLÁUDIO RODRIGUES BEZERRA\"')"
      ]
    },
    {
      "cell_type": "markdown",
      "metadata": {
        "id": "ZU5KV1g5Klob"
      },
      "source": [
        "#### 5.2.2.3 Visualização no mapa do estado"
      ]
    },
    {
      "cell_type": "code",
      "execution_count": 29,
      "metadata": {
        "id": "eFHWLkGA7zTv",
        "colab": {
          "base_uri": "https://localhost:8080/",
          "height": 296
        },
        "outputId": "b79fafaa-157f-4ea5-c29b-7c74f79e47e1"
      },
      "outputs": [
        {
          "output_type": "stream",
          "name": "stderr",
          "text": [
            "/usr/local/lib/python3.9/dist-packages/geopandas/array.py:93: ShapelyDeprecationWarning:\n",
            "\n",
            "__len__ for multi-part geometries is deprecated and will be removed in Shapely 2.0. Check the length of the `geoms` property instead to get the  number of parts of a multi-part geometry.\n",
            "\n"
          ]
        },
        {
          "output_type": "execute_result",
          "data": {
            "text/plain": [
              "   code_muni name_muni  code_state abbrev_state name_state  code_region  \\\n",
              "0    2300101   ABAIARA        23.0           CE      Ceará          2.0   \n",
              "1    2300150   ACARAPE        23.0           CE      Ceará          2.0   \n",
              "2    2300200    ACARAÚ        23.0           CE      Ceará          2.0   \n",
              "3    2300309  ACOPIARA        23.0           CE      Ceará          2.0   \n",
              "4    2300408    AIUABA        23.0           CE      Ceará          2.0   \n",
              "\n",
              "  name_region                                           geometry  \n",
              "0    Nordeste  MULTIPOLYGON (((-39.06727 -7.28001, -39.04954 ...  \n",
              "1    Nordeste  MULTIPOLYGON (((-38.65304 -4.15796, -38.65108 ...  \n",
              "2    Nordeste  MULTIPOLYGON (((-40.30984 -2.80769, -40.26882 ...  \n",
              "3    Nordeste  MULTIPOLYGON (((-39.15631 -5.95731, -39.15267 ...  \n",
              "4    Nordeste  MULTIPOLYGON (((-40.11801 -6.34845, -40.11298 ...  "
            ],
            "text/html": [
              "\n",
              "  <div id=\"df-e2d7521e-9b28-463c-9476-f6c13b35cb4a\">\n",
              "    <div class=\"colab-df-container\">\n",
              "      <div>\n",
              "<style scoped>\n",
              "    .dataframe tbody tr th:only-of-type {\n",
              "        vertical-align: middle;\n",
              "    }\n",
              "\n",
              "    .dataframe tbody tr th {\n",
              "        vertical-align: top;\n",
              "    }\n",
              "\n",
              "    .dataframe thead th {\n",
              "        text-align: right;\n",
              "    }\n",
              "</style>\n",
              "<table border=\"1\" class=\"dataframe\">\n",
              "  <thead>\n",
              "    <tr style=\"text-align: right;\">\n",
              "      <th></th>\n",
              "      <th>code_muni</th>\n",
              "      <th>name_muni</th>\n",
              "      <th>code_state</th>\n",
              "      <th>abbrev_state</th>\n",
              "      <th>name_state</th>\n",
              "      <th>code_region</th>\n",
              "      <th>name_region</th>\n",
              "      <th>geometry</th>\n",
              "    </tr>\n",
              "  </thead>\n",
              "  <tbody>\n",
              "    <tr>\n",
              "      <th>0</th>\n",
              "      <td>2300101</td>\n",
              "      <td>ABAIARA</td>\n",
              "      <td>23.0</td>\n",
              "      <td>CE</td>\n",
              "      <td>Ceará</td>\n",
              "      <td>2.0</td>\n",
              "      <td>Nordeste</td>\n",
              "      <td>MULTIPOLYGON (((-39.06727 -7.28001, -39.04954 ...</td>\n",
              "    </tr>\n",
              "    <tr>\n",
              "      <th>1</th>\n",
              "      <td>2300150</td>\n",
              "      <td>ACARAPE</td>\n",
              "      <td>23.0</td>\n",
              "      <td>CE</td>\n",
              "      <td>Ceará</td>\n",
              "      <td>2.0</td>\n",
              "      <td>Nordeste</td>\n",
              "      <td>MULTIPOLYGON (((-38.65304 -4.15796, -38.65108 ...</td>\n",
              "    </tr>\n",
              "    <tr>\n",
              "      <th>2</th>\n",
              "      <td>2300200</td>\n",
              "      <td>ACARAÚ</td>\n",
              "      <td>23.0</td>\n",
              "      <td>CE</td>\n",
              "      <td>Ceará</td>\n",
              "      <td>2.0</td>\n",
              "      <td>Nordeste</td>\n",
              "      <td>MULTIPOLYGON (((-40.30984 -2.80769, -40.26882 ...</td>\n",
              "    </tr>\n",
              "    <tr>\n",
              "      <th>3</th>\n",
              "      <td>2300309</td>\n",
              "      <td>ACOPIARA</td>\n",
              "      <td>23.0</td>\n",
              "      <td>CE</td>\n",
              "      <td>Ceará</td>\n",
              "      <td>2.0</td>\n",
              "      <td>Nordeste</td>\n",
              "      <td>MULTIPOLYGON (((-39.15631 -5.95731, -39.15267 ...</td>\n",
              "    </tr>\n",
              "    <tr>\n",
              "      <th>4</th>\n",
              "      <td>2300408</td>\n",
              "      <td>AIUABA</td>\n",
              "      <td>23.0</td>\n",
              "      <td>CE</td>\n",
              "      <td>Ceará</td>\n",
              "      <td>2.0</td>\n",
              "      <td>Nordeste</td>\n",
              "      <td>MULTIPOLYGON (((-40.11801 -6.34845, -40.11298 ...</td>\n",
              "    </tr>\n",
              "  </tbody>\n",
              "</table>\n",
              "</div>\n",
              "      <button class=\"colab-df-convert\" onclick=\"convertToInteractive('df-e2d7521e-9b28-463c-9476-f6c13b35cb4a')\"\n",
              "              title=\"Convert this dataframe to an interactive table.\"\n",
              "              style=\"display:none;\">\n",
              "        \n",
              "  <svg xmlns=\"http://www.w3.org/2000/svg\" height=\"24px\"viewBox=\"0 0 24 24\"\n",
              "       width=\"24px\">\n",
              "    <path d=\"M0 0h24v24H0V0z\" fill=\"none\"/>\n",
              "    <path d=\"M18.56 5.44l.94 2.06.94-2.06 2.06-.94-2.06-.94-.94-2.06-.94 2.06-2.06.94zm-11 1L8.5 8.5l.94-2.06 2.06-.94-2.06-.94L8.5 2.5l-.94 2.06-2.06.94zm10 10l.94 2.06.94-2.06 2.06-.94-2.06-.94-.94-2.06-.94 2.06-2.06.94z\"/><path d=\"M17.41 7.96l-1.37-1.37c-.4-.4-.92-.59-1.43-.59-.52 0-1.04.2-1.43.59L10.3 9.45l-7.72 7.72c-.78.78-.78 2.05 0 2.83L4 21.41c.39.39.9.59 1.41.59.51 0 1.02-.2 1.41-.59l7.78-7.78 2.81-2.81c.8-.78.8-2.07 0-2.86zM5.41 20L4 18.59l7.72-7.72 1.47 1.35L5.41 20z\"/>\n",
              "  </svg>\n",
              "      </button>\n",
              "      \n",
              "  <style>\n",
              "    .colab-df-container {\n",
              "      display:flex;\n",
              "      flex-wrap:wrap;\n",
              "      gap: 12px;\n",
              "    }\n",
              "\n",
              "    .colab-df-convert {\n",
              "      background-color: #E8F0FE;\n",
              "      border: none;\n",
              "      border-radius: 50%;\n",
              "      cursor: pointer;\n",
              "      display: none;\n",
              "      fill: #1967D2;\n",
              "      height: 32px;\n",
              "      padding: 0 0 0 0;\n",
              "      width: 32px;\n",
              "    }\n",
              "\n",
              "    .colab-df-convert:hover {\n",
              "      background-color: #E2EBFA;\n",
              "      box-shadow: 0px 1px 2px rgba(60, 64, 67, 0.3), 0px 1px 3px 1px rgba(60, 64, 67, 0.15);\n",
              "      fill: #174EA6;\n",
              "    }\n",
              "\n",
              "    [theme=dark] .colab-df-convert {\n",
              "      background-color: #3B4455;\n",
              "      fill: #D2E3FC;\n",
              "    }\n",
              "\n",
              "    [theme=dark] .colab-df-convert:hover {\n",
              "      background-color: #434B5C;\n",
              "      box-shadow: 0px 1px 3px 1px rgba(0, 0, 0, 0.15);\n",
              "      filter: drop-shadow(0px 1px 2px rgba(0, 0, 0, 0.3));\n",
              "      fill: #FFFFFF;\n",
              "    }\n",
              "  </style>\n",
              "\n",
              "      <script>\n",
              "        const buttonEl =\n",
              "          document.querySelector('#df-e2d7521e-9b28-463c-9476-f6c13b35cb4a button.colab-df-convert');\n",
              "        buttonEl.style.display =\n",
              "          google.colab.kernel.accessAllowed ? 'block' : 'none';\n",
              "\n",
              "        async function convertToInteractive(key) {\n",
              "          const element = document.querySelector('#df-e2d7521e-9b28-463c-9476-f6c13b35cb4a');\n",
              "          const dataTable =\n",
              "            await google.colab.kernel.invokeFunction('convertToInteractive',\n",
              "                                                     [key], {});\n",
              "          if (!dataTable) return;\n",
              "\n",
              "          const docLinkHtml = 'Like what you see? Visit the ' +\n",
              "            '<a target=\"_blank\" href=https://colab.research.google.com/notebooks/data_table.ipynb>data table notebook</a>'\n",
              "            + ' to learn more about interactive tables.';\n",
              "          element.innerHTML = '';\n",
              "          dataTable['output_type'] = 'display_data';\n",
              "          await google.colab.output.renderOutput(dataTable, element);\n",
              "          const docLink = document.createElement('div');\n",
              "          docLink.innerHTML = docLinkHtml;\n",
              "          element.appendChild(docLink);\n",
              "        }\n",
              "      </script>\n",
              "    </div>\n",
              "  </div>\n",
              "  "
            ]
          },
          "metadata": {},
          "execution_count": 29
        }
      ],
      "source": [
        "ceara_gpd = read_municipality(code_muni= 23, year= 2020)\n",
        "\n",
        "ceara_gpd['name_muni'] = ceara_gpd['name_muni'].str.upper()\n",
        "\n",
        "ceara_gpd['code_muni'] = ceara_gpd['code_muni'].astype(int)\n",
        "\n",
        "ceara_gpd.head()"
      ]
    },
    {
      "cell_type": "code",
      "execution_count": 30,
      "metadata": {
        "id": "GVnrs8z9Wvvc"
      },
      "outputs": [],
      "source": [
        "vencedores_por_municipio = pd.merge(\n",
        "    left= ceara_gpd[['code_muni', 'name_muni', 'geometry']], right= vencedores_por_municipio, \n",
        "    how= 'inner', left_on= 'name_muni', right_on= 'nm_municipio'\n",
        ").drop('name_muni', axis= 1)"
      ]
    },
    {
      "cell_type": "code",
      "execution_count": 31,
      "metadata": {
        "id": "Qxc4K1ensyNd",
        "colab": {
          "base_uri": "https://localhost:8080/",
          "height": 424
        },
        "outputId": "e7cd249c-aeac-45d2-fe87-57055c45a6d7"
      },
      "outputs": [
        {
          "output_type": "execute_result",
          "data": {
            "text/plain": [
              "     code_muni                                           geometry  \\\n",
              "0      2300101  MULTIPOLYGON (((-39.06727 -7.28001, -39.04954 ...   \n",
              "1      2300150  MULTIPOLYGON (((-38.65304 -4.15796, -38.65108 ...   \n",
              "2      2300200  MULTIPOLYGON (((-40.30984 -2.80769, -40.26882 ...   \n",
              "3      2300309  MULTIPOLYGON (((-39.15631 -5.95731, -39.15267 ...   \n",
              "4      2300408  MULTIPOLYGON (((-40.11801 -6.34845, -40.11298 ...   \n",
              "..         ...                                                ...   \n",
              "179    2313807  MULTIPOLYGON (((-39.43097 -3.62271, -39.42050 ...   \n",
              "180    2313906  MULTIPOLYGON (((-40.79438 -3.21804, -40.66906 ...   \n",
              "181    2313955  MULTIPOLYGON (((-40.43291 -4.14007, -40.42945 ...   \n",
              "182    2314003  MULTIPOLYGON (((-39.23833 -6.58392, -39.23595 ...   \n",
              "183    2314102  MULTIPOLYGON (((-41.15935 -3.32640, -41.14908 ...   \n",
              "\n",
              "        nm_municipio                  nm_votavel  qt_votos  \n",
              "0            ABAIARA  ELMANO DE FREITAS DA COSTA      4182  \n",
              "1            ACARAPE  ELMANO DE FREITAS DA COSTA      4652  \n",
              "2             ACARAÚ  ELMANO DE FREITAS DA COSTA     20534  \n",
              "3           ACOPIARA  ELMANO DE FREITAS DA COSTA     18015  \n",
              "4             AIUABA  ELMANO DE FREITAS DA COSTA      4052  \n",
              "..               ...                         ...       ...  \n",
              "179      URUBURETAMA  ELMANO DE FREITAS DA COSTA      9379  \n",
              "180           URUOCA  ELMANO DE FREITAS DA COSTA      6203  \n",
              "181          VARJOTA  ELMANO DE FREITAS DA COSTA      5429  \n",
              "182    VÁRZEA ALEGRE  ELMANO DE FREITAS DA COSTA     17365  \n",
              "183  VIÇOSA DO CEARÁ  ELMANO DE FREITAS DA COSTA     22996  \n",
              "\n",
              "[184 rows x 5 columns]"
            ],
            "text/html": [
              "\n",
              "  <div id=\"df-9582325c-dab8-4b06-b375-cfaead582575\">\n",
              "    <div class=\"colab-df-container\">\n",
              "      <div>\n",
              "<style scoped>\n",
              "    .dataframe tbody tr th:only-of-type {\n",
              "        vertical-align: middle;\n",
              "    }\n",
              "\n",
              "    .dataframe tbody tr th {\n",
              "        vertical-align: top;\n",
              "    }\n",
              "\n",
              "    .dataframe thead th {\n",
              "        text-align: right;\n",
              "    }\n",
              "</style>\n",
              "<table border=\"1\" class=\"dataframe\">\n",
              "  <thead>\n",
              "    <tr style=\"text-align: right;\">\n",
              "      <th></th>\n",
              "      <th>code_muni</th>\n",
              "      <th>geometry</th>\n",
              "      <th>nm_municipio</th>\n",
              "      <th>nm_votavel</th>\n",
              "      <th>qt_votos</th>\n",
              "    </tr>\n",
              "  </thead>\n",
              "  <tbody>\n",
              "    <tr>\n",
              "      <th>0</th>\n",
              "      <td>2300101</td>\n",
              "      <td>MULTIPOLYGON (((-39.06727 -7.28001, -39.04954 ...</td>\n",
              "      <td>ABAIARA</td>\n",
              "      <td>ELMANO DE FREITAS DA COSTA</td>\n",
              "      <td>4182</td>\n",
              "    </tr>\n",
              "    <tr>\n",
              "      <th>1</th>\n",
              "      <td>2300150</td>\n",
              "      <td>MULTIPOLYGON (((-38.65304 -4.15796, -38.65108 ...</td>\n",
              "      <td>ACARAPE</td>\n",
              "      <td>ELMANO DE FREITAS DA COSTA</td>\n",
              "      <td>4652</td>\n",
              "    </tr>\n",
              "    <tr>\n",
              "      <th>2</th>\n",
              "      <td>2300200</td>\n",
              "      <td>MULTIPOLYGON (((-40.30984 -2.80769, -40.26882 ...</td>\n",
              "      <td>ACARAÚ</td>\n",
              "      <td>ELMANO DE FREITAS DA COSTA</td>\n",
              "      <td>20534</td>\n",
              "    </tr>\n",
              "    <tr>\n",
              "      <th>3</th>\n",
              "      <td>2300309</td>\n",
              "      <td>MULTIPOLYGON (((-39.15631 -5.95731, -39.15267 ...</td>\n",
              "      <td>ACOPIARA</td>\n",
              "      <td>ELMANO DE FREITAS DA COSTA</td>\n",
              "      <td>18015</td>\n",
              "    </tr>\n",
              "    <tr>\n",
              "      <th>4</th>\n",
              "      <td>2300408</td>\n",
              "      <td>MULTIPOLYGON (((-40.11801 -6.34845, -40.11298 ...</td>\n",
              "      <td>AIUABA</td>\n",
              "      <td>ELMANO DE FREITAS DA COSTA</td>\n",
              "      <td>4052</td>\n",
              "    </tr>\n",
              "    <tr>\n",
              "      <th>...</th>\n",
              "      <td>...</td>\n",
              "      <td>...</td>\n",
              "      <td>...</td>\n",
              "      <td>...</td>\n",
              "      <td>...</td>\n",
              "    </tr>\n",
              "    <tr>\n",
              "      <th>179</th>\n",
              "      <td>2313807</td>\n",
              "      <td>MULTIPOLYGON (((-39.43097 -3.62271, -39.42050 ...</td>\n",
              "      <td>URUBURETAMA</td>\n",
              "      <td>ELMANO DE FREITAS DA COSTA</td>\n",
              "      <td>9379</td>\n",
              "    </tr>\n",
              "    <tr>\n",
              "      <th>180</th>\n",
              "      <td>2313906</td>\n",
              "      <td>MULTIPOLYGON (((-40.79438 -3.21804, -40.66906 ...</td>\n",
              "      <td>URUOCA</td>\n",
              "      <td>ELMANO DE FREITAS DA COSTA</td>\n",
              "      <td>6203</td>\n",
              "    </tr>\n",
              "    <tr>\n",
              "      <th>181</th>\n",
              "      <td>2313955</td>\n",
              "      <td>MULTIPOLYGON (((-40.43291 -4.14007, -40.42945 ...</td>\n",
              "      <td>VARJOTA</td>\n",
              "      <td>ELMANO DE FREITAS DA COSTA</td>\n",
              "      <td>5429</td>\n",
              "    </tr>\n",
              "    <tr>\n",
              "      <th>182</th>\n",
              "      <td>2314003</td>\n",
              "      <td>MULTIPOLYGON (((-39.23833 -6.58392, -39.23595 ...</td>\n",
              "      <td>VÁRZEA ALEGRE</td>\n",
              "      <td>ELMANO DE FREITAS DA COSTA</td>\n",
              "      <td>17365</td>\n",
              "    </tr>\n",
              "    <tr>\n",
              "      <th>183</th>\n",
              "      <td>2314102</td>\n",
              "      <td>MULTIPOLYGON (((-41.15935 -3.32640, -41.14908 ...</td>\n",
              "      <td>VIÇOSA DO CEARÁ</td>\n",
              "      <td>ELMANO DE FREITAS DA COSTA</td>\n",
              "      <td>22996</td>\n",
              "    </tr>\n",
              "  </tbody>\n",
              "</table>\n",
              "<p>184 rows × 5 columns</p>\n",
              "</div>\n",
              "      <button class=\"colab-df-convert\" onclick=\"convertToInteractive('df-9582325c-dab8-4b06-b375-cfaead582575')\"\n",
              "              title=\"Convert this dataframe to an interactive table.\"\n",
              "              style=\"display:none;\">\n",
              "        \n",
              "  <svg xmlns=\"http://www.w3.org/2000/svg\" height=\"24px\"viewBox=\"0 0 24 24\"\n",
              "       width=\"24px\">\n",
              "    <path d=\"M0 0h24v24H0V0z\" fill=\"none\"/>\n",
              "    <path d=\"M18.56 5.44l.94 2.06.94-2.06 2.06-.94-2.06-.94-.94-2.06-.94 2.06-2.06.94zm-11 1L8.5 8.5l.94-2.06 2.06-.94-2.06-.94L8.5 2.5l-.94 2.06-2.06.94zm10 10l.94 2.06.94-2.06 2.06-.94-2.06-.94-.94-2.06-.94 2.06-2.06.94z\"/><path d=\"M17.41 7.96l-1.37-1.37c-.4-.4-.92-.59-1.43-.59-.52 0-1.04.2-1.43.59L10.3 9.45l-7.72 7.72c-.78.78-.78 2.05 0 2.83L4 21.41c.39.39.9.59 1.41.59.51 0 1.02-.2 1.41-.59l7.78-7.78 2.81-2.81c.8-.78.8-2.07 0-2.86zM5.41 20L4 18.59l7.72-7.72 1.47 1.35L5.41 20z\"/>\n",
              "  </svg>\n",
              "      </button>\n",
              "      \n",
              "  <style>\n",
              "    .colab-df-container {\n",
              "      display:flex;\n",
              "      flex-wrap:wrap;\n",
              "      gap: 12px;\n",
              "    }\n",
              "\n",
              "    .colab-df-convert {\n",
              "      background-color: #E8F0FE;\n",
              "      border: none;\n",
              "      border-radius: 50%;\n",
              "      cursor: pointer;\n",
              "      display: none;\n",
              "      fill: #1967D2;\n",
              "      height: 32px;\n",
              "      padding: 0 0 0 0;\n",
              "      width: 32px;\n",
              "    }\n",
              "\n",
              "    .colab-df-convert:hover {\n",
              "      background-color: #E2EBFA;\n",
              "      box-shadow: 0px 1px 2px rgba(60, 64, 67, 0.3), 0px 1px 3px 1px rgba(60, 64, 67, 0.15);\n",
              "      fill: #174EA6;\n",
              "    }\n",
              "\n",
              "    [theme=dark] .colab-df-convert {\n",
              "      background-color: #3B4455;\n",
              "      fill: #D2E3FC;\n",
              "    }\n",
              "\n",
              "    [theme=dark] .colab-df-convert:hover {\n",
              "      background-color: #434B5C;\n",
              "      box-shadow: 0px 1px 3px 1px rgba(0, 0, 0, 0.15);\n",
              "      filter: drop-shadow(0px 1px 2px rgba(0, 0, 0, 0.3));\n",
              "      fill: #FFFFFF;\n",
              "    }\n",
              "  </style>\n",
              "\n",
              "      <script>\n",
              "        const buttonEl =\n",
              "          document.querySelector('#df-9582325c-dab8-4b06-b375-cfaead582575 button.colab-df-convert');\n",
              "        buttonEl.style.display =\n",
              "          google.colab.kernel.accessAllowed ? 'block' : 'none';\n",
              "\n",
              "        async function convertToInteractive(key) {\n",
              "          const element = document.querySelector('#df-9582325c-dab8-4b06-b375-cfaead582575');\n",
              "          const dataTable =\n",
              "            await google.colab.kernel.invokeFunction('convertToInteractive',\n",
              "                                                     [key], {});\n",
              "          if (!dataTable) return;\n",
              "\n",
              "          const docLinkHtml = 'Like what you see? Visit the ' +\n",
              "            '<a target=\"_blank\" href=https://colab.research.google.com/notebooks/data_table.ipynb>data table notebook</a>'\n",
              "            + ' to learn more about interactive tables.';\n",
              "          element.innerHTML = '';\n",
              "          dataTable['output_type'] = 'display_data';\n",
              "          await google.colab.output.renderOutput(dataTable, element);\n",
              "          const docLink = document.createElement('div');\n",
              "          docLink.innerHTML = docLinkHtml;\n",
              "          element.appendChild(docLink);\n",
              "        }\n",
              "      </script>\n",
              "    </div>\n",
              "  </div>\n",
              "  "
            ]
          },
          "metadata": {},
          "execution_count": 31
        }
      ],
      "source": [
        "vencedores_por_municipio"
      ]
    },
    {
      "cell_type": "code",
      "execution_count": 32,
      "metadata": {
        "id": "UwOHP49i8uM3",
        "colab": {
          "base_uri": "https://localhost:8080/",
          "height": 1000
        },
        "outputId": "8ff2d469-7733-4f86-ab29-642c3f817196"
      },
      "outputs": [
        {
          "output_type": "stream",
          "name": "stderr",
          "text": [
            "/usr/local/lib/python3.9/dist-packages/geopandas/plotting.py:33: ShapelyDeprecationWarning:\n",
            "\n",
            "Iteration over multi-part geometries is deprecated and will be removed in Shapely 2.0. Use the `geoms` property to access the constituent parts of a multi-part geometry.\n",
            "\n",
            "/usr/local/lib/python3.9/dist-packages/descartes/patch.py:62: ShapelyDeprecationWarning:\n",
            "\n",
            "The array interface is deprecated and will no longer work in Shapely 2.0. Convert the '.coords' to a numpy array instead.\n",
            "\n"
          ]
        },
        {
          "output_type": "execute_result",
          "data": {
            "text/plain": [
              "Text(0.5, 1.0, 'Candidatos ao governo do estado vencedores em cada município')"
            ]
          },
          "metadata": {},
          "execution_count": 32
        },
        {
          "output_type": "display_data",
          "data": {
            "text/plain": [
              "<Figure size 1800x1200 with 1 Axes>"
            ],
            "image/png": "[encoded data removed]"
          },
          "metadata": {}
        }
      ],
      "source": [
        "ax = vencedores_por_municipio.plot(\n",
        "    column= 'nm_votavel', \n",
        "    legend= True, figsize= (18, 12)\n",
        ")\n",
        "ax.set_title('Candidatos ao governo do estado vencedores em cada município')"
      ]
    },
    {
      "cell_type": "markdown",
      "metadata": {
        "id": "xll9InhdCHXt"
      },
      "source": [
        "## 5.2.3 Votos para governador nos municípios da Região Metropolitana de Fortaleza "
      ]
    },
    {
      "cell_type": "markdown",
      "metadata": {
        "id": "2glpxcEeh2Tp"
      },
      "source": [
        "A Região Metropolitana de Fortaleza é constituída de 19 municípios sendo eles:\n",
        "\n",
        "* Aquiraz, Cascavel, Caucaia, Chorozinho, Eusébio, Fortaleza, Guaiúba, Horizonte, Itaitinga, Maracanaú, Maranguape, Pacajus, Pacatuba, Pindoretama, São Gonçalo do Amarante, São Luís do Curu, Paraipaba, Paracuru e Trairi. \n",
        "\n",
        "Fonte: https://pt.wikipedia.org/wiki/Regi%C3%A3o_Metropolitana_de_Fortaleza\n"
      ]
    },
    {
      "cell_type": "markdown",
      "metadata": {
        "id": "amAp-QIvkuDV"
      },
      "source": [
        "![image.png](data:image/png;base64,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)"
      ]
    },
    {
      "cell_type": "markdown",
      "metadata": {
        "id": "pWyZ_bS-k6iX"
      },
      "source": [
        "Instancia-se uma lista contendo o nome dos municípios da região metropolitana, todos eles em caixa alta:"
      ]
    },
    {
      "cell_type": "code",
      "execution_count": 33,
      "metadata": {
        "id": "-bAs8_HSqMjN"
      },
      "outputs": [],
      "source": [
        "regiao_metropolitana = [\n",
        "    'AQUIRAZ', 'CASCAVEL', 'CAUCAIA', 'CHOROZINHO', 'EUSÉBIO', \n",
        "    'FORTALEZA', 'GUAIÚBA', 'HORIZONTE', 'ITAITINGA', 'MARACANAÚ', \n",
        "    'MARANGUAPE', 'PACAJUS', 'PACATUBA', 'PINDORETAMA', \n",
        "    'SÃO GONÇALO DO AMARANTE', 'SÃO LUÍS DO CURU',\n",
        "    'PARAIPABA', 'PARACURU', 'TRAIRI'\n",
        "]"
      ]
    },
    {
      "cell_type": "markdown",
      "source": [
        "### 5.2.3.1 Contribuição de cada município da Região Metropolitana de Fortaleza na eleição"
      ],
      "metadata": {
        "id": "e4-fMCSjFK0L"
      }
    },
    {
      "cell_type": "code",
      "source": [
        "votos_por_municipio_regiao_metropolitana = votacao_ce.query('ds_cargo == \"GOVERNADOR\" and nm_municipio in @regiao_metropolitana')\\\n",
        "                                                     .groupby('nm_municipio')['qt_votos'].sum().sort_values(ascending= False).to_frame()\n",
        "votos_totais_regiao_metropolitana = votos_por_municipio_regiao_metropolitana['qt_votos'].sum()\n",
        "votos_por_municipio_regiao_metropolitana['porcentagem_votos_da_regiao'] = votos_por_municipio_regiao_metropolitana['qt_votos']/votos_totais_regiao_metropolitana\n",
        "votos_por_municipio_regiao_metropolitana['porcentagem_votos_da_regiao'] = round((votos_por_municipio_regiao_metropolitana['porcentagem_votos_da_regiao'] * 100), 2)"
      ],
      "metadata": {
        "id": "RVI8bBGvHZ-O"
      },
      "execution_count": 45,
      "outputs": []
    },
    {
      "cell_type": "code",
      "source": [
        "fig = go.Figure()\n",
        "fig.add_trace(\n",
        "    go.Waterfall(\n",
        "        x= votos_por_municipio_regiao_metropolitana.index, \n",
        "        y= votos_por_municipio_regiao_metropolitana['porcentagem_votos_da_regiao'])\n",
        ")\n",
        "fig.update_layout(\n",
        "    title= 'Contribuição de votos, em porcentagem, dos municípios na Região Metropolitana de Fortaleza',\n",
        "    title_x= 0.5, yaxis_title= 'Porcentagem', xaxis_title= 'Municípios'\n",
        ")\n",
        "fig.show()"
      ],
      "metadata": {
        "colab": {
          "base_uri": "https://localhost:8080/",
          "height": 542
        },
        "id": "vPeWITQmG3gy",
        "outputId": "2be82db6-2f68-4306-801e-c624d07436f8"
      },
      "execution_count": 46,
      "outputs": [
        {
          "output_type": "display_data",
          "data": {
            "text/html": [
              "<html>\n",
              "<head><meta charset=\"utf-8\" /></head>\n",
              "<body>\n",
              "    <div>            <script src=\"https://cdnjs.cloudflare.com/ajax/libs/mathjax/2.7.5/MathJax.js?config=TeX-AMS-MML_SVG\"></script><script type=\"text/javascript\">if (window.MathJax && window.MathJax.Hub && window.MathJax.Hub.Config) {window.MathJax.Hub.Config({SVG: {font: \"STIX-Web\"}});}</script>                <script type=\"text/javascript\">window.PlotlyConfig = {MathJaxConfig: 'local'};</script>\n",
              "        <script src=\"https://cdn.plot.ly/plotly-2.18.2.min.js\"></script>                <div id=\"df0f92e4-88ee-4634-a7cf-3791c3eda9f8\" class=\"plotly-graph-div\" style=\"height:525px; width:100%;\"></div>            <script type=\"text/javascript\">                                    window.PLOTLYENV=window.PLOTLYENV || {};                                    if (document.getElementById(\"df0f92e4-88ee-4634-a7cf-3791c3eda9f8\")) {                    Plotly.newPlot(                        \"df0f92e4-88ee-4634-a7cf-3791c3eda9f8\",                        [{\"x\":[\"FORTALEZA\",\"CAUCAIA\",\"MARACANA\\u00da\",\"MARANGUAPE\",\"AQUIRAZ\",\"HORIZONTE\",\"CASCAVEL\",\"PACATUBA\",\"PACAJUS\",\"EUS\\u00c9BIO\",\"S\\u00c3O GON\\u00c7ALO DO AMARANTE\",\"TRAIRI\",\"PARACURU\",\"ITAITINGA\",\"PARAIPABA\",\"GUAI\\u00daBA\",\"PINDORETAMA\",\"CHOROZINHO\",\"S\\u00c3O LU\\u00cdS DO CURU\"],\"y\":[63.19,8.23,6.02,2.77,2.14,1.98,1.95,1.81,1.8,1.72,1.57,1.54,1.06,1.05,0.88,0.68,0.64,0.59,0.38],\"type\":\"waterfall\"}],                        {\"template\":{\"data\":{\"histogram2dcontour\":[{\"type\":\"histogram2dcontour\",\"colorbar\":{\"outlinewidth\":0,\"ticks\":\"\"},\"colorscale\":[[0.0,\"#0d0887\"],[0.1111111111111111,\"#46039f\"],[0.2222222222222222,\"#7201a8\"],[0.3333333333333333,\"#9c179e\"],[0.4444444444444444,\"#bd3786\"],[0.5555555555555556,\"#d8576b\"],[0.6666666666666666,\"#ed7953\"],[0.7777777777777778,\"#fb9f3a\"],[0.8888888888888888,\"#fdca26\"],[1.0,\"#f0f921\"]]}],\"choropleth\":[{\"type\":\"choropleth\",\"colorbar\":{\"outlinewidth\":0,\"ticks\":\"\"}}],\"histogram2d\":[{\"type\":\"histogram2d\",\"colorbar\":{\"outlinewidth\":0,\"ticks\":\"\"},\"colorscale\":[[0.0,\"#0d0887\"],[0.1111111111111111,\"#46039f\"],[0.2222222222222222,\"#7201a8\"],[0.3333333333333333,\"#9c179e\"],[0.4444444444444444,\"#bd3786\"],[0.5555555555555556,\"#d8576b\"],[0.6666666666666666,\"#ed7953\"],[0.7777777777777778,\"#fb9f3a\"],[0.8888888888888888,\"#fdca26\"],[1.0,\"#f0f921\"]]}],\"heatmap\":[{\"type\":\"heatmap\",\"colorbar\":{\"outlinewidth\":0,\"ticks\":\"\"},\"colorscale\":[[0.0,\"#0d0887\"],[0.1111111111111111,\"#46039f\"],[0.2222222222222222,\"#7201a8\"],[0.3333333333333333,\"#9c179e\"],[0.4444444444444444,\"#bd3786\"],[0.5555555555555556,\"#d8576b\"],[0.6666666666666666,\"#ed7953\"],[0.7777777777777778,\"#fb9f3a\"],[0.8888888888888888,\"#fdca26\"],[1.0,\"#f0f921\"]]}],\"heatmapgl\":[{\"type\":\"heatmapgl\",\"colorbar\":{\"outlinewidth\":0,\"ticks\":\"\"},\"colorscale\":[[0.0,\"#0d0887\"],[0.1111111111111111,\"#46039f\"],[0.2222222222222222,\"#7201a8\"],[0.3333333333333333,\"#9c179e\"],[0.4444444444444444,\"#bd3786\"],[0.5555555555555556,\"#d8576b\"],[0.6666666666666666,\"#ed7953\"],[0.7777777777777778,\"#fb9f3a\"],[0.8888888888888888,\"#fdca26\"],[1.0,\"#f0f921\"]]}],\"contourcarpet\":[{\"type\":\"contourcarpet\",\"colorbar\":{\"outlinewidth\":0,\"ticks\":\"\"}}],\"contour\":[{\"type\":\"contour\",\"colorbar\":{\"outlinewidth\":0,\"ticks\":\"\"},\"colorscale\":[[0.0,\"#0d0887\"],[0.1111111111111111,\"#46039f\"],[0.2222222222222222,\"#7201a8\"],[0.3333333333333333,\"#9c179e\"],[0.4444444444444444,\"#bd3786\"],[0.5555555555555556,\"#d8576b\"],[0.6666666666666666,\"#ed7953\"],[0.7777777777777778,\"#fb9f3a\"],[0.8888888888888888,\"#fdca26\"],[1.0,\"#f0f921\"]]}],\"surface\":[{\"type\":\"surface\",\"colorbar\":{\"outlinewidth\":0,\"ticks\":\"\"},\"colorscale\":[[0.0,\"#0d0887\"],[0.1111111111111111,\"#46039f\"],[0.2222222222222222,\"#7201a8\"],[0.3333333333333333,\"#9c179e\"],[0.4444444444444444,\"#bd3786\"],[0.5555555555555556,\"#d8576b\"],[0.6666666666666666,\"#ed7953\"],[0.7777777777777778,\"#fb9f3a\"],[0.8888888888888888,\"#fdca26\"],[1.0,\"#f0f921\"]]}],\"mesh3d\":[{\"type\":\"mesh3d\",\"colorbar\":{\"outlinewidth\":0,\"ticks\":\"\"}}],\"scatter\":[{\"fillpattern\":{\"fillmode\":\"overlay\",\"size\":10,\"solidity\":0.2},\"type\":\"scatter\"}],\"parcoords\":[{\"type\":\"parcoords\",\"line\":{\"colorbar\":{\"outlinewidth\":0,\"ticks\":\"\"}}}],\"scatterpolargl\":[{\"type\":\"scatterpolargl\",\"marker\":{\"colorbar\":{\"outlinewidth\":0,\"ticks\":\"\"}}}],\"bar\":[{\"error_x\":{\"color\":\"#2a3f5f\"},\"error_y\":{\"color\":\"#2a3f5f\"},\"marker\":{\"line\":{\"color\":\"#E5ECF6\",\"width\":0.5},\"pattern\":{\"fillmode\":\"overlay\",\"size\":10,\"solidity\":0.2}},\"type\":\"bar\"}],\"scattergeo\":[{\"type\":\"scattergeo\",\"marker\":{\"colorbar\":{\"outlinewidth\":0,\"ticks\":\"\"}}}],\"scatterpolar\":[{\"type\":\"scatterpolar\",\"marker\":{\"colorbar\":{\"outlinewidth\":0,\"ticks\":\"\"}}}],\"histogram\":[{\"marker\":{\"pattern\":{\"fillmode\":\"overlay\",\"size\":10,\"solidity\":0.2}},\"type\":\"histogram\"}],\"scattergl\":[{\"type\":\"scattergl\",\"marker\":{\"colorbar\":{\"outlinewidth\":0,\"ticks\":\"\"}}}],\"scatter3d\":[{\"type\":\"scatter3d\",\"line\":{\"colorbar\":{\"outlinewidth\":0,\"ticks\":\"\"}},\"marker\":{\"colorbar\":{\"outlinewidth\":0,\"ticks\":\"\"}}}],\"scattermapbox\":[{\"type\":\"scattermapbox\",\"marker\":{\"colorbar\":{\"outlinewidth\":0,\"ticks\":\"\"}}}],\"scatterternary\":[{\"type\":\"scatterternary\",\"marker\":{\"colorbar\":{\"outlinewidth\":0,\"ticks\":\"\"}}}],\"scattercarpet\":[{\"type\":\"scattercarpet\",\"marker\":{\"colorbar\":{\"outlinewidth\":0,\"ticks\":\"\"}}}],\"carpet\":[{\"aaxis\":{\"endlinecolor\":\"#2a3f5f\",\"gridcolor\":\"white\",\"linecolor\":\"white\",\"minorgridcolor\":\"white\",\"startlinecolor\":\"#2a3f5f\"},\"baxis\":{\"endlinecolor\":\"#2a3f5f\",\"gridcolor\":\"white\",\"linecolor\":\"white\",\"minorgridcolor\":\"white\",\"startlinecolor\":\"#2a3f5f\"},\"type\":\"carpet\"}],\"table\":[{\"cells\":{\"fill\":{\"color\":\"#EBF0F8\"},\"line\":{\"color\":\"white\"}},\"header\":{\"fill\":{\"color\":\"#C8D4E3\"},\"line\":{\"color\":\"white\"}},\"type\":\"table\"}],\"barpolar\":[{\"marker\":{\"line\":{\"color\":\"#E5ECF6\",\"width\":0.5},\"pattern\":{\"fillmode\":\"overlay\",\"size\":10,\"solidity\":0.2}},\"type\":\"barpolar\"}],\"pie\":[{\"automargin\":true,\"type\":\"pie\"}]},\"layout\":{\"autotypenumbers\":\"strict\",\"colorway\":[\"#636efa\",\"#EF553B\",\"#00cc96\",\"#ab63fa\",\"#FFA15A\",\"#19d3f3\",\"#FF6692\",\"#B6E880\",\"#FF97FF\",\"#FECB52\"],\"font\":{\"color\":\"#2a3f5f\"},\"hovermode\":\"closest\",\"hoverlabel\":{\"align\":\"left\"},\"paper_bgcolor\":\"white\",\"plot_bgcolor\":\"#E5ECF6\",\"polar\":{\"bgcolor\":\"#E5ECF6\",\"angularaxis\":{\"gridcolor\":\"white\",\"linecolor\":\"white\",\"ticks\":\"\"},\"radialaxis\":{\"gridcolor\":\"white\",\"linecolor\":\"white\",\"ticks\":\"\"}},\"ternary\":{\"bgcolor\":\"#E5ECF6\",\"aaxis\":{\"gridcolor\":\"white\",\"linecolor\":\"white\",\"ticks\":\"\"},\"baxis\":{\"gridcolor\":\"white\",\"linecolor\":\"white\",\"ticks\":\"\"},\"caxis\":{\"gridcolor\":\"white\",\"linecolor\":\"white\",\"ticks\":\"\"}},\"coloraxis\":{\"colorbar\":{\"outlinewidth\":0,\"ticks\":\"\"}},\"colorscale\":{\"sequential\":[[0.0,\"#0d0887\"],[0.1111111111111111,\"#46039f\"],[0.2222222222222222,\"#7201a8\"],[0.3333333333333333,\"#9c179e\"],[0.4444444444444444,\"#bd3786\"],[0.5555555555555556,\"#d8576b\"],[0.6666666666666666,\"#ed7953\"],[0.7777777777777778,\"#fb9f3a\"],[0.8888888888888888,\"#fdca26\"],[1.0,\"#f0f921\"]],\"sequentialminus\":[[0.0,\"#0d0887\"],[0.1111111111111111,\"#46039f\"],[0.2222222222222222,\"#7201a8\"],[0.3333333333333333,\"#9c179e\"],[0.4444444444444444,\"#bd3786\"],[0.5555555555555556,\"#d8576b\"],[0.6666666666666666,\"#ed7953\"],[0.7777777777777778,\"#fb9f3a\"],[0.8888888888888888,\"#fdca26\"],[1.0,\"#f0f921\"]],\"diverging\":[[0,\"#8e0152\"],[0.1,\"#c51b7d\"],[0.2,\"#de77ae\"],[0.3,\"#f1b6da\"],[0.4,\"#fde0ef\"],[0.5,\"#f7f7f7\"],[0.6,\"#e6f5d0\"],[0.7,\"#b8e186\"],[0.8,\"#7fbc41\"],[0.9,\"#4d9221\"],[1,\"#276419\"]]},\"xaxis\":{\"gridcolor\":\"white\",\"linecolor\":\"white\",\"ticks\":\"\",\"title\":{\"standoff\":15},\"zerolinecolor\":\"white\",\"automargin\":true,\"zerolinewidth\":2},\"yaxis\":{\"gridcolor\":\"white\",\"linecolor\":\"white\",\"ticks\":\"\",\"title\":{\"standoff\":15},\"zerolinecolor\":\"white\",\"automargin\":true,\"zerolinewidth\":2},\"scene\":{\"xaxis\":{\"backgroundcolor\":\"#E5ECF6\",\"gridcolor\":\"white\",\"linecolor\":\"white\",\"showbackground\":true,\"ticks\":\"\",\"zerolinecolor\":\"white\",\"gridwidth\":2},\"yaxis\":{\"backgroundcolor\":\"#E5ECF6\",\"gridcolor\":\"white\",\"linecolor\":\"white\",\"showbackground\":true,\"ticks\":\"\",\"zerolinecolor\":\"white\",\"gridwidth\":2},\"zaxis\":{\"backgroundcolor\":\"#E5ECF6\",\"gridcolor\":\"white\",\"linecolor\":\"white\",\"showbackground\":true,\"ticks\":\"\",\"zerolinecolor\":\"white\",\"gridwidth\":2}},\"shapedefaults\":{\"line\":{\"color\":\"#2a3f5f\"}},\"annotationdefaults\":{\"arrowcolor\":\"#2a3f5f\",\"arrowhead\":0,\"arrowwidth\":1},\"geo\":{\"bgcolor\":\"white\",\"landcolor\":\"#E5ECF6\",\"subunitcolor\":\"white\",\"showland\":true,\"showlakes\":true,\"lakecolor\":\"white\"},\"title\":{\"x\":0.05},\"mapbox\":{\"style\":\"light\"}}},\"title\":{\"text\":\"Contribui\\u00e7\\u00e3o de votos, em porcentagem, dos munic\\u00edpios na Regi\\u00e3o Metropolitana de Fortaleza\",\"x\":0.5},\"yaxis\":{\"title\":{\"text\":\"Porcentagem\"}},\"xaxis\":{\"title\":{\"text\":\"Munic\\u00edpios\"}}},                        {\"responsive\": true}                    ).then(function(){\n",
              "                            \n",
              "var gd = document.getElementById('df0f92e4-88ee-4634-a7cf-3791c3eda9f8');\n",
              "var x = new MutationObserver(function (mutations, observer) {{\n",
              "        var display = window.getComputedStyle(gd).display;\n",
              "        if (!display || display === 'none') {{\n",
              "            console.log([gd, 'removed!']);\n",
              "            Plotly.purge(gd);\n",
              "            observer.disconnect();\n",
              "        }}\n",
              "}});\n",
              "\n",
              "// Listen for the removal of the full notebook cells\n",
              "var notebookContainer = gd.closest('#notebook-container');\n",
              "if (notebookContainer) {{\n",
              "    x.observe(notebookContainer, {childList: true});\n",
              "}}\n",
              "\n",
              "// Listen for the clearing of the current output cell\n",
              "var outputEl = gd.closest('.output');\n",
              "if (outputEl) {{\n",
              "    x.observe(outputEl, {childList: true});\n",
              "}}\n",
              "\n",
              "                        })                };                            </script>        </div>\n",
              "</body>\n",
              "</html>"
            ]
          },
          "metadata": {}
        }
      ]
    },
    {
      "cell_type": "markdown",
      "metadata": {
        "id": "J7gOGj0cuebQ"
      },
      "source": [
        "Determina-se a quantidade de votos totais para governador em cada cidade da região metropolitana."
      ]
    },
    {
      "cell_type": "code",
      "execution_count": 34,
      "metadata": {
        "id": "IpSSVIgep4Op"
      },
      "outputs": [],
      "source": [
        "# Buscam-se os dados referentes a votação para governador e nos municípios da região metropolitana:\n",
        "\n",
        "votos_por_cidade_regiao_metropolitana = votacao_ce.query('ds_cargo == \"GOVERNADOR\" and nm_municipio in @regiao_metropolitana')\\\n",
        "                                                  .groupby('nm_municipio')['qt_votos'].sum() # os dados são agrupados por município e os votos somados.\n",
        "votos_por_cidade_regiao_metropolitana = dict(votos_por_cidade_regiao_metropolitana) "
      ]
    },
    {
      "cell_type": "markdown",
      "metadata": {
        "id": "J4iYQwUmuyoK"
      },
      "source": [
        "Instanciou-se os votos por cidade da região metropolitana em um dicionário, como visualizado abaixo:"
      ]
    },
    {
      "cell_type": "code",
      "execution_count": 47,
      "metadata": {
        "id": "Tnp5kA0aqfIT",
        "colab": {
          "base_uri": "https://localhost:8080/"
        },
        "outputId": "f61a061f-f4e8-4a08-d7b6-a0ce4b1ed8bd"
      },
      "outputs": [
        {
          "output_type": "execute_result",
          "data": {
            "text/plain": [
              "{'AQUIRAZ': 52826,\n",
              " 'CASCAVEL': 48165,\n",
              " 'CAUCAIA': 203023,\n",
              " 'CHOROZINHO': 14627,\n",
              " 'EUSÉBIO': 42417,\n",
              " 'FORTALEZA': 1559702,\n",
              " 'GUAIÚBA': 16756,\n",
              " 'HORIZONTE': 48963,\n",
              " 'ITAITINGA': 25942,\n",
              " 'MARACANAÚ': 148636,\n",
              " 'MARANGUAPE': 68296,\n",
              " 'PACAJUS': 44337,\n",
              " 'PACATUBA': 44772,\n",
              " 'PARACURU': 26088,\n",
              " 'PARAIPABA': 21824,\n",
              " 'PINDORETAMA': 15837,\n",
              " 'SÃO GONÇALO DO AMARANTE': 38834,\n",
              " 'SÃO LUÍS DO CURU': 9330,\n",
              " 'TRAIRI': 37895}"
            ]
          },
          "metadata": {},
          "execution_count": 47
        }
      ],
      "source": [
        "votos_por_cidade_regiao_metropolitana"
      ]
    },
    {
      "cell_type": "markdown",
      "metadata": {
        "id": "NIl6300svvYN"
      },
      "source": [
        "Determinam-se os votos para cada candidato em cada um dos municípios da região metropolitana de Fortaleza."
      ]
    },
    {
      "cell_type": "code",
      "execution_count": 48,
      "metadata": {
        "id": "t9Huu7xSmfhx"
      },
      "outputs": [],
      "source": [
        "# Buscam-se os dados referentes ao cargo de governador e das cidades da região metropolitana, estes são agrupados, os votos somados e os index resetados:\n",
        "\n",
        "votos_regiao_metropolitana = votacao_ce.query('nm_municipio in @regiao_metropolitana and ds_cargo == \"GOVERNADOR\"')\\\n",
        "                                       .groupby(['nm_municipio', 'nm_votavel'])['qt_votos'].sum().reset_index()\n",
        "\n",
        "# Os dados são ordenados em ordem alfabética do nome dos municípios e em ordem decrescente dos votos:\n",
        "\n",
        "votos_regiao_metropolitana = votos_regiao_metropolitana.sort_values(['nm_municipio', 'qt_votos'], ascending= [True, False])"
      ]
    },
    {
      "cell_type": "markdown",
      "metadata": {
        "id": "-LPgAXQOv32i"
      },
      "source": [
        "E, por fim, adicionam-se as porcentagens de votos para cada candidato naquela localidade:"
      ]
    },
    {
      "cell_type": "code",
      "execution_count": 49,
      "metadata": {
        "id": "7NOklujpqukW"
      },
      "outputs": [],
      "source": [
        "porcentagem = list()\n",
        "\n",
        "for index, row in votos_regiao_metropolitana.iterrows():\n",
        "  # itera-se o dataframe e calcula-se a porcentagem dos votos a partir dos votos totais de cada município, informação presente no dicionário:\n",
        "\n",
        "  valor = round((row['qt_votos'] / votos_por_cidade_regiao_metropolitana[row['nm_municipio']]) * 100, 2)\n",
        "  porcentagem.append(valor) # os valores são colocados na lista porcentagem."
      ]
    },
    {
      "cell_type": "code",
      "execution_count": 50,
      "metadata": {
        "id": "E2G0HM8Ksm6B",
        "colab": {
          "base_uri": "https://localhost:8080/",
          "height": 424
        },
        "outputId": "055fba78-0b32-4404-a838-0b146179a4cf"
      },
      "outputs": [
        {
          "output_type": "execute_result",
          "data": {
            "text/plain": [
              "    nm_municipio                          nm_votavel  qt_votos  porcentagem\n",
              "0        AQUIRAZ          ELMANO DE FREITAS DA COSTA     25542        48.35\n",
              "7        AQUIRAZ                  WAGNER SOUSA GOMES     19229        36.40\n",
              "3        AQUIRAZ   ROBERTO CLÁUDIO RODRIGUES BEZERRA      3721         7.04\n",
              "6        AQUIRAZ                           VOTO NULO      2643         5.00\n",
              "5        AQUIRAZ                         VOTO BRANCO      1643         3.11\n",
              "..           ...                                 ...       ...          ...\n",
              "150       TRAIRI                           VOTO NULO      1768         4.67\n",
              "149       TRAIRI                         VOTO BRANCO      1259         3.32\n",
              "145       TRAIRI  FRANCISCO RAIMUNDO MALTA DE ARAÚJO        11         0.03\n",
              "146       TRAIRI                   JOSÉ BATISTA NETO         9         0.02\n",
              "148       TRAIRI                SERLEY DE SOUSA LEAL         4         0.01\n",
              "\n",
              "[152 rows x 4 columns]"
            ],
            "text/html": [
              "\n",
              "  <div id=\"df-1103cf45-ffdc-4f00-a4d1-22dbd946f443\">\n",
              "    <div class=\"colab-df-container\">\n",
              "      <div>\n",
              "<style scoped>\n",
              "    .dataframe tbody tr th:only-of-type {\n",
              "        vertical-align: middle;\n",
              "    }\n",
              "\n",
              "    .dataframe tbody tr th {\n",
              "        vertical-align: top;\n",
              "    }\n",
              "\n",
              "    .dataframe thead th {\n",
              "        text-align: right;\n",
              "    }\n",
              "</style>\n",
              "<table border=\"1\" class=\"dataframe\">\n",
              "  <thead>\n",
              "    <tr style=\"text-align: right;\">\n",
              "      <th></th>\n",
              "      <th>nm_municipio</th>\n",
              "      <th>nm_votavel</th>\n",
              "      <th>qt_votos</th>\n",
              "      <th>porcentagem</th>\n",
              "    </tr>\n",
              "  </thead>\n",
              "  <tbody>\n",
              "    <tr>\n",
              "      <th>0</th>\n",
              "      <td>AQUIRAZ</td>\n",
              "      <td>ELMANO DE FREITAS DA COSTA</td>\n",
              "      <td>25542</td>\n",
              "      <td>48.35</td>\n",
              "    </tr>\n",
              "    <tr>\n",
              "      <th>7</th>\n",
              "      <td>AQUIRAZ</td>\n",
              "      <td>WAGNER SOUSA GOMES</td>\n",
              "      <td>19229</td>\n",
              "      <td>36.40</td>\n",
              "    </tr>\n",
              "    <tr>\n",
              "      <th>3</th>\n",
              "      <td>AQUIRAZ</td>\n",
              "      <td>ROBERTO CLÁUDIO RODRIGUES BEZERRA</td>\n",
              "      <td>3721</td>\n",
              "      <td>7.04</td>\n",
              "    </tr>\n",
              "    <tr>\n",
              "      <th>6</th>\n",
              "      <td>AQUIRAZ</td>\n",
              "      <td>VOTO NULO</td>\n",
              "      <td>2643</td>\n",
              "      <td>5.00</td>\n",
              "    </tr>\n",
              "    <tr>\n",
              "      <th>5</th>\n",
              "      <td>AQUIRAZ</td>\n",
              "      <td>VOTO BRANCO</td>\n",
              "      <td>1643</td>\n",
              "      <td>3.11</td>\n",
              "    </tr>\n",
              "    <tr>\n",
              "      <th>...</th>\n",
              "      <td>...</td>\n",
              "      <td>...</td>\n",
              "      <td>...</td>\n",
              "      <td>...</td>\n",
              "    </tr>\n",
              "    <tr>\n",
              "      <th>150</th>\n",
              "      <td>TRAIRI</td>\n",
              "      <td>VOTO NULO</td>\n",
              "      <td>1768</td>\n",
              "      <td>4.67</td>\n",
              "    </tr>\n",
              "    <tr>\n",
              "      <th>149</th>\n",
              "      <td>TRAIRI</td>\n",
              "      <td>VOTO BRANCO</td>\n",
              "      <td>1259</td>\n",
              "      <td>3.32</td>\n",
              "    </tr>\n",
              "    <tr>\n",
              "      <th>145</th>\n",
              "      <td>TRAIRI</td>\n",
              "      <td>FRANCISCO RAIMUNDO MALTA DE ARAÚJO</td>\n",
              "      <td>11</td>\n",
              "      <td>0.03</td>\n",
              "    </tr>\n",
              "    <tr>\n",
              "      <th>146</th>\n",
              "      <td>TRAIRI</td>\n",
              "      <td>JOSÉ BATISTA NETO</td>\n",
              "      <td>9</td>\n",
              "      <td>0.02</td>\n",
              "    </tr>\n",
              "    <tr>\n",
              "      <th>148</th>\n",
              "      <td>TRAIRI</td>\n",
              "      <td>SERLEY DE SOUSA LEAL</td>\n",
              "      <td>4</td>\n",
              "      <td>0.01</td>\n",
              "    </tr>\n",
              "  </tbody>\n",
              "</table>\n",
              "<p>152 rows × 4 columns</p>\n",
              "</div>\n",
              "      <button class=\"colab-df-convert\" onclick=\"convertToInteractive('df-1103cf45-ffdc-4f00-a4d1-22dbd946f443')\"\n",
              "              title=\"Convert this dataframe to an interactive table.\"\n",
              "              style=\"display:none;\">\n",
              "        \n",
              "  <svg xmlns=\"http://www.w3.org/2000/svg\" height=\"24px\"viewBox=\"0 0 24 24\"\n",
              "       width=\"24px\">\n",
              "    <path d=\"M0 0h24v24H0V0z\" fill=\"none\"/>\n",
              "    <path d=\"M18.56 5.44l.94 2.06.94-2.06 2.06-.94-2.06-.94-.94-2.06-.94 2.06-2.06.94zm-11 1L8.5 8.5l.94-2.06 2.06-.94-2.06-.94L8.5 2.5l-.94 2.06-2.06.94zm10 10l.94 2.06.94-2.06 2.06-.94-2.06-.94-.94-2.06-.94 2.06-2.06.94z\"/><path d=\"M17.41 7.96l-1.37-1.37c-.4-.4-.92-.59-1.43-.59-.52 0-1.04.2-1.43.59L10.3 9.45l-7.72 7.72c-.78.78-.78 2.05 0 2.83L4 21.41c.39.39.9.59 1.41.59.51 0 1.02-.2 1.41-.59l7.78-7.78 2.81-2.81c.8-.78.8-2.07 0-2.86zM5.41 20L4 18.59l7.72-7.72 1.47 1.35L5.41 20z\"/>\n",
              "  </svg>\n",
              "      </button>\n",
              "      \n",
              "  <style>\n",
              "    .colab-df-container {\n",
              "      display:flex;\n",
              "      flex-wrap:wrap;\n",
              "      gap: 12px;\n",
              "    }\n",
              "\n",
              "    .colab-df-convert {\n",
              "      background-color: #E8F0FE;\n",
              "      border: none;\n",
              "      border-radius: 50%;\n",
              "      cursor: pointer;\n",
              "      display: none;\n",
              "      fill: #1967D2;\n",
              "      height: 32px;\n",
              "      padding: 0 0 0 0;\n",
              "      width: 32px;\n",
              "    }\n",
              "\n",
              "    .colab-df-convert:hover {\n",
              "      background-color: #E2EBFA;\n",
              "      box-shadow: 0px 1px 2px rgba(60, 64, 67, 0.3), 0px 1px 3px 1px rgba(60, 64, 67, 0.15);\n",
              "      fill: #174EA6;\n",
              "    }\n",
              "\n",
              "    [theme=dark] .colab-df-convert {\n",
              "      background-color: #3B4455;\n",
              "      fill: #D2E3FC;\n",
              "    }\n",
              "\n",
              "    [theme=dark] .colab-df-convert:hover {\n",
              "      background-color: #434B5C;\n",
              "      box-shadow: 0px 1px 3px 1px rgba(0, 0, 0, 0.15);\n",
              "      filter: drop-shadow(0px 1px 2px rgba(0, 0, 0, 0.3));\n",
              "      fill: #FFFFFF;\n",
              "    }\n",
              "  </style>\n",
              "\n",
              "      <script>\n",
              "        const buttonEl =\n",
              "          document.querySelector('#df-1103cf45-ffdc-4f00-a4d1-22dbd946f443 button.colab-df-convert');\n",
              "        buttonEl.style.display =\n",
              "          google.colab.kernel.accessAllowed ? 'block' : 'none';\n",
              "\n",
              "        async function convertToInteractive(key) {\n",
              "          const element = document.querySelector('#df-1103cf45-ffdc-4f00-a4d1-22dbd946f443');\n",
              "          const dataTable =\n",
              "            await google.colab.kernel.invokeFunction('convertToInteractive',\n",
              "                                                     [key], {});\n",
              "          if (!dataTable) return;\n",
              "\n",
              "          const docLinkHtml = 'Like what you see? Visit the ' +\n",
              "            '<a target=\"_blank\" href=https://colab.research.google.com/notebooks/data_table.ipynb>data table notebook</a>'\n",
              "            + ' to learn more about interactive tables.';\n",
              "          element.innerHTML = '';\n",
              "          dataTable['output_type'] = 'display_data';\n",
              "          await google.colab.output.renderOutput(dataTable, element);\n",
              "          const docLink = document.createElement('div');\n",
              "          docLink.innerHTML = docLinkHtml;\n",
              "          element.appendChild(docLink);\n",
              "        }\n",
              "      </script>\n",
              "    </div>\n",
              "  </div>\n",
              "  "
            ]
          },
          "metadata": {},
          "execution_count": 50
        }
      ],
      "source": [
        "votos_regiao_metropolitana['porcentagem'] = porcentagem\n",
        "votos_regiao_metropolitana"
      ]
    },
    {
      "cell_type": "markdown",
      "metadata": {
        "id": "wUrJRNdowaGa"
      },
      "source": [
        "O gráfico mostra a porcentagem dos votos para cada candidato (votos brancos e nulos inclusos) nos municípios da grande Fortaleza."
      ]
    },
    {
      "cell_type": "code",
      "execution_count": 51,
      "metadata": {
        "id": "cIbuCeJMmwu_",
        "colab": {
          "base_uri": "https://localhost:8080/",
          "height": 542
        },
        "outputId": "e7fc7d61-81de-4a04-a3dc-24e8c0952f4d"
      },
      "outputs": [
        {
          "output_type": "display_data",
          "data": {
            "text/html": [
              "<html>\n",
              "<head><meta charset=\"utf-8\" /></head>\n",
              "<body>\n",
              "    <div>            <script src=\"https://cdnjs.cloudflare.com/ajax/libs/mathjax/2.7.5/MathJax.js?config=TeX-AMS-MML_SVG\"></script><script type=\"text/javascript\">if (window.MathJax && window.MathJax.Hub && window.MathJax.Hub.Config) {window.MathJax.Hub.Config({SVG: {font: \"STIX-Web\"}});}</script>                <script type=\"text/javascript\">window.PlotlyConfig = {MathJaxConfig: 'local'};</script>\n",
              "        <script src=\"https://cdn.plot.ly/plotly-2.18.2.min.js\"></script>                <div id=\"9802f3dc-0afa-497b-b8b1-b42e6e616bd0\" class=\"plotly-graph-div\" style=\"height:525px; width:100%;\"></div>            <script type=\"text/javascript\">                                    window.PLOTLYENV=window.PLOTLYENV || {};                                    if (document.getElementById(\"9802f3dc-0afa-497b-b8b1-b42e6e616bd0\")) {                    Plotly.newPlot(                        \"9802f3dc-0afa-497b-b8b1-b42e6e616bd0\",                        [{\"alignmentgroup\":\"True\",\"hovertemplate\":\"nm_votavel=ELMANO DE FREITAS DA COSTA<br>porcentagem=%{x}<br>nm_municipio=%{y}<extra></extra>\",\"legendgroup\":\"ELMANO DE FREITAS DA COSTA\",\"marker\":{\"color\":\"#636efa\",\"pattern\":{\"shape\":\"\"}},\"name\":\"ELMANO DE FREITAS DA COSTA\",\"offsetgroup\":\"ELMANO DE FREITAS DA COSTA\",\"orientation\":\"h\",\"showlegend\":true,\"textposition\":\"auto\",\"x\":[48.35,48.02,43.17,58.14,39.12,34.99,60.83,44.78,47.5,41.94,49.91,41.82,48.18,53.49,46.06,57.24,36.52,59.39,59.85],\"xaxis\":\"x\",\"y\":[\"AQUIRAZ\",\"CASCAVEL\",\"CAUCAIA\",\"CHOROZINHO\",\"EUS\\u00c9BIO\",\"FORTALEZA\",\"GUAI\\u00daBA\",\"HORIZONTE\",\"ITAITINGA\",\"MARACANA\\u00da\",\"MARANGUAPE\",\"PACAJUS\",\"PACATUBA\",\"PARACURU\",\"PARAIPABA\",\"PINDORETAMA\",\"S\\u00c3O GON\\u00c7ALO DO AMARANTE\",\"S\\u00c3O LU\\u00cdS DO CURU\",\"TRAIRI\"],\"yaxis\":\"y\",\"type\":\"bar\"},{\"alignmentgroup\":\"True\",\"hovertemplate\":\"nm_votavel=WAGNER SOUSA GOMES<br>porcentagem=%{x}<br>nm_municipio=%{y}<extra></extra>\",\"legendgroup\":\"WAGNER SOUSA GOMES\",\"marker\":{\"color\":\"#EF553B\",\"pattern\":{\"shape\":\"\"}},\"name\":\"WAGNER SOUSA GOMES\",\"offsetgroup\":\"WAGNER SOUSA GOMES\",\"orientation\":\"h\",\"showlegend\":true,\"textposition\":\"auto\",\"x\":[36.4,35.02,37.07,23.76,44.29,38.6,24.3,37.85,36.92,40.72,34.85,37.11,35.5,31.9,38.46,30.17,42.82,26.48,24.45],\"xaxis\":\"x\",\"y\":[\"AQUIRAZ\",\"CASCAVEL\",\"CAUCAIA\",\"CHOROZINHO\",\"EUS\\u00c9BIO\",\"FORTALEZA\",\"GUAI\\u00daBA\",\"HORIZONTE\",\"ITAITINGA\",\"MARACANA\\u00da\",\"MARANGUAPE\",\"PACAJUS\",\"PACATUBA\",\"PARACURU\",\"PARAIPABA\",\"PINDORETAMA\",\"S\\u00c3O GON\\u00c7ALO DO AMARANTE\",\"S\\u00c3O LU\\u00cdS DO CURU\",\"TRAIRI\"],\"yaxis\":\"y\",\"type\":\"bar\"},{\"alignmentgroup\":\"True\",\"hovertemplate\":\"nm_votavel=ROBERTO CL\\u00c1UDIO RODRIGUES BEZERRA<br>porcentagem=%{x}<br>nm_municipio=%{y}<extra></extra>\",\"legendgroup\":\"ROBERTO CL\\u00c1UDIO RODRIGUES BEZERRA\",\"marker\":{\"color\":\"#00cc96\",\"pattern\":{\"shape\":\"\"}},\"name\":\"ROBERTO CL\\u00c1UDIO RODRIGUES BEZERRA\",\"offsetgroup\":\"ROBERTO CL\\u00c1UDIO RODRIGUES BEZERRA\",\"orientation\":\"h\",\"showlegend\":true,\"textposition\":\"auto\",\"x\":[7.04,6.9,10.48,10.46,9.03,19.22,8.77,7.55,7.35,8.44,7.99,12.01,8.0,6.19,7.48,5.03,12.81,6.05,7.65],\"xaxis\":\"x\",\"y\":[\"AQUIRAZ\",\"CASCAVEL\",\"CAUCAIA\",\"CHOROZINHO\",\"EUS\\u00c9BIO\",\"FORTALEZA\",\"GUAI\\u00daBA\",\"HORIZONTE\",\"ITAITINGA\",\"MARACANA\\u00da\",\"MARANGUAPE\",\"PACAJUS\",\"PACATUBA\",\"PARACURU\",\"PARAIPABA\",\"PINDORETAMA\",\"S\\u00c3O GON\\u00c7ALO DO AMARANTE\",\"S\\u00c3O LU\\u00cdS DO CURU\",\"TRAIRI\"],\"yaxis\":\"y\",\"type\":\"bar\"},{\"alignmentgroup\":\"True\",\"hovertemplate\":\"nm_votavel=VOTO NULO<br>porcentagem=%{x}<br>nm_municipio=%{y}<extra></extra>\",\"legendgroup\":\"VOTO NULO\",\"marker\":{\"color\":\"#ab63fa\",\"pattern\":{\"shape\":\"\"}},\"name\":\"VOTO NULO\",\"offsetgroup\":\"VOTO NULO\",\"orientation\":\"h\",\"showlegend\":true,\"textposition\":\"auto\",\"x\":[5.0,5.68,5.64,4.0,4.33,4.33,3.74,5.45,5.0,5.08,4.34,5.36,4.94,4.87,4.88,4.82,4.54,4.38,4.67],\"xaxis\":\"x\",\"y\":[\"AQUIRAZ\",\"CASCAVEL\",\"CAUCAIA\",\"CHOROZINHO\",\"EUS\\u00c9BIO\",\"FORTALEZA\",\"GUAI\\u00daBA\",\"HORIZONTE\",\"ITAITINGA\",\"MARACANA\\u00da\",\"MARANGUAPE\",\"PACAJUS\",\"PACATUBA\",\"PARACURU\",\"PARAIPABA\",\"PINDORETAMA\",\"S\\u00c3O GON\\u00c7ALO DO AMARANTE\",\"S\\u00c3O LU\\u00cdS DO CURU\",\"TRAIRI\"],\"yaxis\":\"y\",\"type\":\"bar\"},{\"alignmentgroup\":\"True\",\"hovertemplate\":\"nm_votavel=VOTO BRANCO<br>porcentagem=%{x}<br>nm_municipio=%{y}<extra></extra>\",\"legendgroup\":\"VOTO BRANCO\",\"marker\":{\"color\":\"#FFA15A\",\"pattern\":{\"shape\":\"\"}},\"name\":\"VOTO BRANCO\",\"offsetgroup\":\"VOTO BRANCO\",\"orientation\":\"h\",\"showlegend\":true,\"textposition\":\"auto\",\"x\":[3.11,4.31,3.5,3.6,3.14,2.67,2.26,4.29,3.16,3.7,2.84,3.62,3.29,3.42,3.06,2.59,3.23,3.6,3.32],\"xaxis\":\"x\",\"y\":[\"AQUIRAZ\",\"CASCAVEL\",\"CAUCAIA\",\"CHOROZINHO\",\"EUS\\u00c9BIO\",\"FORTALEZA\",\"GUAI\\u00daBA\",\"HORIZONTE\",\"ITAITINGA\",\"MARACANA\\u00da\",\"MARANGUAPE\",\"PACAJUS\",\"PACATUBA\",\"PARACURU\",\"PARAIPABA\",\"PINDORETAMA\",\"S\\u00c3O GON\\u00c7ALO DO AMARANTE\",\"S\\u00c3O LU\\u00cdS DO CURU\",\"TRAIRI\"],\"yaxis\":\"y\",\"type\":\"bar\"},{\"alignmentgroup\":\"True\",\"hovertemplate\":\"nm_votavel=FRANCISCO RAIMUNDO MALTA DE ARA\\u00daJO<br>porcentagem=%{x}<br>nm_municipio=%{y}<extra></extra>\",\"legendgroup\":\"FRANCISCO RAIMUNDO MALTA DE ARA\\u00daJO\",\"marker\":{\"color\":\"#19d3f3\",\"pattern\":{\"shape\":\"\"}},\"name\":\"FRANCISCO RAIMUNDO MALTA DE ARA\\u00daJO\",\"offsetgroup\":\"FRANCISCO RAIMUNDO MALTA DE ARA\\u00daJO\",\"orientation\":\"h\",\"showlegend\":true,\"textposition\":\"auto\",\"x\":[0.04,0.04,0.05,0.01,0.04,0.08,0.05,0.03,0.05,0.04,0.04,0.02,0.04,0.09,0.04,0.09,0.03,0.06,0.03],\"xaxis\":\"x\",\"y\":[\"AQUIRAZ\",\"CASCAVEL\",\"CAUCAIA\",\"CHOROZINHO\",\"EUS\\u00c9BIO\",\"FORTALEZA\",\"GUAI\\u00daBA\",\"HORIZONTE\",\"ITAITINGA\",\"MARACANA\\u00da\",\"MARANGUAPE\",\"PACAJUS\",\"PACATUBA\",\"PARACURU\",\"PARAIPABA\",\"PINDORETAMA\",\"S\\u00c3O GON\\u00c7ALO DO AMARANTE\",\"S\\u00c3O LU\\u00cdS DO CURU\",\"TRAIRI\"],\"yaxis\":\"y\",\"type\":\"bar\"},{\"alignmentgroup\":\"True\",\"hovertemplate\":\"nm_votavel=JOS\\u00c9 BATISTA NETO<br>porcentagem=%{x}<br>nm_municipio=%{y}<extra></extra>\",\"legendgroup\":\"JOS\\u00c9 BATISTA NETO\",\"marker\":{\"color\":\"#FF6692\",\"pattern\":{\"shape\":\"\"}},\"name\":\"JOS\\u00c9 BATISTA NETO\",\"offsetgroup\":\"JOS\\u00c9 BATISTA NETO\",\"orientation\":\"h\",\"showlegend\":true,\"textposition\":\"auto\",\"x\":[0.03,0.0,0.03,0.01,0.02,0.04,0.04,0.03,0.02,0.05,0.02,0.02,0.03,0.02,0.02,0.02,0.02,0.01,0.02],\"xaxis\":\"x\",\"y\":[\"AQUIRAZ\",\"CASCAVEL\",\"CAUCAIA\",\"CHOROZINHO\",\"EUS\\u00c9BIO\",\"FORTALEZA\",\"GUAI\\u00daBA\",\"HORIZONTE\",\"ITAITINGA\",\"MARACANA\\u00da\",\"MARANGUAPE\",\"PACAJUS\",\"PACATUBA\",\"PARACURU\",\"PARAIPABA\",\"PINDORETAMA\",\"S\\u00c3O GON\\u00c7ALO DO AMARANTE\",\"S\\u00c3O LU\\u00cdS DO CURU\",\"TRAIRI\"],\"yaxis\":\"y\",\"type\":\"bar\"},{\"alignmentgroup\":\"True\",\"hovertemplate\":\"nm_votavel=SERLEY DE SOUSA LEAL<br>porcentagem=%{x}<br>nm_municipio=%{y}<extra></extra>\",\"legendgroup\":\"SERLEY DE SOUSA LEAL\",\"marker\":{\"color\":\"#B6E880\",\"pattern\":{\"shape\":\"\"}},\"name\":\"SERLEY DE SOUSA LEAL\",\"offsetgroup\":\"SERLEY DE SOUSA LEAL\",\"orientation\":\"h\",\"showlegend\":true,\"textposition\":\"auto\",\"x\":[0.02,0.03,0.07,0.01,0.03,0.06,0.01,0.02,0.02,0.04,0.02,0.03,0.02,0.03,0.0,0.04,0.03,0.02,0.01],\"xaxis\":\"x\",\"y\":[\"AQUIRAZ\",\"CASCAVEL\",\"CAUCAIA\",\"CHOROZINHO\",\"EUS\\u00c9BIO\",\"FORTALEZA\",\"GUAI\\u00daBA\",\"HORIZONTE\",\"ITAITINGA\",\"MARACANA\\u00da\",\"MARANGUAPE\",\"PACAJUS\",\"PACATUBA\",\"PARACURU\",\"PARAIPABA\",\"PINDORETAMA\",\"S\\u00c3O GON\\u00c7ALO DO AMARANTE\",\"S\\u00c3O LU\\u00cdS DO CURU\",\"TRAIRI\"],\"yaxis\":\"y\",\"type\":\"bar\"}],                        {\"template\":{\"data\":{\"histogram2dcontour\":[{\"type\":\"histogram2dcontour\",\"colorbar\":{\"outlinewidth\":0,\"ticks\":\"\"},\"colorscale\":[[0.0,\"#0d0887\"],[0.1111111111111111,\"#46039f\"],[0.2222222222222222,\"#7201a8\"],[0.3333333333333333,\"#9c179e\"],[0.4444444444444444,\"#bd3786\"],[0.5555555555555556,\"#d8576b\"],[0.6666666666666666,\"#ed7953\"],[0.7777777777777778,\"#fb9f3a\"],[0.8888888888888888,\"#fdca26\"],[1.0,\"#f0f921\"]]}],\"choropleth\":[{\"type\":\"choropleth\",\"colorbar\":{\"outlinewidth\":0,\"ticks\":\"\"}}],\"histogram2d\":[{\"type\":\"histogram2d\",\"colorbar\":{\"outlinewidth\":0,\"ticks\":\"\"},\"colorscale\":[[0.0,\"#0d0887\"],[0.1111111111111111,\"#46039f\"],[0.2222222222222222,\"#7201a8\"],[0.3333333333333333,\"#9c179e\"],[0.4444444444444444,\"#bd3786\"],[0.5555555555555556,\"#d8576b\"],[0.6666666666666666,\"#ed7953\"],[0.7777777777777778,\"#fb9f3a\"],[0.8888888888888888,\"#fdca26\"],[1.0,\"#f0f921\"]]}],\"heatmap\":[{\"type\":\"heatmap\",\"colorbar\":{\"outlinewidth\":0,\"ticks\":\"\"},\"colorscale\":[[0.0,\"#0d0887\"],[0.1111111111111111,\"#46039f\"],[0.2222222222222222,\"#7201a8\"],[0.3333333333333333,\"#9c179e\"],[0.4444444444444444,\"#bd3786\"],[0.5555555555555556,\"#d8576b\"],[0.6666666666666666,\"#ed7953\"],[0.7777777777777778,\"#fb9f3a\"],[0.8888888888888888,\"#fdca26\"],[1.0,\"#f0f921\"]]}],\"heatmapgl\":[{\"type\":\"heatmapgl\",\"colorbar\":{\"outlinewidth\":0,\"ticks\":\"\"},\"colorscale\":[[0.0,\"#0d0887\"],[0.1111111111111111,\"#46039f\"],[0.2222222222222222,\"#7201a8\"],[0.3333333333333333,\"#9c179e\"],[0.4444444444444444,\"#bd3786\"],[0.5555555555555556,\"#d8576b\"],[0.6666666666666666,\"#ed7953\"],[0.7777777777777778,\"#fb9f3a\"],[0.8888888888888888,\"#fdca26\"],[1.0,\"#f0f921\"]]}],\"contourcarpet\":[{\"type\":\"contourcarpet\",\"colorbar\":{\"outlinewidth\":0,\"ticks\":\"\"}}],\"contour\":[{\"type\":\"contour\",\"colorbar\":{\"outlinewidth\":0,\"ticks\":\"\"},\"colorscale\":[[0.0,\"#0d0887\"],[0.1111111111111111,\"#46039f\"],[0.2222222222222222,\"#7201a8\"],[0.3333333333333333,\"#9c179e\"],[0.4444444444444444,\"#bd3786\"],[0.5555555555555556,\"#d8576b\"],[0.6666666666666666,\"#ed7953\"],[0.7777777777777778,\"#fb9f3a\"],[0.8888888888888888,\"#fdca26\"],[1.0,\"#f0f921\"]]}],\"surface\":[{\"type\":\"surface\",\"colorbar\":{\"outlinewidth\":0,\"ticks\":\"\"},\"colorscale\":[[0.0,\"#0d0887\"],[0.1111111111111111,\"#46039f\"],[0.2222222222222222,\"#7201a8\"],[0.3333333333333333,\"#9c179e\"],[0.4444444444444444,\"#bd3786\"],[0.5555555555555556,\"#d8576b\"],[0.6666666666666666,\"#ed7953\"],[0.7777777777777778,\"#fb9f3a\"],[0.8888888888888888,\"#fdca26\"],[1.0,\"#f0f921\"]]}],\"mesh3d\":[{\"type\":\"mesh3d\",\"colorbar\":{\"outlinewidth\":0,\"ticks\":\"\"}}],\"scatter\":[{\"fillpattern\":{\"fillmode\":\"overlay\",\"size\":10,\"solidity\":0.2},\"type\":\"scatter\"}],\"parcoords\":[{\"type\":\"parcoords\",\"line\":{\"colorbar\":{\"outlinewidth\":0,\"ticks\":\"\"}}}],\"scatterpolargl\":[{\"type\":\"scatterpolargl\",\"marker\":{\"colorbar\":{\"outlinewidth\":0,\"ticks\":\"\"}}}],\"bar\":[{\"error_x\":{\"color\":\"#2a3f5f\"},\"error_y\":{\"color\":\"#2a3f5f\"},\"marker\":{\"line\":{\"color\":\"#E5ECF6\",\"width\":0.5},\"pattern\":{\"fillmode\":\"overlay\",\"size\":10,\"solidity\":0.2}},\"type\":\"bar\"}],\"scattergeo\":[{\"type\":\"scattergeo\",\"marker\":{\"colorbar\":{\"outlinewidth\":0,\"ticks\":\"\"}}}],\"scatterpolar\":[{\"type\":\"scatterpolar\",\"marker\":{\"colorbar\":{\"outlinewidth\":0,\"ticks\":\"\"}}}],\"histogram\":[{\"marker\":{\"pattern\":{\"fillmode\":\"overlay\",\"size\":10,\"solidity\":0.2}},\"type\":\"histogram\"}],\"scattergl\":[{\"type\":\"scattergl\",\"marker\":{\"colorbar\":{\"outlinewidth\":0,\"ticks\":\"\"}}}],\"scatter3d\":[{\"type\":\"scatter3d\",\"line\":{\"colorbar\":{\"outlinewidth\":0,\"ticks\":\"\"}},\"marker\":{\"colorbar\":{\"outlinewidth\":0,\"ticks\":\"\"}}}],\"scattermapbox\":[{\"type\":\"scattermapbox\",\"marker\":{\"colorbar\":{\"outlinewidth\":0,\"ticks\":\"\"}}}],\"scatterternary\":[{\"type\":\"scatterternary\",\"marker\":{\"colorbar\":{\"outlinewidth\":0,\"ticks\":\"\"}}}],\"scattercarpet\":[{\"type\":\"scattercarpet\",\"marker\":{\"colorbar\":{\"outlinewidth\":0,\"ticks\":\"\"}}}],\"carpet\":[{\"aaxis\":{\"endlinecolor\":\"#2a3f5f\",\"gridcolor\":\"white\",\"linecolor\":\"white\",\"minorgridcolor\":\"white\",\"startlinecolor\":\"#2a3f5f\"},\"baxis\":{\"endlinecolor\":\"#2a3f5f\",\"gridcolor\":\"white\",\"linecolor\":\"white\",\"minorgridcolor\":\"white\",\"startlinecolor\":\"#2a3f5f\"},\"type\":\"carpet\"}],\"table\":[{\"cells\":{\"fill\":{\"color\":\"#EBF0F8\"},\"line\":{\"color\":\"white\"}},\"header\":{\"fill\":{\"color\":\"#C8D4E3\"},\"line\":{\"color\":\"white\"}},\"type\":\"table\"}],\"barpolar\":[{\"marker\":{\"line\":{\"color\":\"#E5ECF6\",\"width\":0.5},\"pattern\":{\"fillmode\":\"overlay\",\"size\":10,\"solidity\":0.2}},\"type\":\"barpolar\"}],\"pie\":[{\"automargin\":true,\"type\":\"pie\"}]},\"layout\":{\"autotypenumbers\":\"strict\",\"colorway\":[\"#636efa\",\"#EF553B\",\"#00cc96\",\"#ab63fa\",\"#FFA15A\",\"#19d3f3\",\"#FF6692\",\"#B6E880\",\"#FF97FF\",\"#FECB52\"],\"font\":{\"color\":\"#2a3f5f\"},\"hovermode\":\"closest\",\"hoverlabel\":{\"align\":\"left\"},\"paper_bgcolor\":\"white\",\"plot_bgcolor\":\"#E5ECF6\",\"polar\":{\"bgcolor\":\"#E5ECF6\",\"angularaxis\":{\"gridcolor\":\"white\",\"linecolor\":\"white\",\"ticks\":\"\"},\"radialaxis\":{\"gridcolor\":\"white\",\"linecolor\":\"white\",\"ticks\":\"\"}},\"ternary\":{\"bgcolor\":\"#E5ECF6\",\"aaxis\":{\"gridcolor\":\"white\",\"linecolor\":\"white\",\"ticks\":\"\"},\"baxis\":{\"gridcolor\":\"white\",\"linecolor\":\"white\",\"ticks\":\"\"},\"caxis\":{\"gridcolor\":\"white\",\"linecolor\":\"white\",\"ticks\":\"\"}},\"coloraxis\":{\"colorbar\":{\"outlinewidth\":0,\"ticks\":\"\"}},\"colorscale\":{\"sequential\":[[0.0,\"#0d0887\"],[0.1111111111111111,\"#46039f\"],[0.2222222222222222,\"#7201a8\"],[0.3333333333333333,\"#9c179e\"],[0.4444444444444444,\"#bd3786\"],[0.5555555555555556,\"#d8576b\"],[0.6666666666666666,\"#ed7953\"],[0.7777777777777778,\"#fb9f3a\"],[0.8888888888888888,\"#fdca26\"],[1.0,\"#f0f921\"]],\"sequentialminus\":[[0.0,\"#0d0887\"],[0.1111111111111111,\"#46039f\"],[0.2222222222222222,\"#7201a8\"],[0.3333333333333333,\"#9c179e\"],[0.4444444444444444,\"#bd3786\"],[0.5555555555555556,\"#d8576b\"],[0.6666666666666666,\"#ed7953\"],[0.7777777777777778,\"#fb9f3a\"],[0.8888888888888888,\"#fdca26\"],[1.0,\"#f0f921\"]],\"diverging\":[[0,\"#8e0152\"],[0.1,\"#c51b7d\"],[0.2,\"#de77ae\"],[0.3,\"#f1b6da\"],[0.4,\"#fde0ef\"],[0.5,\"#f7f7f7\"],[0.6,\"#e6f5d0\"],[0.7,\"#b8e186\"],[0.8,\"#7fbc41\"],[0.9,\"#4d9221\"],[1,\"#276419\"]]},\"xaxis\":{\"gridcolor\":\"white\",\"linecolor\":\"white\",\"ticks\":\"\",\"title\":{\"standoff\":15},\"zerolinecolor\":\"white\",\"automargin\":true,\"zerolinewidth\":2},\"yaxis\":{\"gridcolor\":\"white\",\"linecolor\":\"white\",\"ticks\":\"\",\"title\":{\"standoff\":15},\"zerolinecolor\":\"white\",\"automargin\":true,\"zerolinewidth\":2},\"scene\":{\"xaxis\":{\"backgroundcolor\":\"#E5ECF6\",\"gridcolor\":\"white\",\"linecolor\":\"white\",\"showbackground\":true,\"ticks\":\"\",\"zerolinecolor\":\"white\",\"gridwidth\":2},\"yaxis\":{\"backgroundcolor\":\"#E5ECF6\",\"gridcolor\":\"white\",\"linecolor\":\"white\",\"showbackground\":true,\"ticks\":\"\",\"zerolinecolor\":\"white\",\"gridwidth\":2},\"zaxis\":{\"backgroundcolor\":\"#E5ECF6\",\"gridcolor\":\"white\",\"linecolor\":\"white\",\"showbackground\":true,\"ticks\":\"\",\"zerolinecolor\":\"white\",\"gridwidth\":2}},\"shapedefaults\":{\"line\":{\"color\":\"#2a3f5f\"}},\"annotationdefaults\":{\"arrowcolor\":\"#2a3f5f\",\"arrowhead\":0,\"arrowwidth\":1},\"geo\":{\"bgcolor\":\"white\",\"landcolor\":\"#E5ECF6\",\"subunitcolor\":\"white\",\"showland\":true,\"showlakes\":true,\"lakecolor\":\"white\"},\"title\":{\"x\":0.05},\"mapbox\":{\"style\":\"light\"}}},\"xaxis\":{\"anchor\":\"y\",\"domain\":[0.0,1.0],\"title\":{\"text\":\"Porcentagem dos votos\"}},\"yaxis\":{\"anchor\":\"x\",\"domain\":[0.0,1.0],\"title\":{\"text\":\"Munic\\u00edpios\"},\"autorange\":\"reversed\"},\"legend\":{\"title\":{\"text\":\"Candidatos\"},\"tracegroupgap\":0},\"title\":{\"text\":\"Porcentagem dos votos por candidato para cada munic\\u00edpio da regi\\u00e3o metropolitana de Fortaleza\",\"x\":0.5},\"barmode\":\"relative\"},                        {\"responsive\": true}                    ).then(function(){\n",
              "                            \n",
              "var gd = document.getElementById('9802f3dc-0afa-497b-b8b1-b42e6e616bd0');\n",
              "var x = new MutationObserver(function (mutations, observer) {{\n",
              "        var display = window.getComputedStyle(gd).display;\n",
              "        if (!display || display === 'none') {{\n",
              "            console.log([gd, 'removed!']);\n",
              "            Plotly.purge(gd);\n",
              "            observer.disconnect();\n",
              "        }}\n",
              "}});\n",
              "\n",
              "// Listen for the removal of the full notebook cells\n",
              "var notebookContainer = gd.closest('#notebook-container');\n",
              "if (notebookContainer) {{\n",
              "    x.observe(notebookContainer, {childList: true});\n",
              "}}\n",
              "\n",
              "// Listen for the clearing of the current output cell\n",
              "var outputEl = gd.closest('.output');\n",
              "if (outputEl) {{\n",
              "    x.observe(outputEl, {childList: true});\n",
              "}}\n",
              "\n",
              "                        })                };                            </script>        </div>\n",
              "</body>\n",
              "</html>"
            ]
          },
          "metadata": {}
        }
      ],
      "source": [
        "fig = px.bar(\n",
        "    data_frame= votos_regiao_metropolitana,\n",
        "    y= 'nm_municipio',\n",
        "    x= 'porcentagem',\n",
        "    color= 'nm_votavel',\n",
        "    title= 'Porcentagem dos votos por candidato para cada município da região metropolitana de Fortaleza'\n",
        ")\n",
        "fig.update_layout(\n",
        "    legend_title= 'Candidatos', yaxis_title= 'Municípios', xaxis_title= 'Porcentagem dos votos',\n",
        "    yaxis= dict(autorange= 'reversed'), title= dict(x= 0.5)\n",
        ")\n",
        "fig.show()"
      ]
    },
    {
      "cell_type": "markdown",
      "metadata": {
        "id": "n495NDRfm74a"
      },
      "source": [
        "### 5.2.3.3 Candidato vencedor por município da Região Metropolitana de Fortaleza"
      ]
    },
    {
      "cell_type": "markdown",
      "metadata": {
        "id": "e9-7U7-qoH2L"
      },
      "source": [
        "Para que o mapa da biblioteca *folium* cada candidato passa a ser representado por um valor numérico."
      ]
    },
    {
      "cell_type": "code",
      "execution_count": 52,
      "metadata": {
        "id": "K2gmM7hznTgV",
        "colab": {
          "base_uri": "https://localhost:8080/",
          "height": 206
        },
        "outputId": "45050f7b-dba0-4d32-f181-335bffeeaa74"
      },
      "outputs": [
        {
          "output_type": "execute_result",
          "data": {
            "text/plain": [
              "   nm_municipio                  nm_votavel  qt_votos  porcentagem\n",
              "0       AQUIRAZ  ELMANO DE FREITAS DA COSTA     25542        48.35\n",
              "8      CASCAVEL  ELMANO DE FREITAS DA COSTA     23131        48.02\n",
              "16      CAUCAIA  ELMANO DE FREITAS DA COSTA     87636        43.17\n",
              "24   CHOROZINHO  ELMANO DE FREITAS DA COSTA      8504        58.14\n",
              "39      EUSÉBIO          WAGNER SOUSA GOMES     18787        44.29"
            ],
            "text/html": [
              "\n",
              "  <div id=\"df-f800bbbe-d941-4ecc-a915-7ecfcfa4d4b5\">\n",
              "    <div class=\"colab-df-container\">\n",
              "      <div>\n",
              "<style scoped>\n",
              "    .dataframe tbody tr th:only-of-type {\n",
              "        vertical-align: middle;\n",
              "    }\n",
              "\n",
              "    .dataframe tbody tr th {\n",
              "        vertical-align: top;\n",
              "    }\n",
              "\n",
              "    .dataframe thead th {\n",
              "        text-align: right;\n",
              "    }\n",
              "</style>\n",
              "<table border=\"1\" class=\"dataframe\">\n",
              "  <thead>\n",
              "    <tr style=\"text-align: right;\">\n",
              "      <th></th>\n",
              "      <th>nm_municipio</th>\n",
              "      <th>nm_votavel</th>\n",
              "      <th>qt_votos</th>\n",
              "      <th>porcentagem</th>\n",
              "    </tr>\n",
              "  </thead>\n",
              "  <tbody>\n",
              "    <tr>\n",
              "      <th>0</th>\n",
              "      <td>AQUIRAZ</td>\n",
              "      <td>ELMANO DE FREITAS DA COSTA</td>\n",
              "      <td>25542</td>\n",
              "      <td>48.35</td>\n",
              "    </tr>\n",
              "    <tr>\n",
              "      <th>8</th>\n",
              "      <td>CASCAVEL</td>\n",
              "      <td>ELMANO DE FREITAS DA COSTA</td>\n",
              "      <td>23131</td>\n",
              "      <td>48.02</td>\n",
              "    </tr>\n",
              "    <tr>\n",
              "      <th>16</th>\n",
              "      <td>CAUCAIA</td>\n",
              "      <td>ELMANO DE FREITAS DA COSTA</td>\n",
              "      <td>87636</td>\n",
              "      <td>43.17</td>\n",
              "    </tr>\n",
              "    <tr>\n",
              "      <th>24</th>\n",
              "      <td>CHOROZINHO</td>\n",
              "      <td>ELMANO DE FREITAS DA COSTA</td>\n",
              "      <td>8504</td>\n",
              "      <td>58.14</td>\n",
              "    </tr>\n",
              "    <tr>\n",
              "      <th>39</th>\n",
              "      <td>EUSÉBIO</td>\n",
              "      <td>WAGNER SOUSA GOMES</td>\n",
              "      <td>18787</td>\n",
              "      <td>44.29</td>\n",
              "    </tr>\n",
              "  </tbody>\n",
              "</table>\n",
              "</div>\n",
              "      <button class=\"colab-df-convert\" onclick=\"convertToInteractive('df-f800bbbe-d941-4ecc-a915-7ecfcfa4d4b5')\"\n",
              "              title=\"Convert this dataframe to an interactive table.\"\n",
              "              style=\"display:none;\">\n",
              "        \n",
              "  <svg xmlns=\"http://www.w3.org/2000/svg\" height=\"24px\"viewBox=\"0 0 24 24\"\n",
              "       width=\"24px\">\n",
              "    <path d=\"M0 0h24v24H0V0z\" fill=\"none\"/>\n",
              "    <path d=\"M18.56 5.44l.94 2.06.94-2.06 2.06-.94-2.06-.94-.94-2.06-.94 2.06-2.06.94zm-11 1L8.5 8.5l.94-2.06 2.06-.94-2.06-.94L8.5 2.5l-.94 2.06-2.06.94zm10 10l.94 2.06.94-2.06 2.06-.94-2.06-.94-.94-2.06-.94 2.06-2.06.94z\"/><path d=\"M17.41 7.96l-1.37-1.37c-.4-.4-.92-.59-1.43-.59-.52 0-1.04.2-1.43.59L10.3 9.45l-7.72 7.72c-.78.78-.78 2.05 0 2.83L4 21.41c.39.39.9.59 1.41.59.51 0 1.02-.2 1.41-.59l7.78-7.78 2.81-2.81c.8-.78.8-2.07 0-2.86zM5.41 20L4 18.59l7.72-7.72 1.47 1.35L5.41 20z\"/>\n",
              "  </svg>\n",
              "      </button>\n",
              "      \n",
              "  <style>\n",
              "    .colab-df-container {\n",
              "      display:flex;\n",
              "      flex-wrap:wrap;\n",
              "      gap: 12px;\n",
              "    }\n",
              "\n",
              "    .colab-df-convert {\n",
              "      background-color: #E8F0FE;\n",
              "      border: none;\n",
              "      border-radius: 50%;\n",
              "      cursor: pointer;\n",
              "      display: none;\n",
              "      fill: #1967D2;\n",
              "      height: 32px;\n",
              "      padding: 0 0 0 0;\n",
              "      width: 32px;\n",
              "    }\n",
              "\n",
              "    .colab-df-convert:hover {\n",
              "      background-color: #E2EBFA;\n",
              "      box-shadow: 0px 1px 2px rgba(60, 64, 67, 0.3), 0px 1px 3px 1px rgba(60, 64, 67, 0.15);\n",
              "      fill: #174EA6;\n",
              "    }\n",
              "\n",
              "    [theme=dark] .colab-df-convert {\n",
              "      background-color: #3B4455;\n",
              "      fill: #D2E3FC;\n",
              "    }\n",
              "\n",
              "    [theme=dark] .colab-df-convert:hover {\n",
              "      background-color: #434B5C;\n",
              "      box-shadow: 0px 1px 3px 1px rgba(0, 0, 0, 0.15);\n",
              "      filter: drop-shadow(0px 1px 2px rgba(0, 0, 0, 0.3));\n",
              "      fill: #FFFFFF;\n",
              "    }\n",
              "  </style>\n",
              "\n",
              "      <script>\n",
              "        const buttonEl =\n",
              "          document.querySelector('#df-f800bbbe-d941-4ecc-a915-7ecfcfa4d4b5 button.colab-df-convert');\n",
              "        buttonEl.style.display =\n",
              "          google.colab.kernel.accessAllowed ? 'block' : 'none';\n",
              "\n",
              "        async function convertToInteractive(key) {\n",
              "          const element = document.querySelector('#df-f800bbbe-d941-4ecc-a915-7ecfcfa4d4b5');\n",
              "          const dataTable =\n",
              "            await google.colab.kernel.invokeFunction('convertToInteractive',\n",
              "                                                     [key], {});\n",
              "          if (!dataTable) return;\n",
              "\n",
              "          const docLinkHtml = 'Like what you see? Visit the ' +\n",
              "            '<a target=\"_blank\" href=https://colab.research.google.com/notebooks/data_table.ipynb>data table notebook</a>'\n",
              "            + ' to learn more about interactive tables.';\n",
              "          element.innerHTML = '';\n",
              "          dataTable['output_type'] = 'display_data';\n",
              "          await google.colab.output.renderOutput(dataTable, element);\n",
              "          const docLink = document.createElement('div');\n",
              "          docLink.innerHTML = docLinkHtml;\n",
              "          element.appendChild(docLink);\n",
              "        }\n",
              "      </script>\n",
              "    </div>\n",
              "  </div>\n",
              "  "
            ]
          },
          "metadata": {},
          "execution_count": 52
        }
      ],
      "source": [
        "# Instancia-se um dataframe que contém apenas o candidato vencedor no município.\n",
        "\n",
        "vencedor_regiao_metropolitana = votos_regiao_metropolitana.groupby('nm_municipio').head(1)\n",
        "\n",
        "vencedor_regiao_metropolitana.head() # visualiza-se o dataframe"
      ]
    },
    {
      "cell_type": "code",
      "execution_count": 53,
      "metadata": {
        "id": "UtGuhXVqsmhr"
      },
      "outputs": [],
      "source": [
        "# É feito o 'merge' do dataframe com os votos na região metropolitana com os dados geoespaciais:\n",
        "\n",
        "vencedor_regiao_metropolitana = pd.merge(\n",
        "    left= ceara_gpd[['name_muni', 'geometry']], right= vencedor_regiao_metropolitana, \n",
        "    how= 'inner', left_on= 'name_muni', right_on= 'nm_municipio'\n",
        ").drop('name_muni', axis= 1) # elimina-se a coluna 'name_muni', pois os dados são redundantes."
      ]
    },
    {
      "cell_type": "code",
      "execution_count": 54,
      "metadata": {
        "id": "joYtRScmyrye",
        "colab": {
          "base_uri": "https://localhost:8080/",
          "height": 1000
        },
        "outputId": "567eaaa0-e16c-4690-91f9-590b2bef597d"
      },
      "outputs": [
        {
          "output_type": "stream",
          "name": "stderr",
          "text": [
            "/usr/local/lib/python3.9/dist-packages/geopandas/plotting.py:33: ShapelyDeprecationWarning:\n",
            "\n",
            "Iteration over multi-part geometries is deprecated and will be removed in Shapely 2.0. Use the `geoms` property to access the constituent parts of a multi-part geometry.\n",
            "\n",
            "/usr/local/lib/python3.9/dist-packages/descartes/patch.py:62: ShapelyDeprecationWarning:\n",
            "\n",
            "The array interface is deprecated and will no longer work in Shapely 2.0. Convert the '.coords' to a numpy array instead.\n",
            "\n"
          ]
        },
        {
          "output_type": "display_data",
          "data": {
            "text/plain": [
              "<Figure size 1200x1000 with 1 Axes>"
            ],
            "image/png": "[encoded data removed]"
          },
          "metadata": {}
        }
      ],
      "source": [
        "ax = vencedor_regiao_metropolitana.plot(\n",
        "    'nm_votavel', categorical= True, legend= True, cmap= 'coolwarm', figsize= (12, 10),\n",
        ")\n",
        "ax.set_title('Candidatos vencedores por município da Região Metropolitana de Fortaleza')\n",
        "\n",
        "for i, row in vencedor_regiao_metropolitana.iterrows():\n",
        "    ax.annotate(text=row['nm_municipio'], xy=row['geometry'].centroid.coords[0], ha='center', fontsize= 8)\n",
        "\n",
        "plt.show()"
      ]
    },
    {
      "cell_type": "markdown",
      "source": [
        "Na Região Metropolitana de Fortaleza, dos 19 município apenas em 3 municípios (Fortaleza, Eusébio e São Gonçalo do Amarante) o candidato Wagner Sousa Gomes obteve maior quantidade de votos."
      ],
      "metadata": {
        "id": "e5GN2ErpwRRE"
      }
    },
    {
      "cell_type": "markdown",
      "metadata": {
        "id": "lbQsd5bSDIJz"
      },
      "source": [
        "## 5.3 Análise com dados do IBGE"
      ]
    },
    {
      "cell_type": "markdown",
      "metadata": {
        "id": "2F4FLkuiPQpI"
      },
      "source": [
        "Os dados de resumo do IBGE dos municípios cearenses são carregados:"
      ]
    },
    {
      "cell_type": "code",
      "execution_count": 55,
      "metadata": {
        "id": "_girG3s0DMhY"
      },
      "outputs": [],
      "source": [
        "dados_ibge = pd.read_csv(\n",
        "    '/content/drive/MyDrive/Datasets/resumo_dados_ibge_ce.csv', encoding= 'latin-1'\n",
        ")"
      ]
    },
    {
      "cell_type": "code",
      "execution_count": 56,
      "metadata": {
        "id": "kW1O-VoLDk2C",
        "colab": {
          "base_uri": "https://localhost:8080/",
          "height": 206
        },
        "outputId": "e1465f30-9e37-45f6-88d2-7a5520c40909"
      },
      "outputs": [
        {
          "output_type": "execute_result",
          "data": {
            "text/plain": [
              "       nome  area_territorio  populacao   idhm  pib_per_capita  \\\n",
              "0   ABAIARA          180.833      11965  0.628         9158.04   \n",
              "1   ACARAPE          130.002      15140  0.606        10317.47   \n",
              "2    ACARAÚ          842.471      63556  0.601        13261.89   \n",
              "3  ACOPIARA         2254.279      54687  0.595         9432.25   \n",
              "4    AIUABA         2438.563      17584  0.569         8642.90   \n",
              "\n",
              "   area_urbanizada  porcentagem_urbana  \n",
              "0             3.19                1.76  \n",
              "1             2.28                1.75  \n",
              "2            16.33                1.94  \n",
              "3             5.46                0.24  \n",
              "4             2.07                0.08  "
            ],
            "text/html": [
              "\n",
              "  <div id=\"df-24fcdf4a-4411-43a0-883e-e9c228f1842b\">\n",
              "    <div class=\"colab-df-container\">\n",
              "      <div>\n",
              "<style scoped>\n",
              "    .dataframe tbody tr th:only-of-type {\n",
              "        vertical-align: middle;\n",
              "    }\n",
              "\n",
              "    .dataframe tbody tr th {\n",
              "        vertical-align: top;\n",
              "    }\n",
              "\n",
              "    .dataframe thead th {\n",
              "        text-align: right;\n",
              "    }\n",
              "</style>\n",
              "<table border=\"1\" class=\"dataframe\">\n",
              "  <thead>\n",
              "    <tr style=\"text-align: right;\">\n",
              "      <th></th>\n",
              "      <th>nome</th>\n",
              "      <th>area_territorio</th>\n",
              "      <th>populacao</th>\n",
              "      <th>idhm</th>\n",
              "      <th>pib_per_capita</th>\n",
              "      <th>area_urbanizada</th>\n",
              "      <th>porcentagem_urbana</th>\n",
              "    </tr>\n",
              "  </thead>\n",
              "  <tbody>\n",
              "    <tr>\n",
              "      <th>0</th>\n",
              "      <td>ABAIARA</td>\n",
              "      <td>180.833</td>\n",
              "      <td>11965</td>\n",
              "      <td>0.628</td>\n",
              "      <td>9158.04</td>\n",
              "      <td>3.19</td>\n",
              "      <td>1.76</td>\n",
              "    </tr>\n",
              "    <tr>\n",
              "      <th>1</th>\n",
              "      <td>ACARAPE</td>\n",
              "      <td>130.002</td>\n",
              "      <td>15140</td>\n",
              "      <td>0.606</td>\n",
              "      <td>10317.47</td>\n",
              "      <td>2.28</td>\n",
              "      <td>1.75</td>\n",
              "    </tr>\n",
              "    <tr>\n",
              "      <th>2</th>\n",
              "      <td>ACARAÚ</td>\n",
              "      <td>842.471</td>\n",
              "      <td>63556</td>\n",
              "      <td>0.601</td>\n",
              "      <td>13261.89</td>\n",
              "      <td>16.33</td>\n",
              "      <td>1.94</td>\n",
              "    </tr>\n",
              "    <tr>\n",
              "      <th>3</th>\n",
              "      <td>ACOPIARA</td>\n",
              "      <td>2254.279</td>\n",
              "      <td>54687</td>\n",
              "      <td>0.595</td>\n",
              "      <td>9432.25</td>\n",
              "      <td>5.46</td>\n",
              "      <td>0.24</td>\n",
              "    </tr>\n",
              "    <tr>\n",
              "      <th>4</th>\n",
              "      <td>AIUABA</td>\n",
              "      <td>2438.563</td>\n",
              "      <td>17584</td>\n",
              "      <td>0.569</td>\n",
              "      <td>8642.90</td>\n",
              "      <td>2.07</td>\n",
              "      <td>0.08</td>\n",
              "    </tr>\n",
              "  </tbody>\n",
              "</table>\n",
              "</div>\n",
              "      <button class=\"colab-df-convert\" onclick=\"convertToInteractive('df-24fcdf4a-4411-43a0-883e-e9c228f1842b')\"\n",
              "              title=\"Convert this dataframe to an interactive table.\"\n",
              "              style=\"display:none;\">\n",
              "        \n",
              "  <svg xmlns=\"http://www.w3.org/2000/svg\" height=\"24px\"viewBox=\"0 0 24 24\"\n",
              "       width=\"24px\">\n",
              "    <path d=\"M0 0h24v24H0V0z\" fill=\"none\"/>\n",
              "    <path d=\"M18.56 5.44l.94 2.06.94-2.06 2.06-.94-2.06-.94-.94-2.06-.94 2.06-2.06.94zm-11 1L8.5 8.5l.94-2.06 2.06-.94-2.06-.94L8.5 2.5l-.94 2.06-2.06.94zm10 10l.94 2.06.94-2.06 2.06-.94-2.06-.94-.94-2.06-.94 2.06-2.06.94z\"/><path d=\"M17.41 7.96l-1.37-1.37c-.4-.4-.92-.59-1.43-.59-.52 0-1.04.2-1.43.59L10.3 9.45l-7.72 7.72c-.78.78-.78 2.05 0 2.83L4 21.41c.39.39.9.59 1.41.59.51 0 1.02-.2 1.41-.59l7.78-7.78 2.81-2.81c.8-.78.8-2.07 0-2.86zM5.41 20L4 18.59l7.72-7.72 1.47 1.35L5.41 20z\"/>\n",
              "  </svg>\n",
              "      </button>\n",
              "      \n",
              "  <style>\n",
              "    .colab-df-container {\n",
              "      display:flex;\n",
              "      flex-wrap:wrap;\n",
              "      gap: 12px;\n",
              "    }\n",
              "\n",
              "    .colab-df-convert {\n",
              "      background-color: #E8F0FE;\n",
              "      border: none;\n",
              "      border-radius: 50%;\n",
              "      cursor: pointer;\n",
              "      display: none;\n",
              "      fill: #1967D2;\n",
              "      height: 32px;\n",
              "      padding: 0 0 0 0;\n",
              "      width: 32px;\n",
              "    }\n",
              "\n",
              "    .colab-df-convert:hover {\n",
              "      background-color: #E2EBFA;\n",
              "      box-shadow: 0px 1px 2px rgba(60, 64, 67, 0.3), 0px 1px 3px 1px rgba(60, 64, 67, 0.15);\n",
              "      fill: #174EA6;\n",
              "    }\n",
              "\n",
              "    [theme=dark] .colab-df-convert {\n",
              "      background-color: #3B4455;\n",
              "      fill: #D2E3FC;\n",
              "    }\n",
              "\n",
              "    [theme=dark] .colab-df-convert:hover {\n",
              "      background-color: #434B5C;\n",
              "      box-shadow: 0px 1px 3px 1px rgba(0, 0, 0, 0.15);\n",
              "      filter: drop-shadow(0px 1px 2px rgba(0, 0, 0, 0.3));\n",
              "      fill: #FFFFFF;\n",
              "    }\n",
              "  </style>\n",
              "\n",
              "      <script>\n",
              "        const buttonEl =\n",
              "          document.querySelector('#df-24fcdf4a-4411-43a0-883e-e9c228f1842b button.colab-df-convert');\n",
              "        buttonEl.style.display =\n",
              "          google.colab.kernel.accessAllowed ? 'block' : 'none';\n",
              "\n",
              "        async function convertToInteractive(key) {\n",
              "          const element = document.querySelector('#df-24fcdf4a-4411-43a0-883e-e9c228f1842b');\n",
              "          const dataTable =\n",
              "            await google.colab.kernel.invokeFunction('convertToInteractive',\n",
              "                                                     [key], {});\n",
              "          if (!dataTable) return;\n",
              "\n",
              "          const docLinkHtml = 'Like what you see? Visit the ' +\n",
              "            '<a target=\"_blank\" href=https://colab.research.google.com/notebooks/data_table.ipynb>data table notebook</a>'\n",
              "            + ' to learn more about interactive tables.';\n",
              "          element.innerHTML = '';\n",
              "          dataTable['output_type'] = 'display_data';\n",
              "          await google.colab.output.renderOutput(dataTable, element);\n",
              "          const docLink = document.createElement('div');\n",
              "          docLink.innerHTML = docLinkHtml;\n",
              "          element.appendChild(docLink);\n",
              "        }\n",
              "      </script>\n",
              "    </div>\n",
              "  </div>\n",
              "  "
            ]
          },
          "metadata": {},
          "execution_count": 56
        }
      ],
      "source": [
        "dados_ibge.head()"
      ]
    },
    {
      "cell_type": "markdown",
      "metadata": {
        "id": "ShSY4HJ0PYEM"
      },
      "source": [
        "Determina-se, também, a quantidade de votos para cada candidato em cada município cearense na célula abaixo. Além disso, unem-se os dois *dataframes*."
      ]
    },
    {
      "cell_type": "code",
      "execution_count": 57,
      "metadata": {
        "id": "nP5MOEaBHqjZ"
      },
      "outputs": [],
      "source": [
        "# Quantidade de votos por candidato em cada município cearense:\n",
        "\n",
        "votos_por_municipio = votacao_ce.query('ds_cargo == \"GOVERNADOR\"').groupby(['nm_municipio', 'nm_votavel'])['qt_votos'].sum().reset_index()\n",
        "\n",
        "# 'Merge' dos dados de ambos dataframes, de votos dos candidatos e resumo dos dados do IBGE:\n",
        "\n",
        "votos_por_municipio = pd.merge(\n",
        "    left= votos_por_municipio, right= dados_ibge, how= 'inner',\n",
        "    left_on= 'nm_municipio', right_on= 'nome'\n",
        ").drop('nome', axis= 1) # elimina-se a coluna 'nome', pois possui dados redundantes."
      ]
    },
    {
      "cell_type": "markdown",
      "metadata": {
        "id": "qWfTk1n8Pf8D"
      },
      "source": [
        "Por fim os dados são mostrados:"
      ]
    },
    {
      "cell_type": "code",
      "execution_count": 58,
      "metadata": {
        "id": "hukRo8koPKDj",
        "colab": {
          "base_uri": "https://localhost:8080/",
          "height": 206
        },
        "outputId": "218d7f49-7f11-4a2c-d96e-e8f6a546823a"
      },
      "outputs": [
        {
          "output_type": "execute_result",
          "data": {
            "text/plain": [
              "  nm_municipio                          nm_votavel  qt_votos  area_territorio  \\\n",
              "0      ABAIARA          ELMANO DE FREITAS DA COSTA      4182          180.833   \n",
              "1      ABAIARA  FRANCISCO RAIMUNDO MALTA DE ARAÚJO         7          180.833   \n",
              "2      ABAIARA                   JOSÉ BATISTA NETO         1          180.833   \n",
              "3      ABAIARA   ROBERTO CLÁUDIO RODRIGUES BEZERRA       353          180.833   \n",
              "4      ABAIARA                SERLEY DE SOUSA LEAL         3          180.833   \n",
              "\n",
              "   populacao   idhm  pib_per_capita  area_urbanizada  porcentagem_urbana  \n",
              "0      11965  0.628         9158.04             3.19                1.76  \n",
              "1      11965  0.628         9158.04             3.19                1.76  \n",
              "2      11965  0.628         9158.04             3.19                1.76  \n",
              "3      11965  0.628         9158.04             3.19                1.76  \n",
              "4      11965  0.628         9158.04             3.19                1.76  "
            ],
            "text/html": [
              "\n",
              "  <div id=\"df-de3c9e85-01f2-4a11-8664-c50e9318d955\">\n",
              "    <div class=\"colab-df-container\">\n",
              "      <div>\n",
              "<style scoped>\n",
              "    .dataframe tbody tr th:only-of-type {\n",
              "        vertical-align: middle;\n",
              "    }\n",
              "\n",
              "    .dataframe tbody tr th {\n",
              "        vertical-align: top;\n",
              "    }\n",
              "\n",
              "    .dataframe thead th {\n",
              "        text-align: right;\n",
              "    }\n",
              "</style>\n",
              "<table border=\"1\" class=\"dataframe\">\n",
              "  <thead>\n",
              "    <tr style=\"text-align: right;\">\n",
              "      <th></th>\n",
              "      <th>nm_municipio</th>\n",
              "      <th>nm_votavel</th>\n",
              "      <th>qt_votos</th>\n",
              "      <th>area_territorio</th>\n",
              "      <th>populacao</th>\n",
              "      <th>idhm</th>\n",
              "      <th>pib_per_capita</th>\n",
              "      <th>area_urbanizada</th>\n",
              "      <th>porcentagem_urbana</th>\n",
              "    </tr>\n",
              "  </thead>\n",
              "  <tbody>\n",
              "    <tr>\n",
              "      <th>0</th>\n",
              "      <td>ABAIARA</td>\n",
              "      <td>ELMANO DE FREITAS DA COSTA</td>\n",
              "      <td>4182</td>\n",
              "      <td>180.833</td>\n",
              "      <td>11965</td>\n",
              "      <td>0.628</td>\n",
              "      <td>9158.04</td>\n",
              "      <td>3.19</td>\n",
              "      <td>1.76</td>\n",
              "    </tr>\n",
              "    <tr>\n",
              "      <th>1</th>\n",
              "      <td>ABAIARA</td>\n",
              "      <td>FRANCISCO RAIMUNDO MALTA DE ARAÚJO</td>\n",
              "      <td>7</td>\n",
              "      <td>180.833</td>\n",
              "      <td>11965</td>\n",
              "      <td>0.628</td>\n",
              "      <td>9158.04</td>\n",
              "      <td>3.19</td>\n",
              "      <td>1.76</td>\n",
              "    </tr>\n",
              "    <tr>\n",
              "      <th>2</th>\n",
              "      <td>ABAIARA</td>\n",
              "      <td>JOSÉ BATISTA NETO</td>\n",
              "      <td>1</td>\n",
              "      <td>180.833</td>\n",
              "      <td>11965</td>\n",
              "      <td>0.628</td>\n",
              "      <td>9158.04</td>\n",
              "      <td>3.19</td>\n",
              "      <td>1.76</td>\n",
              "    </tr>\n",
              "    <tr>\n",
              "      <th>3</th>\n",
              "      <td>ABAIARA</td>\n",
              "      <td>ROBERTO CLÁUDIO RODRIGUES BEZERRA</td>\n",
              "      <td>353</td>\n",
              "      <td>180.833</td>\n",
              "      <td>11965</td>\n",
              "      <td>0.628</td>\n",
              "      <td>9158.04</td>\n",
              "      <td>3.19</td>\n",
              "      <td>1.76</td>\n",
              "    </tr>\n",
              "    <tr>\n",
              "      <th>4</th>\n",
              "      <td>ABAIARA</td>\n",
              "      <td>SERLEY DE SOUSA LEAL</td>\n",
              "      <td>3</td>\n",
              "      <td>180.833</td>\n",
              "      <td>11965</td>\n",
              "      <td>0.628</td>\n",
              "      <td>9158.04</td>\n",
              "      <td>3.19</td>\n",
              "      <td>1.76</td>\n",
              "    </tr>\n",
              "  </tbody>\n",
              "</table>\n",
              "</div>\n",
              "      <button class=\"colab-df-convert\" onclick=\"convertToInteractive('df-de3c9e85-01f2-4a11-8664-c50e9318d955')\"\n",
              "              title=\"Convert this dataframe to an interactive table.\"\n",
              "              style=\"display:none;\">\n",
              "        \n",
              "  <svg xmlns=\"http://www.w3.org/2000/svg\" height=\"24px\"viewBox=\"0 0 24 24\"\n",
              "       width=\"24px\">\n",
              "    <path d=\"M0 0h24v24H0V0z\" fill=\"none\"/>\n",
              "    <path d=\"M18.56 5.44l.94 2.06.94-2.06 2.06-.94-2.06-.94-.94-2.06-.94 2.06-2.06.94zm-11 1L8.5 8.5l.94-2.06 2.06-.94-2.06-.94L8.5 2.5l-.94 2.06-2.06.94zm10 10l.94 2.06.94-2.06 2.06-.94-2.06-.94-.94-2.06-.94 2.06-2.06.94z\"/><path d=\"M17.41 7.96l-1.37-1.37c-.4-.4-.92-.59-1.43-.59-.52 0-1.04.2-1.43.59L10.3 9.45l-7.72 7.72c-.78.78-.78 2.05 0 2.83L4 21.41c.39.39.9.59 1.41.59.51 0 1.02-.2 1.41-.59l7.78-7.78 2.81-2.81c.8-.78.8-2.07 0-2.86zM5.41 20L4 18.59l7.72-7.72 1.47 1.35L5.41 20z\"/>\n",
              "  </svg>\n",
              "      </button>\n",
              "      \n",
              "  <style>\n",
              "    .colab-df-container {\n",
              "      display:flex;\n",
              "      flex-wrap:wrap;\n",
              "      gap: 12px;\n",
              "    }\n",
              "\n",
              "    .colab-df-convert {\n",
              "      background-color: #E8F0FE;\n",
              "      border: none;\n",
              "      border-radius: 50%;\n",
              "      cursor: pointer;\n",
              "      display: none;\n",
              "      fill: #1967D2;\n",
              "      height: 32px;\n",
              "      padding: 0 0 0 0;\n",
              "      width: 32px;\n",
              "    }\n",
              "\n",
              "    .colab-df-convert:hover {\n",
              "      background-color: #E2EBFA;\n",
              "      box-shadow: 0px 1px 2px rgba(60, 64, 67, 0.3), 0px 1px 3px 1px rgba(60, 64, 67, 0.15);\n",
              "      fill: #174EA6;\n",
              "    }\n",
              "\n",
              "    [theme=dark] .colab-df-convert {\n",
              "      background-color: #3B4455;\n",
              "      fill: #D2E3FC;\n",
              "    }\n",
              "\n",
              "    [theme=dark] .colab-df-convert:hover {\n",
              "      background-color: #434B5C;\n",
              "      box-shadow: 0px 1px 3px 1px rgba(0, 0, 0, 0.15);\n",
              "      filter: drop-shadow(0px 1px 2px rgba(0, 0, 0, 0.3));\n",
              "      fill: #FFFFFF;\n",
              "    }\n",
              "  </style>\n",
              "\n",
              "      <script>\n",
              "        const buttonEl =\n",
              "          document.querySelector('#df-de3c9e85-01f2-4a11-8664-c50e9318d955 button.colab-df-convert');\n",
              "        buttonEl.style.display =\n",
              "          google.colab.kernel.accessAllowed ? 'block' : 'none';\n",
              "\n",
              "        async function convertToInteractive(key) {\n",
              "          const element = document.querySelector('#df-de3c9e85-01f2-4a11-8664-c50e9318d955');\n",
              "          const dataTable =\n",
              "            await google.colab.kernel.invokeFunction('convertToInteractive',\n",
              "                                                     [key], {});\n",
              "          if (!dataTable) return;\n",
              "\n",
              "          const docLinkHtml = 'Like what you see? Visit the ' +\n",
              "            '<a target=\"_blank\" href=https://colab.research.google.com/notebooks/data_table.ipynb>data table notebook</a>'\n",
              "            + ' to learn more about interactive tables.';\n",
              "          element.innerHTML = '';\n",
              "          dataTable['output_type'] = 'display_data';\n",
              "          await google.colab.output.renderOutput(dataTable, element);\n",
              "          const docLink = document.createElement('div');\n",
              "          docLink.innerHTML = docLinkHtml;\n",
              "          element.appendChild(docLink);\n",
              "        }\n",
              "      </script>\n",
              "    </div>\n",
              "  </div>\n",
              "  "
            ]
          },
          "metadata": {},
          "execution_count": 58
        }
      ],
      "source": [
        "votos_por_municipio.head()"
      ]
    },
    {
      "cell_type": "markdown",
      "metadata": {
        "id": "V972nWL8QHbq"
      },
      "source": [
        "### 5.3.1 Análise estratificada por intervalo populacional"
      ]
    },
    {
      "cell_type": "markdown",
      "source": [
        "Três funções são criadas a fim de realizar a análise por intervalos dos indicadores socioeconômicos."
      ],
      "metadata": {
        "id": "hzwJBq41e9ul"
      }
    },
    {
      "cell_type": "code",
      "source": [
        "def intervalos_ibge(dataframe: pd.DataFrame, nome_coluna: str, nova_coluna: str, bins: list, labels: list):\n",
        "  \"\"\"\"\"\n",
        "  A função 'intervalos_ibge' adiciona ao dataframe com os votos dos candidatos por município uma nova coluna. Tal coluna passa a conter um intervalo \n",
        "  pré-determinado determinado indicador do IBGE relacionado ao município em questão.\n",
        "\n",
        "  * dataframe: dataframe contendo os votos por candidato em cada município.\n",
        "  * nome_coluna: coluna com a informação que será utilizada para gerar o intervalo.\n",
        "  * nova_coluna: nome da nova coluna contendo os intervalos dos indicadores do IBGE.\n",
        "  * bins: lista com os valores que serão usados para formar os intervalos dos indicadores.\n",
        "  * labels: lista com as labels dos intervalos.\n",
        "  \"\"\"\"\"\n",
        "  dataframe[nova_coluna] = pd.cut(\n",
        "      dataframe[nome_coluna], bins= bins, labels= labels,\n",
        "      include_lowest= True, right= False # o valor mais baixo é incluso, enquanto o valor maior não é incluso.\n",
        "  )\n",
        "\n",
        "  return dataframe # retorna o dataframe, agora contendo a coluna com os intervalos dos indicadores do IBGE.\n",
        "\n",
        "def dict_votos_totais(dataframe: pd.DataFrame, coluna_indicador: str):\n",
        "  \"\"\"\"\"\n",
        "  A função dict_votos_totais retorna um dicionário com a quantidade de votos gerais para cada intervalo dos indicadores do IBGE.\n",
        "\n",
        "  * dataframe: contendo os votos por candidato em cada município, além da coluna com os intervalos dos indicadores.\n",
        "  * coluna_indicador: nome da coluna contendo os intervalos dos indicadores.\n",
        "  \"\"\"\"\"\n",
        "  valores_totais = dataframe.groupby(coluna_indicador)['qt_votos'].sum()\n",
        "  valores_totais = dict(valores_totais)\n",
        "  \n",
        "  return valores_totais\n",
        "\n",
        "def dataframe_com_porcentagens(dataframe: pd.DataFrame, dictionary: dict, coluna_indicador: str):\n",
        "  \"\"\"\"\"\n",
        "  A função dataframe_com_porcentagens retorna um dataframe contendo a porcentagem de votos para cada candidato referente a cada intervalo de indicador.\n",
        "  * dataframe: dataframe com votos dos candidatos por municípios.\n",
        "  * dictionary: dicionário contendo os votos totais de cada intervalo de indicador do IBGE.\n",
        "  * coluna_indicador: coluna com o indicador do IBGE que se deseja calcular os valores de porcentagem.\n",
        "  \"\"\"\"\"\n",
        "\n",
        "  # O dataframe é agrupado pela coluna com os indicadores e nome dos candidatos, os votos são somados e ordenados:\n",
        "\n",
        "  dataframe_intervalos_ibge = dataframe.groupby([coluna_indicador, 'nm_votavel'])['qt_votos'].sum()\\\n",
        "                                       .reset_index().sort_values([coluna_indicador, 'qt_votos'], ascending= [True, False])\n",
        "\n",
        "  # A porcentagem para cada candidado em cada intervalo do indicador é calculada:\n",
        "\n",
        "  porcentagem = list()\n",
        "\n",
        "  for index, row in dataframe_intervalos_ibge.iterrows():\n",
        "    valor = round((row['qt_votos']/dictionary[row[coluna_indicador]]) * 100, 2)\n",
        "    porcentagem.append(valor)\n",
        "  \n",
        "  # E depois uma nova coluna é adicionada ao dataframe que é retornado:\n",
        "\n",
        "  dataframe_intervalos_ibge['porcentagem_' + coluna_indicador] = porcentagem # o nome da coluna é obtido a partir da concatenação das strings.\n",
        "\n",
        "  return dataframe_intervalos_ibge"
      ],
      "metadata": {
        "id": "gOY38SrZyrxH"
      },
      "execution_count": 59,
      "outputs": []
    },
    {
      "cell_type": "markdown",
      "metadata": {
        "id": "JqO1Vt_GY80l"
      },
      "source": [
        "Determinam-se os intervalos populacionais dos municípios para análise. Ademais, as *labels* também são definidas."
      ]
    },
    {
      "cell_type": "code",
      "execution_count": 60,
      "metadata": {
        "id": "4mTHjtDwRUfk"
      },
      "outputs": [],
      "source": [
        "bins = [0, 100000, 500000, 3000000]\n",
        "labels = ['Menos de 100 mil habitantes', '100 mil e menos de 500 mil habitantes', '500 mil habitantes ou mais']"
      ]
    },
    {
      "cell_type": "markdown",
      "source": [
        "A coluna com intervalos populacionais é adicionada ao *dataframe*."
      ],
      "metadata": {
        "id": "FjawL5vkLQ3B"
      }
    },
    {
      "cell_type": "code",
      "source": [
        "votos_por_municipio = intervalos_ibge(\n",
        "    dataframe= votos_por_municipio, \n",
        "    nome_coluna= 'populacao', \n",
        "    nova_coluna= 'populacao_intervalos',\n",
        "    bins= bins, labels= labels\n",
        ")\n",
        "\n",
        "votos_por_municipio.head(2)"
      ],
      "metadata": {
        "id": "FwT2rWYT3ciO",
        "colab": {
          "base_uri": "https://localhost:8080/",
          "height": 191
        },
        "outputId": "e2825343-4db6-4163-e4a8-21e25bf032cc"
      },
      "execution_count": 61,
      "outputs": [
        {
          "output_type": "execute_result",
          "data": {
            "text/plain": [
              "  nm_municipio                          nm_votavel  qt_votos  area_territorio  \\\n",
              "0      ABAIARA          ELMANO DE FREITAS DA COSTA      4182          180.833   \n",
              "1      ABAIARA  FRANCISCO RAIMUNDO MALTA DE ARAÚJO         7          180.833   \n",
              "\n",
              "   populacao   idhm  pib_per_capita  area_urbanizada  porcentagem_urbana  \\\n",
              "0      11965  0.628         9158.04             3.19                1.76   \n",
              "1      11965  0.628         9158.04             3.19                1.76   \n",
              "\n",
              "          populacao_intervalos  \n",
              "0  Menos de 100 mil habitantes  \n",
              "1  Menos de 100 mil habitantes  "
            ],
            "text/html": [
              "\n",
              "  <div id=\"df-366fe772-3716-421b-8438-ca0d7efc38c8\">\n",
              "    <div class=\"colab-df-container\">\n",
              "      <div>\n",
              "<style scoped>\n",
              "    .dataframe tbody tr th:only-of-type {\n",
              "        vertical-align: middle;\n",
              "    }\n",
              "\n",
              "    .dataframe tbody tr th {\n",
              "        vertical-align: top;\n",
              "    }\n",
              "\n",
              "    .dataframe thead th {\n",
              "        text-align: right;\n",
              "    }\n",
              "</style>\n",
              "<table border=\"1\" class=\"dataframe\">\n",
              "  <thead>\n",
              "    <tr style=\"text-align: right;\">\n",
              "      <th></th>\n",
              "      <th>nm_municipio</th>\n",
              "      <th>nm_votavel</th>\n",
              "      <th>qt_votos</th>\n",
              "      <th>area_territorio</th>\n",
              "      <th>populacao</th>\n",
              "      <th>idhm</th>\n",
              "      <th>pib_per_capita</th>\n",
              "      <th>area_urbanizada</th>\n",
              "      <th>porcentagem_urbana</th>\n",
              "      <th>populacao_intervalos</th>\n",
              "    </tr>\n",
              "  </thead>\n",
              "  <tbody>\n",
              "    <tr>\n",
              "      <th>0</th>\n",
              "      <td>ABAIARA</td>\n",
              "      <td>ELMANO DE FREITAS DA COSTA</td>\n",
              "      <td>4182</td>\n",
              "      <td>180.833</td>\n",
              "      <td>11965</td>\n",
              "      <td>0.628</td>\n",
              "      <td>9158.04</td>\n",
              "      <td>3.19</td>\n",
              "      <td>1.76</td>\n",
              "      <td>Menos de 100 mil habitantes</td>\n",
              "    </tr>\n",
              "    <tr>\n",
              "      <th>1</th>\n",
              "      <td>ABAIARA</td>\n",
              "      <td>FRANCISCO RAIMUNDO MALTA DE ARAÚJO</td>\n",
              "      <td>7</td>\n",
              "      <td>180.833</td>\n",
              "      <td>11965</td>\n",
              "      <td>0.628</td>\n",
              "      <td>9158.04</td>\n",
              "      <td>3.19</td>\n",
              "      <td>1.76</td>\n",
              "      <td>Menos de 100 mil habitantes</td>\n",
              "    </tr>\n",
              "  </tbody>\n",
              "</table>\n",
              "</div>\n",
              "      <button class=\"colab-df-convert\" onclick=\"convertToInteractive('df-366fe772-3716-421b-8438-ca0d7efc38c8')\"\n",
              "              title=\"Convert this dataframe to an interactive table.\"\n",
              "              style=\"display:none;\">\n",
              "        \n",
              "  <svg xmlns=\"http://www.w3.org/2000/svg\" height=\"24px\"viewBox=\"0 0 24 24\"\n",
              "       width=\"24px\">\n",
              "    <path d=\"M0 0h24v24H0V0z\" fill=\"none\"/>\n",
              "    <path d=\"M18.56 5.44l.94 2.06.94-2.06 2.06-.94-2.06-.94-.94-2.06-.94 2.06-2.06.94zm-11 1L8.5 8.5l.94-2.06 2.06-.94-2.06-.94L8.5 2.5l-.94 2.06-2.06.94zm10 10l.94 2.06.94-2.06 2.06-.94-2.06-.94-.94-2.06-.94 2.06-2.06.94z\"/><path d=\"M17.41 7.96l-1.37-1.37c-.4-.4-.92-.59-1.43-.59-.52 0-1.04.2-1.43.59L10.3 9.45l-7.72 7.72c-.78.78-.78 2.05 0 2.83L4 21.41c.39.39.9.59 1.41.59.51 0 1.02-.2 1.41-.59l7.78-7.78 2.81-2.81c.8-.78.8-2.07 0-2.86zM5.41 20L4 18.59l7.72-7.72 1.47 1.35L5.41 20z\"/>\n",
              "  </svg>\n",
              "      </button>\n",
              "      \n",
              "  <style>\n",
              "    .colab-df-container {\n",
              "      display:flex;\n",
              "      flex-wrap:wrap;\n",
              "      gap: 12px;\n",
              "    }\n",
              "\n",
              "    .colab-df-convert {\n",
              "      background-color: #E8F0FE;\n",
              "      border: none;\n",
              "      border-radius: 50%;\n",
              "      cursor: pointer;\n",
              "      display: none;\n",
              "      fill: #1967D2;\n",
              "      height: 32px;\n",
              "      padding: 0 0 0 0;\n",
              "      width: 32px;\n",
              "    }\n",
              "\n",
              "    .colab-df-convert:hover {\n",
              "      background-color: #E2EBFA;\n",
              "      box-shadow: 0px 1px 2px rgba(60, 64, 67, 0.3), 0px 1px 3px 1px rgba(60, 64, 67, 0.15);\n",
              "      fill: #174EA6;\n",
              "    }\n",
              "\n",
              "    [theme=dark] .colab-df-convert {\n",
              "      background-color: #3B4455;\n",
              "      fill: #D2E3FC;\n",
              "    }\n",
              "\n",
              "    [theme=dark] .colab-df-convert:hover {\n",
              "      background-color: #434B5C;\n",
              "      box-shadow: 0px 1px 3px 1px rgba(0, 0, 0, 0.15);\n",
              "      filter: drop-shadow(0px 1px 2px rgba(0, 0, 0, 0.3));\n",
              "      fill: #FFFFFF;\n",
              "    }\n",
              "  </style>\n",
              "\n",
              "      <script>\n",
              "        const buttonEl =\n",
              "          document.querySelector('#df-366fe772-3716-421b-8438-ca0d7efc38c8 button.colab-df-convert');\n",
              "        buttonEl.style.display =\n",
              "          google.colab.kernel.accessAllowed ? 'block' : 'none';\n",
              "\n",
              "        async function convertToInteractive(key) {\n",
              "          const element = document.querySelector('#df-366fe772-3716-421b-8438-ca0d7efc38c8');\n",
              "          const dataTable =\n",
              "            await google.colab.kernel.invokeFunction('convertToInteractive',\n",
              "                                                     [key], {});\n",
              "          if (!dataTable) return;\n",
              "\n",
              "          const docLinkHtml = 'Like what you see? Visit the ' +\n",
              "            '<a target=\"_blank\" href=https://colab.research.google.com/notebooks/data_table.ipynb>data table notebook</a>'\n",
              "            + ' to learn more about interactive tables.';\n",
              "          element.innerHTML = '';\n",
              "          dataTable['output_type'] = 'display_data';\n",
              "          await google.colab.output.renderOutput(dataTable, element);\n",
              "          const docLink = document.createElement('div');\n",
              "          docLink.innerHTML = docLinkHtml;\n",
              "          element.appendChild(docLink);\n",
              "        }\n",
              "      </script>\n",
              "    </div>\n",
              "  </div>\n",
              "  "
            ]
          },
          "metadata": {},
          "execution_count": 61
        }
      ]
    },
    {
      "cell_type": "markdown",
      "source": [
        "O número de votos totais por intervalo populacional é computado."
      ],
      "metadata": {
        "id": "v_bdTkFYMB6S"
      }
    },
    {
      "cell_type": "code",
      "source": [
        "votos_totais_por_intervalo_populacional = dict_votos_totais(votos_por_municipio, 'populacao_intervalos')\n",
        "votos_totais_por_intervalo_populacional"
      ],
      "metadata": {
        "id": "h805hspp4ZAq",
        "colab": {
          "base_uri": "https://localhost:8080/"
        },
        "outputId": "f040b77a-fa1b-406e-8451-4551f2ac8075"
      },
      "execution_count": 62,
      "outputs": [
        {
          "output_type": "execute_result",
          "data": {
            "text/plain": [
              "{'Menos de 100 mil habitantes': 3146126,\n",
              " '100 mil e menos de 500 mil habitantes': 917622,\n",
              " '500 mil habitantes ou mais': 1559702}"
            ]
          },
          "metadata": {},
          "execution_count": 62
        }
      ]
    },
    {
      "cell_type": "markdown",
      "metadata": {
        "id": "-Fw5drxgdYfu"
      },
      "source": [
        "Os municípios com menos de 100 mil habitantes são aqueles que concentram a maior soma de votos totais. Mais de 1,5 milhão de votos são contabilizados nos municípios com mais de 500 mil habitantes, que nesse caso é apenas o município de Fortaleza."
      ]
    },
    {
      "cell_type": "markdown",
      "source": [
        "A porcentagem de votos para cada candidado em intervalo populacional é calculada. Ademais, alguns valores são mostrados na tabela abaixo."
      ],
      "metadata": {
        "id": "rUt7K_M7Mo0j"
      }
    },
    {
      "cell_type": "code",
      "source": [
        "votos_intervalos_populacionais = dataframe_com_porcentagens(\n",
        "    votos_por_municipio, votos_totais_por_intervalo_populacional, 'populacao_intervalos'    \n",
        ")\n",
        "votos_intervalos_populacionais.head()"
      ],
      "metadata": {
        "id": "Z9BedRGr4snh",
        "colab": {
          "base_uri": "https://localhost:8080/",
          "height": 206
        },
        "outputId": "6cac2aa8-f5ff-4ef1-9305-ab9ac4b1a38b"
      },
      "execution_count": 63,
      "outputs": [
        {
          "output_type": "execute_result",
          "data": {
            "text/plain": [
              "          populacao_intervalos                         nm_votavel  qt_votos  \\\n",
              "0  Menos de 100 mil habitantes         ELMANO DE FREITAS DA COSTA   1780609   \n",
              "7  Menos de 100 mil habitantes                 WAGNER SOUSA GOMES    766806   \n",
              "3  Menos de 100 mil habitantes  ROBERTO CLÁUDIO RODRIGUES BEZERRA    356644   \n",
              "6  Menos de 100 mil habitantes                          VOTO NULO    139194   \n",
              "5  Menos de 100 mil habitantes                        VOTO BRANCO    100497   \n",
              "\n",
              "   porcentagem_populacao_intervalos  \n",
              "0                             56.60  \n",
              "7                             24.37  \n",
              "3                             11.34  \n",
              "6                              4.42  \n",
              "5                              3.19  "
            ],
            "text/html": [
              "\n",
              "  <div id=\"df-763908fe-90c6-4a60-8962-ee6d0432a0a6\">\n",
              "    <div class=\"colab-df-container\">\n",
              "      <div>\n",
              "<style scoped>\n",
              "    .dataframe tbody tr th:only-of-type {\n",
              "        vertical-align: middle;\n",
              "    }\n",
              "\n",
              "    .dataframe tbody tr th {\n",
              "        vertical-align: top;\n",
              "    }\n",
              "\n",
              "    .dataframe thead th {\n",
              "        text-align: right;\n",
              "    }\n",
              "</style>\n",
              "<table border=\"1\" class=\"dataframe\">\n",
              "  <thead>\n",
              "    <tr style=\"text-align: right;\">\n",
              "      <th></th>\n",
              "      <th>populacao_intervalos</th>\n",
              "      <th>nm_votavel</th>\n",
              "      <th>qt_votos</th>\n",
              "      <th>porcentagem_populacao_intervalos</th>\n",
              "    </tr>\n",
              "  </thead>\n",
              "  <tbody>\n",
              "    <tr>\n",
              "      <th>0</th>\n",
              "      <td>Menos de 100 mil habitantes</td>\n",
              "      <td>ELMANO DE FREITAS DA COSTA</td>\n",
              "      <td>1780609</td>\n",
              "      <td>56.60</td>\n",
              "    </tr>\n",
              "    <tr>\n",
              "      <th>7</th>\n",
              "      <td>Menos de 100 mil habitantes</td>\n",
              "      <td>WAGNER SOUSA GOMES</td>\n",
              "      <td>766806</td>\n",
              "      <td>24.37</td>\n",
              "    </tr>\n",
              "    <tr>\n",
              "      <th>3</th>\n",
              "      <td>Menos de 100 mil habitantes</td>\n",
              "      <td>ROBERTO CLÁUDIO RODRIGUES BEZERRA</td>\n",
              "      <td>356644</td>\n",
              "      <td>11.34</td>\n",
              "    </tr>\n",
              "    <tr>\n",
              "      <th>6</th>\n",
              "      <td>Menos de 100 mil habitantes</td>\n",
              "      <td>VOTO NULO</td>\n",
              "      <td>139194</td>\n",
              "      <td>4.42</td>\n",
              "    </tr>\n",
              "    <tr>\n",
              "      <th>5</th>\n",
              "      <td>Menos de 100 mil habitantes</td>\n",
              "      <td>VOTO BRANCO</td>\n",
              "      <td>100497</td>\n",
              "      <td>3.19</td>\n",
              "    </tr>\n",
              "  </tbody>\n",
              "</table>\n",
              "</div>\n",
              "      <button class=\"colab-df-convert\" onclick=\"convertToInteractive('df-763908fe-90c6-4a60-8962-ee6d0432a0a6')\"\n",
              "              title=\"Convert this dataframe to an interactive table.\"\n",
              "              style=\"display:none;\">\n",
              "        \n",
              "  <svg xmlns=\"http://www.w3.org/2000/svg\" height=\"24px\"viewBox=\"0 0 24 24\"\n",
              "       width=\"24px\">\n",
              "    <path d=\"M0 0h24v24H0V0z\" fill=\"none\"/>\n",
              "    <path d=\"M18.56 5.44l.94 2.06.94-2.06 2.06-.94-2.06-.94-.94-2.06-.94 2.06-2.06.94zm-11 1L8.5 8.5l.94-2.06 2.06-.94-2.06-.94L8.5 2.5l-.94 2.06-2.06.94zm10 10l.94 2.06.94-2.06 2.06-.94-2.06-.94-.94-2.06-.94 2.06-2.06.94z\"/><path d=\"M17.41 7.96l-1.37-1.37c-.4-.4-.92-.59-1.43-.59-.52 0-1.04.2-1.43.59L10.3 9.45l-7.72 7.72c-.78.78-.78 2.05 0 2.83L4 21.41c.39.39.9.59 1.41.59.51 0 1.02-.2 1.41-.59l7.78-7.78 2.81-2.81c.8-.78.8-2.07 0-2.86zM5.41 20L4 18.59l7.72-7.72 1.47 1.35L5.41 20z\"/>\n",
              "  </svg>\n",
              "      </button>\n",
              "      \n",
              "  <style>\n",
              "    .colab-df-container {\n",
              "      display:flex;\n",
              "      flex-wrap:wrap;\n",
              "      gap: 12px;\n",
              "    }\n",
              "\n",
              "    .colab-df-convert {\n",
              "      background-color: #E8F0FE;\n",
              "      border: none;\n",
              "      border-radius: 50%;\n",
              "      cursor: pointer;\n",
              "      display: none;\n",
              "      fill: #1967D2;\n",
              "      height: 32px;\n",
              "      padding: 0 0 0 0;\n",
              "      width: 32px;\n",
              "    }\n",
              "\n",
              "    .colab-df-convert:hover {\n",
              "      background-color: #E2EBFA;\n",
              "      box-shadow: 0px 1px 2px rgba(60, 64, 67, 0.3), 0px 1px 3px 1px rgba(60, 64, 67, 0.15);\n",
              "      fill: #174EA6;\n",
              "    }\n",
              "\n",
              "    [theme=dark] .colab-df-convert {\n",
              "      background-color: #3B4455;\n",
              "      fill: #D2E3FC;\n",
              "    }\n",
              "\n",
              "    [theme=dark] .colab-df-convert:hover {\n",
              "      background-color: #434B5C;\n",
              "      box-shadow: 0px 1px 3px 1px rgba(0, 0, 0, 0.15);\n",
              "      filter: drop-shadow(0px 1px 2px rgba(0, 0, 0, 0.3));\n",
              "      fill: #FFFFFF;\n",
              "    }\n",
              "  </style>\n",
              "\n",
              "      <script>\n",
              "        const buttonEl =\n",
              "          document.querySelector('#df-763908fe-90c6-4a60-8962-ee6d0432a0a6 button.colab-df-convert');\n",
              "        buttonEl.style.display =\n",
              "          google.colab.kernel.accessAllowed ? 'block' : 'none';\n",
              "\n",
              "        async function convertToInteractive(key) {\n",
              "          const element = document.querySelector('#df-763908fe-90c6-4a60-8962-ee6d0432a0a6');\n",
              "          const dataTable =\n",
              "            await google.colab.kernel.invokeFunction('convertToInteractive',\n",
              "                                                     [key], {});\n",
              "          if (!dataTable) return;\n",
              "\n",
              "          const docLinkHtml = 'Like what you see? Visit the ' +\n",
              "            '<a target=\"_blank\" href=https://colab.research.google.com/notebooks/data_table.ipynb>data table notebook</a>'\n",
              "            + ' to learn more about interactive tables.';\n",
              "          element.innerHTML = '';\n",
              "          dataTable['output_type'] = 'display_data';\n",
              "          await google.colab.output.renderOutput(dataTable, element);\n",
              "          const docLink = document.createElement('div');\n",
              "          docLink.innerHTML = docLinkHtml;\n",
              "          element.appendChild(docLink);\n",
              "        }\n",
              "      </script>\n",
              "    </div>\n",
              "  </div>\n",
              "  "
            ]
          },
          "metadata": {},
          "execution_count": 63
        }
      ]
    },
    {
      "cell_type": "markdown",
      "source": [
        "O gráfico mostra os resultados obtidos:"
      ],
      "metadata": {
        "id": "5PxIZkzmgTtK"
      }
    },
    {
      "cell_type": "code",
      "execution_count": 64,
      "metadata": {
        "id": "Pz_xbualTaXy",
        "colab": {
          "base_uri": "https://localhost:8080/",
          "height": 542
        },
        "outputId": "7de01aa0-40ef-48b3-a52e-0bef2131871a"
      },
      "outputs": [
        {
          "output_type": "display_data",
          "data": {
            "text/html": [
              "<html>\n",
              "<head><meta charset=\"utf-8\" /></head>\n",
              "<body>\n",
              "    <div>            <script src=\"https://cdnjs.cloudflare.com/ajax/libs/mathjax/2.7.5/MathJax.js?config=TeX-AMS-MML_SVG\"></script><script type=\"text/javascript\">if (window.MathJax && window.MathJax.Hub && window.MathJax.Hub.Config) {window.MathJax.Hub.Config({SVG: {font: \"STIX-Web\"}});}</script>                <script type=\"text/javascript\">window.PlotlyConfig = {MathJaxConfig: 'local'};</script>\n",
              "        <script src=\"https://cdn.plot.ly/plotly-2.18.2.min.js\"></script>                <div id=\"ed996c37-ade8-46c1-a2ba-bccd7a27b02e\" class=\"plotly-graph-div\" style=\"height:525px; width:100%;\"></div>            <script type=\"text/javascript\">                                    window.PLOTLYENV=window.PLOTLYENV || {};                                    if (document.getElementById(\"ed996c37-ade8-46c1-a2ba-bccd7a27b02e\")) {                    Plotly.newPlot(                        \"ed996c37-ade8-46c1-a2ba-bccd7a27b02e\",                        [{\"alignmentgroup\":\"True\",\"hovertemplate\":\"nm_votavel=ELMANO DE FREITAS DA COSTA<br>porcentagem_populacao_intervalos=%{x}<br>populacao_intervalos=%{y}<extra></extra>\",\"legendgroup\":\"ELMANO DE FREITAS DA COSTA\",\"marker\":{\"color\":\"#636efa\",\"pattern\":{\"shape\":\"\"}},\"name\":\"ELMANO DE FREITAS DA COSTA\",\"offsetgroup\":\"ELMANO DE FREITAS DA COSTA\",\"orientation\":\"h\",\"showlegend\":true,\"textposition\":\"auto\",\"x\":[56.6,52.53,34.99],\"xaxis\":\"x\",\"y\":[\"Menos de 100 mil habitantes\",\"100 mil e menos de 500 mil habitantes\",\"500 mil habitantes ou mais\"],\"yaxis\":\"y\",\"type\":\"bar\"},{\"alignmentgroup\":\"True\",\"hovertemplate\":\"nm_votavel=WAGNER SOUSA GOMES<br>porcentagem_populacao_intervalos=%{x}<br>populacao_intervalos=%{y}<extra></extra>\",\"legendgroup\":\"WAGNER SOUSA GOMES\",\"marker\":{\"color\":\"#EF553B\",\"pattern\":{\"shape\":\"\"}},\"name\":\"WAGNER SOUSA GOMES\",\"offsetgroup\":\"WAGNER SOUSA GOMES\",\"orientation\":\"h\",\"showlegend\":true,\"textposition\":\"auto\",\"x\":[24.37,30.55,38.6],\"xaxis\":\"x\",\"y\":[\"Menos de 100 mil habitantes\",\"100 mil e menos de 500 mil habitantes\",\"500 mil habitantes ou mais\"],\"yaxis\":\"y\",\"type\":\"bar\"},{\"alignmentgroup\":\"True\",\"hovertemplate\":\"nm_votavel=ROBERTO CL\\u00c1UDIO RODRIGUES BEZERRA<br>porcentagem_populacao_intervalos=%{x}<br>populacao_intervalos=%{y}<extra></extra>\",\"legendgroup\":\"ROBERTO CL\\u00c1UDIO RODRIGUES BEZERRA\",\"marker\":{\"color\":\"#00cc96\",\"pattern\":{\"shape\":\"\"}},\"name\":\"ROBERTO CL\\u00c1UDIO RODRIGUES BEZERRA\",\"offsetgroup\":\"ROBERTO CL\\u00c1UDIO RODRIGUES BEZERRA\",\"orientation\":\"h\",\"showlegend\":true,\"textposition\":\"auto\",\"x\":[11.34,8.56,19.22],\"xaxis\":\"x\",\"y\":[\"Menos de 100 mil habitantes\",\"100 mil e menos de 500 mil habitantes\",\"500 mil habitantes ou mais\"],\"yaxis\":\"y\",\"type\":\"bar\"},{\"alignmentgroup\":\"True\",\"hovertemplate\":\"nm_votavel=VOTO NULO<br>porcentagem_populacao_intervalos=%{x}<br>populacao_intervalos=%{y}<extra></extra>\",\"legendgroup\":\"VOTO NULO\",\"marker\":{\"color\":\"#ab63fa\",\"pattern\":{\"shape\":\"\"}},\"name\":\"VOTO NULO\",\"offsetgroup\":\"VOTO NULO\",\"orientation\":\"h\",\"showlegend\":true,\"textposition\":\"auto\",\"x\":[4.42,4.61,4.33],\"xaxis\":\"x\",\"y\":[\"Menos de 100 mil habitantes\",\"100 mil e menos de 500 mil habitantes\",\"500 mil habitantes ou mais\"],\"yaxis\":\"y\",\"type\":\"bar\"},{\"alignmentgroup\":\"True\",\"hovertemplate\":\"nm_votavel=VOTO BRANCO<br>porcentagem_populacao_intervalos=%{x}<br>populacao_intervalos=%{y}<extra></extra>\",\"legendgroup\":\"VOTO BRANCO\",\"marker\":{\"color\":\"#FFA15A\",\"pattern\":{\"shape\":\"\"}},\"name\":\"VOTO BRANCO\",\"offsetgroup\":\"VOTO BRANCO\",\"orientation\":\"h\",\"showlegend\":true,\"textposition\":\"auto\",\"x\":[3.19,3.64,2.67],\"xaxis\":\"x\",\"y\":[\"Menos de 100 mil habitantes\",\"100 mil e menos de 500 mil habitantes\",\"500 mil habitantes ou mais\"],\"yaxis\":\"y\",\"type\":\"bar\"},{\"alignmentgroup\":\"True\",\"hovertemplate\":\"nm_votavel=FRANCISCO RAIMUNDO MALTA DE ARA\\u00daJO<br>porcentagem_populacao_intervalos=%{x}<br>populacao_intervalos=%{y}<extra></extra>\",\"legendgroup\":\"FRANCISCO RAIMUNDO MALTA DE ARA\\u00daJO\",\"marker\":{\"color\":\"#19d3f3\",\"pattern\":{\"shape\":\"\"}},\"name\":\"FRANCISCO RAIMUNDO MALTA DE ARA\\u00daJO\",\"offsetgroup\":\"FRANCISCO RAIMUNDO MALTA DE ARA\\u00daJO\",\"orientation\":\"h\",\"showlegend\":true,\"textposition\":\"auto\",\"x\":[0.04,0.04,0.08],\"xaxis\":\"x\",\"y\":[\"Menos de 100 mil habitantes\",\"100 mil e menos de 500 mil habitantes\",\"500 mil habitantes ou mais\"],\"yaxis\":\"y\",\"type\":\"bar\"},{\"alignmentgroup\":\"True\",\"hovertemplate\":\"nm_votavel=JOS\\u00c9 BATISTA NETO<br>porcentagem_populacao_intervalos=%{x}<br>populacao_intervalos=%{y}<extra></extra>\",\"legendgroup\":\"JOS\\u00c9 BATISTA NETO\",\"marker\":{\"color\":\"#FF6692\",\"pattern\":{\"shape\":\"\"}},\"name\":\"JOS\\u00c9 BATISTA NETO\",\"offsetgroup\":\"JOS\\u00c9 BATISTA NETO\",\"orientation\":\"h\",\"showlegend\":true,\"textposition\":\"auto\",\"x\":[0.02,0.03,0.04],\"xaxis\":\"x\",\"y\":[\"Menos de 100 mil habitantes\",\"100 mil e menos de 500 mil habitantes\",\"500 mil habitantes ou mais\"],\"yaxis\":\"y\",\"type\":\"bar\"},{\"alignmentgroup\":\"True\",\"hovertemplate\":\"nm_votavel=SERLEY DE SOUSA LEAL<br>porcentagem_populacao_intervalos=%{x}<br>populacao_intervalos=%{y}<extra></extra>\",\"legendgroup\":\"SERLEY DE SOUSA LEAL\",\"marker\":{\"color\":\"#B6E880\",\"pattern\":{\"shape\":\"\"}},\"name\":\"SERLEY DE SOUSA LEAL\",\"offsetgroup\":\"SERLEY DE SOUSA LEAL\",\"orientation\":\"h\",\"showlegend\":true,\"textposition\":\"auto\",\"x\":[0.02,0.04,0.06],\"xaxis\":\"x\",\"y\":[\"Menos de 100 mil habitantes\",\"100 mil e menos de 500 mil habitantes\",\"500 mil habitantes ou mais\"],\"yaxis\":\"y\",\"type\":\"bar\"}],                        {\"template\":{\"data\":{\"histogram2dcontour\":[{\"type\":\"histogram2dcontour\",\"colorbar\":{\"outlinewidth\":0,\"ticks\":\"\"},\"colorscale\":[[0.0,\"#0d0887\"],[0.1111111111111111,\"#46039f\"],[0.2222222222222222,\"#7201a8\"],[0.3333333333333333,\"#9c179e\"],[0.4444444444444444,\"#bd3786\"],[0.5555555555555556,\"#d8576b\"],[0.6666666666666666,\"#ed7953\"],[0.7777777777777778,\"#fb9f3a\"],[0.8888888888888888,\"#fdca26\"],[1.0,\"#f0f921\"]]}],\"choropleth\":[{\"type\":\"choropleth\",\"colorbar\":{\"outlinewidth\":0,\"ticks\":\"\"}}],\"histogram2d\":[{\"type\":\"histogram2d\",\"colorbar\":{\"outlinewidth\":0,\"ticks\":\"\"},\"colorscale\":[[0.0,\"#0d0887\"],[0.1111111111111111,\"#46039f\"],[0.2222222222222222,\"#7201a8\"],[0.3333333333333333,\"#9c179e\"],[0.4444444444444444,\"#bd3786\"],[0.5555555555555556,\"#d8576b\"],[0.6666666666666666,\"#ed7953\"],[0.7777777777777778,\"#fb9f3a\"],[0.8888888888888888,\"#fdca26\"],[1.0,\"#f0f921\"]]}],\"heatmap\":[{\"type\":\"heatmap\",\"colorbar\":{\"outlinewidth\":0,\"ticks\":\"\"},\"colorscale\":[[0.0,\"#0d0887\"],[0.1111111111111111,\"#46039f\"],[0.2222222222222222,\"#7201a8\"],[0.3333333333333333,\"#9c179e\"],[0.4444444444444444,\"#bd3786\"],[0.5555555555555556,\"#d8576b\"],[0.6666666666666666,\"#ed7953\"],[0.7777777777777778,\"#fb9f3a\"],[0.8888888888888888,\"#fdca26\"],[1.0,\"#f0f921\"]]}],\"heatmapgl\":[{\"type\":\"heatmapgl\",\"colorbar\":{\"outlinewidth\":0,\"ticks\":\"\"},\"colorscale\":[[0.0,\"#0d0887\"],[0.1111111111111111,\"#46039f\"],[0.2222222222222222,\"#7201a8\"],[0.3333333333333333,\"#9c179e\"],[0.4444444444444444,\"#bd3786\"],[0.5555555555555556,\"#d8576b\"],[0.6666666666666666,\"#ed7953\"],[0.7777777777777778,\"#fb9f3a\"],[0.8888888888888888,\"#fdca26\"],[1.0,\"#f0f921\"]]}],\"contourcarpet\":[{\"type\":\"contourcarpet\",\"colorbar\":{\"outlinewidth\":0,\"ticks\":\"\"}}],\"contour\":[{\"type\":\"contour\",\"colorbar\":{\"outlinewidth\":0,\"ticks\":\"\"},\"colorscale\":[[0.0,\"#0d0887\"],[0.1111111111111111,\"#46039f\"],[0.2222222222222222,\"#7201a8\"],[0.3333333333333333,\"#9c179e\"],[0.4444444444444444,\"#bd3786\"],[0.5555555555555556,\"#d8576b\"],[0.6666666666666666,\"#ed7953\"],[0.7777777777777778,\"#fb9f3a\"],[0.8888888888888888,\"#fdca26\"],[1.0,\"#f0f921\"]]}],\"surface\":[{\"type\":\"surface\",\"colorbar\":{\"outlinewidth\":0,\"ticks\":\"\"},\"colorscale\":[[0.0,\"#0d0887\"],[0.1111111111111111,\"#46039f\"],[0.2222222222222222,\"#7201a8\"],[0.3333333333333333,\"#9c179e\"],[0.4444444444444444,\"#bd3786\"],[0.5555555555555556,\"#d8576b\"],[0.6666666666666666,\"#ed7953\"],[0.7777777777777778,\"#fb9f3a\"],[0.8888888888888888,\"#fdca26\"],[1.0,\"#f0f921\"]]}],\"mesh3d\":[{\"type\":\"mesh3d\",\"colorbar\":{\"outlinewidth\":0,\"ticks\":\"\"}}],\"scatter\":[{\"fillpattern\":{\"fillmode\":\"overlay\",\"size\":10,\"solidity\":0.2},\"type\":\"scatter\"}],\"parcoords\":[{\"type\":\"parcoords\",\"line\":{\"colorbar\":{\"outlinewidth\":0,\"ticks\":\"\"}}}],\"scatterpolargl\":[{\"type\":\"scatterpolargl\",\"marker\":{\"colorbar\":{\"outlinewidth\":0,\"ticks\":\"\"}}}],\"bar\":[{\"error_x\":{\"color\":\"#2a3f5f\"},\"error_y\":{\"color\":\"#2a3f5f\"},\"marker\":{\"line\":{\"color\":\"#E5ECF6\",\"width\":0.5},\"pattern\":{\"fillmode\":\"overlay\",\"size\":10,\"solidity\":0.2}},\"type\":\"bar\"}],\"scattergeo\":[{\"type\":\"scattergeo\",\"marker\":{\"colorbar\":{\"outlinewidth\":0,\"ticks\":\"\"}}}],\"scatterpolar\":[{\"type\":\"scatterpolar\",\"marker\":{\"colorbar\":{\"outlinewidth\":0,\"ticks\":\"\"}}}],\"histogram\":[{\"marker\":{\"pattern\":{\"fillmode\":\"overlay\",\"size\":10,\"solidity\":0.2}},\"type\":\"histogram\"}],\"scattergl\":[{\"type\":\"scattergl\",\"marker\":{\"colorbar\":{\"outlinewidth\":0,\"ticks\":\"\"}}}],\"scatter3d\":[{\"type\":\"scatter3d\",\"line\":{\"colorbar\":{\"outlinewidth\":0,\"ticks\":\"\"}},\"marker\":{\"colorbar\":{\"outlinewidth\":0,\"ticks\":\"\"}}}],\"scattermapbox\":[{\"type\":\"scattermapbox\",\"marker\":{\"colorbar\":{\"outlinewidth\":0,\"ticks\":\"\"}}}],\"scatterternary\":[{\"type\":\"scatterternary\",\"marker\":{\"colorbar\":{\"outlinewidth\":0,\"ticks\":\"\"}}}],\"scattercarpet\":[{\"type\":\"scattercarpet\",\"marker\":{\"colorbar\":{\"outlinewidth\":0,\"ticks\":\"\"}}}],\"carpet\":[{\"aaxis\":{\"endlinecolor\":\"#2a3f5f\",\"gridcolor\":\"white\",\"linecolor\":\"white\",\"minorgridcolor\":\"white\",\"startlinecolor\":\"#2a3f5f\"},\"baxis\":{\"endlinecolor\":\"#2a3f5f\",\"gridcolor\":\"white\",\"linecolor\":\"white\",\"minorgridcolor\":\"white\",\"startlinecolor\":\"#2a3f5f\"},\"type\":\"carpet\"}],\"table\":[{\"cells\":{\"fill\":{\"color\":\"#EBF0F8\"},\"line\":{\"color\":\"white\"}},\"header\":{\"fill\":{\"color\":\"#C8D4E3\"},\"line\":{\"color\":\"white\"}},\"type\":\"table\"}],\"barpolar\":[{\"marker\":{\"line\":{\"color\":\"#E5ECF6\",\"width\":0.5},\"pattern\":{\"fillmode\":\"overlay\",\"size\":10,\"solidity\":0.2}},\"type\":\"barpolar\"}],\"pie\":[{\"automargin\":true,\"type\":\"pie\"}]},\"layout\":{\"autotypenumbers\":\"strict\",\"colorway\":[\"#636efa\",\"#EF553B\",\"#00cc96\",\"#ab63fa\",\"#FFA15A\",\"#19d3f3\",\"#FF6692\",\"#B6E880\",\"#FF97FF\",\"#FECB52\"],\"font\":{\"color\":\"#2a3f5f\"},\"hovermode\":\"closest\",\"hoverlabel\":{\"align\":\"left\"},\"paper_bgcolor\":\"white\",\"plot_bgcolor\":\"#E5ECF6\",\"polar\":{\"bgcolor\":\"#E5ECF6\",\"angularaxis\":{\"gridcolor\":\"white\",\"linecolor\":\"white\",\"ticks\":\"\"},\"radialaxis\":{\"gridcolor\":\"white\",\"linecolor\":\"white\",\"ticks\":\"\"}},\"ternary\":{\"bgcolor\":\"#E5ECF6\",\"aaxis\":{\"gridcolor\":\"white\",\"linecolor\":\"white\",\"ticks\":\"\"},\"baxis\":{\"gridcolor\":\"white\",\"linecolor\":\"white\",\"ticks\":\"\"},\"caxis\":{\"gridcolor\":\"white\",\"linecolor\":\"white\",\"ticks\":\"\"}},\"coloraxis\":{\"colorbar\":{\"outlinewidth\":0,\"ticks\":\"\"}},\"colorscale\":{\"sequential\":[[0.0,\"#0d0887\"],[0.1111111111111111,\"#46039f\"],[0.2222222222222222,\"#7201a8\"],[0.3333333333333333,\"#9c179e\"],[0.4444444444444444,\"#bd3786\"],[0.5555555555555556,\"#d8576b\"],[0.6666666666666666,\"#ed7953\"],[0.7777777777777778,\"#fb9f3a\"],[0.8888888888888888,\"#fdca26\"],[1.0,\"#f0f921\"]],\"sequentialminus\":[[0.0,\"#0d0887\"],[0.1111111111111111,\"#46039f\"],[0.2222222222222222,\"#7201a8\"],[0.3333333333333333,\"#9c179e\"],[0.4444444444444444,\"#bd3786\"],[0.5555555555555556,\"#d8576b\"],[0.6666666666666666,\"#ed7953\"],[0.7777777777777778,\"#fb9f3a\"],[0.8888888888888888,\"#fdca26\"],[1.0,\"#f0f921\"]],\"diverging\":[[0,\"#8e0152\"],[0.1,\"#c51b7d\"],[0.2,\"#de77ae\"],[0.3,\"#f1b6da\"],[0.4,\"#fde0ef\"],[0.5,\"#f7f7f7\"],[0.6,\"#e6f5d0\"],[0.7,\"#b8e186\"],[0.8,\"#7fbc41\"],[0.9,\"#4d9221\"],[1,\"#276419\"]]},\"xaxis\":{\"gridcolor\":\"white\",\"linecolor\":\"white\",\"ticks\":\"\",\"title\":{\"standoff\":15},\"zerolinecolor\":\"white\",\"automargin\":true,\"zerolinewidth\":2},\"yaxis\":{\"gridcolor\":\"white\",\"linecolor\":\"white\",\"ticks\":\"\",\"title\":{\"standoff\":15},\"zerolinecolor\":\"white\",\"automargin\":true,\"zerolinewidth\":2},\"scene\":{\"xaxis\":{\"backgroundcolor\":\"#E5ECF6\",\"gridcolor\":\"white\",\"linecolor\":\"white\",\"showbackground\":true,\"ticks\":\"\",\"zerolinecolor\":\"white\",\"gridwidth\":2},\"yaxis\":{\"backgroundcolor\":\"#E5ECF6\",\"gridcolor\":\"white\",\"linecolor\":\"white\",\"showbackground\":true,\"ticks\":\"\",\"zerolinecolor\":\"white\",\"gridwidth\":2},\"zaxis\":{\"backgroundcolor\":\"#E5ECF6\",\"gridcolor\":\"white\",\"linecolor\":\"white\",\"showbackground\":true,\"ticks\":\"\",\"zerolinecolor\":\"white\",\"gridwidth\":2}},\"shapedefaults\":{\"line\":{\"color\":\"#2a3f5f\"}},\"annotationdefaults\":{\"arrowcolor\":\"#2a3f5f\",\"arrowhead\":0,\"arrowwidth\":1},\"geo\":{\"bgcolor\":\"white\",\"landcolor\":\"#E5ECF6\",\"subunitcolor\":\"white\",\"showland\":true,\"showlakes\":true,\"lakecolor\":\"white\"},\"title\":{\"x\":0.05},\"mapbox\":{\"style\":\"light\"}}},\"xaxis\":{\"anchor\":\"y\",\"domain\":[0.0,1.0],\"title\":{\"text\":\"Porcentagem dos votos\"}},\"yaxis\":{\"anchor\":\"x\",\"domain\":[0.0,1.0],\"title\":{\"text\":\"\"},\"autorange\":\"reversed\"},\"legend\":{\"title\":{\"text\":\"Candidatos\"},\"tracegroupgap\":0},\"title\":{\"text\":\"Porcentagem de votos dos candidatos por intervalo populacional dos munic\\u00edpios cearenses\",\"x\":0.5},\"barmode\":\"relative\"},                        {\"responsive\": true}                    ).then(function(){\n",
              "                            \n",
              "var gd = document.getElementById('ed996c37-ade8-46c1-a2ba-bccd7a27b02e');\n",
              "var x = new MutationObserver(function (mutations, observer) {{\n",
              "        var display = window.getComputedStyle(gd).display;\n",
              "        if (!display || display === 'none') {{\n",
              "            console.log([gd, 'removed!']);\n",
              "            Plotly.purge(gd);\n",
              "            observer.disconnect();\n",
              "        }}\n",
              "}});\n",
              "\n",
              "// Listen for the removal of the full notebook cells\n",
              "var notebookContainer = gd.closest('#notebook-container');\n",
              "if (notebookContainer) {{\n",
              "    x.observe(notebookContainer, {childList: true});\n",
              "}}\n",
              "\n",
              "// Listen for the clearing of the current output cell\n",
              "var outputEl = gd.closest('.output');\n",
              "if (outputEl) {{\n",
              "    x.observe(outputEl, {childList: true});\n",
              "}}\n",
              "\n",
              "                        })                };                            </script>        </div>\n",
              "</body>\n",
              "</html>"
            ]
          },
          "metadata": {}
        }
      ],
      "source": [
        "fig = px.bar(\n",
        "    data_frame= votos_intervalos_populacionais,\n",
        "    y= 'populacao_intervalos',\n",
        "    x= 'porcentagem_populacao_intervalos',\n",
        "    color= 'nm_votavel',\n",
        "    title= 'Porcentagem de votos dos candidatos por intervalo populacional dos municípios cearenses'\n",
        ")\n",
        "fig.update_layout(\n",
        "    yaxis_title= '', xaxis_title= 'Porcentagem dos votos', legend_title= 'Candidatos',\n",
        "    yaxis= dict(autorange= 'reversed'), title= dict(x= 0.5)\n",
        ")\n",
        "fig.show()"
      ]
    },
    {
      "cell_type": "markdown",
      "metadata": {
        "id": "Wb0VIkEYhFBv"
      },
      "source": [
        "* O candidato Elmano de Freitas recebeu 56,6% dos votos dos municípios com menos de 100 mil habitantes. \n",
        "\n",
        "* Enquanto o candidato Wagner Sousa Gomes apresentou melhor desempenho em cidades com mais habitantes. Ultrapassando o candidato Elmano em cidades com mais de 500 mil habitantes (no caso, Fortaleza, onde foi vencedor).\n",
        "\n",
        "* Os votos foram mais expressivos para o candidato Roberto Claúdio em cidades maiores (Fortaleza), vale ressaltar que o candidato foi prefeito da capital cearense."
      ]
    },
    {
      "cell_type": "markdown",
      "metadata": {
        "id": "Zf_KdpbvyD8m"
      },
      "source": [
        "### 5.3.2 Análise estratificada por IDHM"
      ]
    },
    {
      "cell_type": "markdown",
      "source": [
        "Os intervalos para a análise do Indíce de desenvolvimento humano municipal são definidos, e as *labels* também."
      ],
      "metadata": {
        "id": "uWSu8HuEeulx"
      }
    },
    {
      "cell_type": "code",
      "execution_count": 65,
      "metadata": {
        "id": "VtNg1aqey3c7"
      },
      "outputs": [],
      "source": [
        "bins = [0, 0.55, 0.7, 0.8]\n",
        "labels = ['IDH baixo', 'IDH médio', 'IDH alto']"
      ]
    },
    {
      "cell_type": "markdown",
      "source": [
        "A coluna com intervalos do IDHM (`idhm_intervalos`) é adicionada ao *dataframe*."
      ],
      "metadata": {
        "id": "nPU-pYhIfTaG"
      }
    },
    {
      "cell_type": "code",
      "source": [
        "votos_por_municipio = intervalos_ibge(\n",
        "    dataframe= votos_por_municipio,\n",
        "    nome_coluna= 'idhm',\n",
        "    nova_coluna= 'idhm_intervalos',\n",
        "    bins= bins, labels= labels\n",
        ")\n",
        "\n",
        "votos_por_municipio.head(2)"
      ],
      "metadata": {
        "colab": {
          "base_uri": "https://localhost:8080/",
          "height": 263
        },
        "id": "cYq2QiHtNIOx",
        "outputId": "9af1807d-9474-4526-b292-ec25d9d9ca33"
      },
      "execution_count": 66,
      "outputs": [
        {
          "output_type": "execute_result",
          "data": {
            "text/plain": [
              "  nm_municipio                          nm_votavel  qt_votos  area_territorio  \\\n",
              "0      ABAIARA          ELMANO DE FREITAS DA COSTA      4182          180.833   \n",
              "1      ABAIARA  FRANCISCO RAIMUNDO MALTA DE ARAÚJO         7          180.833   \n",
              "\n",
              "   populacao   idhm  pib_per_capita  area_urbanizada  porcentagem_urbana  \\\n",
              "0      11965  0.628         9158.04             3.19                1.76   \n",
              "1      11965  0.628         9158.04             3.19                1.76   \n",
              "\n",
              "          populacao_intervalos idhm_intervalos  \n",
              "0  Menos de 100 mil habitantes       IDH médio  \n",
              "1  Menos de 100 mil habitantes       IDH médio  "
            ],
            "text/html": [
              "\n",
              "  <div id=\"df-5f9f00dc-c088-436b-8e75-1409dc8411df\">\n",
              "    <div class=\"colab-df-container\">\n",
              "      <div>\n",
              "<style scoped>\n",
              "    .dataframe tbody tr th:only-of-type {\n",
              "        vertical-align: middle;\n",
              "    }\n",
              "\n",
              "    .dataframe tbody tr th {\n",
              "        vertical-align: top;\n",
              "    }\n",
              "\n",
              "    .dataframe thead th {\n",
              "        text-align: right;\n",
              "    }\n",
              "</style>\n",
              "<table border=\"1\" class=\"dataframe\">\n",
              "  <thead>\n",
              "    <tr style=\"text-align: right;\">\n",
              "      <th></th>\n",
              "      <th>nm_municipio</th>\n",
              "      <th>nm_votavel</th>\n",
              "      <th>qt_votos</th>\n",
              "      <th>area_territorio</th>\n",
              "      <th>populacao</th>\n",
              "      <th>idhm</th>\n",
              "      <th>pib_per_capita</th>\n",
              "      <th>area_urbanizada</th>\n",
              "      <th>porcentagem_urbana</th>\n",
              "      <th>populacao_intervalos</th>\n",
              "      <th>idhm_intervalos</th>\n",
              "    </tr>\n",
              "  </thead>\n",
              "  <tbody>\n",
              "    <tr>\n",
              "      <th>0</th>\n",
              "      <td>ABAIARA</td>\n",
              "      <td>ELMANO DE FREITAS DA COSTA</td>\n",
              "      <td>4182</td>\n",
              "      <td>180.833</td>\n",
              "      <td>11965</td>\n",
              "      <td>0.628</td>\n",
              "      <td>9158.04</td>\n",
              "      <td>3.19</td>\n",
              "      <td>1.76</td>\n",
              "      <td>Menos de 100 mil habitantes</td>\n",
              "      <td>IDH médio</td>\n",
              "    </tr>\n",
              "    <tr>\n",
              "      <th>1</th>\n",
              "      <td>ABAIARA</td>\n",
              "      <td>FRANCISCO RAIMUNDO MALTA DE ARAÚJO</td>\n",
              "      <td>7</td>\n",
              "      <td>180.833</td>\n",
              "      <td>11965</td>\n",
              "      <td>0.628</td>\n",
              "      <td>9158.04</td>\n",
              "      <td>3.19</td>\n",
              "      <td>1.76</td>\n",
              "      <td>Menos de 100 mil habitantes</td>\n",
              "      <td>IDH médio</td>\n",
              "    </tr>\n",
              "  </tbody>\n",
              "</table>\n",
              "</div>\n",
              "      <button class=\"colab-df-convert\" onclick=\"convertToInteractive('df-5f9f00dc-c088-436b-8e75-1409dc8411df')\"\n",
              "              title=\"Convert this dataframe to an interactive table.\"\n",
              "              style=\"display:none;\">\n",
              "        \n",
              "  <svg xmlns=\"http://www.w3.org/2000/svg\" height=\"24px\"viewBox=\"0 0 24 24\"\n",
              "       width=\"24px\">\n",
              "    <path d=\"M0 0h24v24H0V0z\" fill=\"none\"/>\n",
              "    <path d=\"M18.56 5.44l.94 2.06.94-2.06 2.06-.94-2.06-.94-.94-2.06-.94 2.06-2.06.94zm-11 1L8.5 8.5l.94-2.06 2.06-.94-2.06-.94L8.5 2.5l-.94 2.06-2.06.94zm10 10l.94 2.06.94-2.06 2.06-.94-2.06-.94-.94-2.06-.94 2.06-2.06.94z\"/><path d=\"M17.41 7.96l-1.37-1.37c-.4-.4-.92-.59-1.43-.59-.52 0-1.04.2-1.43.59L10.3 9.45l-7.72 7.72c-.78.78-.78 2.05 0 2.83L4 21.41c.39.39.9.59 1.41.59.51 0 1.02-.2 1.41-.59l7.78-7.78 2.81-2.81c.8-.78.8-2.07 0-2.86zM5.41 20L4 18.59l7.72-7.72 1.47 1.35L5.41 20z\"/>\n",
              "  </svg>\n",
              "      </button>\n",
              "      \n",
              "  <style>\n",
              "    .colab-df-container {\n",
              "      display:flex;\n",
              "      flex-wrap:wrap;\n",
              "      gap: 12px;\n",
              "    }\n",
              "\n",
              "    .colab-df-convert {\n",
              "      background-color: #E8F0FE;\n",
              "      border: none;\n",
              "      border-radius: 50%;\n",
              "      cursor: pointer;\n",
              "      display: none;\n",
              "      fill: #1967D2;\n",
              "      height: 32px;\n",
              "      padding: 0 0 0 0;\n",
              "      width: 32px;\n",
              "    }\n",
              "\n",
              "    .colab-df-convert:hover {\n",
              "      background-color: #E2EBFA;\n",
              "      box-shadow: 0px 1px 2px rgba(60, 64, 67, 0.3), 0px 1px 3px 1px rgba(60, 64, 67, 0.15);\n",
              "      fill: #174EA6;\n",
              "    }\n",
              "\n",
              "    [theme=dark] .colab-df-convert {\n",
              "      background-color: #3B4455;\n",
              "      fill: #D2E3FC;\n",
              "    }\n",
              "\n",
              "    [theme=dark] .colab-df-convert:hover {\n",
              "      background-color: #434B5C;\n",
              "      box-shadow: 0px 1px 3px 1px rgba(0, 0, 0, 0.15);\n",
              "      filter: drop-shadow(0px 1px 2px rgba(0, 0, 0, 0.3));\n",
              "      fill: #FFFFFF;\n",
              "    }\n",
              "  </style>\n",
              "\n",
              "      <script>\n",
              "        const buttonEl =\n",
              "          document.querySelector('#df-5f9f00dc-c088-436b-8e75-1409dc8411df button.colab-df-convert');\n",
              "        buttonEl.style.display =\n",
              "          google.colab.kernel.accessAllowed ? 'block' : 'none';\n",
              "\n",
              "        async function convertToInteractive(key) {\n",
              "          const element = document.querySelector('#df-5f9f00dc-c088-436b-8e75-1409dc8411df');\n",
              "          const dataTable =\n",
              "            await google.colab.kernel.invokeFunction('convertToInteractive',\n",
              "                                                     [key], {});\n",
              "          if (!dataTable) return;\n",
              "\n",
              "          const docLinkHtml = 'Like what you see? Visit the ' +\n",
              "            '<a target=\"_blank\" href=https://colab.research.google.com/notebooks/data_table.ipynb>data table notebook</a>'\n",
              "            + ' to learn more about interactive tables.';\n",
              "          element.innerHTML = '';\n",
              "          dataTable['output_type'] = 'display_data';\n",
              "          await google.colab.output.renderOutput(dataTable, element);\n",
              "          const docLink = document.createElement('div');\n",
              "          docLink.innerHTML = docLinkHtml;\n",
              "          element.appendChild(docLink);\n",
              "        }\n",
              "      </script>\n",
              "    </div>\n",
              "  </div>\n",
              "  "
            ]
          },
          "metadata": {},
          "execution_count": 66
        }
      ]
    },
    {
      "cell_type": "markdown",
      "source": [
        "Os votos totais para cada intervalo são determinados e contidos num dicionário como mostrado abaixo:"
      ],
      "metadata": {
        "id": "aIt81e-yfdVA"
      }
    },
    {
      "cell_type": "code",
      "source": [
        "votos_totais_por_intervalo_idhm = dict_votos_totais(votos_por_municipio, 'idhm_intervalos')\n",
        "votos_totais_por_intervalo_idhm"
      ],
      "metadata": {
        "colab": {
          "base_uri": "https://localhost:8080/"
        },
        "id": "n08_qnw2ObW8",
        "outputId": "67a26bef-01d6-4dac-df8e-29fc6500e643"
      },
      "execution_count": 67,
      "outputs": [
        {
          "output_type": "execute_result",
          "data": {
            "text/plain": [
              "{'IDH baixo': 11019, 'IDH médio': 3804659, 'IDH alto': 1807772}"
            ]
          },
          "metadata": {},
          "execution_count": 67
        }
      ]
    },
    {
      "cell_type": "markdown",
      "source": [
        "A maior parte dos votos está concentrada nos municípios com IDH municipal médio (3,8 milhões de votos). As cidades com IDH alto (Fortaleza, Eusébio, Sobral e Crato) são responsáveis por 1,8 milhão de votos. Enquanto o município de Salitre é o único com IDH baixo."
      ],
      "metadata": {
        "id": "rOMx1NEPPSXO"
      }
    },
    {
      "cell_type": "markdown",
      "source": [
        "A maior parte dos municípios cearenses está contida no intervalo de IDH médio. Apenas uma cidade tem IDH baixo e quatro cidades IDH alto:"
      ],
      "metadata": {
        "id": "VxSK4dH9ft1G"
      }
    },
    {
      "cell_type": "code",
      "source": [
        "# Cidade com IDH baixo:\n",
        "\n",
        "votos_por_municipio.query('idhm_intervalos == \"IDH baixo\"')['nm_municipio'].unique()"
      ],
      "metadata": {
        "colab": {
          "base_uri": "https://localhost:8080/"
        },
        "id": "1oWEMz4wQFyP",
        "outputId": "0e99a946-132d-4c9f-c42b-6573115465f6"
      },
      "execution_count": 68,
      "outputs": [
        {
          "output_type": "execute_result",
          "data": {
            "text/plain": [
              "array(['SALITRE'], dtype=object)"
            ]
          },
          "metadata": {},
          "execution_count": 68
        }
      ]
    },
    {
      "cell_type": "code",
      "source": [
        "# Quais as cidades com IDH alto?\n",
        "\n",
        "votos_por_municipio.query('idhm_intervalos == \"IDH alto\"')['nm_municipio'].unique()"
      ],
      "metadata": {
        "colab": {
          "base_uri": "https://localhost:8080/"
        },
        "id": "wzx4v6r2Pdrr",
        "outputId": "cc1ed637-33f4-40fb-f713-5eff7e2f3db3"
      },
      "execution_count": 69,
      "outputs": [
        {
          "output_type": "execute_result",
          "data": {
            "text/plain": [
              "array(['CRATO', 'EUSÉBIO', 'FORTALEZA', 'SOBRAL'], dtype=object)"
            ]
          },
          "metadata": {},
          "execution_count": 69
        }
      ]
    },
    {
      "cell_type": "markdown",
      "source": [
        "A porcentagem de votos dos candidatos para cada intervalo é determinada e adicionada e o *dataframe* `votos_intervalos_idhm` é instanciado."
      ],
      "metadata": {
        "id": "9Yau325xgAiJ"
      }
    },
    {
      "cell_type": "code",
      "execution_count": 70,
      "metadata": {
        "id": "XuYp6FDqzMOi",
        "colab": {
          "base_uri": "https://localhost:8080/",
          "height": 206
        },
        "outputId": "3f059541-ffec-4f12-c856-1196a34575d0"
      },
      "outputs": [
        {
          "output_type": "execute_result",
          "data": {
            "text/plain": [
              "  idhm_intervalos                         nm_votavel  qt_votos  \\\n",
              "0       IDH baixo         ELMANO DE FREITAS DA COSTA      6103   \n",
              "3       IDH baixo  ROBERTO CLÁUDIO RODRIGUES BEZERRA      3089   \n",
              "7       IDH baixo                 WAGNER SOUSA GOMES      1226   \n",
              "6       IDH baixo                          VOTO NULO       385   \n",
              "5       IDH baixo                        VOTO BRANCO       209   \n",
              "\n",
              "   porcentagem_idhm_intervalos  \n",
              "0                        55.39  \n",
              "3                        28.03  \n",
              "7                        11.13  \n",
              "6                         3.49  \n",
              "5                         1.90  "
            ],
            "text/html": [
              "\n",
              "  <div id=\"df-f64b3ad0-0e58-4f33-b9d6-3362dcef6b35\">\n",
              "    <div class=\"colab-df-container\">\n",
              "      <div>\n",
              "<style scoped>\n",
              "    .dataframe tbody tr th:only-of-type {\n",
              "        vertical-align: middle;\n",
              "    }\n",
              "\n",
              "    .dataframe tbody tr th {\n",
              "        vertical-align: top;\n",
              "    }\n",
              "\n",
              "    .dataframe thead th {\n",
              "        text-align: right;\n",
              "    }\n",
              "</style>\n",
              "<table border=\"1\" class=\"dataframe\">\n",
              "  <thead>\n",
              "    <tr style=\"text-align: right;\">\n",
              "      <th></th>\n",
              "      <th>idhm_intervalos</th>\n",
              "      <th>nm_votavel</th>\n",
              "      <th>qt_votos</th>\n",
              "      <th>porcentagem_idhm_intervalos</th>\n",
              "    </tr>\n",
              "  </thead>\n",
              "  <tbody>\n",
              "    <tr>\n",
              "      <th>0</th>\n",
              "      <td>IDH baixo</td>\n",
              "      <td>ELMANO DE FREITAS DA COSTA</td>\n",
              "      <td>6103</td>\n",
              "      <td>55.39</td>\n",
              "    </tr>\n",
              "    <tr>\n",
              "      <th>3</th>\n",
              "      <td>IDH baixo</td>\n",
              "      <td>ROBERTO CLÁUDIO RODRIGUES BEZERRA</td>\n",
              "      <td>3089</td>\n",
              "      <td>28.03</td>\n",
              "    </tr>\n",
              "    <tr>\n",
              "      <th>7</th>\n",
              "      <td>IDH baixo</td>\n",
              "      <td>WAGNER SOUSA GOMES</td>\n",
              "      <td>1226</td>\n",
              "      <td>11.13</td>\n",
              "    </tr>\n",
              "    <tr>\n",
              "      <th>6</th>\n",
              "      <td>IDH baixo</td>\n",
              "      <td>VOTO NULO</td>\n",
              "      <td>385</td>\n",
              "      <td>3.49</td>\n",
              "    </tr>\n",
              "    <tr>\n",
              "      <th>5</th>\n",
              "      <td>IDH baixo</td>\n",
              "      <td>VOTO BRANCO</td>\n",
              "      <td>209</td>\n",
              "      <td>1.90</td>\n",
              "    </tr>\n",
              "  </tbody>\n",
              "</table>\n",
              "</div>\n",
              "      <button class=\"colab-df-convert\" onclick=\"convertToInteractive('df-f64b3ad0-0e58-4f33-b9d6-3362dcef6b35')\"\n",
              "              title=\"Convert this dataframe to an interactive table.\"\n",
              "              style=\"display:none;\">\n",
              "        \n",
              "  <svg xmlns=\"http://www.w3.org/2000/svg\" height=\"24px\"viewBox=\"0 0 24 24\"\n",
              "       width=\"24px\">\n",
              "    <path d=\"M0 0h24v24H0V0z\" fill=\"none\"/>\n",
              "    <path d=\"M18.56 5.44l.94 2.06.94-2.06 2.06-.94-2.06-.94-.94-2.06-.94 2.06-2.06.94zm-11 1L8.5 8.5l.94-2.06 2.06-.94-2.06-.94L8.5 2.5l-.94 2.06-2.06.94zm10 10l.94 2.06.94-2.06 2.06-.94-2.06-.94-.94-2.06-.94 2.06-2.06.94z\"/><path d=\"M17.41 7.96l-1.37-1.37c-.4-.4-.92-.59-1.43-.59-.52 0-1.04.2-1.43.59L10.3 9.45l-7.72 7.72c-.78.78-.78 2.05 0 2.83L4 21.41c.39.39.9.59 1.41.59.51 0 1.02-.2 1.41-.59l7.78-7.78 2.81-2.81c.8-.78.8-2.07 0-2.86zM5.41 20L4 18.59l7.72-7.72 1.47 1.35L5.41 20z\"/>\n",
              "  </svg>\n",
              "      </button>\n",
              "      \n",
              "  <style>\n",
              "    .colab-df-container {\n",
              "      display:flex;\n",
              "      flex-wrap:wrap;\n",
              "      gap: 12px;\n",
              "    }\n",
              "\n",
              "    .colab-df-convert {\n",
              "      background-color: #E8F0FE;\n",
              "      border: none;\n",
              "      border-radius: 50%;\n",
              "      cursor: pointer;\n",
              "      display: none;\n",
              "      fill: #1967D2;\n",
              "      height: 32px;\n",
              "      padding: 0 0 0 0;\n",
              "      width: 32px;\n",
              "    }\n",
              "\n",
              "    .colab-df-convert:hover {\n",
              "      background-color: #E2EBFA;\n",
              "      box-shadow: 0px 1px 2px rgba(60, 64, 67, 0.3), 0px 1px 3px 1px rgba(60, 64, 67, 0.15);\n",
              "      fill: #174EA6;\n",
              "    }\n",
              "\n",
              "    [theme=dark] .colab-df-convert {\n",
              "      background-color: #3B4455;\n",
              "      fill: #D2E3FC;\n",
              "    }\n",
              "\n",
              "    [theme=dark] .colab-df-convert:hover {\n",
              "      background-color: #434B5C;\n",
              "      box-shadow: 0px 1px 3px 1px rgba(0, 0, 0, 0.15);\n",
              "      filter: drop-shadow(0px 1px 2px rgba(0, 0, 0, 0.3));\n",
              "      fill: #FFFFFF;\n",
              "    }\n",
              "  </style>\n",
              "\n",
              "      <script>\n",
              "        const buttonEl =\n",
              "          document.querySelector('#df-f64b3ad0-0e58-4f33-b9d6-3362dcef6b35 button.colab-df-convert');\n",
              "        buttonEl.style.display =\n",
              "          google.colab.kernel.accessAllowed ? 'block' : 'none';\n",
              "\n",
              "        async function convertToInteractive(key) {\n",
              "          const element = document.querySelector('#df-f64b3ad0-0e58-4f33-b9d6-3362dcef6b35');\n",
              "          const dataTable =\n",
              "            await google.colab.kernel.invokeFunction('convertToInteractive',\n",
              "                                                     [key], {});\n",
              "          if (!dataTable) return;\n",
              "\n",
              "          const docLinkHtml = 'Like what you see? Visit the ' +\n",
              "            '<a target=\"_blank\" href=https://colab.research.google.com/notebooks/data_table.ipynb>data table notebook</a>'\n",
              "            + ' to learn more about interactive tables.';\n",
              "          element.innerHTML = '';\n",
              "          dataTable['output_type'] = 'display_data';\n",
              "          await google.colab.output.renderOutput(dataTable, element);\n",
              "          const docLink = document.createElement('div');\n",
              "          docLink.innerHTML = docLinkHtml;\n",
              "          element.appendChild(docLink);\n",
              "        }\n",
              "      </script>\n",
              "    </div>\n",
              "  </div>\n",
              "  "
            ]
          },
          "metadata": {},
          "execution_count": 70
        }
      ],
      "source": [
        "votos_intervalos_idhm = dataframe_com_porcentagens(\n",
        "    dataframe= votos_por_municipio, dictionary= votos_totais_por_intervalo_idhm,\n",
        "    coluna_indicador= 'idhm_intervalos'\n",
        ")\n",
        "votos_intervalos_idhm.head()"
      ]
    },
    {
      "cell_type": "markdown",
      "source": [
        "O gráfico mostra os resultados obtidos:"
      ],
      "metadata": {
        "id": "QSlpSnY6gPQe"
      }
    },
    {
      "cell_type": "code",
      "source": [
        "fig = px.bar(\n",
        "    data_frame= votos_intervalos_idhm,\n",
        "    y= 'idhm_intervalos',\n",
        "    x= 'porcentagem_idhm_intervalos',\n",
        "    color= 'nm_votavel',\n",
        "    title= 'Porcentagem de votos dos candidatos por intervalo de IDH municipal dos municípios cearenses'\n",
        ")\n",
        "fig.update_layout(\n",
        "    xaxis_title= '', yaxis_title= 'Porcentagem dos votos', legend_title= 'Candidatos', \n",
        "    yaxis= dict(autorange= 'reversed'), title= dict(x= 0.5)\n",
        ")\n",
        "fig.show()"
      ],
      "metadata": {
        "colab": {
          "base_uri": "https://localhost:8080/",
          "height": 542
        },
        "id": "hauXjNujQXvT",
        "outputId": "90b170cc-e2f3-4631-e7f4-532b719838ed"
      },
      "execution_count": 71,
      "outputs": [
        {
          "output_type": "display_data",
          "data": {
            "text/html": [
              "<html>\n",
              "<head><meta charset=\"utf-8\" /></head>\n",
              "<body>\n",
              "    <div>            <script src=\"https://cdnjs.cloudflare.com/ajax/libs/mathjax/2.7.5/MathJax.js?config=TeX-AMS-MML_SVG\"></script><script type=\"text/javascript\">if (window.MathJax && window.MathJax.Hub && window.MathJax.Hub.Config) {window.MathJax.Hub.Config({SVG: {font: \"STIX-Web\"}});}</script>                <script type=\"text/javascript\">window.PlotlyConfig = {MathJaxConfig: 'local'};</script>\n",
              "        <script src=\"https://cdn.plot.ly/plotly-2.18.2.min.js\"></script>                <div id=\"fc827f8d-52c0-4510-9222-0d49469a5d3b\" class=\"plotly-graph-div\" style=\"height:525px; width:100%;\"></div>            <script type=\"text/javascript\">                                    window.PLOTLYENV=window.PLOTLYENV || {};                                    if (document.getElementById(\"fc827f8d-52c0-4510-9222-0d49469a5d3b\")) {                    Plotly.newPlot(                        \"fc827f8d-52c0-4510-9222-0d49469a5d3b\",                        [{\"alignmentgroup\":\"True\",\"hovertemplate\":\"nm_votavel=ELMANO DE FREITAS DA COSTA<br>porcentagem_idhm_intervalos=%{x}<br>idhm_intervalos=%{y}<extra></extra>\",\"legendgroup\":\"ELMANO DE FREITAS DA COSTA\",\"marker\":{\"color\":\"#636efa\",\"pattern\":{\"shape\":\"\"}},\"name\":\"ELMANO DE FREITAS DA COSTA\",\"offsetgroup\":\"ELMANO DE FREITAS DA COSTA\",\"orientation\":\"h\",\"showlegend\":true,\"textposition\":\"auto\",\"x\":[55.39,55.9,37.36],\"xaxis\":\"x\",\"y\":[\"IDH baixo\",\"IDH m\\u00e9dio\",\"IDH alto\"],\"yaxis\":\"y\",\"type\":\"bar\"},{\"alignmentgroup\":\"True\",\"hovertemplate\":\"nm_votavel=ROBERTO CL\\u00c1UDIO RODRIGUES BEZERRA<br>porcentagem_idhm_intervalos=%{x}<br>idhm_intervalos=%{y}<extra></extra>\",\"legendgroup\":\"ROBERTO CL\\u00c1UDIO RODRIGUES BEZERRA\",\"marker\":{\"color\":\"#EF553B\",\"pattern\":{\"shape\":\"\"}},\"name\":\"ROBERTO CL\\u00c1UDIO RODRIGUES BEZERRA\",\"offsetgroup\":\"ROBERTO CL\\u00c1UDIO RODRIGUES BEZERRA\",\"orientation\":\"h\",\"showlegend\":true,\"textposition\":\"auto\",\"x\":[28.03,10.68,18.0],\"xaxis\":\"x\",\"y\":[\"IDH baixo\",\"IDH m\\u00e9dio\",\"IDH alto\"],\"yaxis\":\"y\",\"type\":\"bar\"},{\"alignmentgroup\":\"True\",\"hovertemplate\":\"nm_votavel=WAGNER SOUSA GOMES<br>porcentagem_idhm_intervalos=%{x}<br>idhm_intervalos=%{y}<extra></extra>\",\"legendgroup\":\"WAGNER SOUSA GOMES\",\"marker\":{\"color\":\"#00cc96\",\"pattern\":{\"shape\":\"\"}},\"name\":\"WAGNER SOUSA GOMES\",\"offsetgroup\":\"WAGNER SOUSA GOMES\",\"orientation\":\"h\",\"showlegend\":true,\"textposition\":\"auto\",\"x\":[11.13,25.63,37.22],\"xaxis\":\"x\",\"y\":[\"IDH baixo\",\"IDH m\\u00e9dio\",\"IDH alto\"],\"yaxis\":\"y\",\"type\":\"bar\"},{\"alignmentgroup\":\"True\",\"hovertemplate\":\"nm_votavel=VOTO NULO<br>porcentagem_idhm_intervalos=%{x}<br>idhm_intervalos=%{y}<extra></extra>\",\"legendgroup\":\"VOTO NULO\",\"marker\":{\"color\":\"#ab63fa\",\"pattern\":{\"shape\":\"\"}},\"name\":\"VOTO NULO\",\"offsetgroup\":\"VOTO NULO\",\"orientation\":\"h\",\"showlegend\":true,\"textposition\":\"auto\",\"x\":[3.49,4.49,4.31],\"xaxis\":\"x\",\"y\":[\"IDH baixo\",\"IDH m\\u00e9dio\",\"IDH alto\"],\"yaxis\":\"y\",\"type\":\"bar\"},{\"alignmentgroup\":\"True\",\"hovertemplate\":\"nm_votavel=VOTO BRANCO<br>porcentagem_idhm_intervalos=%{x}<br>idhm_intervalos=%{y}<extra></extra>\",\"legendgroup\":\"VOTO BRANCO\",\"marker\":{\"color\":\"#FFA15A\",\"pattern\":{\"shape\":\"\"}},\"name\":\"VOTO BRANCO\",\"offsetgroup\":\"VOTO BRANCO\",\"orientation\":\"h\",\"showlegend\":true,\"textposition\":\"auto\",\"x\":[1.9,3.21,2.93],\"xaxis\":\"x\",\"y\":[\"IDH baixo\",\"IDH m\\u00e9dio\",\"IDH alto\"],\"yaxis\":\"y\",\"type\":\"bar\"},{\"alignmentgroup\":\"True\",\"hovertemplate\":\"nm_votavel=FRANCISCO RAIMUNDO MALTA DE ARA\\u00daJO<br>porcentagem_idhm_intervalos=%{x}<br>idhm_intervalos=%{y}<extra></extra>\",\"legendgroup\":\"FRANCISCO RAIMUNDO MALTA DE ARA\\u00daJO\",\"marker\":{\"color\":\"#19d3f3\",\"pattern\":{\"shape\":\"\"}},\"name\":\"FRANCISCO RAIMUNDO MALTA DE ARA\\u00daJO\",\"offsetgroup\":\"FRANCISCO RAIMUNDO MALTA DE ARA\\u00daJO\",\"orientation\":\"h\",\"showlegend\":true,\"textposition\":\"auto\",\"x\":[0.05,0.04,0.08],\"xaxis\":\"x\",\"y\":[\"IDH baixo\",\"IDH m\\u00e9dio\",\"IDH alto\"],\"yaxis\":\"y\",\"type\":\"bar\"},{\"alignmentgroup\":\"True\",\"hovertemplate\":\"nm_votavel=JOS\\u00c9 BATISTA NETO<br>porcentagem_idhm_intervalos=%{x}<br>idhm_intervalos=%{y}<extra></extra>\",\"legendgroup\":\"JOS\\u00c9 BATISTA NETO\",\"marker\":{\"color\":\"#FF6692\",\"pattern\":{\"shape\":\"\"}},\"name\":\"JOS\\u00c9 BATISTA NETO\",\"offsetgroup\":\"JOS\\u00c9 BATISTA NETO\",\"orientation\":\"h\",\"showlegend\":true,\"textposition\":\"auto\",\"x\":[0.01,0.02,0.04],\"xaxis\":\"x\",\"y\":[\"IDH baixo\",\"IDH m\\u00e9dio\",\"IDH alto\"],\"yaxis\":\"y\",\"type\":\"bar\"},{\"alignmentgroup\":\"True\",\"hovertemplate\":\"nm_votavel=SERLEY DE SOUSA LEAL<br>porcentagem_idhm_intervalos=%{x}<br>idhm_intervalos=%{y}<extra></extra>\",\"legendgroup\":\"SERLEY DE SOUSA LEAL\",\"marker\":{\"color\":\"#B6E880\",\"pattern\":{\"shape\":\"\"}},\"name\":\"SERLEY DE SOUSA LEAL\",\"offsetgroup\":\"SERLEY DE SOUSA LEAL\",\"orientation\":\"h\",\"showlegend\":true,\"textposition\":\"auto\",\"x\":[0.01,0.02,0.06],\"xaxis\":\"x\",\"y\":[\"IDH baixo\",\"IDH m\\u00e9dio\",\"IDH alto\"],\"yaxis\":\"y\",\"type\":\"bar\"}],                        {\"template\":{\"data\":{\"histogram2dcontour\":[{\"type\":\"histogram2dcontour\",\"colorbar\":{\"outlinewidth\":0,\"ticks\":\"\"},\"colorscale\":[[0.0,\"#0d0887\"],[0.1111111111111111,\"#46039f\"],[0.2222222222222222,\"#7201a8\"],[0.3333333333333333,\"#9c179e\"],[0.4444444444444444,\"#bd3786\"],[0.5555555555555556,\"#d8576b\"],[0.6666666666666666,\"#ed7953\"],[0.7777777777777778,\"#fb9f3a\"],[0.8888888888888888,\"#fdca26\"],[1.0,\"#f0f921\"]]}],\"choropleth\":[{\"type\":\"choropleth\",\"colorbar\":{\"outlinewidth\":0,\"ticks\":\"\"}}],\"histogram2d\":[{\"type\":\"histogram2d\",\"colorbar\":{\"outlinewidth\":0,\"ticks\":\"\"},\"colorscale\":[[0.0,\"#0d0887\"],[0.1111111111111111,\"#46039f\"],[0.2222222222222222,\"#7201a8\"],[0.3333333333333333,\"#9c179e\"],[0.4444444444444444,\"#bd3786\"],[0.5555555555555556,\"#d8576b\"],[0.6666666666666666,\"#ed7953\"],[0.7777777777777778,\"#fb9f3a\"],[0.8888888888888888,\"#fdca26\"],[1.0,\"#f0f921\"]]}],\"heatmap\":[{\"type\":\"heatmap\",\"colorbar\":{\"outlinewidth\":0,\"ticks\":\"\"},\"colorscale\":[[0.0,\"#0d0887\"],[0.1111111111111111,\"#46039f\"],[0.2222222222222222,\"#7201a8\"],[0.3333333333333333,\"#9c179e\"],[0.4444444444444444,\"#bd3786\"],[0.5555555555555556,\"#d8576b\"],[0.6666666666666666,\"#ed7953\"],[0.7777777777777778,\"#fb9f3a\"],[0.8888888888888888,\"#fdca26\"],[1.0,\"#f0f921\"]]}],\"heatmapgl\":[{\"type\":\"heatmapgl\",\"colorbar\":{\"outlinewidth\":0,\"ticks\":\"\"},\"colorscale\":[[0.0,\"#0d0887\"],[0.1111111111111111,\"#46039f\"],[0.2222222222222222,\"#7201a8\"],[0.3333333333333333,\"#9c179e\"],[0.4444444444444444,\"#bd3786\"],[0.5555555555555556,\"#d8576b\"],[0.6666666666666666,\"#ed7953\"],[0.7777777777777778,\"#fb9f3a\"],[0.8888888888888888,\"#fdca26\"],[1.0,\"#f0f921\"]]}],\"contourcarpet\":[{\"type\":\"contourcarpet\",\"colorbar\":{\"outlinewidth\":0,\"ticks\":\"\"}}],\"contour\":[{\"type\":\"contour\",\"colorbar\":{\"outlinewidth\":0,\"ticks\":\"\"},\"colorscale\":[[0.0,\"#0d0887\"],[0.1111111111111111,\"#46039f\"],[0.2222222222222222,\"#7201a8\"],[0.3333333333333333,\"#9c179e\"],[0.4444444444444444,\"#bd3786\"],[0.5555555555555556,\"#d8576b\"],[0.6666666666666666,\"#ed7953\"],[0.7777777777777778,\"#fb9f3a\"],[0.8888888888888888,\"#fdca26\"],[1.0,\"#f0f921\"]]}],\"surface\":[{\"type\":\"surface\",\"colorbar\":{\"outlinewidth\":0,\"ticks\":\"\"},\"colorscale\":[[0.0,\"#0d0887\"],[0.1111111111111111,\"#46039f\"],[0.2222222222222222,\"#7201a8\"],[0.3333333333333333,\"#9c179e\"],[0.4444444444444444,\"#bd3786\"],[0.5555555555555556,\"#d8576b\"],[0.6666666666666666,\"#ed7953\"],[0.7777777777777778,\"#fb9f3a\"],[0.8888888888888888,\"#fdca26\"],[1.0,\"#f0f921\"]]}],\"mesh3d\":[{\"type\":\"mesh3d\",\"colorbar\":{\"outlinewidth\":0,\"ticks\":\"\"}}],\"scatter\":[{\"fillpattern\":{\"fillmode\":\"overlay\",\"size\":10,\"solidity\":0.2},\"type\":\"scatter\"}],\"parcoords\":[{\"type\":\"parcoords\",\"line\":{\"colorbar\":{\"outlinewidth\":0,\"ticks\":\"\"}}}],\"scatterpolargl\":[{\"type\":\"scatterpolargl\",\"marker\":{\"colorbar\":{\"outlinewidth\":0,\"ticks\":\"\"}}}],\"bar\":[{\"error_x\":{\"color\":\"#2a3f5f\"},\"error_y\":{\"color\":\"#2a3f5f\"},\"marker\":{\"line\":{\"color\":\"#E5ECF6\",\"width\":0.5},\"pattern\":{\"fillmode\":\"overlay\",\"size\":10,\"solidity\":0.2}},\"type\":\"bar\"}],\"scattergeo\":[{\"type\":\"scattergeo\",\"marker\":{\"colorbar\":{\"outlinewidth\":0,\"ticks\":\"\"}}}],\"scatterpolar\":[{\"type\":\"scatterpolar\",\"marker\":{\"colorbar\":{\"outlinewidth\":0,\"ticks\":\"\"}}}],\"histogram\":[{\"marker\":{\"pattern\":{\"fillmode\":\"overlay\",\"size\":10,\"solidity\":0.2}},\"type\":\"histogram\"}],\"scattergl\":[{\"type\":\"scattergl\",\"marker\":{\"colorbar\":{\"outlinewidth\":0,\"ticks\":\"\"}}}],\"scatter3d\":[{\"type\":\"scatter3d\",\"line\":{\"colorbar\":{\"outlinewidth\":0,\"ticks\":\"\"}},\"marker\":{\"colorbar\":{\"outlinewidth\":0,\"ticks\":\"\"}}}],\"scattermapbox\":[{\"type\":\"scattermapbox\",\"marker\":{\"colorbar\":{\"outlinewidth\":0,\"ticks\":\"\"}}}],\"scatterternary\":[{\"type\":\"scatterternary\",\"marker\":{\"colorbar\":{\"outlinewidth\":0,\"ticks\":\"\"}}}],\"scattercarpet\":[{\"type\":\"scattercarpet\",\"marker\":{\"colorbar\":{\"outlinewidth\":0,\"ticks\":\"\"}}}],\"carpet\":[{\"aaxis\":{\"endlinecolor\":\"#2a3f5f\",\"gridcolor\":\"white\",\"linecolor\":\"white\",\"minorgridcolor\":\"white\",\"startlinecolor\":\"#2a3f5f\"},\"baxis\":{\"endlinecolor\":\"#2a3f5f\",\"gridcolor\":\"white\",\"linecolor\":\"white\",\"minorgridcolor\":\"white\",\"startlinecolor\":\"#2a3f5f\"},\"type\":\"carpet\"}],\"table\":[{\"cells\":{\"fill\":{\"color\":\"#EBF0F8\"},\"line\":{\"color\":\"white\"}},\"header\":{\"fill\":{\"color\":\"#C8D4E3\"},\"line\":{\"color\":\"white\"}},\"type\":\"table\"}],\"barpolar\":[{\"marker\":{\"line\":{\"color\":\"#E5ECF6\",\"width\":0.5},\"pattern\":{\"fillmode\":\"overlay\",\"size\":10,\"solidity\":0.2}},\"type\":\"barpolar\"}],\"pie\":[{\"automargin\":true,\"type\":\"pie\"}]},\"layout\":{\"autotypenumbers\":\"strict\",\"colorway\":[\"#636efa\",\"#EF553B\",\"#00cc96\",\"#ab63fa\",\"#FFA15A\",\"#19d3f3\",\"#FF6692\",\"#B6E880\",\"#FF97FF\",\"#FECB52\"],\"font\":{\"color\":\"#2a3f5f\"},\"hovermode\":\"closest\",\"hoverlabel\":{\"align\":\"left\"},\"paper_bgcolor\":\"white\",\"plot_bgcolor\":\"#E5ECF6\",\"polar\":{\"bgcolor\":\"#E5ECF6\",\"angularaxis\":{\"gridcolor\":\"white\",\"linecolor\":\"white\",\"ticks\":\"\"},\"radialaxis\":{\"gridcolor\":\"white\",\"linecolor\":\"white\",\"ticks\":\"\"}},\"ternary\":{\"bgcolor\":\"#E5ECF6\",\"aaxis\":{\"gridcolor\":\"white\",\"linecolor\":\"white\",\"ticks\":\"\"},\"baxis\":{\"gridcolor\":\"white\",\"linecolor\":\"white\",\"ticks\":\"\"},\"caxis\":{\"gridcolor\":\"white\",\"linecolor\":\"white\",\"ticks\":\"\"}},\"coloraxis\":{\"colorbar\":{\"outlinewidth\":0,\"ticks\":\"\"}},\"colorscale\":{\"sequential\":[[0.0,\"#0d0887\"],[0.1111111111111111,\"#46039f\"],[0.2222222222222222,\"#7201a8\"],[0.3333333333333333,\"#9c179e\"],[0.4444444444444444,\"#bd3786\"],[0.5555555555555556,\"#d8576b\"],[0.6666666666666666,\"#ed7953\"],[0.7777777777777778,\"#fb9f3a\"],[0.8888888888888888,\"#fdca26\"],[1.0,\"#f0f921\"]],\"sequentialminus\":[[0.0,\"#0d0887\"],[0.1111111111111111,\"#46039f\"],[0.2222222222222222,\"#7201a8\"],[0.3333333333333333,\"#9c179e\"],[0.4444444444444444,\"#bd3786\"],[0.5555555555555556,\"#d8576b\"],[0.6666666666666666,\"#ed7953\"],[0.7777777777777778,\"#fb9f3a\"],[0.8888888888888888,\"#fdca26\"],[1.0,\"#f0f921\"]],\"diverging\":[[0,\"#8e0152\"],[0.1,\"#c51b7d\"],[0.2,\"#de77ae\"],[0.3,\"#f1b6da\"],[0.4,\"#fde0ef\"],[0.5,\"#f7f7f7\"],[0.6,\"#e6f5d0\"],[0.7,\"#b8e186\"],[0.8,\"#7fbc41\"],[0.9,\"#4d9221\"],[1,\"#276419\"]]},\"xaxis\":{\"gridcolor\":\"white\",\"linecolor\":\"white\",\"ticks\":\"\",\"title\":{\"standoff\":15},\"zerolinecolor\":\"white\",\"automargin\":true,\"zerolinewidth\":2},\"yaxis\":{\"gridcolor\":\"white\",\"linecolor\":\"white\",\"ticks\":\"\",\"title\":{\"standoff\":15},\"zerolinecolor\":\"white\",\"automargin\":true,\"zerolinewidth\":2},\"scene\":{\"xaxis\":{\"backgroundcolor\":\"#E5ECF6\",\"gridcolor\":\"white\",\"linecolor\":\"white\",\"showbackground\":true,\"ticks\":\"\",\"zerolinecolor\":\"white\",\"gridwidth\":2},\"yaxis\":{\"backgroundcolor\":\"#E5ECF6\",\"gridcolor\":\"white\",\"linecolor\":\"white\",\"showbackground\":true,\"ticks\":\"\",\"zerolinecolor\":\"white\",\"gridwidth\":2},\"zaxis\":{\"backgroundcolor\":\"#E5ECF6\",\"gridcolor\":\"white\",\"linecolor\":\"white\",\"showbackground\":true,\"ticks\":\"\",\"zerolinecolor\":\"white\",\"gridwidth\":2}},\"shapedefaults\":{\"line\":{\"color\":\"#2a3f5f\"}},\"annotationdefaults\":{\"arrowcolor\":\"#2a3f5f\",\"arrowhead\":0,\"arrowwidth\":1},\"geo\":{\"bgcolor\":\"white\",\"landcolor\":\"#E5ECF6\",\"subunitcolor\":\"white\",\"showland\":true,\"showlakes\":true,\"lakecolor\":\"white\"},\"title\":{\"x\":0.05},\"mapbox\":{\"style\":\"light\"}}},\"xaxis\":{\"anchor\":\"y\",\"domain\":[0.0,1.0],\"title\":{\"text\":\"\"}},\"yaxis\":{\"anchor\":\"x\",\"domain\":[0.0,1.0],\"title\":{\"text\":\"Porcentagem dos votos\"},\"autorange\":\"reversed\"},\"legend\":{\"title\":{\"text\":\"Candidatos\"},\"tracegroupgap\":0},\"title\":{\"text\":\"Porcentagem de votos dos candidatos por intervalo de IDH municipal dos munic\\u00edpios cearenses\",\"x\":0.5},\"barmode\":\"relative\"},                        {\"responsive\": true}                    ).then(function(){\n",
              "                            \n",
              "var gd = document.getElementById('fc827f8d-52c0-4510-9222-0d49469a5d3b');\n",
              "var x = new MutationObserver(function (mutations, observer) {{\n",
              "        var display = window.getComputedStyle(gd).display;\n",
              "        if (!display || display === 'none') {{\n",
              "            console.log([gd, 'removed!']);\n",
              "            Plotly.purge(gd);\n",
              "            observer.disconnect();\n",
              "        }}\n",
              "}});\n",
              "\n",
              "// Listen for the removal of the full notebook cells\n",
              "var notebookContainer = gd.closest('#notebook-container');\n",
              "if (notebookContainer) {{\n",
              "    x.observe(notebookContainer, {childList: true});\n",
              "}}\n",
              "\n",
              "// Listen for the clearing of the current output cell\n",
              "var outputEl = gd.closest('.output');\n",
              "if (outputEl) {{\n",
              "    x.observe(outputEl, {childList: true});\n",
              "}}\n",
              "\n",
              "                        })                };                            </script>        </div>\n",
              "</body>\n",
              "</html>"
            ]
          },
          "metadata": {}
        }
      ]
    },
    {
      "cell_type": "markdown",
      "source": [
        "* O candidato Roberto Cláudio teve desempenho considerável em relação ao candidato Wagner Sousa em Salitre (município com IDH baixo). Enquanto o seu desempenho nos municípios com IDH médio, que formam a maioria, foi inferior. Em cidades com IDH mais alto teve uma retomada no desempenho.\n",
        "\n",
        "* O candidato Elmano de Freitas manteve o desempenho entre os intervalos de IDH baixo e médio. Porém, perdeu força nos municípios com IDH mais elevado.\n",
        "\n",
        "* Wagner Sousa teve desempenho melhor entre os municípios com o IDH médio e alto. O resultado do candidato nos municípios com maior IDH foi equivalente ao candidato Elmano de Freitas. "
      ],
      "metadata": {
        "id": "7QrBfbG2gd_U"
      }
    },
    {
      "cell_type": "markdown",
      "source": [
        "### 5.3.3 Análise estratificada por PIB *per capita*"
      ],
      "metadata": {
        "id": "HZOqUC99SDr6"
      }
    },
    {
      "cell_type": "markdown",
      "source": [
        "Os valores para os intervalos de PIB *per capita* e *labels* são definidos."
      ],
      "metadata": {
        "id": "-PtI-723iDNY"
      }
    },
    {
      "cell_type": "code",
      "source": [
        "bins = [0, 10000, 20000, 90000]\n",
        "labels = ['Menos de R$ 10000', 'Entre R$ 10000 - 19999,99', 'R$ 20000 ou mais']"
      ],
      "metadata": {
        "id": "8K4hnrQ8Wykm"
      },
      "execution_count": 72,
      "outputs": []
    },
    {
      "cell_type": "markdown",
      "source": [
        "A coluna com intervalos do PIB *per capita* (`pib_intervalos`) é adicionada ao *dataframe*."
      ],
      "metadata": {
        "id": "SAlIQA3oiPKf"
      }
    },
    {
      "cell_type": "code",
      "source": [
        "votos_por_municipio = intervalos_ibge(\n",
        "    dataframe= votos_por_municipio, nome_coluna= 'pib_per_capita',\n",
        "    nova_coluna= 'pib_intervalos', bins= bins, labels= labels\n",
        ")\n",
        "votos_por_municipio.head(2)"
      ],
      "metadata": {
        "colab": {
          "base_uri": "https://localhost:8080/",
          "height": 263
        },
        "id": "IDkD3gTqXNmE",
        "outputId": "6bd3a9d6-f21c-49a1-a6b5-2e3860d6a482"
      },
      "execution_count": 73,
      "outputs": [
        {
          "output_type": "execute_result",
          "data": {
            "text/plain": [
              "  nm_municipio                          nm_votavel  qt_votos  area_territorio  \\\n",
              "0      ABAIARA          ELMANO DE FREITAS DA COSTA      4182          180.833   \n",
              "1      ABAIARA  FRANCISCO RAIMUNDO MALTA DE ARAÚJO         7          180.833   \n",
              "\n",
              "   populacao   idhm  pib_per_capita  area_urbanizada  porcentagem_urbana  \\\n",
              "0      11965  0.628         9158.04             3.19                1.76   \n",
              "1      11965  0.628         9158.04             3.19                1.76   \n",
              "\n",
              "          populacao_intervalos idhm_intervalos     pib_intervalos  \n",
              "0  Menos de 100 mil habitantes       IDH médio  Menos de R$ 10000  \n",
              "1  Menos de 100 mil habitantes       IDH médio  Menos de R$ 10000  "
            ],
            "text/html": [
              "\n",
              "  <div id=\"df-ecc5a105-06a8-4e70-962e-c1d7d216e51d\">\n",
              "    <div class=\"colab-df-container\">\n",
              "      <div>\n",
              "<style scoped>\n",
              "    .dataframe tbody tr th:only-of-type {\n",
              "        vertical-align: middle;\n",
              "    }\n",
              "\n",
              "    .dataframe tbody tr th {\n",
              "        vertical-align: top;\n",
              "    }\n",
              "\n",
              "    .dataframe thead th {\n",
              "        text-align: right;\n",
              "    }\n",
              "</style>\n",
              "<table border=\"1\" class=\"dataframe\">\n",
              "  <thead>\n",
              "    <tr style=\"text-align: right;\">\n",
              "      <th></th>\n",
              "      <th>nm_municipio</th>\n",
              "      <th>nm_votavel</th>\n",
              "      <th>qt_votos</th>\n",
              "      <th>area_territorio</th>\n",
              "      <th>populacao</th>\n",
              "      <th>idhm</th>\n",
              "      <th>pib_per_capita</th>\n",
              "      <th>area_urbanizada</th>\n",
              "      <th>porcentagem_urbana</th>\n",
              "      <th>populacao_intervalos</th>\n",
              "      <th>idhm_intervalos</th>\n",
              "      <th>pib_intervalos</th>\n",
              "    </tr>\n",
              "  </thead>\n",
              "  <tbody>\n",
              "    <tr>\n",
              "      <th>0</th>\n",
              "      <td>ABAIARA</td>\n",
              "      <td>ELMANO DE FREITAS DA COSTA</td>\n",
              "      <td>4182</td>\n",
              "      <td>180.833</td>\n",
              "      <td>11965</td>\n",
              "      <td>0.628</td>\n",
              "      <td>9158.04</td>\n",
              "      <td>3.19</td>\n",
              "      <td>1.76</td>\n",
              "      <td>Menos de 100 mil habitantes</td>\n",
              "      <td>IDH médio</td>\n",
              "      <td>Menos de R$ 10000</td>\n",
              "    </tr>\n",
              "    <tr>\n",
              "      <th>1</th>\n",
              "      <td>ABAIARA</td>\n",
              "      <td>FRANCISCO RAIMUNDO MALTA DE ARAÚJO</td>\n",
              "      <td>7</td>\n",
              "      <td>180.833</td>\n",
              "      <td>11965</td>\n",
              "      <td>0.628</td>\n",
              "      <td>9158.04</td>\n",
              "      <td>3.19</td>\n",
              "      <td>1.76</td>\n",
              "      <td>Menos de 100 mil habitantes</td>\n",
              "      <td>IDH médio</td>\n",
              "      <td>Menos de R$ 10000</td>\n",
              "    </tr>\n",
              "  </tbody>\n",
              "</table>\n",
              "</div>\n",
              "      <button class=\"colab-df-convert\" onclick=\"convertToInteractive('df-ecc5a105-06a8-4e70-962e-c1d7d216e51d')\"\n",
              "              title=\"Convert this dataframe to an interactive table.\"\n",
              "              style=\"display:none;\">\n",
              "        \n",
              "  <svg xmlns=\"http://www.w3.org/2000/svg\" height=\"24px\"viewBox=\"0 0 24 24\"\n",
              "       width=\"24px\">\n",
              "    <path d=\"M0 0h24v24H0V0z\" fill=\"none\"/>\n",
              "    <path d=\"M18.56 5.44l.94 2.06.94-2.06 2.06-.94-2.06-.94-.94-2.06-.94 2.06-2.06.94zm-11 1L8.5 8.5l.94-2.06 2.06-.94-2.06-.94L8.5 2.5l-.94 2.06-2.06.94zm10 10l.94 2.06.94-2.06 2.06-.94-2.06-.94-.94-2.06-.94 2.06-2.06.94z\"/><path d=\"M17.41 7.96l-1.37-1.37c-.4-.4-.92-.59-1.43-.59-.52 0-1.04.2-1.43.59L10.3 9.45l-7.72 7.72c-.78.78-.78 2.05 0 2.83L4 21.41c.39.39.9.59 1.41.59.51 0 1.02-.2 1.41-.59l7.78-7.78 2.81-2.81c.8-.78.8-2.07 0-2.86zM5.41 20L4 18.59l7.72-7.72 1.47 1.35L5.41 20z\"/>\n",
              "  </svg>\n",
              "      </button>\n",
              "      \n",
              "  <style>\n",
              "    .colab-df-container {\n",
              "      display:flex;\n",
              "      flex-wrap:wrap;\n",
              "      gap: 12px;\n",
              "    }\n",
              "\n",
              "    .colab-df-convert {\n",
              "      background-color: #E8F0FE;\n",
              "      border: none;\n",
              "      border-radius: 50%;\n",
              "      cursor: pointer;\n",
              "      display: none;\n",
              "      fill: #1967D2;\n",
              "      height: 32px;\n",
              "      padding: 0 0 0 0;\n",
              "      width: 32px;\n",
              "    }\n",
              "\n",
              "    .colab-df-convert:hover {\n",
              "      background-color: #E2EBFA;\n",
              "      box-shadow: 0px 1px 2px rgba(60, 64, 67, 0.3), 0px 1px 3px 1px rgba(60, 64, 67, 0.15);\n",
              "      fill: #174EA6;\n",
              "    }\n",
              "\n",
              "    [theme=dark] .colab-df-convert {\n",
              "      background-color: #3B4455;\n",
              "      fill: #D2E3FC;\n",
              "    }\n",
              "\n",
              "    [theme=dark] .colab-df-convert:hover {\n",
              "      background-color: #434B5C;\n",
              "      box-shadow: 0px 1px 3px 1px rgba(0, 0, 0, 0.15);\n",
              "      filter: drop-shadow(0px 1px 2px rgba(0, 0, 0, 0.3));\n",
              "      fill: #FFFFFF;\n",
              "    }\n",
              "  </style>\n",
              "\n",
              "      <script>\n",
              "        const buttonEl =\n",
              "          document.querySelector('#df-ecc5a105-06a8-4e70-962e-c1d7d216e51d button.colab-df-convert');\n",
              "        buttonEl.style.display =\n",
              "          google.colab.kernel.accessAllowed ? 'block' : 'none';\n",
              "\n",
              "        async function convertToInteractive(key) {\n",
              "          const element = document.querySelector('#df-ecc5a105-06a8-4e70-962e-c1d7d216e51d');\n",
              "          const dataTable =\n",
              "            await google.colab.kernel.invokeFunction('convertToInteractive',\n",
              "                                                     [key], {});\n",
              "          if (!dataTable) return;\n",
              "\n",
              "          const docLinkHtml = 'Like what you see? Visit the ' +\n",
              "            '<a target=\"_blank\" href=https://colab.research.google.com/notebooks/data_table.ipynb>data table notebook</a>'\n",
              "            + ' to learn more about interactive tables.';\n",
              "          element.innerHTML = '';\n",
              "          dataTable['output_type'] = 'display_data';\n",
              "          await google.colab.output.renderOutput(dataTable, element);\n",
              "          const docLink = document.createElement('div');\n",
              "          docLink.innerHTML = docLinkHtml;\n",
              "          element.appendChild(docLink);\n",
              "        }\n",
              "      </script>\n",
              "    </div>\n",
              "  </div>\n",
              "  "
            ]
          },
          "metadata": {},
          "execution_count": 73
        }
      ]
    },
    {
      "cell_type": "markdown",
      "source": [
        "Os votos totais por intervalo de PIB *per capita* são adicionados ao dicionário `votos_totais_por_intervalo_pib`."
      ],
      "metadata": {
        "id": "P1BcPOd0ikUP"
      }
    },
    {
      "cell_type": "code",
      "source": [
        "votos_totais_por_intervalo_pib = dict_votos_totais(votos_por_municipio, 'pib_intervalos')\n",
        "votos_totais_por_intervalo_pib"
      ],
      "metadata": {
        "colab": {
          "base_uri": "https://localhost:8080/"
        },
        "id": "iJdgsXolYHxs",
        "outputId": "0085422b-2e39-4999-8c2d-2df71bb87d72"
      },
      "execution_count": 74,
      "outputs": [
        {
          "output_type": "execute_result",
          "data": {
            "text/plain": [
              "{'Menos de R$ 10000': 1131888,\n",
              " 'Entre R$ 10000 - 19999,99': 2321911,\n",
              " 'R$ 20000 ou mais': 2169651}"
            ]
          },
          "metadata": {},
          "execution_count": 74
        }
      ]
    },
    {
      "cell_type": "markdown",
      "source": [
        "Os votos estão majoritariamente distribuídos entre os municípios com R$ 10000,00 ou mais de PIB *per capita*."
      ],
      "metadata": {
        "id": "Jx06JmEiitaP"
      }
    },
    {
      "cell_type": "markdown",
      "source": [
        "A porcentagem de votos dos candidatos para cada intervalo é determinada e adicionada, o *dataframe* `votos_intervalos_pib` é instanciado."
      ],
      "metadata": {
        "id": "p1dc2LITjG3t"
      }
    },
    {
      "cell_type": "code",
      "source": [
        "votos_intervalos_pib = dataframe_com_porcentagens(\n",
        "    votos_por_municipio, dictionary= votos_totais_por_intervalo_pib,\n",
        "    coluna_indicador= 'pib_intervalos'\n",
        ")\n",
        "votos_intervalos_pib.head()"
      ],
      "metadata": {
        "colab": {
          "base_uri": "https://localhost:8080/",
          "height": 206
        },
        "id": "YGa1zY8gYWDD",
        "outputId": "544cadd5-efab-49a8-9c1b-a4f70a8af7bd"
      },
      "execution_count": 75,
      "outputs": [
        {
          "output_type": "execute_result",
          "data": {
            "text/plain": [
              "      pib_intervalos                         nm_votavel  qt_votos  \\\n",
              "0  Menos de R$ 10000         ELMANO DE FREITAS DA COSTA    695973   \n",
              "7  Menos de R$ 10000                 WAGNER SOUSA GOMES    230315   \n",
              "3  Menos de R$ 10000  ROBERTO CLÁUDIO RODRIGUES BEZERRA    123559   \n",
              "6  Menos de R$ 10000                          VOTO NULO     48056   \n",
              "5  Menos de R$ 10000                        VOTO BRANCO     33166   \n",
              "\n",
              "   porcentagem_pib_intervalos  \n",
              "0                       61.49  \n",
              "7                       20.35  \n",
              "3                       10.92  \n",
              "6                        4.25  \n",
              "5                        2.93  "
            ],
            "text/html": [
              "\n",
              "  <div id=\"df-291ed01e-162e-4e24-9b11-0e910834719e\">\n",
              "    <div class=\"colab-df-container\">\n",
              "      <div>\n",
              "<style scoped>\n",
              "    .dataframe tbody tr th:only-of-type {\n",
              "        vertical-align: middle;\n",
              "    }\n",
              "\n",
              "    .dataframe tbody tr th {\n",
              "        vertical-align: top;\n",
              "    }\n",
              "\n",
              "    .dataframe thead th {\n",
              "        text-align: right;\n",
              "    }\n",
              "</style>\n",
              "<table border=\"1\" class=\"dataframe\">\n",
              "  <thead>\n",
              "    <tr style=\"text-align: right;\">\n",
              "      <th></th>\n",
              "      <th>pib_intervalos</th>\n",
              "      <th>nm_votavel</th>\n",
              "      <th>qt_votos</th>\n",
              "      <th>porcentagem_pib_intervalos</th>\n",
              "    </tr>\n",
              "  </thead>\n",
              "  <tbody>\n",
              "    <tr>\n",
              "      <th>0</th>\n",
              "      <td>Menos de R$ 10000</td>\n",
              "      <td>ELMANO DE FREITAS DA COSTA</td>\n",
              "      <td>695973</td>\n",
              "      <td>61.49</td>\n",
              "    </tr>\n",
              "    <tr>\n",
              "      <th>7</th>\n",
              "      <td>Menos de R$ 10000</td>\n",
              "      <td>WAGNER SOUSA GOMES</td>\n",
              "      <td>230315</td>\n",
              "      <td>20.35</td>\n",
              "    </tr>\n",
              "    <tr>\n",
              "      <th>3</th>\n",
              "      <td>Menos de R$ 10000</td>\n",
              "      <td>ROBERTO CLÁUDIO RODRIGUES BEZERRA</td>\n",
              "      <td>123559</td>\n",
              "      <td>10.92</td>\n",
              "    </tr>\n",
              "    <tr>\n",
              "      <th>6</th>\n",
              "      <td>Menos de R$ 10000</td>\n",
              "      <td>VOTO NULO</td>\n",
              "      <td>48056</td>\n",
              "      <td>4.25</td>\n",
              "    </tr>\n",
              "    <tr>\n",
              "      <th>5</th>\n",
              "      <td>Menos de R$ 10000</td>\n",
              "      <td>VOTO BRANCO</td>\n",
              "      <td>33166</td>\n",
              "      <td>2.93</td>\n",
              "    </tr>\n",
              "  </tbody>\n",
              "</table>\n",
              "</div>\n",
              "      <button class=\"colab-df-convert\" onclick=\"convertToInteractive('df-291ed01e-162e-4e24-9b11-0e910834719e')\"\n",
              "              title=\"Convert this dataframe to an interactive table.\"\n",
              "              style=\"display:none;\">\n",
              "        \n",
              "  <svg xmlns=\"http://www.w3.org/2000/svg\" height=\"24px\"viewBox=\"0 0 24 24\"\n",
              "       width=\"24px\">\n",
              "    <path d=\"M0 0h24v24H0V0z\" fill=\"none\"/>\n",
              "    <path d=\"M18.56 5.44l.94 2.06.94-2.06 2.06-.94-2.06-.94-.94-2.06-.94 2.06-2.06.94zm-11 1L8.5 8.5l.94-2.06 2.06-.94-2.06-.94L8.5 2.5l-.94 2.06-2.06.94zm10 10l.94 2.06.94-2.06 2.06-.94-2.06-.94-.94-2.06-.94 2.06-2.06.94z\"/><path d=\"M17.41 7.96l-1.37-1.37c-.4-.4-.92-.59-1.43-.59-.52 0-1.04.2-1.43.59L10.3 9.45l-7.72 7.72c-.78.78-.78 2.05 0 2.83L4 21.41c.39.39.9.59 1.41.59.51 0 1.02-.2 1.41-.59l7.78-7.78 2.81-2.81c.8-.78.8-2.07 0-2.86zM5.41 20L4 18.59l7.72-7.72 1.47 1.35L5.41 20z\"/>\n",
              "  </svg>\n",
              "      </button>\n",
              "      \n",
              "  <style>\n",
              "    .colab-df-container {\n",
              "      display:flex;\n",
              "      flex-wrap:wrap;\n",
              "      gap: 12px;\n",
              "    }\n",
              "\n",
              "    .colab-df-convert {\n",
              "      background-color: #E8F0FE;\n",
              "      border: none;\n",
              "      border-radius: 50%;\n",
              "      cursor: pointer;\n",
              "      display: none;\n",
              "      fill: #1967D2;\n",
              "      height: 32px;\n",
              "      padding: 0 0 0 0;\n",
              "      width: 32px;\n",
              "    }\n",
              "\n",
              "    .colab-df-convert:hover {\n",
              "      background-color: #E2EBFA;\n",
              "      box-shadow: 0px 1px 2px rgba(60, 64, 67, 0.3), 0px 1px 3px 1px rgba(60, 64, 67, 0.15);\n",
              "      fill: #174EA6;\n",
              "    }\n",
              "\n",
              "    [theme=dark] .colab-df-convert {\n",
              "      background-color: #3B4455;\n",
              "      fill: #D2E3FC;\n",
              "    }\n",
              "\n",
              "    [theme=dark] .colab-df-convert:hover {\n",
              "      background-color: #434B5C;\n",
              "      box-shadow: 0px 1px 3px 1px rgba(0, 0, 0, 0.15);\n",
              "      filter: drop-shadow(0px 1px 2px rgba(0, 0, 0, 0.3));\n",
              "      fill: #FFFFFF;\n",
              "    }\n",
              "  </style>\n",
              "\n",
              "      <script>\n",
              "        const buttonEl =\n",
              "          document.querySelector('#df-291ed01e-162e-4e24-9b11-0e910834719e button.colab-df-convert');\n",
              "        buttonEl.style.display =\n",
              "          google.colab.kernel.accessAllowed ? 'block' : 'none';\n",
              "\n",
              "        async function convertToInteractive(key) {\n",
              "          const element = document.querySelector('#df-291ed01e-162e-4e24-9b11-0e910834719e');\n",
              "          const dataTable =\n",
              "            await google.colab.kernel.invokeFunction('convertToInteractive',\n",
              "                                                     [key], {});\n",
              "          if (!dataTable) return;\n",
              "\n",
              "          const docLinkHtml = 'Like what you see? Visit the ' +\n",
              "            '<a target=\"_blank\" href=https://colab.research.google.com/notebooks/data_table.ipynb>data table notebook</a>'\n",
              "            + ' to learn more about interactive tables.';\n",
              "          element.innerHTML = '';\n",
              "          dataTable['output_type'] = 'display_data';\n",
              "          await google.colab.output.renderOutput(dataTable, element);\n",
              "          const docLink = document.createElement('div');\n",
              "          docLink.innerHTML = docLinkHtml;\n",
              "          element.appendChild(docLink);\n",
              "        }\n",
              "      </script>\n",
              "    </div>\n",
              "  </div>\n",
              "  "
            ]
          },
          "metadata": {},
          "execution_count": 75
        }
      ]
    },
    {
      "cell_type": "markdown",
      "source": [
        "O gráfico mostra os resultados obtidos:"
      ],
      "metadata": {
        "id": "ICc1_aLOjORu"
      }
    },
    {
      "cell_type": "code",
      "source": [
        "fig = px.bar(\n",
        "    data_frame= votos_intervalos_pib,\n",
        "    y= 'pib_intervalos',\n",
        "    x= 'porcentagem_pib_intervalos',\n",
        "    color= 'nm_votavel',\n",
        "    title= 'Porcentagem dos votos por candidato para cada intervalo de PIB per capita'\n",
        ")\n",
        "fig.update_layout(\n",
        "    title= dict(x= 0.5), yaxis_title= '', xaxis_title= 'Porcentagem dos votos', legend_title= 'Candidatos',\n",
        "    yaxis= dict(autorange= 'reversed')\n",
        ")\n",
        "fig.show()"
      ],
      "metadata": {
        "colab": {
          "base_uri": "https://localhost:8080/",
          "height": 542
        },
        "id": "t8vMf4dmakBE",
        "outputId": "b6ba2a55-6a75-433a-fc92-48977266bfa7"
      },
      "execution_count": 76,
      "outputs": [
        {
          "output_type": "display_data",
          "data": {
            "text/html": [
              "<html>\n",
              "<head><meta charset=\"utf-8\" /></head>\n",
              "<body>\n",
              "    <div>            <script src=\"https://cdnjs.cloudflare.com/ajax/libs/mathjax/2.7.5/MathJax.js?config=TeX-AMS-MML_SVG\"></script><script type=\"text/javascript\">if (window.MathJax && window.MathJax.Hub && window.MathJax.Hub.Config) {window.MathJax.Hub.Config({SVG: {font: \"STIX-Web\"}});}</script>                <script type=\"text/javascript\">window.PlotlyConfig = {MathJaxConfig: 'local'};</script>\n",
              "        <script src=\"https://cdn.plot.ly/plotly-2.18.2.min.js\"></script>                <div id=\"881bd95d-db54-40be-ab1b-662351b55171\" class=\"plotly-graph-div\" style=\"height:525px; width:100%;\"></div>            <script type=\"text/javascript\">                                    window.PLOTLYENV=window.PLOTLYENV || {};                                    if (document.getElementById(\"881bd95d-db54-40be-ab1b-662351b55171\")) {                    Plotly.newPlot(                        \"881bd95d-db54-40be-ab1b-662351b55171\",                        [{\"alignmentgroup\":\"True\",\"hovertemplate\":\"nm_votavel=ELMANO DE FREITAS DA COSTA<br>porcentagem_pib_intervalos=%{x}<br>pib_intervalos=%{y}<extra></extra>\",\"legendgroup\":\"ELMANO DE FREITAS DA COSTA\",\"marker\":{\"color\":\"#636efa\",\"pattern\":{\"shape\":\"\"}},\"name\":\"ELMANO DE FREITAS DA COSTA\",\"offsetgroup\":\"ELMANO DE FREITAS DA COSTA\",\"orientation\":\"h\",\"showlegend\":true,\"textposition\":\"auto\",\"x\":[61.49,55.65,37.8],\"xaxis\":\"x\",\"y\":[\"Menos de R$ 10000\",\"Entre R$ 10000 - 19999,99\",\"R$ 20000 ou mais\"],\"yaxis\":\"y\",\"type\":\"bar\"},{\"alignmentgroup\":\"True\",\"hovertemplate\":\"nm_votavel=WAGNER SOUSA GOMES<br>porcentagem_pib_intervalos=%{x}<br>pib_intervalos=%{y}<extra></extra>\",\"legendgroup\":\"WAGNER SOUSA GOMES\",\"marker\":{\"color\":\"#EF553B\",\"pattern\":{\"shape\":\"\"}},\"name\":\"WAGNER SOUSA GOMES\",\"offsetgroup\":\"WAGNER SOUSA GOMES\",\"orientation\":\"h\",\"showlegend\":true,\"textposition\":\"auto\",\"x\":[20.35,25.86,37.72],\"xaxis\":\"x\",\"y\":[\"Menos de R$ 10000\",\"Entre R$ 10000 - 19999,99\",\"R$ 20000 ou mais\"],\"yaxis\":\"y\",\"type\":\"bar\"},{\"alignmentgroup\":\"True\",\"hovertemplate\":\"nm_votavel=ROBERTO CL\\u00c1UDIO RODRIGUES BEZERRA<br>porcentagem_pib_intervalos=%{x}<br>pib_intervalos=%{y}<extra></extra>\",\"legendgroup\":\"ROBERTO CL\\u00c1UDIO RODRIGUES BEZERRA\",\"marker\":{\"color\":\"#00cc96\",\"pattern\":{\"shape\":\"\"}},\"name\":\"ROBERTO CL\\u00c1UDIO RODRIGUES BEZERRA\",\"offsetgroup\":\"ROBERTO CL\\u00c1UDIO RODRIGUES BEZERRA\",\"orientation\":\"h\",\"showlegend\":true,\"textposition\":\"auto\",\"x\":[10.92,10.73,16.7],\"xaxis\":\"x\",\"y\":[\"Menos de R$ 10000\",\"Entre R$ 10000 - 19999,99\",\"R$ 20000 ou mais\"],\"yaxis\":\"y\",\"type\":\"bar\"},{\"alignmentgroup\":\"True\",\"hovertemplate\":\"nm_votavel=VOTO NULO<br>porcentagem_pib_intervalos=%{x}<br>pib_intervalos=%{y}<extra></extra>\",\"legendgroup\":\"VOTO NULO\",\"marker\":{\"color\":\"#ab63fa\",\"pattern\":{\"shape\":\"\"}},\"name\":\"VOTO NULO\",\"offsetgroup\":\"VOTO NULO\",\"orientation\":\"h\",\"showlegend\":true,\"textposition\":\"auto\",\"x\":[4.25,4.44,4.51],\"xaxis\":\"x\",\"y\":[\"Menos de R$ 10000\",\"Entre R$ 10000 - 19999,99\",\"R$ 20000 ou mais\"],\"yaxis\":\"y\",\"type\":\"bar\"},{\"alignmentgroup\":\"True\",\"hovertemplate\":\"nm_votavel=VOTO BRANCO<br>porcentagem_pib_intervalos=%{x}<br>pib_intervalos=%{y}<extra></extra>\",\"legendgroup\":\"VOTO BRANCO\",\"marker\":{\"color\":\"#FFA15A\",\"pattern\":{\"shape\":\"\"}},\"name\":\"VOTO BRANCO\",\"offsetgroup\":\"VOTO BRANCO\",\"orientation\":\"h\",\"showlegend\":true,\"textposition\":\"auto\",\"x\":[2.93,3.22,3.11],\"xaxis\":\"x\",\"y\":[\"Menos de R$ 10000\",\"Entre R$ 10000 - 19999,99\",\"R$ 20000 ou mais\"],\"yaxis\":\"y\",\"type\":\"bar\"},{\"alignmentgroup\":\"True\",\"hovertemplate\":\"nm_votavel=FRANCISCO RAIMUNDO MALTA DE ARA\\u00daJO<br>porcentagem_pib_intervalos=%{x}<br>pib_intervalos=%{y}<extra></extra>\",\"legendgroup\":\"FRANCISCO RAIMUNDO MALTA DE ARA\\u00daJO\",\"marker\":{\"color\":\"#19d3f3\",\"pattern\":{\"shape\":\"\"}},\"name\":\"FRANCISCO RAIMUNDO MALTA DE ARA\\u00daJO\",\"offsetgroup\":\"FRANCISCO RAIMUNDO MALTA DE ARA\\u00daJO\",\"orientation\":\"h\",\"showlegend\":true,\"textposition\":\"auto\",\"x\":[0.04,0.04,0.07],\"xaxis\":\"x\",\"y\":[\"Menos de R$ 10000\",\"Entre R$ 10000 - 19999,99\",\"R$ 20000 ou mais\"],\"yaxis\":\"y\",\"type\":\"bar\"},{\"alignmentgroup\":\"True\",\"hovertemplate\":\"nm_votavel=JOS\\u00c9 BATISTA NETO<br>porcentagem_pib_intervalos=%{x}<br>pib_intervalos=%{y}<extra></extra>\",\"legendgroup\":\"JOS\\u00c9 BATISTA NETO\",\"marker\":{\"color\":\"#FF6692\",\"pattern\":{\"shape\":\"\"}},\"name\":\"JOS\\u00c9 BATISTA NETO\",\"offsetgroup\":\"JOS\\u00c9 BATISTA NETO\",\"orientation\":\"h\",\"showlegend\":true,\"textposition\":\"auto\",\"x\":[0.02,0.02,0.04],\"xaxis\":\"x\",\"y\":[\"Menos de R$ 10000\",\"Entre R$ 10000 - 19999,99\",\"R$ 20000 ou mais\"],\"yaxis\":\"y\",\"type\":\"bar\"},{\"alignmentgroup\":\"True\",\"hovertemplate\":\"nm_votavel=SERLEY DE SOUSA LEAL<br>porcentagem_pib_intervalos=%{x}<br>pib_intervalos=%{y}<extra></extra>\",\"legendgroup\":\"SERLEY DE SOUSA LEAL\",\"marker\":{\"color\":\"#B6E880\",\"pattern\":{\"shape\":\"\"}},\"name\":\"SERLEY DE SOUSA LEAL\",\"offsetgroup\":\"SERLEY DE SOUSA LEAL\",\"orientation\":\"h\",\"showlegend\":true,\"textposition\":\"auto\",\"x\":[0.01,0.02,0.05],\"xaxis\":\"x\",\"y\":[\"Menos de R$ 10000\",\"Entre R$ 10000 - 19999,99\",\"R$ 20000 ou mais\"],\"yaxis\":\"y\",\"type\":\"bar\"}],                        {\"template\":{\"data\":{\"histogram2dcontour\":[{\"type\":\"histogram2dcontour\",\"colorbar\":{\"outlinewidth\":0,\"ticks\":\"\"},\"colorscale\":[[0.0,\"#0d0887\"],[0.1111111111111111,\"#46039f\"],[0.2222222222222222,\"#7201a8\"],[0.3333333333333333,\"#9c179e\"],[0.4444444444444444,\"#bd3786\"],[0.5555555555555556,\"#d8576b\"],[0.6666666666666666,\"#ed7953\"],[0.7777777777777778,\"#fb9f3a\"],[0.8888888888888888,\"#fdca26\"],[1.0,\"#f0f921\"]]}],\"choropleth\":[{\"type\":\"choropleth\",\"colorbar\":{\"outlinewidth\":0,\"ticks\":\"\"}}],\"histogram2d\":[{\"type\":\"histogram2d\",\"colorbar\":{\"outlinewidth\":0,\"ticks\":\"\"},\"colorscale\":[[0.0,\"#0d0887\"],[0.1111111111111111,\"#46039f\"],[0.2222222222222222,\"#7201a8\"],[0.3333333333333333,\"#9c179e\"],[0.4444444444444444,\"#bd3786\"],[0.5555555555555556,\"#d8576b\"],[0.6666666666666666,\"#ed7953\"],[0.7777777777777778,\"#fb9f3a\"],[0.8888888888888888,\"#fdca26\"],[1.0,\"#f0f921\"]]}],\"heatmap\":[{\"type\":\"heatmap\",\"colorbar\":{\"outlinewidth\":0,\"ticks\":\"\"},\"colorscale\":[[0.0,\"#0d0887\"],[0.1111111111111111,\"#46039f\"],[0.2222222222222222,\"#7201a8\"],[0.3333333333333333,\"#9c179e\"],[0.4444444444444444,\"#bd3786\"],[0.5555555555555556,\"#d8576b\"],[0.6666666666666666,\"#ed7953\"],[0.7777777777777778,\"#fb9f3a\"],[0.8888888888888888,\"#fdca26\"],[1.0,\"#f0f921\"]]}],\"heatmapgl\":[{\"type\":\"heatmapgl\",\"colorbar\":{\"outlinewidth\":0,\"ticks\":\"\"},\"colorscale\":[[0.0,\"#0d0887\"],[0.1111111111111111,\"#46039f\"],[0.2222222222222222,\"#7201a8\"],[0.3333333333333333,\"#9c179e\"],[0.4444444444444444,\"#bd3786\"],[0.5555555555555556,\"#d8576b\"],[0.6666666666666666,\"#ed7953\"],[0.7777777777777778,\"#fb9f3a\"],[0.8888888888888888,\"#fdca26\"],[1.0,\"#f0f921\"]]}],\"contourcarpet\":[{\"type\":\"contourcarpet\",\"colorbar\":{\"outlinewidth\":0,\"ticks\":\"\"}}],\"contour\":[{\"type\":\"contour\",\"colorbar\":{\"outlinewidth\":0,\"ticks\":\"\"},\"colorscale\":[[0.0,\"#0d0887\"],[0.1111111111111111,\"#46039f\"],[0.2222222222222222,\"#7201a8\"],[0.3333333333333333,\"#9c179e\"],[0.4444444444444444,\"#bd3786\"],[0.5555555555555556,\"#d8576b\"],[0.6666666666666666,\"#ed7953\"],[0.7777777777777778,\"#fb9f3a\"],[0.8888888888888888,\"#fdca26\"],[1.0,\"#f0f921\"]]}],\"surface\":[{\"type\":\"surface\",\"colorbar\":{\"outlinewidth\":0,\"ticks\":\"\"},\"colorscale\":[[0.0,\"#0d0887\"],[0.1111111111111111,\"#46039f\"],[0.2222222222222222,\"#7201a8\"],[0.3333333333333333,\"#9c179e\"],[0.4444444444444444,\"#bd3786\"],[0.5555555555555556,\"#d8576b\"],[0.6666666666666666,\"#ed7953\"],[0.7777777777777778,\"#fb9f3a\"],[0.8888888888888888,\"#fdca26\"],[1.0,\"#f0f921\"]]}],\"mesh3d\":[{\"type\":\"mesh3d\",\"colorbar\":{\"outlinewidth\":0,\"ticks\":\"\"}}],\"scatter\":[{\"fillpattern\":{\"fillmode\":\"overlay\",\"size\":10,\"solidity\":0.2},\"type\":\"scatter\"}],\"parcoords\":[{\"type\":\"parcoords\",\"line\":{\"colorbar\":{\"outlinewidth\":0,\"ticks\":\"\"}}}],\"scatterpolargl\":[{\"type\":\"scatterpolargl\",\"marker\":{\"colorbar\":{\"outlinewidth\":0,\"ticks\":\"\"}}}],\"bar\":[{\"error_x\":{\"color\":\"#2a3f5f\"},\"error_y\":{\"color\":\"#2a3f5f\"},\"marker\":{\"line\":{\"color\":\"#E5ECF6\",\"width\":0.5},\"pattern\":{\"fillmode\":\"overlay\",\"size\":10,\"solidity\":0.2}},\"type\":\"bar\"}],\"scattergeo\":[{\"type\":\"scattergeo\",\"marker\":{\"colorbar\":{\"outlinewidth\":0,\"ticks\":\"\"}}}],\"scatterpolar\":[{\"type\":\"scatterpolar\",\"marker\":{\"colorbar\":{\"outlinewidth\":0,\"ticks\":\"\"}}}],\"histogram\":[{\"marker\":{\"pattern\":{\"fillmode\":\"overlay\",\"size\":10,\"solidity\":0.2}},\"type\":\"histogram\"}],\"scattergl\":[{\"type\":\"scattergl\",\"marker\":{\"colorbar\":{\"outlinewidth\":0,\"ticks\":\"\"}}}],\"scatter3d\":[{\"type\":\"scatter3d\",\"line\":{\"colorbar\":{\"outlinewidth\":0,\"ticks\":\"\"}},\"marker\":{\"colorbar\":{\"outlinewidth\":0,\"ticks\":\"\"}}}],\"scattermapbox\":[{\"type\":\"scattermapbox\",\"marker\":{\"colorbar\":{\"outlinewidth\":0,\"ticks\":\"\"}}}],\"scatterternary\":[{\"type\":\"scatterternary\",\"marker\":{\"colorbar\":{\"outlinewidth\":0,\"ticks\":\"\"}}}],\"scattercarpet\":[{\"type\":\"scattercarpet\",\"marker\":{\"colorbar\":{\"outlinewidth\":0,\"ticks\":\"\"}}}],\"carpet\":[{\"aaxis\":{\"endlinecolor\":\"#2a3f5f\",\"gridcolor\":\"white\",\"linecolor\":\"white\",\"minorgridcolor\":\"white\",\"startlinecolor\":\"#2a3f5f\"},\"baxis\":{\"endlinecolor\":\"#2a3f5f\",\"gridcolor\":\"white\",\"linecolor\":\"white\",\"minorgridcolor\":\"white\",\"startlinecolor\":\"#2a3f5f\"},\"type\":\"carpet\"}],\"table\":[{\"cells\":{\"fill\":{\"color\":\"#EBF0F8\"},\"line\":{\"color\":\"white\"}},\"header\":{\"fill\":{\"color\":\"#C8D4E3\"},\"line\":{\"color\":\"white\"}},\"type\":\"table\"}],\"barpolar\":[{\"marker\":{\"line\":{\"color\":\"#E5ECF6\",\"width\":0.5},\"pattern\":{\"fillmode\":\"overlay\",\"size\":10,\"solidity\":0.2}},\"type\":\"barpolar\"}],\"pie\":[{\"automargin\":true,\"type\":\"pie\"}]},\"layout\":{\"autotypenumbers\":\"strict\",\"colorway\":[\"#636efa\",\"#EF553B\",\"#00cc96\",\"#ab63fa\",\"#FFA15A\",\"#19d3f3\",\"#FF6692\",\"#B6E880\",\"#FF97FF\",\"#FECB52\"],\"font\":{\"color\":\"#2a3f5f\"},\"hovermode\":\"closest\",\"hoverlabel\":{\"align\":\"left\"},\"paper_bgcolor\":\"white\",\"plot_bgcolor\":\"#E5ECF6\",\"polar\":{\"bgcolor\":\"#E5ECF6\",\"angularaxis\":{\"gridcolor\":\"white\",\"linecolor\":\"white\",\"ticks\":\"\"},\"radialaxis\":{\"gridcolor\":\"white\",\"linecolor\":\"white\",\"ticks\":\"\"}},\"ternary\":{\"bgcolor\":\"#E5ECF6\",\"aaxis\":{\"gridcolor\":\"white\",\"linecolor\":\"white\",\"ticks\":\"\"},\"baxis\":{\"gridcolor\":\"white\",\"linecolor\":\"white\",\"ticks\":\"\"},\"caxis\":{\"gridcolor\":\"white\",\"linecolor\":\"white\",\"ticks\":\"\"}},\"coloraxis\":{\"colorbar\":{\"outlinewidth\":0,\"ticks\":\"\"}},\"colorscale\":{\"sequential\":[[0.0,\"#0d0887\"],[0.1111111111111111,\"#46039f\"],[0.2222222222222222,\"#7201a8\"],[0.3333333333333333,\"#9c179e\"],[0.4444444444444444,\"#bd3786\"],[0.5555555555555556,\"#d8576b\"],[0.6666666666666666,\"#ed7953\"],[0.7777777777777778,\"#fb9f3a\"],[0.8888888888888888,\"#fdca26\"],[1.0,\"#f0f921\"]],\"sequentialminus\":[[0.0,\"#0d0887\"],[0.1111111111111111,\"#46039f\"],[0.2222222222222222,\"#7201a8\"],[0.3333333333333333,\"#9c179e\"],[0.4444444444444444,\"#bd3786\"],[0.5555555555555556,\"#d8576b\"],[0.6666666666666666,\"#ed7953\"],[0.7777777777777778,\"#fb9f3a\"],[0.8888888888888888,\"#fdca26\"],[1.0,\"#f0f921\"]],\"diverging\":[[0,\"#8e0152\"],[0.1,\"#c51b7d\"],[0.2,\"#de77ae\"],[0.3,\"#f1b6da\"],[0.4,\"#fde0ef\"],[0.5,\"#f7f7f7\"],[0.6,\"#e6f5d0\"],[0.7,\"#b8e186\"],[0.8,\"#7fbc41\"],[0.9,\"#4d9221\"],[1,\"#276419\"]]},\"xaxis\":{\"gridcolor\":\"white\",\"linecolor\":\"white\",\"ticks\":\"\",\"title\":{\"standoff\":15},\"zerolinecolor\":\"white\",\"automargin\":true,\"zerolinewidth\":2},\"yaxis\":{\"gridcolor\":\"white\",\"linecolor\":\"white\",\"ticks\":\"\",\"title\":{\"standoff\":15},\"zerolinecolor\":\"white\",\"automargin\":true,\"zerolinewidth\":2},\"scene\":{\"xaxis\":{\"backgroundcolor\":\"#E5ECF6\",\"gridcolor\":\"white\",\"linecolor\":\"white\",\"showbackground\":true,\"ticks\":\"\",\"zerolinecolor\":\"white\",\"gridwidth\":2},\"yaxis\":{\"backgroundcolor\":\"#E5ECF6\",\"gridcolor\":\"white\",\"linecolor\":\"white\",\"showbackground\":true,\"ticks\":\"\",\"zerolinecolor\":\"white\",\"gridwidth\":2},\"zaxis\":{\"backgroundcolor\":\"#E5ECF6\",\"gridcolor\":\"white\",\"linecolor\":\"white\",\"showbackground\":true,\"ticks\":\"\",\"zerolinecolor\":\"white\",\"gridwidth\":2}},\"shapedefaults\":{\"line\":{\"color\":\"#2a3f5f\"}},\"annotationdefaults\":{\"arrowcolor\":\"#2a3f5f\",\"arrowhead\":0,\"arrowwidth\":1},\"geo\":{\"bgcolor\":\"white\",\"landcolor\":\"#E5ECF6\",\"subunitcolor\":\"white\",\"showland\":true,\"showlakes\":true,\"lakecolor\":\"white\"},\"title\":{\"x\":0.05},\"mapbox\":{\"style\":\"light\"}}},\"xaxis\":{\"anchor\":\"y\",\"domain\":[0.0,1.0],\"title\":{\"text\":\"Porcentagem dos votos\"}},\"yaxis\":{\"anchor\":\"x\",\"domain\":[0.0,1.0],\"title\":{\"text\":\"\"},\"autorange\":\"reversed\"},\"legend\":{\"title\":{\"text\":\"Candidatos\"},\"tracegroupgap\":0},\"title\":{\"text\":\"Porcentagem dos votos por candidato para cada intervalo de PIB per capita\",\"x\":0.5},\"barmode\":\"relative\"},                        {\"responsive\": true}                    ).then(function(){\n",
              "                            \n",
              "var gd = document.getElementById('881bd95d-db54-40be-ab1b-662351b55171');\n",
              "var x = new MutationObserver(function (mutations, observer) {{\n",
              "        var display = window.getComputedStyle(gd).display;\n",
              "        if (!display || display === 'none') {{\n",
              "            console.log([gd, 'removed!']);\n",
              "            Plotly.purge(gd);\n",
              "            observer.disconnect();\n",
              "        }}\n",
              "}});\n",
              "\n",
              "// Listen for the removal of the full notebook cells\n",
              "var notebookContainer = gd.closest('#notebook-container');\n",
              "if (notebookContainer) {{\n",
              "    x.observe(notebookContainer, {childList: true});\n",
              "}}\n",
              "\n",
              "// Listen for the clearing of the current output cell\n",
              "var outputEl = gd.closest('.output');\n",
              "if (outputEl) {{\n",
              "    x.observe(outputEl, {childList: true});\n",
              "}}\n",
              "\n",
              "                        })                };                            </script>        </div>\n",
              "</body>\n",
              "</html>"
            ]
          },
          "metadata": {}
        }
      ]
    },
    {
      "cell_type": "markdown",
      "source": [
        "### 5.3.4 Análise estratificada por urbanização"
      ],
      "metadata": {
        "id": "oOeKoqWde1JW"
      }
    },
    {
      "cell_type": "markdown",
      "source": [
        "Os valores para os intervalos de taxa de urbanização do município e *labels* são definidos."
      ],
      "metadata": {
        "id": "U1JKA63Jp659"
      }
    },
    {
      "cell_type": "code",
      "source": [
        "bins= [0, 10, 40, 90]\n",
        "labels= ['Menos de 10%', 'Entre 10 - 39,99%', '40% ou mais']"
      ],
      "metadata": {
        "id": "EPdyGA62gJYm"
      },
      "execution_count": 77,
      "outputs": []
    },
    {
      "cell_type": "markdown",
      "source": [
        "A coluna com intervalos da taxa de urbanizacao (`taxa_urbanizacao_intervalos`) é adicionada ao *dataframe*."
      ],
      "metadata": {
        "id": "0bazROmJqccH"
      }
    },
    {
      "cell_type": "code",
      "source": [
        "votos_por_municipio = intervalos_ibge(\n",
        "    votos_por_municipio, nome_coluna= 'porcentagem_urbana', \n",
        "    nova_coluna= 'taxa_urbanizacao_intervalos',\n",
        "    bins= bins, labels= labels\n",
        ")\n",
        "votos_por_municipio.head(2)"
      ],
      "metadata": {
        "colab": {
          "base_uri": "https://localhost:8080/",
          "height": 263
        },
        "id": "eJnZunxnc18m",
        "outputId": "3ce5543a-aa3c-43c5-ad89-51da7f3fe14a"
      },
      "execution_count": 78,
      "outputs": [
        {
          "output_type": "execute_result",
          "data": {
            "text/plain": [
              "  nm_municipio                          nm_votavel  qt_votos  area_territorio  \\\n",
              "0      ABAIARA          ELMANO DE FREITAS DA COSTA      4182          180.833   \n",
              "1      ABAIARA  FRANCISCO RAIMUNDO MALTA DE ARAÚJO         7          180.833   \n",
              "\n",
              "   populacao   idhm  pib_per_capita  area_urbanizada  porcentagem_urbana  \\\n",
              "0      11965  0.628         9158.04             3.19                1.76   \n",
              "1      11965  0.628         9158.04             3.19                1.76   \n",
              "\n",
              "          populacao_intervalos idhm_intervalos     pib_intervalos  \\\n",
              "0  Menos de 100 mil habitantes       IDH médio  Menos de R$ 10000   \n",
              "1  Menos de 100 mil habitantes       IDH médio  Menos de R$ 10000   \n",
              "\n",
              "  taxa_urbanizacao_intervalos  \n",
              "0                Menos de 10%  \n",
              "1                Menos de 10%  "
            ],
            "text/html": [
              "\n",
              "  <div id=\"df-d5c9029c-9276-4f00-a5fe-402bc64e2bc9\">\n",
              "    <div class=\"colab-df-container\">\n",
              "      <div>\n",
              "<style scoped>\n",
              "    .dataframe tbody tr th:only-of-type {\n",
              "        vertical-align: middle;\n",
              "    }\n",
              "\n",
              "    .dataframe tbody tr th {\n",
              "        vertical-align: top;\n",
              "    }\n",
              "\n",
              "    .dataframe thead th {\n",
              "        text-align: right;\n",
              "    }\n",
              "</style>\n",
              "<table border=\"1\" class=\"dataframe\">\n",
              "  <thead>\n",
              "    <tr style=\"text-align: right;\">\n",
              "      <th></th>\n",
              "      <th>nm_municipio</th>\n",
              "      <th>nm_votavel</th>\n",
              "      <th>qt_votos</th>\n",
              "      <th>area_territorio</th>\n",
              "      <th>populacao</th>\n",
              "      <th>idhm</th>\n",
              "      <th>pib_per_capita</th>\n",
              "      <th>area_urbanizada</th>\n",
              "      <th>porcentagem_urbana</th>\n",
              "      <th>populacao_intervalos</th>\n",
              "      <th>idhm_intervalos</th>\n",
              "      <th>pib_intervalos</th>\n",
              "      <th>taxa_urbanizacao_intervalos</th>\n",
              "    </tr>\n",
              "  </thead>\n",
              "  <tbody>\n",
              "    <tr>\n",
              "      <th>0</th>\n",
              "      <td>ABAIARA</td>\n",
              "      <td>ELMANO DE FREITAS DA COSTA</td>\n",
              "      <td>4182</td>\n",
              "      <td>180.833</td>\n",
              "      <td>11965</td>\n",
              "      <td>0.628</td>\n",
              "      <td>9158.04</td>\n",
              "      <td>3.19</td>\n",
              "      <td>1.76</td>\n",
              "      <td>Menos de 100 mil habitantes</td>\n",
              "      <td>IDH médio</td>\n",
              "      <td>Menos de R$ 10000</td>\n",
              "      <td>Menos de 10%</td>\n",
              "    </tr>\n",
              "    <tr>\n",
              "      <th>1</th>\n",
              "      <td>ABAIARA</td>\n",
              "      <td>FRANCISCO RAIMUNDO MALTA DE ARAÚJO</td>\n",
              "      <td>7</td>\n",
              "      <td>180.833</td>\n",
              "      <td>11965</td>\n",
              "      <td>0.628</td>\n",
              "      <td>9158.04</td>\n",
              "      <td>3.19</td>\n",
              "      <td>1.76</td>\n",
              "      <td>Menos de 100 mil habitantes</td>\n",
              "      <td>IDH médio</td>\n",
              "      <td>Menos de R$ 10000</td>\n",
              "      <td>Menos de 10%</td>\n",
              "    </tr>\n",
              "  </tbody>\n",
              "</table>\n",
              "</div>\n",
              "      <button class=\"colab-df-convert\" onclick=\"convertToInteractive('df-d5c9029c-9276-4f00-a5fe-402bc64e2bc9')\"\n",
              "              title=\"Convert this dataframe to an interactive table.\"\n",
              "              style=\"display:none;\">\n",
              "        \n",
              "  <svg xmlns=\"http://www.w3.org/2000/svg\" height=\"24px\"viewBox=\"0 0 24 24\"\n",
              "       width=\"24px\">\n",
              "    <path d=\"M0 0h24v24H0V0z\" fill=\"none\"/>\n",
              "    <path d=\"M18.56 5.44l.94 2.06.94-2.06 2.06-.94-2.06-.94-.94-2.06-.94 2.06-2.06.94zm-11 1L8.5 8.5l.94-2.06 2.06-.94-2.06-.94L8.5 2.5l-.94 2.06-2.06.94zm10 10l.94 2.06.94-2.06 2.06-.94-2.06-.94-.94-2.06-.94 2.06-2.06.94z\"/><path d=\"M17.41 7.96l-1.37-1.37c-.4-.4-.92-.59-1.43-.59-.52 0-1.04.2-1.43.59L10.3 9.45l-7.72 7.72c-.78.78-.78 2.05 0 2.83L4 21.41c.39.39.9.59 1.41.59.51 0 1.02-.2 1.41-.59l7.78-7.78 2.81-2.81c.8-.78.8-2.07 0-2.86zM5.41 20L4 18.59l7.72-7.72 1.47 1.35L5.41 20z\"/>\n",
              "  </svg>\n",
              "      </button>\n",
              "      \n",
              "  <style>\n",
              "    .colab-df-container {\n",
              "      display:flex;\n",
              "      flex-wrap:wrap;\n",
              "      gap: 12px;\n",
              "    }\n",
              "\n",
              "    .colab-df-convert {\n",
              "      background-color: #E8F0FE;\n",
              "      border: none;\n",
              "      border-radius: 50%;\n",
              "      cursor: pointer;\n",
              "      display: none;\n",
              "      fill: #1967D2;\n",
              "      height: 32px;\n",
              "      padding: 0 0 0 0;\n",
              "      width: 32px;\n",
              "    }\n",
              "\n",
              "    .colab-df-convert:hover {\n",
              "      background-color: #E2EBFA;\n",
              "      box-shadow: 0px 1px 2px rgba(60, 64, 67, 0.3), 0px 1px 3px 1px rgba(60, 64, 67, 0.15);\n",
              "      fill: #174EA6;\n",
              "    }\n",
              "\n",
              "    [theme=dark] .colab-df-convert {\n",
              "      background-color: #3B4455;\n",
              "      fill: #D2E3FC;\n",
              "    }\n",
              "\n",
              "    [theme=dark] .colab-df-convert:hover {\n",
              "      background-color: #434B5C;\n",
              "      box-shadow: 0px 1px 3px 1px rgba(0, 0, 0, 0.15);\n",
              "      filter: drop-shadow(0px 1px 2px rgba(0, 0, 0, 0.3));\n",
              "      fill: #FFFFFF;\n",
              "    }\n",
              "  </style>\n",
              "\n",
              "      <script>\n",
              "        const buttonEl =\n",
              "          document.querySelector('#df-d5c9029c-9276-4f00-a5fe-402bc64e2bc9 button.colab-df-convert');\n",
              "        buttonEl.style.display =\n",
              "          google.colab.kernel.accessAllowed ? 'block' : 'none';\n",
              "\n",
              "        async function convertToInteractive(key) {\n",
              "          const element = document.querySelector('#df-d5c9029c-9276-4f00-a5fe-402bc64e2bc9');\n",
              "          const dataTable =\n",
              "            await google.colab.kernel.invokeFunction('convertToInteractive',\n",
              "                                                     [key], {});\n",
              "          if (!dataTable) return;\n",
              "\n",
              "          const docLinkHtml = 'Like what you see? Visit the ' +\n",
              "            '<a target=\"_blank\" href=https://colab.research.google.com/notebooks/data_table.ipynb>data table notebook</a>'\n",
              "            + ' to learn more about interactive tables.';\n",
              "          element.innerHTML = '';\n",
              "          dataTable['output_type'] = 'display_data';\n",
              "          await google.colab.output.renderOutput(dataTable, element);\n",
              "          const docLink = document.createElement('div');\n",
              "          docLink.innerHTML = docLinkHtml;\n",
              "          element.appendChild(docLink);\n",
              "        }\n",
              "      </script>\n",
              "    </div>\n",
              "  </div>\n",
              "  "
            ]
          },
          "metadata": {},
          "execution_count": 78
        }
      ]
    },
    {
      "cell_type": "markdown",
      "source": [
        "Os votos totais por intervalo de taxa de urbanização são adicionados ao dicionário `votos_totais_por_intervalo_urbanizacao`."
      ],
      "metadata": {
        "id": "04EVd4Ahqr5D"
      }
    },
    {
      "cell_type": "code",
      "source": [
        "votos_totais_por_intervalo_urbanizacao = dict_votos_totais(votos_por_municipio, 'taxa_urbanizacao_intervalos')\n",
        "votos_totais_por_intervalo_urbanizacao"
      ],
      "metadata": {
        "colab": {
          "base_uri": "https://localhost:8080/"
        },
        "id": "2j8i2ZLBfgr8",
        "outputId": "7843123f-d90f-4909-ce21-43a76412cebd"
      },
      "execution_count": 79,
      "outputs": [
        {
          "output_type": "execute_result",
          "data": {
            "text/plain": [
              "{'Menos de 10%': 3608699, 'Entre 10 - 39,99%': 306413, '40% ou mais': 1708338}"
            ]
          },
          "metadata": {},
          "execution_count": 79
        }
      ]
    },
    {
      "cell_type": "markdown",
      "source": [
        "Os votos são concentrados em municípios com menos urbanização."
      ],
      "metadata": {
        "id": "U73t2d1XqzDB"
      }
    },
    {
      "cell_type": "markdown",
      "source": [
        "A porcentagem de votos dos candidatos para cada intervalo é determinada e adicionada, o *dataframe* `votos_intervalos_urbanizacao` é instanciado."
      ],
      "metadata": {
        "id": "f7-eiEfPrPig"
      }
    },
    {
      "cell_type": "code",
      "source": [
        "votos_intervalos_urbanizacao = dataframe_com_porcentagens(\n",
        "    votos_por_municipio, dictionary= votos_totais_por_intervalo_urbanizacao,\n",
        "    coluna_indicador= 'taxa_urbanizacao_intervalos'\n",
        ")\n",
        "votos_intervalos_urbanizacao.head()"
      ],
      "metadata": {
        "colab": {
          "base_uri": "https://localhost:8080/",
          "height": 206
        },
        "id": "Ztb2Fi9VY-gO",
        "outputId": "58df6930-417a-4878-9b44-04934c0e845e"
      },
      "execution_count": 80,
      "outputs": [
        {
          "output_type": "execute_result",
          "data": {
            "text/plain": [
              "  taxa_urbanizacao_intervalos                         nm_votavel  qt_votos  \\\n",
              "0                Menos de 10%         ELMANO DE FREITAS DA COSTA   2033247   \n",
              "7                Menos de 10%                 WAGNER SOUSA GOMES    890869   \n",
              "3                Menos de 10%  ROBERTO CLÁUDIO RODRIGUES BEZERRA    404290   \n",
              "6                Menos de 10%                          VOTO NULO    159683   \n",
              "5                Menos de 10%                        VOTO BRANCO    117714   \n",
              "\n",
              "   porcentagem_taxa_urbanizacao_intervalos  \n",
              "0                                    56.34  \n",
              "7                                    24.69  \n",
              "3                                    11.20  \n",
              "6                                     4.42  \n",
              "5                                     3.26  "
            ],
            "text/html": [
              "\n",
              "  <div id=\"df-de7a9c7b-c544-472c-8ed3-96b92f4a2392\">\n",
              "    <div class=\"colab-df-container\">\n",
              "      <div>\n",
              "<style scoped>\n",
              "    .dataframe tbody tr th:only-of-type {\n",
              "        vertical-align: middle;\n",
              "    }\n",
              "\n",
              "    .dataframe tbody tr th {\n",
              "        vertical-align: top;\n",
              "    }\n",
              "\n",
              "    .dataframe thead th {\n",
              "        text-align: right;\n",
              "    }\n",
              "</style>\n",
              "<table border=\"1\" class=\"dataframe\">\n",
              "  <thead>\n",
              "    <tr style=\"text-align: right;\">\n",
              "      <th></th>\n",
              "      <th>taxa_urbanizacao_intervalos</th>\n",
              "      <th>nm_votavel</th>\n",
              "      <th>qt_votos</th>\n",
              "      <th>porcentagem_taxa_urbanizacao_intervalos</th>\n",
              "    </tr>\n",
              "  </thead>\n",
              "  <tbody>\n",
              "    <tr>\n",
              "      <th>0</th>\n",
              "      <td>Menos de 10%</td>\n",
              "      <td>ELMANO DE FREITAS DA COSTA</td>\n",
              "      <td>2033247</td>\n",
              "      <td>56.34</td>\n",
              "    </tr>\n",
              "    <tr>\n",
              "      <th>7</th>\n",
              "      <td>Menos de 10%</td>\n",
              "      <td>WAGNER SOUSA GOMES</td>\n",
              "      <td>890869</td>\n",
              "      <td>24.69</td>\n",
              "    </tr>\n",
              "    <tr>\n",
              "      <th>3</th>\n",
              "      <td>Menos de 10%</td>\n",
              "      <td>ROBERTO CLÁUDIO RODRIGUES BEZERRA</td>\n",
              "      <td>404290</td>\n",
              "      <td>11.20</td>\n",
              "    </tr>\n",
              "    <tr>\n",
              "      <th>6</th>\n",
              "      <td>Menos de 10%</td>\n",
              "      <td>VOTO NULO</td>\n",
              "      <td>159683</td>\n",
              "      <td>4.42</td>\n",
              "    </tr>\n",
              "    <tr>\n",
              "      <th>5</th>\n",
              "      <td>Menos de 10%</td>\n",
              "      <td>VOTO BRANCO</td>\n",
              "      <td>117714</td>\n",
              "      <td>3.26</td>\n",
              "    </tr>\n",
              "  </tbody>\n",
              "</table>\n",
              "</div>\n",
              "      <button class=\"colab-df-convert\" onclick=\"convertToInteractive('df-de7a9c7b-c544-472c-8ed3-96b92f4a2392')\"\n",
              "              title=\"Convert this dataframe to an interactive table.\"\n",
              "              style=\"display:none;\">\n",
              "        \n",
              "  <svg xmlns=\"http://www.w3.org/2000/svg\" height=\"24px\"viewBox=\"0 0 24 24\"\n",
              "       width=\"24px\">\n",
              "    <path d=\"M0 0h24v24H0V0z\" fill=\"none\"/>\n",
              "    <path d=\"M18.56 5.44l.94 2.06.94-2.06 2.06-.94-2.06-.94-.94-2.06-.94 2.06-2.06.94zm-11 1L8.5 8.5l.94-2.06 2.06-.94-2.06-.94L8.5 2.5l-.94 2.06-2.06.94zm10 10l.94 2.06.94-2.06 2.06-.94-2.06-.94-.94-2.06-.94 2.06-2.06.94z\"/><path d=\"M17.41 7.96l-1.37-1.37c-.4-.4-.92-.59-1.43-.59-.52 0-1.04.2-1.43.59L10.3 9.45l-7.72 7.72c-.78.78-.78 2.05 0 2.83L4 21.41c.39.39.9.59 1.41.59.51 0 1.02-.2 1.41-.59l7.78-7.78 2.81-2.81c.8-.78.8-2.07 0-2.86zM5.41 20L4 18.59l7.72-7.72 1.47 1.35L5.41 20z\"/>\n",
              "  </svg>\n",
              "      </button>\n",
              "      \n",
              "  <style>\n",
              "    .colab-df-container {\n",
              "      display:flex;\n",
              "      flex-wrap:wrap;\n",
              "      gap: 12px;\n",
              "    }\n",
              "\n",
              "    .colab-df-convert {\n",
              "      background-color: #E8F0FE;\n",
              "      border: none;\n",
              "      border-radius: 50%;\n",
              "      cursor: pointer;\n",
              "      display: none;\n",
              "      fill: #1967D2;\n",
              "      height: 32px;\n",
              "      padding: 0 0 0 0;\n",
              "      width: 32px;\n",
              "    }\n",
              "\n",
              "    .colab-df-convert:hover {\n",
              "      background-color: #E2EBFA;\n",
              "      box-shadow: 0px 1px 2px rgba(60, 64, 67, 0.3), 0px 1px 3px 1px rgba(60, 64, 67, 0.15);\n",
              "      fill: #174EA6;\n",
              "    }\n",
              "\n",
              "    [theme=dark] .colab-df-convert {\n",
              "      background-color: #3B4455;\n",
              "      fill: #D2E3FC;\n",
              "    }\n",
              "\n",
              "    [theme=dark] .colab-df-convert:hover {\n",
              "      background-color: #434B5C;\n",
              "      box-shadow: 0px 1px 3px 1px rgba(0, 0, 0, 0.15);\n",
              "      filter: drop-shadow(0px 1px 2px rgba(0, 0, 0, 0.3));\n",
              "      fill: #FFFFFF;\n",
              "    }\n",
              "  </style>\n",
              "\n",
              "      <script>\n",
              "        const buttonEl =\n",
              "          document.querySelector('#df-de7a9c7b-c544-472c-8ed3-96b92f4a2392 button.colab-df-convert');\n",
              "        buttonEl.style.display =\n",
              "          google.colab.kernel.accessAllowed ? 'block' : 'none';\n",
              "\n",
              "        async function convertToInteractive(key) {\n",
              "          const element = document.querySelector('#df-de7a9c7b-c544-472c-8ed3-96b92f4a2392');\n",
              "          const dataTable =\n",
              "            await google.colab.kernel.invokeFunction('convertToInteractive',\n",
              "                                                     [key], {});\n",
              "          if (!dataTable) return;\n",
              "\n",
              "          const docLinkHtml = 'Like what you see? Visit the ' +\n",
              "            '<a target=\"_blank\" href=https://colab.research.google.com/notebooks/data_table.ipynb>data table notebook</a>'\n",
              "            + ' to learn more about interactive tables.';\n",
              "          element.innerHTML = '';\n",
              "          dataTable['output_type'] = 'display_data';\n",
              "          await google.colab.output.renderOutput(dataTable, element);\n",
              "          const docLink = document.createElement('div');\n",
              "          docLink.innerHTML = docLinkHtml;\n",
              "          element.appendChild(docLink);\n",
              "        }\n",
              "      </script>\n",
              "    </div>\n",
              "  </div>\n",
              "  "
            ]
          },
          "metadata": {},
          "execution_count": 80
        }
      ]
    },
    {
      "cell_type": "markdown",
      "source": [
        "Os resultados obtidos são mostrados no gráfico:"
      ],
      "metadata": {
        "id": "sT-TR7knrVcI"
      }
    },
    {
      "cell_type": "code",
      "source": [
        "fig = px.bar(\n",
        "    data_frame= votos_intervalos_urbanizacao,\n",
        "    y= 'taxa_urbanizacao_intervalos',\n",
        "    x= 'porcentagem_taxa_urbanizacao_intervalos',\n",
        "    color= 'nm_votavel',\n",
        "    title= 'Porcentagem dos votos por candidato para cada intervalo de urbanização dos municípios'\n",
        ")\n",
        "fig.update_layout(\n",
        "    yaxis= dict(autorange= 'reversed'), yaxis_title= '', \n",
        "    xaxis_title= 'Porcentagem dos votos', title= dict(x= 0.5),\n",
        "    legend_title= 'Candidatos'\n",
        ")\n",
        "fig.show()"
      ],
      "metadata": {
        "colab": {
          "base_uri": "https://localhost:8080/",
          "height": 542
        },
        "id": "jJuHnfdZb9Lv",
        "outputId": "3442d0a6-6fac-4442-f80c-347b6a6ac5ea"
      },
      "execution_count": 81,
      "outputs": [
        {
          "output_type": "display_data",
          "data": {
            "text/html": [
              "<html>\n",
              "<head><meta charset=\"utf-8\" /></head>\n",
              "<body>\n",
              "    <div>            <script src=\"https://cdnjs.cloudflare.com/ajax/libs/mathjax/2.7.5/MathJax.js?config=TeX-AMS-MML_SVG\"></script><script type=\"text/javascript\">if (window.MathJax && window.MathJax.Hub && window.MathJax.Hub.Config) {window.MathJax.Hub.Config({SVG: {font: \"STIX-Web\"}});}</script>                <script type=\"text/javascript\">window.PlotlyConfig = {MathJaxConfig: 'local'};</script>\n",
              "        <script src=\"https://cdn.plot.ly/plotly-2.18.2.min.js\"></script>                <div id=\"f1811e11-4b7f-409e-816f-3014f92e00a1\" class=\"plotly-graph-div\" style=\"height:525px; width:100%;\"></div>            <script type=\"text/javascript\">                                    window.PLOTLYENV=window.PLOTLYENV || {};                                    if (document.getElementById(\"f1811e11-4b7f-409e-816f-3014f92e00a1\")) {                    Plotly.newPlot(                        \"f1811e11-4b7f-409e-816f-3014f92e00a1\",                        [{\"alignmentgroup\":\"True\",\"hovertemplate\":\"nm_votavel=ELMANO DE FREITAS DA COSTA<br>porcentagem_taxa_urbanizacao_intervalos=%{x}<br>taxa_urbanizacao_intervalos=%{y}<extra></extra>\",\"legendgroup\":\"ELMANO DE FREITAS DA COSTA\",\"marker\":{\"color\":\"#636efa\",\"pattern\":{\"shape\":\"\"}},\"name\":\"ELMANO DE FREITAS DA COSTA\",\"offsetgroup\":\"ELMANO DE FREITAS DA COSTA\",\"orientation\":\"h\",\"showlegend\":true,\"textposition\":\"auto\",\"x\":[56.34,54.51,35.59],\"xaxis\":\"x\",\"y\":[\"Menos de 10%\",\"Entre 10 - 39,99%\",\"40% ou mais\"],\"yaxis\":\"y\",\"type\":\"bar\"},{\"alignmentgroup\":\"True\",\"hovertemplate\":\"nm_votavel=WAGNER SOUSA GOMES<br>porcentagem_taxa_urbanizacao_intervalos=%{x}<br>taxa_urbanizacao_intervalos=%{y}<extra></extra>\",\"legendgroup\":\"WAGNER SOUSA GOMES\",\"marker\":{\"color\":\"#EF553B\",\"pattern\":{\"shape\":\"\"}},\"name\":\"WAGNER SOUSA GOMES\",\"offsetgroup\":\"WAGNER SOUSA GOMES\",\"orientation\":\"h\",\"showlegend\":true,\"textposition\":\"auto\",\"x\":[24.69,31.26,38.78],\"xaxis\":\"x\",\"y\":[\"Menos de 10%\",\"Entre 10 - 39,99%\",\"40% ou mais\"],\"yaxis\":\"y\",\"type\":\"bar\"},{\"alignmentgroup\":\"True\",\"hovertemplate\":\"nm_votavel=ROBERTO CL\\u00c1UDIO RODRIGUES BEZERRA<br>porcentagem_taxa_urbanizacao_intervalos=%{x}<br>taxa_urbanizacao_intervalos=%{y}<extra></extra>\",\"legendgroup\":\"ROBERTO CL\\u00c1UDIO RODRIGUES BEZERRA\",\"marker\":{\"color\":\"#00cc96\",\"pattern\":{\"shape\":\"\"}},\"name\":\"ROBERTO CL\\u00c1UDIO RODRIGUES BEZERRA\",\"offsetgroup\":\"ROBERTO CL\\u00c1UDIO RODRIGUES BEZERRA\",\"orientation\":\"h\",\"showlegend\":true,\"textposition\":\"auto\",\"x\":[11.2,5.98,18.28],\"xaxis\":\"x\",\"y\":[\"Menos de 10%\",\"Entre 10 - 39,99%\",\"40% ou mais\"],\"yaxis\":\"y\",\"type\":\"bar\"},{\"alignmentgroup\":\"True\",\"hovertemplate\":\"nm_votavel=VOTO NULO<br>porcentagem_taxa_urbanizacao_intervalos=%{x}<br>taxa_urbanizacao_intervalos=%{y}<extra></extra>\",\"legendgroup\":\"VOTO NULO\",\"marker\":{\"color\":\"#ab63fa\",\"pattern\":{\"shape\":\"\"}},\"name\":\"VOTO NULO\",\"offsetgroup\":\"VOTO NULO\",\"orientation\":\"h\",\"showlegend\":true,\"textposition\":\"auto\",\"x\":[4.42,4.66,4.4],\"xaxis\":\"x\",\"y\":[\"Menos de 10%\",\"Entre 10 - 39,99%\",\"40% ou mais\"],\"yaxis\":\"y\",\"type\":\"bar\"},{\"alignmentgroup\":\"True\",\"hovertemplate\":\"nm_votavel=VOTO BRANCO<br>porcentagem_taxa_urbanizacao_intervalos=%{x}<br>taxa_urbanizacao_intervalos=%{y}<extra></extra>\",\"legendgroup\":\"VOTO BRANCO\",\"marker\":{\"color\":\"#FFA15A\",\"pattern\":{\"shape\":\"\"}},\"name\":\"VOTO BRANCO\",\"offsetgroup\":\"VOTO BRANCO\",\"orientation\":\"h\",\"showlegend\":true,\"textposition\":\"auto\",\"x\":[3.26,3.47,2.76],\"xaxis\":\"x\",\"y\":[\"Menos de 10%\",\"Entre 10 - 39,99%\",\"40% ou mais\"],\"yaxis\":\"y\",\"type\":\"bar\"},{\"alignmentgroup\":\"True\",\"hovertemplate\":\"nm_votavel=FRANCISCO RAIMUNDO MALTA DE ARA\\u00daJO<br>porcentagem_taxa_urbanizacao_intervalos=%{x}<br>taxa_urbanizacao_intervalos=%{y}<extra></extra>\",\"legendgroup\":\"FRANCISCO RAIMUNDO MALTA DE ARA\\u00daJO\",\"marker\":{\"color\":\"#19d3f3\",\"pattern\":{\"shape\":\"\"}},\"name\":\"FRANCISCO RAIMUNDO MALTA DE ARA\\u00daJO\",\"offsetgroup\":\"FRANCISCO RAIMUNDO MALTA DE ARA\\u00daJO\",\"orientation\":\"h\",\"showlegend\":true,\"textposition\":\"auto\",\"x\":[0.04,0.04,0.08],\"xaxis\":\"x\",\"y\":[\"Menos de 10%\",\"Entre 10 - 39,99%\",\"40% ou mais\"],\"yaxis\":\"y\",\"type\":\"bar\"},{\"alignmentgroup\":\"True\",\"hovertemplate\":\"nm_votavel=SERLEY DE SOUSA LEAL<br>porcentagem_taxa_urbanizacao_intervalos=%{x}<br>taxa_urbanizacao_intervalos=%{y}<extra></extra>\",\"legendgroup\":\"SERLEY DE SOUSA LEAL\",\"marker\":{\"color\":\"#FF6692\",\"pattern\":{\"shape\":\"\"}},\"name\":\"SERLEY DE SOUSA LEAL\",\"offsetgroup\":\"SERLEY DE SOUSA LEAL\",\"orientation\":\"h\",\"showlegend\":true,\"textposition\":\"auto\",\"x\":[0.02,0.04,0.06],\"xaxis\":\"x\",\"y\":[\"Menos de 10%\",\"Entre 10 - 39,99%\",\"40% ou mais\"],\"yaxis\":\"y\",\"type\":\"bar\"},{\"alignmentgroup\":\"True\",\"hovertemplate\":\"nm_votavel=JOS\\u00c9 BATISTA NETO<br>porcentagem_taxa_urbanizacao_intervalos=%{x}<br>taxa_urbanizacao_intervalos=%{y}<extra></extra>\",\"legendgroup\":\"JOS\\u00c9 BATISTA NETO\",\"marker\":{\"color\":\"#B6E880\",\"pattern\":{\"shape\":\"\"}},\"name\":\"JOS\\u00c9 BATISTA NETO\",\"offsetgroup\":\"JOS\\u00c9 BATISTA NETO\",\"orientation\":\"h\",\"showlegend\":true,\"textposition\":\"auto\",\"x\":[0.02,0.03,0.04],\"xaxis\":\"x\",\"y\":[\"Menos de 10%\",\"Entre 10 - 39,99%\",\"40% ou mais\"],\"yaxis\":\"y\",\"type\":\"bar\"}],                        {\"template\":{\"data\":{\"histogram2dcontour\":[{\"type\":\"histogram2dcontour\",\"colorbar\":{\"outlinewidth\":0,\"ticks\":\"\"},\"colorscale\":[[0.0,\"#0d0887\"],[0.1111111111111111,\"#46039f\"],[0.2222222222222222,\"#7201a8\"],[0.3333333333333333,\"#9c179e\"],[0.4444444444444444,\"#bd3786\"],[0.5555555555555556,\"#d8576b\"],[0.6666666666666666,\"#ed7953\"],[0.7777777777777778,\"#fb9f3a\"],[0.8888888888888888,\"#fdca26\"],[1.0,\"#f0f921\"]]}],\"choropleth\":[{\"type\":\"choropleth\",\"colorbar\":{\"outlinewidth\":0,\"ticks\":\"\"}}],\"histogram2d\":[{\"type\":\"histogram2d\",\"colorbar\":{\"outlinewidth\":0,\"ticks\":\"\"},\"colorscale\":[[0.0,\"#0d0887\"],[0.1111111111111111,\"#46039f\"],[0.2222222222222222,\"#7201a8\"],[0.3333333333333333,\"#9c179e\"],[0.4444444444444444,\"#bd3786\"],[0.5555555555555556,\"#d8576b\"],[0.6666666666666666,\"#ed7953\"],[0.7777777777777778,\"#fb9f3a\"],[0.8888888888888888,\"#fdca26\"],[1.0,\"#f0f921\"]]}],\"heatmap\":[{\"type\":\"heatmap\",\"colorbar\":{\"outlinewidth\":0,\"ticks\":\"\"},\"colorscale\":[[0.0,\"#0d0887\"],[0.1111111111111111,\"#46039f\"],[0.2222222222222222,\"#7201a8\"],[0.3333333333333333,\"#9c179e\"],[0.4444444444444444,\"#bd3786\"],[0.5555555555555556,\"#d8576b\"],[0.6666666666666666,\"#ed7953\"],[0.7777777777777778,\"#fb9f3a\"],[0.8888888888888888,\"#fdca26\"],[1.0,\"#f0f921\"]]}],\"heatmapgl\":[{\"type\":\"heatmapgl\",\"colorbar\":{\"outlinewidth\":0,\"ticks\":\"\"},\"colorscale\":[[0.0,\"#0d0887\"],[0.1111111111111111,\"#46039f\"],[0.2222222222222222,\"#7201a8\"],[0.3333333333333333,\"#9c179e\"],[0.4444444444444444,\"#bd3786\"],[0.5555555555555556,\"#d8576b\"],[0.6666666666666666,\"#ed7953\"],[0.7777777777777778,\"#fb9f3a\"],[0.8888888888888888,\"#fdca26\"],[1.0,\"#f0f921\"]]}],\"contourcarpet\":[{\"type\":\"contourcarpet\",\"colorbar\":{\"outlinewidth\":0,\"ticks\":\"\"}}],\"contour\":[{\"type\":\"contour\",\"colorbar\":{\"outlinewidth\":0,\"ticks\":\"\"},\"colorscale\":[[0.0,\"#0d0887\"],[0.1111111111111111,\"#46039f\"],[0.2222222222222222,\"#7201a8\"],[0.3333333333333333,\"#9c179e\"],[0.4444444444444444,\"#bd3786\"],[0.5555555555555556,\"#d8576b\"],[0.6666666666666666,\"#ed7953\"],[0.7777777777777778,\"#fb9f3a\"],[0.8888888888888888,\"#fdca26\"],[1.0,\"#f0f921\"]]}],\"surface\":[{\"type\":\"surface\",\"colorbar\":{\"outlinewidth\":0,\"ticks\":\"\"},\"colorscale\":[[0.0,\"#0d0887\"],[0.1111111111111111,\"#46039f\"],[0.2222222222222222,\"#7201a8\"],[0.3333333333333333,\"#9c179e\"],[0.4444444444444444,\"#bd3786\"],[0.5555555555555556,\"#d8576b\"],[0.6666666666666666,\"#ed7953\"],[0.7777777777777778,\"#fb9f3a\"],[0.8888888888888888,\"#fdca26\"],[1.0,\"#f0f921\"]]}],\"mesh3d\":[{\"type\":\"mesh3d\",\"colorbar\":{\"outlinewidth\":0,\"ticks\":\"\"}}],\"scatter\":[{\"fillpattern\":{\"fillmode\":\"overlay\",\"size\":10,\"solidity\":0.2},\"type\":\"scatter\"}],\"parcoords\":[{\"type\":\"parcoords\",\"line\":{\"colorbar\":{\"outlinewidth\":0,\"ticks\":\"\"}}}],\"scatterpolargl\":[{\"type\":\"scatterpolargl\",\"marker\":{\"colorbar\":{\"outlinewidth\":0,\"ticks\":\"\"}}}],\"bar\":[{\"error_x\":{\"color\":\"#2a3f5f\"},\"error_y\":{\"color\":\"#2a3f5f\"},\"marker\":{\"line\":{\"color\":\"#E5ECF6\",\"width\":0.5},\"pattern\":{\"fillmode\":\"overlay\",\"size\":10,\"solidity\":0.2}},\"type\":\"bar\"}],\"scattergeo\":[{\"type\":\"scattergeo\",\"marker\":{\"colorbar\":{\"outlinewidth\":0,\"ticks\":\"\"}}}],\"scatterpolar\":[{\"type\":\"scatterpolar\",\"marker\":{\"colorbar\":{\"outlinewidth\":0,\"ticks\":\"\"}}}],\"histogram\":[{\"marker\":{\"pattern\":{\"fillmode\":\"overlay\",\"size\":10,\"solidity\":0.2}},\"type\":\"histogram\"}],\"scattergl\":[{\"type\":\"scattergl\",\"marker\":{\"colorbar\":{\"outlinewidth\":0,\"ticks\":\"\"}}}],\"scatter3d\":[{\"type\":\"scatter3d\",\"line\":{\"colorbar\":{\"outlinewidth\":0,\"ticks\":\"\"}},\"marker\":{\"colorbar\":{\"outlinewidth\":0,\"ticks\":\"\"}}}],\"scattermapbox\":[{\"type\":\"scattermapbox\",\"marker\":{\"colorbar\":{\"outlinewidth\":0,\"ticks\":\"\"}}}],\"scatterternary\":[{\"type\":\"scatterternary\",\"marker\":{\"colorbar\":{\"outlinewidth\":0,\"ticks\":\"\"}}}],\"scattercarpet\":[{\"type\":\"scattercarpet\",\"marker\":{\"colorbar\":{\"outlinewidth\":0,\"ticks\":\"\"}}}],\"carpet\":[{\"aaxis\":{\"endlinecolor\":\"#2a3f5f\",\"gridcolor\":\"white\",\"linecolor\":\"white\",\"minorgridcolor\":\"white\",\"startlinecolor\":\"#2a3f5f\"},\"baxis\":{\"endlinecolor\":\"#2a3f5f\",\"gridcolor\":\"white\",\"linecolor\":\"white\",\"minorgridcolor\":\"white\",\"startlinecolor\":\"#2a3f5f\"},\"type\":\"carpet\"}],\"table\":[{\"cells\":{\"fill\":{\"color\":\"#EBF0F8\"},\"line\":{\"color\":\"white\"}},\"header\":{\"fill\":{\"color\":\"#C8D4E3\"},\"line\":{\"color\":\"white\"}},\"type\":\"table\"}],\"barpolar\":[{\"marker\":{\"line\":{\"color\":\"#E5ECF6\",\"width\":0.5},\"pattern\":{\"fillmode\":\"overlay\",\"size\":10,\"solidity\":0.2}},\"type\":\"barpolar\"}],\"pie\":[{\"automargin\":true,\"type\":\"pie\"}]},\"layout\":{\"autotypenumbers\":\"strict\",\"colorway\":[\"#636efa\",\"#EF553B\",\"#00cc96\",\"#ab63fa\",\"#FFA15A\",\"#19d3f3\",\"#FF6692\",\"#B6E880\",\"#FF97FF\",\"#FECB52\"],\"font\":{\"color\":\"#2a3f5f\"},\"hovermode\":\"closest\",\"hoverlabel\":{\"align\":\"left\"},\"paper_bgcolor\":\"white\",\"plot_bgcolor\":\"#E5ECF6\",\"polar\":{\"bgcolor\":\"#E5ECF6\",\"angularaxis\":{\"gridcolor\":\"white\",\"linecolor\":\"white\",\"ticks\":\"\"},\"radialaxis\":{\"gridcolor\":\"white\",\"linecolor\":\"white\",\"ticks\":\"\"}},\"ternary\":{\"bgcolor\":\"#E5ECF6\",\"aaxis\":{\"gridcolor\":\"white\",\"linecolor\":\"white\",\"ticks\":\"\"},\"baxis\":{\"gridcolor\":\"white\",\"linecolor\":\"white\",\"ticks\":\"\"},\"caxis\":{\"gridcolor\":\"white\",\"linecolor\":\"white\",\"ticks\":\"\"}},\"coloraxis\":{\"colorbar\":{\"outlinewidth\":0,\"ticks\":\"\"}},\"colorscale\":{\"sequential\":[[0.0,\"#0d0887\"],[0.1111111111111111,\"#46039f\"],[0.2222222222222222,\"#7201a8\"],[0.3333333333333333,\"#9c179e\"],[0.4444444444444444,\"#bd3786\"],[0.5555555555555556,\"#d8576b\"],[0.6666666666666666,\"#ed7953\"],[0.7777777777777778,\"#fb9f3a\"],[0.8888888888888888,\"#fdca26\"],[1.0,\"#f0f921\"]],\"sequentialminus\":[[0.0,\"#0d0887\"],[0.1111111111111111,\"#46039f\"],[0.2222222222222222,\"#7201a8\"],[0.3333333333333333,\"#9c179e\"],[0.4444444444444444,\"#bd3786\"],[0.5555555555555556,\"#d8576b\"],[0.6666666666666666,\"#ed7953\"],[0.7777777777777778,\"#fb9f3a\"],[0.8888888888888888,\"#fdca26\"],[1.0,\"#f0f921\"]],\"diverging\":[[0,\"#8e0152\"],[0.1,\"#c51b7d\"],[0.2,\"#de77ae\"],[0.3,\"#f1b6da\"],[0.4,\"#fde0ef\"],[0.5,\"#f7f7f7\"],[0.6,\"#e6f5d0\"],[0.7,\"#b8e186\"],[0.8,\"#7fbc41\"],[0.9,\"#4d9221\"],[1,\"#276419\"]]},\"xaxis\":{\"gridcolor\":\"white\",\"linecolor\":\"white\",\"ticks\":\"\",\"title\":{\"standoff\":15},\"zerolinecolor\":\"white\",\"automargin\":true,\"zerolinewidth\":2},\"yaxis\":{\"gridcolor\":\"white\",\"linecolor\":\"white\",\"ticks\":\"\",\"title\":{\"standoff\":15},\"zerolinecolor\":\"white\",\"automargin\":true,\"zerolinewidth\":2},\"scene\":{\"xaxis\":{\"backgroundcolor\":\"#E5ECF6\",\"gridcolor\":\"white\",\"linecolor\":\"white\",\"showbackground\":true,\"ticks\":\"\",\"zerolinecolor\":\"white\",\"gridwidth\":2},\"yaxis\":{\"backgroundcolor\":\"#E5ECF6\",\"gridcolor\":\"white\",\"linecolor\":\"white\",\"showbackground\":true,\"ticks\":\"\",\"zerolinecolor\":\"white\",\"gridwidth\":2},\"zaxis\":{\"backgroundcolor\":\"#E5ECF6\",\"gridcolor\":\"white\",\"linecolor\":\"white\",\"showbackground\":true,\"ticks\":\"\",\"zerolinecolor\":\"white\",\"gridwidth\":2}},\"shapedefaults\":{\"line\":{\"color\":\"#2a3f5f\"}},\"annotationdefaults\":{\"arrowcolor\":\"#2a3f5f\",\"arrowhead\":0,\"arrowwidth\":1},\"geo\":{\"bgcolor\":\"white\",\"landcolor\":\"#E5ECF6\",\"subunitcolor\":\"white\",\"showland\":true,\"showlakes\":true,\"lakecolor\":\"white\"},\"title\":{\"x\":0.05},\"mapbox\":{\"style\":\"light\"}}},\"xaxis\":{\"anchor\":\"y\",\"domain\":[0.0,1.0],\"title\":{\"text\":\"Porcentagem dos votos\"}},\"yaxis\":{\"anchor\":\"x\",\"domain\":[0.0,1.0],\"title\":{\"text\":\"\"},\"autorange\":\"reversed\"},\"legend\":{\"title\":{\"text\":\"Candidatos\"},\"tracegroupgap\":0},\"title\":{\"text\":\"Porcentagem dos votos por candidato para cada intervalo de urbaniza\\u00e7\\u00e3o dos munic\\u00edpios\",\"x\":0.5},\"barmode\":\"relative\"},                        {\"responsive\": true}                    ).then(function(){\n",
              "                            \n",
              "var gd = document.getElementById('f1811e11-4b7f-409e-816f-3014f92e00a1');\n",
              "var x = new MutationObserver(function (mutations, observer) {{\n",
              "        var display = window.getComputedStyle(gd).display;\n",
              "        if (!display || display === 'none') {{\n",
              "            console.log([gd, 'removed!']);\n",
              "            Plotly.purge(gd);\n",
              "            observer.disconnect();\n",
              "        }}\n",
              "}});\n",
              "\n",
              "// Listen for the removal of the full notebook cells\n",
              "var notebookContainer = gd.closest('#notebook-container');\n",
              "if (notebookContainer) {{\n",
              "    x.observe(notebookContainer, {childList: true});\n",
              "}}\n",
              "\n",
              "// Listen for the clearing of the current output cell\n",
              "var outputEl = gd.closest('.output');\n",
              "if (outputEl) {{\n",
              "    x.observe(outputEl, {childList: true});\n",
              "}}\n",
              "\n",
              "                        })                };                            </script>        </div>\n",
              "</body>\n",
              "</html>"
            ]
          },
          "metadata": {}
        }
      ]
    },
    {
      "cell_type": "markdown",
      "source": [
        "* O candidato Roberto Cláudio teve melhor desempenho eleitoral nos municípios com 40% ou mais de área urbanizada. Mais uma vez é importante lembrar que ele foi prefeito da capital cearense.\n",
        "\n",
        "* O candidato Elmano de Freitas teve desempenho eleitoral próximo entre os municípios os intervalos menores que 40% de área urbanizada. Em municípios mais urbanizados o candidato Wagner Sousa ultrapassou Elmano de Freitas."
      ],
      "metadata": {
        "id": "0jiAWDzjtN6w"
      }
    },
    {
      "cell_type": "code",
      "source": [
        "votos_totais_por_municipio = votacao_ce.query('ds_cargo == \"GOVERNADOR\"').groupby('nm_municipio')['qt_votos'].sum()\n",
        "votos_totais_por_municipio = dict(votos_totais_por_municipio)"
      ],
      "metadata": {
        "id": "h8V-BWDAvhpN"
      },
      "execution_count": 82,
      "outputs": []
    },
    {
      "cell_type": "code",
      "source": [
        "list(votos_totais_por_municipio.items())[:5]"
      ],
      "metadata": {
        "colab": {
          "base_uri": "https://localhost:8080/"
        },
        "id": "7m6Ex7Y0wIAG",
        "outputId": "415dce81-7e58-4516-da77-0f8d41b60ab3"
      },
      "execution_count": 83,
      "outputs": [
        {
          "output_type": "execute_result",
          "data": {
            "text/plain": [
              "[('ABAIARA', 5918),\n",
              " ('ACARAPE', 10026),\n",
              " ('ACARAÚ', 36725),\n",
              " ('ACOPIARA', 30972),\n",
              " ('AIUABA', 8661)]"
            ]
          },
          "metadata": {},
          "execution_count": 83
        }
      ]
    },
    {
      "cell_type": "code",
      "source": [
        "votos_por_municipio.head()"
      ],
      "metadata": {
        "colab": {
          "base_uri": "https://localhost:8080/",
          "height": 478
        },
        "id": "IOapyidB0TPE",
        "outputId": "b09aba76-d7ac-4ba4-d35d-5084a1af1764"
      },
      "execution_count": 84,
      "outputs": [
        {
          "output_type": "execute_result",
          "data": {
            "text/plain": [
              "  nm_municipio                          nm_votavel  qt_votos  area_territorio  \\\n",
              "0      ABAIARA          ELMANO DE FREITAS DA COSTA      4182          180.833   \n",
              "1      ABAIARA  FRANCISCO RAIMUNDO MALTA DE ARAÚJO         7          180.833   \n",
              "2      ABAIARA                   JOSÉ BATISTA NETO         1          180.833   \n",
              "3      ABAIARA   ROBERTO CLÁUDIO RODRIGUES BEZERRA       353          180.833   \n",
              "4      ABAIARA                SERLEY DE SOUSA LEAL         3          180.833   \n",
              "\n",
              "   populacao   idhm  pib_per_capita  area_urbanizada  porcentagem_urbana  \\\n",
              "0      11965  0.628         9158.04             3.19                1.76   \n",
              "1      11965  0.628         9158.04             3.19                1.76   \n",
              "2      11965  0.628         9158.04             3.19                1.76   \n",
              "3      11965  0.628         9158.04             3.19                1.76   \n",
              "4      11965  0.628         9158.04             3.19                1.76   \n",
              "\n",
              "          populacao_intervalos idhm_intervalos     pib_intervalos  \\\n",
              "0  Menos de 100 mil habitantes       IDH médio  Menos de R$ 10000   \n",
              "1  Menos de 100 mil habitantes       IDH médio  Menos de R$ 10000   \n",
              "2  Menos de 100 mil habitantes       IDH médio  Menos de R$ 10000   \n",
              "3  Menos de 100 mil habitantes       IDH médio  Menos de R$ 10000   \n",
              "4  Menos de 100 mil habitantes       IDH médio  Menos de R$ 10000   \n",
              "\n",
              "  taxa_urbanizacao_intervalos  \n",
              "0                Menos de 10%  \n",
              "1                Menos de 10%  \n",
              "2                Menos de 10%  \n",
              "3                Menos de 10%  \n",
              "4                Menos de 10%  "
            ],
            "text/html": [
              "\n",
              "  <div id=\"df-ad5c12e6-ba88-4932-8ee1-529e6257b9c9\">\n",
              "    <div class=\"colab-df-container\">\n",
              "      <div>\n",
              "<style scoped>\n",
              "    .dataframe tbody tr th:only-of-type {\n",
              "        vertical-align: middle;\n",
              "    }\n",
              "\n",
              "    .dataframe tbody tr th {\n",
              "        vertical-align: top;\n",
              "    }\n",
              "\n",
              "    .dataframe thead th {\n",
              "        text-align: right;\n",
              "    }\n",
              "</style>\n",
              "<table border=\"1\" class=\"dataframe\">\n",
              "  <thead>\n",
              "    <tr style=\"text-align: right;\">\n",
              "      <th></th>\n",
              "      <th>nm_municipio</th>\n",
              "      <th>nm_votavel</th>\n",
              "      <th>qt_votos</th>\n",
              "      <th>area_territorio</th>\n",
              "      <th>populacao</th>\n",
              "      <th>idhm</th>\n",
              "      <th>pib_per_capita</th>\n",
              "      <th>area_urbanizada</th>\n",
              "      <th>porcentagem_urbana</th>\n",
              "      <th>populacao_intervalos</th>\n",
              "      <th>idhm_intervalos</th>\n",
              "      <th>pib_intervalos</th>\n",
              "      <th>taxa_urbanizacao_intervalos</th>\n",
              "    </tr>\n",
              "  </thead>\n",
              "  <tbody>\n",
              "    <tr>\n",
              "      <th>0</th>\n",
              "      <td>ABAIARA</td>\n",
              "      <td>ELMANO DE FREITAS DA COSTA</td>\n",
              "      <td>4182</td>\n",
              "      <td>180.833</td>\n",
              "      <td>11965</td>\n",
              "      <td>0.628</td>\n",
              "      <td>9158.04</td>\n",
              "      <td>3.19</td>\n",
              "      <td>1.76</td>\n",
              "      <td>Menos de 100 mil habitantes</td>\n",
              "      <td>IDH médio</td>\n",
              "      <td>Menos de R$ 10000</td>\n",
              "      <td>Menos de 10%</td>\n",
              "    </tr>\n",
              "    <tr>\n",
              "      <th>1</th>\n",
              "      <td>ABAIARA</td>\n",
              "      <td>FRANCISCO RAIMUNDO MALTA DE ARAÚJO</td>\n",
              "      <td>7</td>\n",
              "      <td>180.833</td>\n",
              "      <td>11965</td>\n",
              "      <td>0.628</td>\n",
              "      <td>9158.04</td>\n",
              "      <td>3.19</td>\n",
              "      <td>1.76</td>\n",
              "      <td>Menos de 100 mil habitantes</td>\n",
              "      <td>IDH médio</td>\n",
              "      <td>Menos de R$ 10000</td>\n",
              "      <td>Menos de 10%</td>\n",
              "    </tr>\n",
              "    <tr>\n",
              "      <th>2</th>\n",
              "      <td>ABAIARA</td>\n",
              "      <td>JOSÉ BATISTA NETO</td>\n",
              "      <td>1</td>\n",
              "      <td>180.833</td>\n",
              "      <td>11965</td>\n",
              "      <td>0.628</td>\n",
              "      <td>9158.04</td>\n",
              "      <td>3.19</td>\n",
              "      <td>1.76</td>\n",
              "      <td>Menos de 100 mil habitantes</td>\n",
              "      <td>IDH médio</td>\n",
              "      <td>Menos de R$ 10000</td>\n",
              "      <td>Menos de 10%</td>\n",
              "    </tr>\n",
              "    <tr>\n",
              "      <th>3</th>\n",
              "      <td>ABAIARA</td>\n",
              "      <td>ROBERTO CLÁUDIO RODRIGUES BEZERRA</td>\n",
              "      <td>353</td>\n",
              "      <td>180.833</td>\n",
              "      <td>11965</td>\n",
              "      <td>0.628</td>\n",
              "      <td>9158.04</td>\n",
              "      <td>3.19</td>\n",
              "      <td>1.76</td>\n",
              "      <td>Menos de 100 mil habitantes</td>\n",
              "      <td>IDH médio</td>\n",
              "      <td>Menos de R$ 10000</td>\n",
              "      <td>Menos de 10%</td>\n",
              "    </tr>\n",
              "    <tr>\n",
              "      <th>4</th>\n",
              "      <td>ABAIARA</td>\n",
              "      <td>SERLEY DE SOUSA LEAL</td>\n",
              "      <td>3</td>\n",
              "      <td>180.833</td>\n",
              "      <td>11965</td>\n",
              "      <td>0.628</td>\n",
              "      <td>9158.04</td>\n",
              "      <td>3.19</td>\n",
              "      <td>1.76</td>\n",
              "      <td>Menos de 100 mil habitantes</td>\n",
              "      <td>IDH médio</td>\n",
              "      <td>Menos de R$ 10000</td>\n",
              "      <td>Menos de 10%</td>\n",
              "    </tr>\n",
              "  </tbody>\n",
              "</table>\n",
              "</div>\n",
              "      <button class=\"colab-df-convert\" onclick=\"convertToInteractive('df-ad5c12e6-ba88-4932-8ee1-529e6257b9c9')\"\n",
              "              title=\"Convert this dataframe to an interactive table.\"\n",
              "              style=\"display:none;\">\n",
              "        \n",
              "  <svg xmlns=\"http://www.w3.org/2000/svg\" height=\"24px\"viewBox=\"0 0 24 24\"\n",
              "       width=\"24px\">\n",
              "    <path d=\"M0 0h24v24H0V0z\" fill=\"none\"/>\n",
              "    <path d=\"M18.56 5.44l.94 2.06.94-2.06 2.06-.94-2.06-.94-.94-2.06-.94 2.06-2.06.94zm-11 1L8.5 8.5l.94-2.06 2.06-.94-2.06-.94L8.5 2.5l-.94 2.06-2.06.94zm10 10l.94 2.06.94-2.06 2.06-.94-2.06-.94-.94-2.06-.94 2.06-2.06.94z\"/><path d=\"M17.41 7.96l-1.37-1.37c-.4-.4-.92-.59-1.43-.59-.52 0-1.04.2-1.43.59L10.3 9.45l-7.72 7.72c-.78.78-.78 2.05 0 2.83L4 21.41c.39.39.9.59 1.41.59.51 0 1.02-.2 1.41-.59l7.78-7.78 2.81-2.81c.8-.78.8-2.07 0-2.86zM5.41 20L4 18.59l7.72-7.72 1.47 1.35L5.41 20z\"/>\n",
              "  </svg>\n",
              "      </button>\n",
              "      \n",
              "  <style>\n",
              "    .colab-df-container {\n",
              "      display:flex;\n",
              "      flex-wrap:wrap;\n",
              "      gap: 12px;\n",
              "    }\n",
              "\n",
              "    .colab-df-convert {\n",
              "      background-color: #E8F0FE;\n",
              "      border: none;\n",
              "      border-radius: 50%;\n",
              "      cursor: pointer;\n",
              "      display: none;\n",
              "      fill: #1967D2;\n",
              "      height: 32px;\n",
              "      padding: 0 0 0 0;\n",
              "      width: 32px;\n",
              "    }\n",
              "\n",
              "    .colab-df-convert:hover {\n",
              "      background-color: #E2EBFA;\n",
              "      box-shadow: 0px 1px 2px rgba(60, 64, 67, 0.3), 0px 1px 3px 1px rgba(60, 64, 67, 0.15);\n",
              "      fill: #174EA6;\n",
              "    }\n",
              "\n",
              "    [theme=dark] .colab-df-convert {\n",
              "      background-color: #3B4455;\n",
              "      fill: #D2E3FC;\n",
              "    }\n",
              "\n",
              "    [theme=dark] .colab-df-convert:hover {\n",
              "      background-color: #434B5C;\n",
              "      box-shadow: 0px 1px 3px 1px rgba(0, 0, 0, 0.15);\n",
              "      filter: drop-shadow(0px 1px 2px rgba(0, 0, 0, 0.3));\n",
              "      fill: #FFFFFF;\n",
              "    }\n",
              "  </style>\n",
              "\n",
              "      <script>\n",
              "        const buttonEl =\n",
              "          document.querySelector('#df-ad5c12e6-ba88-4932-8ee1-529e6257b9c9 button.colab-df-convert');\n",
              "        buttonEl.style.display =\n",
              "          google.colab.kernel.accessAllowed ? 'block' : 'none';\n",
              "\n",
              "        async function convertToInteractive(key) {\n",
              "          const element = document.querySelector('#df-ad5c12e6-ba88-4932-8ee1-529e6257b9c9');\n",
              "          const dataTable =\n",
              "            await google.colab.kernel.invokeFunction('convertToInteractive',\n",
              "                                                     [key], {});\n",
              "          if (!dataTable) return;\n",
              "\n",
              "          const docLinkHtml = 'Like what you see? Visit the ' +\n",
              "            '<a target=\"_blank\" href=https://colab.research.google.com/notebooks/data_table.ipynb>data table notebook</a>'\n",
              "            + ' to learn more about interactive tables.';\n",
              "          element.innerHTML = '';\n",
              "          dataTable['output_type'] = 'display_data';\n",
              "          await google.colab.output.renderOutput(dataTable, element);\n",
              "          const docLink = document.createElement('div');\n",
              "          docLink.innerHTML = docLinkHtml;\n",
              "          element.appendChild(docLink);\n",
              "        }\n",
              "      </script>\n",
              "    </div>\n",
              "  </div>\n",
              "  "
            ]
          },
          "metadata": {},
          "execution_count": 84
        }
      ]
    },
    {
      "cell_type": "code",
      "source": [
        "porcentagem_dos_votos = list()\n",
        "\n",
        "for index, row in votos_por_municipio.iterrows():\n",
        "  valor = round((row['qt_votos'] / votos_totais_por_municipio[row['nm_municipio']]) * 100, 2)\n",
        "  porcentagem_dos_votos.append(valor)\n",
        "\n",
        "votos_por_municipio['porcentagem_dos_votos'] = porcentagem_dos_votos"
      ],
      "metadata": {
        "id": "CM7-uflhvXrw"
      },
      "execution_count": 85,
      "outputs": []
    },
    {
      "cell_type": "code",
      "source": [
        "votos_por_municipio['densidade_populacional'] = votos_por_municipio['populacao'] / votos_por_municipio['area_territorio']"
      ],
      "metadata": {
        "id": "ah6z-V9o0PfP"
      },
      "execution_count": 86,
      "outputs": []
    },
    {
      "cell_type": "code",
      "source": [
        "import plotly.graph_objects as go\n",
        "from plotly.subplots import make_subplots"
      ],
      "metadata": {
        "id": "NoJVGL2e2BzA"
      },
      "execution_count": 87,
      "outputs": []
    },
    {
      "cell_type": "code",
      "source": [
        "fig = make_subplots(rows= 1, cols= 3, subplot_titles= ['Elmano de Freitas', 'Wagner Sousa', 'Roberto Cláudio'])\n",
        "\n",
        "fig.add_trace(\n",
        "    go.Scatter(x= votos_por_municipio.query('nm_votavel == \"ELMANO DE FREITAS DA COSTA\"')['idhm'], \n",
        "               y= votos_por_municipio.query('nm_votavel == \"ELMANO DE FREITAS DA COSTA\"')['porcentagem_dos_votos'],\n",
        "               mode= 'markers'), row= 1, col= 1\n",
        ")\n",
        "fig.add_trace(\n",
        "    go.Scatter(x= votos_por_municipio.query('nm_votavel == \"WAGNER SOUSA GOMES\"')['idhm'], \n",
        "               y= votos_por_municipio.query('nm_votavel == \"WAGNER SOUSA GOMES\"')['porcentagem_dos_votos'],\n",
        "               mode= 'markers'), row= 1, col= 2\n",
        ")\n",
        "fig.add_trace(\n",
        "    go.Scatter(x= votos_por_municipio.query('nm_votavel == \"ROBERTO CLÁUDIO RODRIGUES BEZERRA\"')['idhm'], \n",
        "               y= votos_por_municipio.query('nm_votavel == \"ROBERTO CLÁUDIO RODRIGUES BEZERRA\"')['porcentagem_dos_votos'],\n",
        "               mode= 'markers'), row= 1, col= 3\n",
        ")\n",
        "fig.update_layout(showlegend= False)\n",
        "fig.update_yaxes(title_text= 'Porcentagem dos votos', row= 1, col=1)\n",
        "fig.update_xaxes(title_text= 'IDHM', row= 1, col= 1)\n",
        "fig.update_xaxes(title_text= 'IDHM', row= 1, col= 2)\n",
        "fig.update_xaxes(title_text= 'IDHM', row= 1, col= 3)\n",
        "fig.show()"
      ],
      "metadata": {
        "colab": {
          "base_uri": "https://localhost:8080/",
          "height": 542
        },
        "id": "iQsq7QyCyuDl",
        "outputId": "838dc039-20c7-4dda-8b23-7c786540305e"
      },
      "execution_count": 88,
      "outputs": [
        {
          "output_type": "display_data",
          "data": {
            "text/html": [
              "<html>\n",
              "<head><meta charset=\"utf-8\" /></head>\n",
              "<body>\n",
              "    <div>            <script src=\"https://cdnjs.cloudflare.com/ajax/libs/mathjax/2.7.5/MathJax.js?config=TeX-AMS-MML_SVG\"></script><script type=\"text/javascript\">if (window.MathJax && window.MathJax.Hub && window.MathJax.Hub.Config) {window.MathJax.Hub.Config({SVG: {font: \"STIX-Web\"}});}</script>                <script type=\"text/javascript\">window.PlotlyConfig = {MathJaxConfig: 'local'};</script>\n",
              "        <script src=\"https://cdn.plot.ly/plotly-2.18.2.min.js\"></script>                <div id=\"71fc5dbc-258f-4021-9441-3bfdf77f75a2\" class=\"plotly-graph-div\" style=\"height:525px; width:100%;\"></div>            <script type=\"text/javascript\">                                    window.PLOTLYENV=window.PLOTLYENV || {};                                    if (document.getElementById(\"71fc5dbc-258f-4021-9441-3bfdf77f75a2\")) {                    Plotly.newPlot(                        \"71fc5dbc-258f-4021-9441-3bfdf77f75a2\",                        [{\"mode\":\"markers\",\"x\":[0.628,0.606,0.601,0.595,0.569,0.6,0.602,0.601,0.606,0.599,0.618,0.641,0.655,0.615,0.59,0.564,0.622,0.618,0.6,0.605,0.627,0.606,0.683,0.616,0.599,0.571,0.619,0.638,0.623,0.598,0.647,0.62,0.63,0.612,0.611,0.592,0.578,0.596,0.597,0.593,0.646,0.618,0.609,0.682,0.627,0.586,0.604,0.585,0.61,0.644,0.713,0.59,0.632,0.609,0.61,0.701,0.633,0.644,0.754,0.624,0.604,0.568,0.559,0.585,0.57,0.633,0.617,0.609,0.637,0.597,0.658,0.577,0.608,0.606,0.616,0.606,0.677,0.632,0.579,0.606,0.618,0.573,0.652,0.605,0.626,0.656,0.623,0.64,0.604,0.606,0.562,0.612,0.618,0.621,0.624,0.614,0.651,0.652,0.694,0.598,0.613,0.682,0.61,0.686,0.659,0.612,0.599,0.616,0.605,0.618,0.628,0.626,0.592,0.622,0.582,0.61,0.61,0.581,0.588,0.607,0.607,0.625,0.614,0.605,0.594,0.636,0.659,0.675,0.635,0.621,0.638,0.622,0.637,0.634,0.57,0.583,0.603,0.646,0.629,0.601,0.636,0.6,0.591,0.581,0.622,0.562,0.604,0.594,0.659,0.591,0.642,0.622,0.626,0.601,0.674,0.575,0.54,0.616,0.587,0.612,0.619,0.603,0.714,0.625,0.611,0.665,0.654,0.62,0.645,0.58,0.576,0.633,0.584,0.657,0.606,0.606,0.648,0.591,0.587,0.639,0.566,0.611,0.571,0.629],\"y\":[70.67,46.4,55.91,58.17,46.78,53.66,67.06,68.05,65.04,54.43,54.13,48.35,47.37,59.8,66.26,81.0,61.54,49.8,76.14,60.89,52.79,51.18,62.69,44.97,66.1,46.92,65.24,54.71,54.13,72.77,48.17,42.28,75.09,65.92,52.9,67.58,62.88,57.31,72.5,53.96,48.02,66.58,72.1,43.17,51.56,63.37,58.14,57.0,57.64,59.16,74.29,74.23,52.65,65.8,71.46,39.12,79.25,39.24,34.99,53.82,39.96,60.22,67.39,73.32,75.74,49.95,60.83,62.3,53.21,61.82,44.78,55.79,52.08,55.93,64.71,48.69,62.63,62.87,72.3,64.73,52.73,67.2,69.97,71.8,47.5,50.14,52.74,63.69,61.95,46.14,71.17,68.48,62.75,60.24,50.77,69.31,50.75,42.51,63.39,64.36,52.63,61.25,72.18,41.94,49.91,43.92,67.04,53.33,66.75,61.03,71.34,49.92,72.65,61.8,55.3,54.31,54.43,67.2,44.95,65.19,65.34,64.2,57.05,68.48,57.01,53.71,41.82,48.18,58.74,69.66,50.11,63.6,53.49,46.06,52.87,67.55,73.47,50.66,53.68,70.28,57.24,76.14,37.9,74.33,48.71,73.84,79.19,62.72,50.0,43.48,53.66,58.59,47.19,47.2,57.71,69.36,55.39,50.68,70.03,75.09,53.64,68.14,42.67,59.01,54.13,36.52,44.9,59.39,67.68,66.5,62.84,37.71,67.57,45.31,59.85,56.81,38.26,46.84,52.44,63.38,69.0,42.23,62.6,68.85],\"type\":\"scatter\",\"xaxis\":\"x\",\"yaxis\":\"y\"},{\"mode\":\"markers\",\"x\":[0.628,0.606,0.601,0.595,0.569,0.6,0.602,0.601,0.606,0.599,0.618,0.641,0.655,0.615,0.59,0.564,0.622,0.618,0.6,0.605,0.627,0.606,0.683,0.616,0.599,0.571,0.619,0.638,0.623,0.598,0.647,0.62,0.63,0.612,0.611,0.592,0.578,0.596,0.597,0.593,0.646,0.618,0.609,0.682,0.627,0.586,0.604,0.585,0.61,0.644,0.713,0.59,0.632,0.609,0.61,0.701,0.633,0.644,0.754,0.624,0.604,0.568,0.559,0.585,0.57,0.633,0.617,0.609,0.637,0.597,0.658,0.577,0.608,0.606,0.616,0.606,0.677,0.632,0.579,0.606,0.618,0.573,0.652,0.605,0.626,0.656,0.623,0.64,0.604,0.606,0.562,0.612,0.618,0.621,0.624,0.614,0.651,0.652,0.694,0.598,0.613,0.682,0.61,0.686,0.659,0.612,0.599,0.616,0.605,0.618,0.628,0.626,0.592,0.622,0.582,0.61,0.61,0.581,0.588,0.607,0.607,0.625,0.614,0.605,0.594,0.636,0.659,0.675,0.635,0.621,0.638,0.622,0.637,0.634,0.57,0.583,0.603,0.646,0.629,0.601,0.636,0.6,0.591,0.581,0.622,0.562,0.604,0.594,0.659,0.591,0.642,0.622,0.626,0.601,0.674,0.575,0.54,0.616,0.587,0.612,0.619,0.603,0.714,0.625,0.611,0.665,0.654,0.62,0.645,0.58,0.576,0.633,0.584,0.657,0.606,0.606,0.648,0.591,0.587,0.639,0.566,0.611,0.571,0.629],\"y\":[12.23,38.83,30.86,17.65,12.19,17.55,7.11,19.16,24.82,14.21,20.18,36.4,31.63,30.83,22.42,6.73,22.47,13.99,13.36,26.21,12.36,16.6,28.02,36.98,12.68,13.49,24.62,26.26,25.92,14.46,19.63,26.59,13.47,24.26,23.94,20.13,24.97,29.75,17.55,34.11,35.02,14.26,13.78,37.07,22.74,15.55,23.76,31.7,27.4,15.85,15.17,14.82,32.19,10.8,13.34,44.29,10.64,28.51,38.6,26.19,21.95,18.21,16.39,13.48,11.08,28.72,24.3,20.52,20.82,20.64,37.85,21.37,20.48,33.71,23.51,24.45,18.87,18.1,18.85,13.53,22.06,17.23,17.0,17.63,36.92,24.83,34.1,25.11,25.39,42.39,19.36,19.16,21.72,19.75,33.14,18.8,16.27,27.62,24.46,18.8,13.5,22.85,17.26,40.72,34.85,44.96,17.3,21.73,17.53,17.54,9.57,11.68,15.27,12.34,31.16,17.0,31.78,21.34,45.6,17.04,25.36,13.58,28.86,14.4,26.28,19.98,37.11,35.5,20.27,11.96,32.18,23.04,31.9,38.46,19.81,22.19,12.59,14.46,26.01,17.53,30.17,14.16,18.99,13.41,12.85,8.9,13.11,14.91,33.59,12.69,14.88,24.34,27.35,13.28,28.31,18.53,11.13,18.55,19.37,8.83,16.4,21.96,31.77,15.19,26.43,42.82,15.93,26.48,19.02,19.88,15.01,21.22,21.41,30.99,24.45,27.21,27.95,18.25,21.59,24.2,22.26,21.2,20.35,18.56],\"type\":\"scatter\",\"xaxis\":\"x2\",\"yaxis\":\"y2\"},{\"mode\":\"markers\",\"x\":[0.628,0.606,0.601,0.595,0.569,0.6,0.602,0.601,0.606,0.599,0.618,0.641,0.655,0.615,0.59,0.564,0.622,0.618,0.6,0.605,0.627,0.606,0.683,0.616,0.599,0.571,0.619,0.638,0.623,0.598,0.647,0.62,0.63,0.612,0.611,0.592,0.578,0.596,0.597,0.593,0.646,0.618,0.609,0.682,0.627,0.586,0.604,0.585,0.61,0.644,0.713,0.59,0.632,0.609,0.61,0.701,0.633,0.644,0.754,0.624,0.604,0.568,0.559,0.585,0.57,0.633,0.617,0.609,0.637,0.597,0.658,0.577,0.608,0.606,0.616,0.606,0.677,0.632,0.579,0.606,0.618,0.573,0.652,0.605,0.626,0.656,0.623,0.64,0.604,0.606,0.562,0.612,0.618,0.621,0.624,0.614,0.651,0.652,0.694,0.598,0.613,0.682,0.61,0.686,0.659,0.612,0.599,0.616,0.605,0.618,0.628,0.626,0.592,0.622,0.582,0.61,0.61,0.581,0.588,0.607,0.607,0.625,0.614,0.605,0.594,0.636,0.659,0.675,0.635,0.621,0.638,0.622,0.637,0.634,0.57,0.583,0.603,0.646,0.629,0.601,0.636,0.6,0.591,0.581,0.622,0.562,0.604,0.594,0.659,0.591,0.642,0.622,0.626,0.601,0.674,0.575,0.54,0.616,0.587,0.612,0.619,0.603,0.714,0.625,0.611,0.665,0.654,0.62,0.645,0.58,0.576,0.633,0.584,0.657,0.606,0.606,0.648,0.591,0.587,0.639,0.566,0.611,0.571,0.629],\"y\":[5.96,7.06,4.2,15.28,33.65,21.09,19.86,7.01,3.99,24.69,19.93,7.04,12.28,3.98,5.76,6.08,9.51,30.62,3.27,4.48,29.01,27.98,2.39,9.47,13.43,32.72,3.88,9.46,10.06,5.76,23.95,23.21,4.61,3.91,16.96,6.94,6.11,4.19,2.44,2.29,6.9,12.49,9.92,10.48,18.01,13.46,10.46,5.86,7.24,18.17,4.74,2.83,6.62,17.59,9.38,9.03,3.33,23.15,19.22,12.65,29.32,16.66,7.22,8.86,3.55,7.91,8.77,8.22,20.05,11.66,7.55,17.55,17.14,4.28,4.26,19.97,10.82,12.56,3.28,14.63,16.89,7.35,7.65,5.15,7.35,18.99,5.79,5.95,6.4,4.03,2.68,6.1,8.59,13.46,5.2,4.13,23.05,21.32,4.16,7.41,26.85,8.03,5.38,8.44,7.99,2.59,9.54,14.84,7.85,12.1,12.05,33.97,7.06,18.33,6.26,22.89,6.04,4.41,2.34,8.51,2.54,15.12,5.92,9.58,11.14,19.38,12.01,8.0,12.74,10.22,12.04,6.38,6.19,7.48,17.98,4.6,7.26,25.95,14.27,4.08,5.03,2.75,39.22,5.66,32.85,9.6,3.56,14.93,8.21,37.48,26.6,8.9,16.53,33.08,6.72,4.99,28.03,23.99,3.82,10.62,22.42,4.37,14.35,21.09,6.66,12.81,32.52,6.05,5.89,7.5,14.87,31.12,5.54,12.29,7.65,8.71,20.93,26.77,19.58,4.47,3.09,29.34,8.68,4.08],\"type\":\"scatter\",\"xaxis\":\"x3\",\"yaxis\":\"y3\"}],                        {\"template\":{\"data\":{\"histogram2dcontour\":[{\"type\":\"histogram2dcontour\",\"colorbar\":{\"outlinewidth\":0,\"ticks\":\"\"},\"colorscale\":[[0.0,\"#0d0887\"],[0.1111111111111111,\"#46039f\"],[0.2222222222222222,\"#7201a8\"],[0.3333333333333333,\"#9c179e\"],[0.4444444444444444,\"#bd3786\"],[0.5555555555555556,\"#d8576b\"],[0.6666666666666666,\"#ed7953\"],[0.7777777777777778,\"#fb9f3a\"],[0.8888888888888888,\"#fdca26\"],[1.0,\"#f0f921\"]]}],\"choropleth\":[{\"type\":\"choropleth\",\"colorbar\":{\"outlinewidth\":0,\"ticks\":\"\"}}],\"histogram2d\":[{\"type\":\"histogram2d\",\"colorbar\":{\"outlinewidth\":0,\"ticks\":\"\"},\"colorscale\":[[0.0,\"#0d0887\"],[0.1111111111111111,\"#46039f\"],[0.2222222222222222,\"#7201a8\"],[0.3333333333333333,\"#9c179e\"],[0.4444444444444444,\"#bd3786\"],[0.5555555555555556,\"#d8576b\"],[0.6666666666666666,\"#ed7953\"],[0.7777777777777778,\"#fb9f3a\"],[0.8888888888888888,\"#fdca26\"],[1.0,\"#f0f921\"]]}],\"heatmap\":[{\"type\":\"heatmap\",\"colorbar\":{\"outlinewidth\":0,\"ticks\":\"\"},\"colorscale\":[[0.0,\"#0d0887\"],[0.1111111111111111,\"#46039f\"],[0.2222222222222222,\"#7201a8\"],[0.3333333333333333,\"#9c179e\"],[0.4444444444444444,\"#bd3786\"],[0.5555555555555556,\"#d8576b\"],[0.6666666666666666,\"#ed7953\"],[0.7777777777777778,\"#fb9f3a\"],[0.8888888888888888,\"#fdca26\"],[1.0,\"#f0f921\"]]}],\"heatmapgl\":[{\"type\":\"heatmapgl\",\"colorbar\":{\"outlinewidth\":0,\"ticks\":\"\"},\"colorscale\":[[0.0,\"#0d0887\"],[0.1111111111111111,\"#46039f\"],[0.2222222222222222,\"#7201a8\"],[0.3333333333333333,\"#9c179e\"],[0.4444444444444444,\"#bd3786\"],[0.5555555555555556,\"#d8576b\"],[0.6666666666666666,\"#ed7953\"],[0.7777777777777778,\"#fb9f3a\"],[0.8888888888888888,\"#fdca26\"],[1.0,\"#f0f921\"]]}],\"contourcarpet\":[{\"type\":\"contourcarpet\",\"colorbar\":{\"outlinewidth\":0,\"ticks\":\"\"}}],\"contour\":[{\"type\":\"contour\",\"colorbar\":{\"outlinewidth\":0,\"ticks\":\"\"},\"colorscale\":[[0.0,\"#0d0887\"],[0.1111111111111111,\"#46039f\"],[0.2222222222222222,\"#7201a8\"],[0.3333333333333333,\"#9c179e\"],[0.4444444444444444,\"#bd3786\"],[0.5555555555555556,\"#d8576b\"],[0.6666666666666666,\"#ed7953\"],[0.7777777777777778,\"#fb9f3a\"],[0.8888888888888888,\"#fdca26\"],[1.0,\"#f0f921\"]]}],\"surface\":[{\"type\":\"surface\",\"colorbar\":{\"outlinewidth\":0,\"ticks\":\"\"},\"colorscale\":[[0.0,\"#0d0887\"],[0.1111111111111111,\"#46039f\"],[0.2222222222222222,\"#7201a8\"],[0.3333333333333333,\"#9c179e\"],[0.4444444444444444,\"#bd3786\"],[0.5555555555555556,\"#d8576b\"],[0.6666666666666666,\"#ed7953\"],[0.7777777777777778,\"#fb9f3a\"],[0.8888888888888888,\"#fdca26\"],[1.0,\"#f0f921\"]]}],\"mesh3d\":[{\"type\":\"mesh3d\",\"colorbar\":{\"outlinewidth\":0,\"ticks\":\"\"}}],\"scatter\":[{\"fillpattern\":{\"fillmode\":\"overlay\",\"size\":10,\"solidity\":0.2},\"type\":\"scatter\"}],\"parcoords\":[{\"type\":\"parcoords\",\"line\":{\"colorbar\":{\"outlinewidth\":0,\"ticks\":\"\"}}}],\"scatterpolargl\":[{\"type\":\"scatterpolargl\",\"marker\":{\"colorbar\":{\"outlinewidth\":0,\"ticks\":\"\"}}}],\"bar\":[{\"error_x\":{\"color\":\"#2a3f5f\"},\"error_y\":{\"color\":\"#2a3f5f\"},\"marker\":{\"line\":{\"color\":\"#E5ECF6\",\"width\":0.5},\"pattern\":{\"fillmode\":\"overlay\",\"size\":10,\"solidity\":0.2}},\"type\":\"bar\"}],\"scattergeo\":[{\"type\":\"scattergeo\",\"marker\":{\"colorbar\":{\"outlinewidth\":0,\"ticks\":\"\"}}}],\"scatterpolar\":[{\"type\":\"scatterpolar\",\"marker\":{\"colorbar\":{\"outlinewidth\":0,\"ticks\":\"\"}}}],\"histogram\":[{\"marker\":{\"pattern\":{\"fillmode\":\"overlay\",\"size\":10,\"solidity\":0.2}},\"type\":\"histogram\"}],\"scattergl\":[{\"type\":\"scattergl\",\"marker\":{\"colorbar\":{\"outlinewidth\":0,\"ticks\":\"\"}}}],\"scatter3d\":[{\"type\":\"scatter3d\",\"line\":{\"colorbar\":{\"outlinewidth\":0,\"ticks\":\"\"}},\"marker\":{\"colorbar\":{\"outlinewidth\":0,\"ticks\":\"\"}}}],\"scattermapbox\":[{\"type\":\"scattermapbox\",\"marker\":{\"colorbar\":{\"outlinewidth\":0,\"ticks\":\"\"}}}],\"scatterternary\":[{\"type\":\"scatterternary\",\"marker\":{\"colorbar\":{\"outlinewidth\":0,\"ticks\":\"\"}}}],\"scattercarpet\":[{\"type\":\"scattercarpet\",\"marker\":{\"colorbar\":{\"outlinewidth\":0,\"ticks\":\"\"}}}],\"carpet\":[{\"aaxis\":{\"endlinecolor\":\"#2a3f5f\",\"gridcolor\":\"white\",\"linecolor\":\"white\",\"minorgridcolor\":\"white\",\"startlinecolor\":\"#2a3f5f\"},\"baxis\":{\"endlinecolor\":\"#2a3f5f\",\"gridcolor\":\"white\",\"linecolor\":\"white\",\"minorgridcolor\":\"white\",\"startlinecolor\":\"#2a3f5f\"},\"type\":\"carpet\"}],\"table\":[{\"cells\":{\"fill\":{\"color\":\"#EBF0F8\"},\"line\":{\"color\":\"white\"}},\"header\":{\"fill\":{\"color\":\"#C8D4E3\"},\"line\":{\"color\":\"white\"}},\"type\":\"table\"}],\"barpolar\":[{\"marker\":{\"line\":{\"color\":\"#E5ECF6\",\"width\":0.5},\"pattern\":{\"fillmode\":\"overlay\",\"size\":10,\"solidity\":0.2}},\"type\":\"barpolar\"}],\"pie\":[{\"automargin\":true,\"type\":\"pie\"}]},\"layout\":{\"autotypenumbers\":\"strict\",\"colorway\":[\"#636efa\",\"#EF553B\",\"#00cc96\",\"#ab63fa\",\"#FFA15A\",\"#19d3f3\",\"#FF6692\",\"#B6E880\",\"#FF97FF\",\"#FECB52\"],\"font\":{\"color\":\"#2a3f5f\"},\"hovermode\":\"closest\",\"hoverlabel\":{\"align\":\"left\"},\"paper_bgcolor\":\"white\",\"plot_bgcolor\":\"#E5ECF6\",\"polar\":{\"bgcolor\":\"#E5ECF6\",\"angularaxis\":{\"gridcolor\":\"white\",\"linecolor\":\"white\",\"ticks\":\"\"},\"radialaxis\":{\"gridcolor\":\"white\",\"linecolor\":\"white\",\"ticks\":\"\"}},\"ternary\":{\"bgcolor\":\"#E5ECF6\",\"aaxis\":{\"gridcolor\":\"white\",\"linecolor\":\"white\",\"ticks\":\"\"},\"baxis\":{\"gridcolor\":\"white\",\"linecolor\":\"white\",\"ticks\":\"\"},\"caxis\":{\"gridcolor\":\"white\",\"linecolor\":\"white\",\"ticks\":\"\"}},\"coloraxis\":{\"colorbar\":{\"outlinewidth\":0,\"ticks\":\"\"}},\"colorscale\":{\"sequential\":[[0.0,\"#0d0887\"],[0.1111111111111111,\"#46039f\"],[0.2222222222222222,\"#7201a8\"],[0.3333333333333333,\"#9c179e\"],[0.4444444444444444,\"#bd3786\"],[0.5555555555555556,\"#d8576b\"],[0.6666666666666666,\"#ed7953\"],[0.7777777777777778,\"#fb9f3a\"],[0.8888888888888888,\"#fdca26\"],[1.0,\"#f0f921\"]],\"sequentialminus\":[[0.0,\"#0d0887\"],[0.1111111111111111,\"#46039f\"],[0.2222222222222222,\"#7201a8\"],[0.3333333333333333,\"#9c179e\"],[0.4444444444444444,\"#bd3786\"],[0.5555555555555556,\"#d8576b\"],[0.6666666666666666,\"#ed7953\"],[0.7777777777777778,\"#fb9f3a\"],[0.8888888888888888,\"#fdca26\"],[1.0,\"#f0f921\"]],\"diverging\":[[0,\"#8e0152\"],[0.1,\"#c51b7d\"],[0.2,\"#de77ae\"],[0.3,\"#f1b6da\"],[0.4,\"#fde0ef\"],[0.5,\"#f7f7f7\"],[0.6,\"#e6f5d0\"],[0.7,\"#b8e186\"],[0.8,\"#7fbc41\"],[0.9,\"#4d9221\"],[1,\"#276419\"]]},\"xaxis\":{\"gridcolor\":\"white\",\"linecolor\":\"white\",\"ticks\":\"\",\"title\":{\"standoff\":15},\"zerolinecolor\":\"white\",\"automargin\":true,\"zerolinewidth\":2},\"yaxis\":{\"gridcolor\":\"white\",\"linecolor\":\"white\",\"ticks\":\"\",\"title\":{\"standoff\":15},\"zerolinecolor\":\"white\",\"automargin\":true,\"zerolinewidth\":2},\"scene\":{\"xaxis\":{\"backgroundcolor\":\"#E5ECF6\",\"gridcolor\":\"white\",\"linecolor\":\"white\",\"showbackground\":true,\"ticks\":\"\",\"zerolinecolor\":\"white\",\"gridwidth\":2},\"yaxis\":{\"backgroundcolor\":\"#E5ECF6\",\"gridcolor\":\"white\",\"linecolor\":\"white\",\"showbackground\":true,\"ticks\":\"\",\"zerolinecolor\":\"white\",\"gridwidth\":2},\"zaxis\":{\"backgroundcolor\":\"#E5ECF6\",\"gridcolor\":\"white\",\"linecolor\":\"white\",\"showbackground\":true,\"ticks\":\"\",\"zerolinecolor\":\"white\",\"gridwidth\":2}},\"shapedefaults\":{\"line\":{\"color\":\"#2a3f5f\"}},\"annotationdefaults\":{\"arrowcolor\":\"#2a3f5f\",\"arrowhead\":0,\"arrowwidth\":1},\"geo\":{\"bgcolor\":\"white\",\"landcolor\":\"#E5ECF6\",\"subunitcolor\":\"white\",\"showland\":true,\"showlakes\":true,\"lakecolor\":\"white\"},\"title\":{\"x\":0.05},\"mapbox\":{\"style\":\"light\"}}},\"xaxis\":{\"anchor\":\"y\",\"domain\":[0.0,0.2888888888888889],\"title\":{\"text\":\"IDHM\"}},\"yaxis\":{\"anchor\":\"x\",\"domain\":[0.0,1.0],\"title\":{\"text\":\"Porcentagem dos votos\"}},\"xaxis2\":{\"anchor\":\"y2\",\"domain\":[0.35555555555555557,0.6444444444444445],\"title\":{\"text\":\"IDHM\"}},\"yaxis2\":{\"anchor\":\"x2\",\"domain\":[0.0,1.0]},\"xaxis3\":{\"anchor\":\"y3\",\"domain\":[0.7111111111111111,1.0],\"title\":{\"text\":\"IDHM\"}},\"yaxis3\":{\"anchor\":\"x3\",\"domain\":[0.0,1.0]},\"annotations\":[{\"font\":{\"size\":16},\"showarrow\":false,\"text\":\"Elmano de Freitas\",\"x\":0.14444444444444446,\"xanchor\":\"center\",\"xref\":\"paper\",\"y\":1.0,\"yanchor\":\"bottom\",\"yref\":\"paper\"},{\"font\":{\"size\":16},\"showarrow\":false,\"text\":\"Wagner Sousa\",\"x\":0.5,\"xanchor\":\"center\",\"xref\":\"paper\",\"y\":1.0,\"yanchor\":\"bottom\",\"yref\":\"paper\"},{\"font\":{\"size\":16},\"showarrow\":false,\"text\":\"Roberto Cl\\u00e1udio\",\"x\":0.8555555555555556,\"xanchor\":\"center\",\"xref\":\"paper\",\"y\":1.0,\"yanchor\":\"bottom\",\"yref\":\"paper\"}],\"showlegend\":false},                        {\"responsive\": true}                    ).then(function(){\n",
              "                            \n",
              "var gd = document.getElementById('71fc5dbc-258f-4021-9441-3bfdf77f75a2');\n",
              "var x = new MutationObserver(function (mutations, observer) {{\n",
              "        var display = window.getComputedStyle(gd).display;\n",
              "        if (!display || display === 'none') {{\n",
              "            console.log([gd, 'removed!']);\n",
              "            Plotly.purge(gd);\n",
              "            observer.disconnect();\n",
              "        }}\n",
              "}});\n",
              "\n",
              "// Listen for the removal of the full notebook cells\n",
              "var notebookContainer = gd.closest('#notebook-container');\n",
              "if (notebookContainer) {{\n",
              "    x.observe(notebookContainer, {childList: true});\n",
              "}}\n",
              "\n",
              "// Listen for the clearing of the current output cell\n",
              "var outputEl = gd.closest('.output');\n",
              "if (outputEl) {{\n",
              "    x.observe(outputEl, {childList: true});\n",
              "}}\n",
              "\n",
              "                        })                };                            </script>        </div>\n",
              "</body>\n",
              "</html>"
            ]
          },
          "metadata": {}
        }
      ]
    },
    {
      "cell_type": "code",
      "source": [
        "fig = make_subplots(rows= 1, cols= 3, subplot_titles= ['Elmano de Freitas', 'Wagner Sousa', 'Roberto Cláudio'])\n",
        "\n",
        "fig.add_trace(\n",
        "    go.Scatter(x= votos_por_municipio.query('nm_votavel == \"ELMANO DE FREITAS DA COSTA\"')['pib_per_capita'], \n",
        "               y= votos_por_municipio.query('nm_votavel == \"ELMANO DE FREITAS DA COSTA\"')['porcentagem_dos_votos'],\n",
        "               mode= 'markers'), row= 1, col= 1\n",
        ")\n",
        "fig.add_trace(\n",
        "    go.Scatter(x= votos_por_municipio.query('nm_votavel == \"WAGNER SOUSA GOMES\"')['pib_per_capita'], \n",
        "               y= votos_por_municipio.query('nm_votavel == \"WAGNER SOUSA GOMES\"')['porcentagem_dos_votos'],\n",
        "               mode= 'markers'), row= 1, col= 2\n",
        ")\n",
        "fig.add_trace(\n",
        "    go.Scatter(x= votos_por_municipio.query('nm_votavel == \"ROBERTO CLÁUDIO RODRIGUES BEZERRA\"')['pib_per_capita'], \n",
        "               y= votos_por_municipio.query('nm_votavel == \"ROBERTO CLÁUDIO RODRIGUES BEZERRA\"')['porcentagem_dos_votos'],\n",
        "               mode= 'markers'), row= 1, col= 3\n",
        ")\n",
        "fig.update_layout(showlegend= False)\n",
        "fig.update_yaxes(title_text= 'Porcentagem dos votos', row= 1, col=1)\n",
        "fig.update_xaxes(title_text= 'IDHM', row= 1, col= 1)\n",
        "fig.update_xaxes(title_text= 'IDHM', row= 1, col= 2)\n",
        "fig.update_xaxes(title_text= 'IDHM', row= 1, col= 3)\n",
        "fig.show()"
      ],
      "metadata": {
        "colab": {
          "base_uri": "https://localhost:8080/",
          "height": 542
        },
        "id": "TP1EFLHODBVi",
        "outputId": "a154be46-5d9a-4fdc-8605-395ce71c08e3"
      },
      "execution_count": 89,
      "outputs": [
        {
          "output_type": "display_data",
          "data": {
            "text/html": [
              "<html>\n",
              "<head><meta charset=\"utf-8\" /></head>\n",
              "<body>\n",
              "    <div>            <script src=\"https://cdnjs.cloudflare.com/ajax/libs/mathjax/2.7.5/MathJax.js?config=TeX-AMS-MML_SVG\"></script><script type=\"text/javascript\">if (window.MathJax && window.MathJax.Hub && window.MathJax.Hub.Config) {window.MathJax.Hub.Config({SVG: {font: \"STIX-Web\"}});}</script>                <script type=\"text/javascript\">window.PlotlyConfig = {MathJaxConfig: 'local'};</script>\n",
              "        <script src=\"https://cdn.plot.ly/plotly-2.18.2.min.js\"></script>                <div id=\"1ae3ebb0-1944-4222-9cd4-dc921a1fba57\" class=\"plotly-graph-div\" style=\"height:525px; width:100%;\"></div>            <script type=\"text/javascript\">                                    window.PLOTLYENV=window.PLOTLYENV || {};                                    if (document.getElementById(\"1ae3ebb0-1944-4222-9cd4-dc921a1fba57\")) {                    Plotly.newPlot(                        \"1ae3ebb0-1944-4222-9cd4-dc921a1fba57\",                        [{\"mode\":\"markers\",\"x\":[9158.04,10317.47,13261.89,9432.25,8642.9,7674.08,8560.21,11725.03,12195.24,9279.79,7642.48,42147.15,19713.63,9885.68,8097.17,8762.18,13301.76,8467.35,11597.22,8649.66,10232.14,11453.61,19552.45,9089.71,9940.27,8169.54,11616.09,17933.94,8152.92,9284.37,14200.26,11558.46,11256.58,12879.01,10611.27,7855.74,9186.37,9460.38,8778.94,8613.36,13215.06,6695.21,10064.47,19873.31,8835.04,7770.61,16662.27,12734.33,8215.03,11910.99,12922.73,11348.0,11839.21,9105.25,9259.84,58604.18,10748.94,10153.68,24253.93,14311.56,16530.18,10022.93,7976.43,9762.29,8107.93,8666.22,8231.8,15609.13,14182.54,8390.94,25074.33,9285.37,13413.88,8893.02,18804.37,9974.63,17001.56,11360.79,8278.73,10722.96,11170.26,8142.13,12240.15,7899.33,23330.76,9726.35,10655.6,12210.38,7944.2,16498.65,7302.96,11306.81,12327.89,16054.82,14165.41,9576.9,14536.25,21191.38,17354.57,11072.76,9065.59,20414.96,8115.58,43116.46,11511.56,12396.07,7862.38,8202.32,9811.91,7904.84,10086.12,12821.42,7289.46,12954.13,9398.42,8588.52,18928.48,8200.94,7635.05,8005.56,11284.98,10153.43,9556.58,8921.11,8912.68,9316.89,16100.81,13059.07,11105.2,8413.7,9874.25,8725.16,14633.22,14755.89,8334.36,9015.57,8675.86,12715.18,12798.17,25214.91,12189.47,8868.11,7211.45,7880.61,11189.65,9353.64,13429.39,8083.4,11973.46,10482.81,14474.59,20554.63,13216.42,9707.05,13451.37,9553.0,8826.75,12171.26,7884.31,8437.24,12366.24,7683.23,21343.1,12957.31,12371.4,83473.11,13595.79,8962.27,12346.84,9964.35,10406.07,11605.35,6958.53,21137.06,14795.09,7430.37,17903.87,8338.92,8030.88,12349.85,13874.25,19390.59,8262.9,10609.61],\"y\":[70.67,46.4,55.91,58.17,46.78,53.66,67.06,68.05,65.04,54.43,54.13,48.35,47.37,59.8,66.26,81.0,61.54,49.8,76.14,60.89,52.79,51.18,62.69,44.97,66.1,46.92,65.24,54.71,54.13,72.77,48.17,42.28,75.09,65.92,52.9,67.58,62.88,57.31,72.5,53.96,48.02,66.58,72.1,43.17,51.56,63.37,58.14,57.0,57.64,59.16,74.29,74.23,52.65,65.8,71.46,39.12,79.25,39.24,34.99,53.82,39.96,60.22,67.39,73.32,75.74,49.95,60.83,62.3,53.21,61.82,44.78,55.79,52.08,55.93,64.71,48.69,62.63,62.87,72.3,64.73,52.73,67.2,69.97,71.8,47.5,50.14,52.74,63.69,61.95,46.14,71.17,68.48,62.75,60.24,50.77,69.31,50.75,42.51,63.39,64.36,52.63,61.25,72.18,41.94,49.91,43.92,67.04,53.33,66.75,61.03,71.34,49.92,72.65,61.8,55.3,54.31,54.43,67.2,44.95,65.19,65.34,64.2,57.05,68.48,57.01,53.71,41.82,48.18,58.74,69.66,50.11,63.6,53.49,46.06,52.87,67.55,73.47,50.66,53.68,70.28,57.24,76.14,37.9,74.33,48.71,73.84,79.19,62.72,50.0,43.48,53.66,58.59,47.19,47.2,57.71,69.36,55.39,50.68,70.03,75.09,53.64,68.14,42.67,59.01,54.13,36.52,44.9,59.39,67.68,66.5,62.84,37.71,67.57,45.31,59.85,56.81,38.26,46.84,52.44,63.38,69.0,42.23,62.6,68.85],\"type\":\"scatter\",\"xaxis\":\"x\",\"yaxis\":\"y\"},{\"mode\":\"markers\",\"x\":[9158.04,10317.47,13261.89,9432.25,8642.9,7674.08,8560.21,11725.03,12195.24,9279.79,7642.48,42147.15,19713.63,9885.68,8097.17,8762.18,13301.76,8467.35,11597.22,8649.66,10232.14,11453.61,19552.45,9089.71,9940.27,8169.54,11616.09,17933.94,8152.92,9284.37,14200.26,11558.46,11256.58,12879.01,10611.27,7855.74,9186.37,9460.38,8778.94,8613.36,13215.06,6695.21,10064.47,19873.31,8835.04,7770.61,16662.27,12734.33,8215.03,11910.99,12922.73,11348.0,11839.21,9105.25,9259.84,58604.18,10748.94,10153.68,24253.93,14311.56,16530.18,10022.93,7976.43,9762.29,8107.93,8666.22,8231.8,15609.13,14182.54,8390.94,25074.33,9285.37,13413.88,8893.02,18804.37,9974.63,17001.56,11360.79,8278.73,10722.96,11170.26,8142.13,12240.15,7899.33,23330.76,9726.35,10655.6,12210.38,7944.2,16498.65,7302.96,11306.81,12327.89,16054.82,14165.41,9576.9,14536.25,21191.38,17354.57,11072.76,9065.59,20414.96,8115.58,43116.46,11511.56,12396.07,7862.38,8202.32,9811.91,7904.84,10086.12,12821.42,7289.46,12954.13,9398.42,8588.52,18928.48,8200.94,7635.05,8005.56,11284.98,10153.43,9556.58,8921.11,8912.68,9316.89,16100.81,13059.07,11105.2,8413.7,9874.25,8725.16,14633.22,14755.89,8334.36,9015.57,8675.86,12715.18,12798.17,25214.91,12189.47,8868.11,7211.45,7880.61,11189.65,9353.64,13429.39,8083.4,11973.46,10482.81,14474.59,20554.63,13216.42,9707.05,13451.37,9553.0,8826.75,12171.26,7884.31,8437.24,12366.24,7683.23,21343.1,12957.31,12371.4,83473.11,13595.79,8962.27,12346.84,9964.35,10406.07,11605.35,6958.53,21137.06,14795.09,7430.37,17903.87,8338.92,8030.88,12349.85,13874.25,19390.59,8262.9,10609.61],\"y\":[12.23,38.83,30.86,17.65,12.19,17.55,7.11,19.16,24.82,14.21,20.18,36.4,31.63,30.83,22.42,6.73,22.47,13.99,13.36,26.21,12.36,16.6,28.02,36.98,12.68,13.49,24.62,26.26,25.92,14.46,19.63,26.59,13.47,24.26,23.94,20.13,24.97,29.75,17.55,34.11,35.02,14.26,13.78,37.07,22.74,15.55,23.76,31.7,27.4,15.85,15.17,14.82,32.19,10.8,13.34,44.29,10.64,28.51,38.6,26.19,21.95,18.21,16.39,13.48,11.08,28.72,24.3,20.52,20.82,20.64,37.85,21.37,20.48,33.71,23.51,24.45,18.87,18.1,18.85,13.53,22.06,17.23,17.0,17.63,36.92,24.83,34.1,25.11,25.39,42.39,19.36,19.16,21.72,19.75,33.14,18.8,16.27,27.62,24.46,18.8,13.5,22.85,17.26,40.72,34.85,44.96,17.3,21.73,17.53,17.54,9.57,11.68,15.27,12.34,31.16,17.0,31.78,21.34,45.6,17.04,25.36,13.58,28.86,14.4,26.28,19.98,37.11,35.5,20.27,11.96,32.18,23.04,31.9,38.46,19.81,22.19,12.59,14.46,26.01,17.53,30.17,14.16,18.99,13.41,12.85,8.9,13.11,14.91,33.59,12.69,14.88,24.34,27.35,13.28,28.31,18.53,11.13,18.55,19.37,8.83,16.4,21.96,31.77,15.19,26.43,42.82,15.93,26.48,19.02,19.88,15.01,21.22,21.41,30.99,24.45,27.21,27.95,18.25,21.59,24.2,22.26,21.2,20.35,18.56],\"type\":\"scatter\",\"xaxis\":\"x2\",\"yaxis\":\"y2\"},{\"mode\":\"markers\",\"x\":[9158.04,10317.47,13261.89,9432.25,8642.9,7674.08,8560.21,11725.03,12195.24,9279.79,7642.48,42147.15,19713.63,9885.68,8097.17,8762.18,13301.76,8467.35,11597.22,8649.66,10232.14,11453.61,19552.45,9089.71,9940.27,8169.54,11616.09,17933.94,8152.92,9284.37,14200.26,11558.46,11256.58,12879.01,10611.27,7855.74,9186.37,9460.38,8778.94,8613.36,13215.06,6695.21,10064.47,19873.31,8835.04,7770.61,16662.27,12734.33,8215.03,11910.99,12922.73,11348.0,11839.21,9105.25,9259.84,58604.18,10748.94,10153.68,24253.93,14311.56,16530.18,10022.93,7976.43,9762.29,8107.93,8666.22,8231.8,15609.13,14182.54,8390.94,25074.33,9285.37,13413.88,8893.02,18804.37,9974.63,17001.56,11360.79,8278.73,10722.96,11170.26,8142.13,12240.15,7899.33,23330.76,9726.35,10655.6,12210.38,7944.2,16498.65,7302.96,11306.81,12327.89,16054.82,14165.41,9576.9,14536.25,21191.38,17354.57,11072.76,9065.59,20414.96,8115.58,43116.46,11511.56,12396.07,7862.38,8202.32,9811.91,7904.84,10086.12,12821.42,7289.46,12954.13,9398.42,8588.52,18928.48,8200.94,7635.05,8005.56,11284.98,10153.43,9556.58,8921.11,8912.68,9316.89,16100.81,13059.07,11105.2,8413.7,9874.25,8725.16,14633.22,14755.89,8334.36,9015.57,8675.86,12715.18,12798.17,25214.91,12189.47,8868.11,7211.45,7880.61,11189.65,9353.64,13429.39,8083.4,11973.46,10482.81,14474.59,20554.63,13216.42,9707.05,13451.37,9553.0,8826.75,12171.26,7884.31,8437.24,12366.24,7683.23,21343.1,12957.31,12371.4,83473.11,13595.79,8962.27,12346.84,9964.35,10406.07,11605.35,6958.53,21137.06,14795.09,7430.37,17903.87,8338.92,8030.88,12349.85,13874.25,19390.59,8262.9,10609.61],\"y\":[5.96,7.06,4.2,15.28,33.65,21.09,19.86,7.01,3.99,24.69,19.93,7.04,12.28,3.98,5.76,6.08,9.51,30.62,3.27,4.48,29.01,27.98,2.39,9.47,13.43,32.72,3.88,9.46,10.06,5.76,23.95,23.21,4.61,3.91,16.96,6.94,6.11,4.19,2.44,2.29,6.9,12.49,9.92,10.48,18.01,13.46,10.46,5.86,7.24,18.17,4.74,2.83,6.62,17.59,9.38,9.03,3.33,23.15,19.22,12.65,29.32,16.66,7.22,8.86,3.55,7.91,8.77,8.22,20.05,11.66,7.55,17.55,17.14,4.28,4.26,19.97,10.82,12.56,3.28,14.63,16.89,7.35,7.65,5.15,7.35,18.99,5.79,5.95,6.4,4.03,2.68,6.1,8.59,13.46,5.2,4.13,23.05,21.32,4.16,7.41,26.85,8.03,5.38,8.44,7.99,2.59,9.54,14.84,7.85,12.1,12.05,33.97,7.06,18.33,6.26,22.89,6.04,4.41,2.34,8.51,2.54,15.12,5.92,9.58,11.14,19.38,12.01,8.0,12.74,10.22,12.04,6.38,6.19,7.48,17.98,4.6,7.26,25.95,14.27,4.08,5.03,2.75,39.22,5.66,32.85,9.6,3.56,14.93,8.21,37.48,26.6,8.9,16.53,33.08,6.72,4.99,28.03,23.99,3.82,10.62,22.42,4.37,14.35,21.09,6.66,12.81,32.52,6.05,5.89,7.5,14.87,31.12,5.54,12.29,7.65,8.71,20.93,26.77,19.58,4.47,3.09,29.34,8.68,4.08],\"type\":\"scatter\",\"xaxis\":\"x3\",\"yaxis\":\"y3\"}],                        {\"template\":{\"data\":{\"histogram2dcontour\":[{\"type\":\"histogram2dcontour\",\"colorbar\":{\"outlinewidth\":0,\"ticks\":\"\"},\"colorscale\":[[0.0,\"#0d0887\"],[0.1111111111111111,\"#46039f\"],[0.2222222222222222,\"#7201a8\"],[0.3333333333333333,\"#9c179e\"],[0.4444444444444444,\"#bd3786\"],[0.5555555555555556,\"#d8576b\"],[0.6666666666666666,\"#ed7953\"],[0.7777777777777778,\"#fb9f3a\"],[0.8888888888888888,\"#fdca26\"],[1.0,\"#f0f921\"]]}],\"choropleth\":[{\"type\":\"choropleth\",\"colorbar\":{\"outlinewidth\":0,\"ticks\":\"\"}}],\"histogram2d\":[{\"type\":\"histogram2d\",\"colorbar\":{\"outlinewidth\":0,\"ticks\":\"\"},\"colorscale\":[[0.0,\"#0d0887\"],[0.1111111111111111,\"#46039f\"],[0.2222222222222222,\"#7201a8\"],[0.3333333333333333,\"#9c179e\"],[0.4444444444444444,\"#bd3786\"],[0.5555555555555556,\"#d8576b\"],[0.6666666666666666,\"#ed7953\"],[0.7777777777777778,\"#fb9f3a\"],[0.8888888888888888,\"#fdca26\"],[1.0,\"#f0f921\"]]}],\"heatmap\":[{\"type\":\"heatmap\",\"colorbar\":{\"outlinewidth\":0,\"ticks\":\"\"},\"colorscale\":[[0.0,\"#0d0887\"],[0.1111111111111111,\"#46039f\"],[0.2222222222222222,\"#7201a8\"],[0.3333333333333333,\"#9c179e\"],[0.4444444444444444,\"#bd3786\"],[0.5555555555555556,\"#d8576b\"],[0.6666666666666666,\"#ed7953\"],[0.7777777777777778,\"#fb9f3a\"],[0.8888888888888888,\"#fdca26\"],[1.0,\"#f0f921\"]]}],\"heatmapgl\":[{\"type\":\"heatmapgl\",\"colorbar\":{\"outlinewidth\":0,\"ticks\":\"\"},\"colorscale\":[[0.0,\"#0d0887\"],[0.1111111111111111,\"#46039f\"],[0.2222222222222222,\"#7201a8\"],[0.3333333333333333,\"#9c179e\"],[0.4444444444444444,\"#bd3786\"],[0.5555555555555556,\"#d8576b\"],[0.6666666666666666,\"#ed7953\"],[0.7777777777777778,\"#fb9f3a\"],[0.8888888888888888,\"#fdca26\"],[1.0,\"#f0f921\"]]}],\"contourcarpet\":[{\"type\":\"contourcarpet\",\"colorbar\":{\"outlinewidth\":0,\"ticks\":\"\"}}],\"contour\":[{\"type\":\"contour\",\"colorbar\":{\"outlinewidth\":0,\"ticks\":\"\"},\"colorscale\":[[0.0,\"#0d0887\"],[0.1111111111111111,\"#46039f\"],[0.2222222222222222,\"#7201a8\"],[0.3333333333333333,\"#9c179e\"],[0.4444444444444444,\"#bd3786\"],[0.5555555555555556,\"#d8576b\"],[0.6666666666666666,\"#ed7953\"],[0.7777777777777778,\"#fb9f3a\"],[0.8888888888888888,\"#fdca26\"],[1.0,\"#f0f921\"]]}],\"surface\":[{\"type\":\"surface\",\"colorbar\":{\"outlinewidth\":0,\"ticks\":\"\"},\"colorscale\":[[0.0,\"#0d0887\"],[0.1111111111111111,\"#46039f\"],[0.2222222222222222,\"#7201a8\"],[0.3333333333333333,\"#9c179e\"],[0.4444444444444444,\"#bd3786\"],[0.5555555555555556,\"#d8576b\"],[0.6666666666666666,\"#ed7953\"],[0.7777777777777778,\"#fb9f3a\"],[0.8888888888888888,\"#fdca26\"],[1.0,\"#f0f921\"]]}],\"mesh3d\":[{\"type\":\"mesh3d\",\"colorbar\":{\"outlinewidth\":0,\"ticks\":\"\"}}],\"scatter\":[{\"fillpattern\":{\"fillmode\":\"overlay\",\"size\":10,\"solidity\":0.2},\"type\":\"scatter\"}],\"parcoords\":[{\"type\":\"parcoords\",\"line\":{\"colorbar\":{\"outlinewidth\":0,\"ticks\":\"\"}}}],\"scatterpolargl\":[{\"type\":\"scatterpolargl\",\"marker\":{\"colorbar\":{\"outlinewidth\":0,\"ticks\":\"\"}}}],\"bar\":[{\"error_x\":{\"color\":\"#2a3f5f\"},\"error_y\":{\"color\":\"#2a3f5f\"},\"marker\":{\"line\":{\"color\":\"#E5ECF6\",\"width\":0.5},\"pattern\":{\"fillmode\":\"overlay\",\"size\":10,\"solidity\":0.2}},\"type\":\"bar\"}],\"scattergeo\":[{\"type\":\"scattergeo\",\"marker\":{\"colorbar\":{\"outlinewidth\":0,\"ticks\":\"\"}}}],\"scatterpolar\":[{\"type\":\"scatterpolar\",\"marker\":{\"colorbar\":{\"outlinewidth\":0,\"ticks\":\"\"}}}],\"histogram\":[{\"marker\":{\"pattern\":{\"fillmode\":\"overlay\",\"size\":10,\"solidity\":0.2}},\"type\":\"histogram\"}],\"scattergl\":[{\"type\":\"scattergl\",\"marker\":{\"colorbar\":{\"outlinewidth\":0,\"ticks\":\"\"}}}],\"scatter3d\":[{\"type\":\"scatter3d\",\"line\":{\"colorbar\":{\"outlinewidth\":0,\"ticks\":\"\"}},\"marker\":{\"colorbar\":{\"outlinewidth\":0,\"ticks\":\"\"}}}],\"scattermapbox\":[{\"type\":\"scattermapbox\",\"marker\":{\"colorbar\":{\"outlinewidth\":0,\"ticks\":\"\"}}}],\"scatterternary\":[{\"type\":\"scatterternary\",\"marker\":{\"colorbar\":{\"outlinewidth\":0,\"ticks\":\"\"}}}],\"scattercarpet\":[{\"type\":\"scattercarpet\",\"marker\":{\"colorbar\":{\"outlinewidth\":0,\"ticks\":\"\"}}}],\"carpet\":[{\"aaxis\":{\"endlinecolor\":\"#2a3f5f\",\"gridcolor\":\"white\",\"linecolor\":\"white\",\"minorgridcolor\":\"white\",\"startlinecolor\":\"#2a3f5f\"},\"baxis\":{\"endlinecolor\":\"#2a3f5f\",\"gridcolor\":\"white\",\"linecolor\":\"white\",\"minorgridcolor\":\"white\",\"startlinecolor\":\"#2a3f5f\"},\"type\":\"carpet\"}],\"table\":[{\"cells\":{\"fill\":{\"color\":\"#EBF0F8\"},\"line\":{\"color\":\"white\"}},\"header\":{\"fill\":{\"color\":\"#C8D4E3\"},\"line\":{\"color\":\"white\"}},\"type\":\"table\"}],\"barpolar\":[{\"marker\":{\"line\":{\"color\":\"#E5ECF6\",\"width\":0.5},\"pattern\":{\"fillmode\":\"overlay\",\"size\":10,\"solidity\":0.2}},\"type\":\"barpolar\"}],\"pie\":[{\"automargin\":true,\"type\":\"pie\"}]},\"layout\":{\"autotypenumbers\":\"strict\",\"colorway\":[\"#636efa\",\"#EF553B\",\"#00cc96\",\"#ab63fa\",\"#FFA15A\",\"#19d3f3\",\"#FF6692\",\"#B6E880\",\"#FF97FF\",\"#FECB52\"],\"font\":{\"color\":\"#2a3f5f\"},\"hovermode\":\"closest\",\"hoverlabel\":{\"align\":\"left\"},\"paper_bgcolor\":\"white\",\"plot_bgcolor\":\"#E5ECF6\",\"polar\":{\"bgcolor\":\"#E5ECF6\",\"angularaxis\":{\"gridcolor\":\"white\",\"linecolor\":\"white\",\"ticks\":\"\"},\"radialaxis\":{\"gridcolor\":\"white\",\"linecolor\":\"white\",\"ticks\":\"\"}},\"ternary\":{\"bgcolor\":\"#E5ECF6\",\"aaxis\":{\"gridcolor\":\"white\",\"linecolor\":\"white\",\"ticks\":\"\"},\"baxis\":{\"gridcolor\":\"white\",\"linecolor\":\"white\",\"ticks\":\"\"},\"caxis\":{\"gridcolor\":\"white\",\"linecolor\":\"white\",\"ticks\":\"\"}},\"coloraxis\":{\"colorbar\":{\"outlinewidth\":0,\"ticks\":\"\"}},\"colorscale\":{\"sequential\":[[0.0,\"#0d0887\"],[0.1111111111111111,\"#46039f\"],[0.2222222222222222,\"#7201a8\"],[0.3333333333333333,\"#9c179e\"],[0.4444444444444444,\"#bd3786\"],[0.5555555555555556,\"#d8576b\"],[0.6666666666666666,\"#ed7953\"],[0.7777777777777778,\"#fb9f3a\"],[0.8888888888888888,\"#fdca26\"],[1.0,\"#f0f921\"]],\"sequentialminus\":[[0.0,\"#0d0887\"],[0.1111111111111111,\"#46039f\"],[0.2222222222222222,\"#7201a8\"],[0.3333333333333333,\"#9c179e\"],[0.4444444444444444,\"#bd3786\"],[0.5555555555555556,\"#d8576b\"],[0.6666666666666666,\"#ed7953\"],[0.7777777777777778,\"#fb9f3a\"],[0.8888888888888888,\"#fdca26\"],[1.0,\"#f0f921\"]],\"diverging\":[[0,\"#8e0152\"],[0.1,\"#c51b7d\"],[0.2,\"#de77ae\"],[0.3,\"#f1b6da\"],[0.4,\"#fde0ef\"],[0.5,\"#f7f7f7\"],[0.6,\"#e6f5d0\"],[0.7,\"#b8e186\"],[0.8,\"#7fbc41\"],[0.9,\"#4d9221\"],[1,\"#276419\"]]},\"xaxis\":{\"gridcolor\":\"white\",\"linecolor\":\"white\",\"ticks\":\"\",\"title\":{\"standoff\":15},\"zerolinecolor\":\"white\",\"automargin\":true,\"zerolinewidth\":2},\"yaxis\":{\"gridcolor\":\"white\",\"linecolor\":\"white\",\"ticks\":\"\",\"title\":{\"standoff\":15},\"zerolinecolor\":\"white\",\"automargin\":true,\"zerolinewidth\":2},\"scene\":{\"xaxis\":{\"backgroundcolor\":\"#E5ECF6\",\"gridcolor\":\"white\",\"linecolor\":\"white\",\"showbackground\":true,\"ticks\":\"\",\"zerolinecolor\":\"white\",\"gridwidth\":2},\"yaxis\":{\"backgroundcolor\":\"#E5ECF6\",\"gridcolor\":\"white\",\"linecolor\":\"white\",\"showbackground\":true,\"ticks\":\"\",\"zerolinecolor\":\"white\",\"gridwidth\":2},\"zaxis\":{\"backgroundcolor\":\"#E5ECF6\",\"gridcolor\":\"white\",\"linecolor\":\"white\",\"showbackground\":true,\"ticks\":\"\",\"zerolinecolor\":\"white\",\"gridwidth\":2}},\"shapedefaults\":{\"line\":{\"color\":\"#2a3f5f\"}},\"annotationdefaults\":{\"arrowcolor\":\"#2a3f5f\",\"arrowhead\":0,\"arrowwidth\":1},\"geo\":{\"bgcolor\":\"white\",\"landcolor\":\"#E5ECF6\",\"subunitcolor\":\"white\",\"showland\":true,\"showlakes\":true,\"lakecolor\":\"white\"},\"title\":{\"x\":0.05},\"mapbox\":{\"style\":\"light\"}}},\"xaxis\":{\"anchor\":\"y\",\"domain\":[0.0,0.2888888888888889],\"title\":{\"text\":\"IDHM\"}},\"yaxis\":{\"anchor\":\"x\",\"domain\":[0.0,1.0],\"title\":{\"text\":\"Porcentagem dos votos\"}},\"xaxis2\":{\"anchor\":\"y2\",\"domain\":[0.35555555555555557,0.6444444444444445],\"title\":{\"text\":\"IDHM\"}},\"yaxis2\":{\"anchor\":\"x2\",\"domain\":[0.0,1.0]},\"xaxis3\":{\"anchor\":\"y3\",\"domain\":[0.7111111111111111,1.0],\"title\":{\"text\":\"IDHM\"}},\"yaxis3\":{\"anchor\":\"x3\",\"domain\":[0.0,1.0]},\"annotations\":[{\"font\":{\"size\":16},\"showarrow\":false,\"text\":\"Elmano de Freitas\",\"x\":0.14444444444444446,\"xanchor\":\"center\",\"xref\":\"paper\",\"y\":1.0,\"yanchor\":\"bottom\",\"yref\":\"paper\"},{\"font\":{\"size\":16},\"showarrow\":false,\"text\":\"Wagner Sousa\",\"x\":0.5,\"xanchor\":\"center\",\"xref\":\"paper\",\"y\":1.0,\"yanchor\":\"bottom\",\"yref\":\"paper\"},{\"font\":{\"size\":16},\"showarrow\":false,\"text\":\"Roberto Cl\\u00e1udio\",\"x\":0.8555555555555556,\"xanchor\":\"center\",\"xref\":\"paper\",\"y\":1.0,\"yanchor\":\"bottom\",\"yref\":\"paper\"}],\"showlegend\":false},                        {\"responsive\": true}                    ).then(function(){\n",
              "                            \n",
              "var gd = document.getElementById('1ae3ebb0-1944-4222-9cd4-dc921a1fba57');\n",
              "var x = new MutationObserver(function (mutations, observer) {{\n",
              "        var display = window.getComputedStyle(gd).display;\n",
              "        if (!display || display === 'none') {{\n",
              "            console.log([gd, 'removed!']);\n",
              "            Plotly.purge(gd);\n",
              "            observer.disconnect();\n",
              "        }}\n",
              "}});\n",
              "\n",
              "// Listen for the removal of the full notebook cells\n",
              "var notebookContainer = gd.closest('#notebook-container');\n",
              "if (notebookContainer) {{\n",
              "    x.observe(notebookContainer, {childList: true});\n",
              "}}\n",
              "\n",
              "// Listen for the clearing of the current output cell\n",
              "var outputEl = gd.closest('.output');\n",
              "if (outputEl) {{\n",
              "    x.observe(outputEl, {childList: true});\n",
              "}}\n",
              "\n",
              "                        })                };                            </script>        </div>\n",
              "</body>\n",
              "</html>"
            ]
          },
          "metadata": {}
        }
      ]
    },
    {
      "cell_type": "code",
      "source": [
        "votos_por_municipio.query('nm_votavel == \"WAGNER SOUSA GOMES\"').corr()"
      ],
      "metadata": {
        "colab": {
          "base_uri": "https://localhost:8080/",
          "height": 465
        },
        "id": "GCAkhjJUDr4G",
        "outputId": "6e508e56-8e74-48c1-ebbe-f744068e0e5d"
      },
      "execution_count": 90,
      "outputs": [
        {
          "output_type": "stream",
          "name": "stderr",
          "text": [
            "<ipython-input-90-0fd58b6a1b1f>:1: FutureWarning:\n",
            "\n",
            "The default value of numeric_only in DataFrame.corr is deprecated. In a future version, it will default to False. Select only valid columns or specify the value of numeric_only to silence this warning.\n",
            "\n"
          ]
        },
        {
          "output_type": "execute_result",
          "data": {
            "text/plain": [
              "                        qt_votos  area_territorio  populacao      idhm  \\\n",
              "qt_votos                1.000000        -0.024612   0.997453  0.418997   \n",
              "area_territorio        -0.024612         1.000000   0.004880 -0.057825   \n",
              "populacao               0.997453         0.004880   1.000000  0.428956   \n",
              "idhm                    0.418997        -0.057825   0.428956  1.000000   \n",
              "pib_per_capita          0.196605        -0.050957   0.176792  0.493644   \n",
              "area_urbanizada         0.950315         0.010376   0.955626  0.554496   \n",
              "porcentagem_urbana      0.839732        -0.176110   0.827485  0.518819   \n",
              "porcentagem_dos_votos   0.245524        -0.112129   0.219944  0.409931   \n",
              "densidade_populacional  0.975398        -0.107317   0.969120  0.424560   \n",
              "\n",
              "                        pib_per_capita  area_urbanizada  porcentagem_urbana  \\\n",
              "qt_votos                      0.196605         0.950315            0.839732   \n",
              "area_territorio              -0.050957         0.010376           -0.176110   \n",
              "populacao                     0.176792         0.955626            0.827485   \n",
              "idhm                          0.493644         0.554496            0.518819   \n",
              "pib_per_capita                1.000000         0.349888            0.437546   \n",
              "area_urbanizada               0.349888         1.000000            0.859593   \n",
              "porcentagem_urbana            0.437546         0.859593            1.000000   \n",
              "porcentagem_dos_votos         0.463767         0.340775            0.368498   \n",
              "densidade_populacional        0.227873         0.922534            0.915824   \n",
              "\n",
              "                        porcentagem_dos_votos  densidade_populacional  \n",
              "qt_votos                             0.245524                0.975398  \n",
              "area_territorio                     -0.112129               -0.107317  \n",
              "populacao                            0.219944                0.969120  \n",
              "idhm                                 0.409931                0.424560  \n",
              "pib_per_capita                       0.463767                0.227873  \n",
              "area_urbanizada                      0.340775                0.922534  \n",
              "porcentagem_urbana                   0.368498                0.915824  \n",
              "porcentagem_dos_votos                1.000000                0.241255  \n",
              "densidade_populacional               0.241255                1.000000  "
            ],
            "text/html": [
              "\n",
              "  <div id=\"df-623a28f0-0b55-434c-930d-a8e43a1da6ab\">\n",
              "    <div class=\"colab-df-container\">\n",
              "      <div>\n",
              "<style scoped>\n",
              "    .dataframe tbody tr th:only-of-type {\n",
              "        vertical-align: middle;\n",
              "    }\n",
              "\n",
              "    .dataframe tbody tr th {\n",
              "        vertical-align: top;\n",
              "    }\n",
              "\n",
              "    .dataframe thead th {\n",
              "        text-align: right;\n",
              "    }\n",
              "</style>\n",
              "<table border=\"1\" class=\"dataframe\">\n",
              "  <thead>\n",
              "    <tr style=\"text-align: right;\">\n",
              "      <th></th>\n",
              "      <th>qt_votos</th>\n",
              "      <th>area_territorio</th>\n",
              "      <th>populacao</th>\n",
              "      <th>idhm</th>\n",
              "      <th>pib_per_capita</th>\n",
              "      <th>area_urbanizada</th>\n",
              "      <th>porcentagem_urbana</th>\n",
              "      <th>porcentagem_dos_votos</th>\n",
              "      <th>densidade_populacional</th>\n",
              "    </tr>\n",
              "  </thead>\n",
              "  <tbody>\n",
              "    <tr>\n",
              "      <th>qt_votos</th>\n",
              "      <td>1.000000</td>\n",
              "      <td>-0.024612</td>\n",
              "      <td>0.997453</td>\n",
              "      <td>0.418997</td>\n",
              "      <td>0.196605</td>\n",
              "      <td>0.950315</td>\n",
              "      <td>0.839732</td>\n",
              "      <td>0.245524</td>\n",
              "      <td>0.975398</td>\n",
              "    </tr>\n",
              "    <tr>\n",
              "      <th>area_territorio</th>\n",
              "      <td>-0.024612</td>\n",
              "      <td>1.000000</td>\n",
              "      <td>0.004880</td>\n",
              "      <td>-0.057825</td>\n",
              "      <td>-0.050957</td>\n",
              "      <td>0.010376</td>\n",
              "      <td>-0.176110</td>\n",
              "      <td>-0.112129</td>\n",
              "      <td>-0.107317</td>\n",
              "    </tr>\n",
              "    <tr>\n",
              "      <th>populacao</th>\n",
              "      <td>0.997453</td>\n",
              "      <td>0.004880</td>\n",
              "      <td>1.000000</td>\n",
              "      <td>0.428956</td>\n",
              "      <td>0.176792</td>\n",
              "      <td>0.955626</td>\n",
              "      <td>0.827485</td>\n",
              "      <td>0.219944</td>\n",
              "      <td>0.969120</td>\n",
              "    </tr>\n",
              "    <tr>\n",
              "      <th>idhm</th>\n",
              "      <td>0.418997</td>\n",
              "      <td>-0.057825</td>\n",
              "      <td>0.428956</td>\n",
              "      <td>1.000000</td>\n",
              "      <td>0.493644</td>\n",
              "      <td>0.554496</td>\n",
              "      <td>0.518819</td>\n",
              "      <td>0.409931</td>\n",
              "      <td>0.424560</td>\n",
              "    </tr>\n",
              "    <tr>\n",
              "      <th>pib_per_capita</th>\n",
              "      <td>0.196605</td>\n",
              "      <td>-0.050957</td>\n",
              "      <td>0.176792</td>\n",
              "      <td>0.493644</td>\n",
              "      <td>1.000000</td>\n",
              "      <td>0.349888</td>\n",
              "      <td>0.437546</td>\n",
              "      <td>0.463767</td>\n",
              "      <td>0.227873</td>\n",
              "    </tr>\n",
              "    <tr>\n",
              "      <th>area_urbanizada</th>\n",
              "      <td>0.950315</td>\n",
              "      <td>0.010376</td>\n",
              "      <td>0.955626</td>\n",
              "      <td>0.554496</td>\n",
              "      <td>0.349888</td>\n",
              "      <td>1.000000</td>\n",
              "      <td>0.859593</td>\n",
              "      <td>0.340775</td>\n",
              "      <td>0.922534</td>\n",
              "    </tr>\n",
              "    <tr>\n",
              "      <th>porcentagem_urbana</th>\n",
              "      <td>0.839732</td>\n",
              "      <td>-0.176110</td>\n",
              "      <td>0.827485</td>\n",
              "      <td>0.518819</td>\n",
              "      <td>0.437546</td>\n",
              "      <td>0.859593</td>\n",
              "      <td>1.000000</td>\n",
              "      <td>0.368498</td>\n",
              "      <td>0.915824</td>\n",
              "    </tr>\n",
              "    <tr>\n",
              "      <th>porcentagem_dos_votos</th>\n",
              "      <td>0.245524</td>\n",
              "      <td>-0.112129</td>\n",
              "      <td>0.219944</td>\n",
              "      <td>0.409931</td>\n",
              "      <td>0.463767</td>\n",
              "      <td>0.340775</td>\n",
              "      <td>0.368498</td>\n",
              "      <td>1.000000</td>\n",
              "      <td>0.241255</td>\n",
              "    </tr>\n",
              "    <tr>\n",
              "      <th>densidade_populacional</th>\n",
              "      <td>0.975398</td>\n",
              "      <td>-0.107317</td>\n",
              "      <td>0.969120</td>\n",
              "      <td>0.424560</td>\n",
              "      <td>0.227873</td>\n",
              "      <td>0.922534</td>\n",
              "      <td>0.915824</td>\n",
              "      <td>0.241255</td>\n",
              "      <td>1.000000</td>\n",
              "    </tr>\n",
              "  </tbody>\n",
              "</table>\n",
              "</div>\n",
              "      <button class=\"colab-df-convert\" onclick=\"convertToInteractive('df-623a28f0-0b55-434c-930d-a8e43a1da6ab')\"\n",
              "              title=\"Convert this dataframe to an interactive table.\"\n",
              "              style=\"display:none;\">\n",
              "        \n",
              "  <svg xmlns=\"http://www.w3.org/2000/svg\" height=\"24px\"viewBox=\"0 0 24 24\"\n",
              "       width=\"24px\">\n",
              "    <path d=\"M0 0h24v24H0V0z\" fill=\"none\"/>\n",
              "    <path d=\"M18.56 5.44l.94 2.06.94-2.06 2.06-.94-2.06-.94-.94-2.06-.94 2.06-2.06.94zm-11 1L8.5 8.5l.94-2.06 2.06-.94-2.06-.94L8.5 2.5l-.94 2.06-2.06.94zm10 10l.94 2.06.94-2.06 2.06-.94-2.06-.94-.94-2.06-.94 2.06-2.06.94z\"/><path d=\"M17.41 7.96l-1.37-1.37c-.4-.4-.92-.59-1.43-.59-.52 0-1.04.2-1.43.59L10.3 9.45l-7.72 7.72c-.78.78-.78 2.05 0 2.83L4 21.41c.39.39.9.59 1.41.59.51 0 1.02-.2 1.41-.59l7.78-7.78 2.81-2.81c.8-.78.8-2.07 0-2.86zM5.41 20L4 18.59l7.72-7.72 1.47 1.35L5.41 20z\"/>\n",
              "  </svg>\n",
              "      </button>\n",
              "      \n",
              "  <style>\n",
              "    .colab-df-container {\n",
              "      display:flex;\n",
              "      flex-wrap:wrap;\n",
              "      gap: 12px;\n",
              "    }\n",
              "\n",
              "    .colab-df-convert {\n",
              "      background-color: #E8F0FE;\n",
              "      border: none;\n",
              "      border-radius: 50%;\n",
              "      cursor: pointer;\n",
              "      display: none;\n",
              "      fill: #1967D2;\n",
              "      height: 32px;\n",
              "      padding: 0 0 0 0;\n",
              "      width: 32px;\n",
              "    }\n",
              "\n",
              "    .colab-df-convert:hover {\n",
              "      background-color: #E2EBFA;\n",
              "      box-shadow: 0px 1px 2px rgba(60, 64, 67, 0.3), 0px 1px 3px 1px rgba(60, 64, 67, 0.15);\n",
              "      fill: #174EA6;\n",
              "    }\n",
              "\n",
              "    [theme=dark] .colab-df-convert {\n",
              "      background-color: #3B4455;\n",
              "      fill: #D2E3FC;\n",
              "    }\n",
              "\n",
              "    [theme=dark] .colab-df-convert:hover {\n",
              "      background-color: #434B5C;\n",
              "      box-shadow: 0px 1px 3px 1px rgba(0, 0, 0, 0.15);\n",
              "      filter: drop-shadow(0px 1px 2px rgba(0, 0, 0, 0.3));\n",
              "      fill: #FFFFFF;\n",
              "    }\n",
              "  </style>\n",
              "\n",
              "      <script>\n",
              "        const buttonEl =\n",
              "          document.querySelector('#df-623a28f0-0b55-434c-930d-a8e43a1da6ab button.colab-df-convert');\n",
              "        buttonEl.style.display =\n",
              "          google.colab.kernel.accessAllowed ? 'block' : 'none';\n",
              "\n",
              "        async function convertToInteractive(key) {\n",
              "          const element = document.querySelector('#df-623a28f0-0b55-434c-930d-a8e43a1da6ab');\n",
              "          const dataTable =\n",
              "            await google.colab.kernel.invokeFunction('convertToInteractive',\n",
              "                                                     [key], {});\n",
              "          if (!dataTable) return;\n",
              "\n",
              "          const docLinkHtml = 'Like what you see? Visit the ' +\n",
              "            '<a target=\"_blank\" href=https://colab.research.google.com/notebooks/data_table.ipynb>data table notebook</a>'\n",
              "            + ' to learn more about interactive tables.';\n",
              "          element.innerHTML = '';\n",
              "          dataTable['output_type'] = 'display_data';\n",
              "          await google.colab.output.renderOutput(dataTable, element);\n",
              "          const docLink = document.createElement('div');\n",
              "          docLink.innerHTML = docLinkHtml;\n",
              "          element.appendChild(docLink);\n",
              "        }\n",
              "      </script>\n",
              "    </div>\n",
              "  </div>\n",
              "  "
            ]
          },
          "metadata": {},
          "execution_count": 90
        }
      ]
    }
  ],
  "metadata": {
    "colab": {
      "provenance": [],
      "mount_file_id": "1X6BSpPfX6XYbSCa_b4w5Scg1mPd0crnM",
      "authorship_tag": "ABX9TyOLlAdlOK08/X+BfkxutASD",
      "include_colab_link": true
    },
    "kernelspec": {
      "display_name": "Python 3",
      "name": "python3"
    },
    "language_info": {
      "name": "python"
    }
  },
  "nbformat": 4,
  "nbformat_minor": 0
}