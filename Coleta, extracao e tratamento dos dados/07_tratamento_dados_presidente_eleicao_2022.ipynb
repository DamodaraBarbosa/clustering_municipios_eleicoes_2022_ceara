{
 "cells": [
  {
   "cell_type": "markdown",
   "metadata": {},
   "source": [
    "Importando as bibliotecas"
   ]
  },
  {
   "cell_type": "code",
   "execution_count": 1,
   "metadata": {},
   "outputs": [],
   "source": [
    "import pandas as pd"
   ]
  },
  {
   "cell_type": "markdown",
   "metadata": {},
   "source": [
    "# 1. Carregamento dos dados"
   ]
  },
  {
   "cell_type": "code",
   "execution_count": 3,
   "metadata": {},
   "outputs": [],
   "source": [
    "df = pd.read_csv(\n",
    "    r'C:\\Users\\Nityananda\\Desktop\\eleicoes_ceara\\votacao_secao_2022_BR.csv',\n",
    "    sep=';', encoding='latin-1'\n",
    ")"
   ]
  },
  {
   "cell_type": "markdown",
   "metadata": {},
   "source": [
    "São selecionados apenas os dados referentes ao estado do Ceará:"
   ]
  },
  {
   "cell_type": "code",
   "execution_count": 6,
   "metadata": {},
   "outputs": [],
   "source": [
    "df = df.query('SG_UF == \"CE\"')"
   ]
  },
  {
   "cell_type": "code",
   "execution_count": 7,
   "metadata": {},
   "outputs": [
    {
     "data": {
      "text/html": [
       "<div>\n",
       "<style scoped>\n",
       "    .dataframe tbody tr th:only-of-type {\n",
       "        vertical-align: middle;\n",
       "    }\n",
       "\n",
       "    .dataframe tbody tr th {\n",
       "        vertical-align: top;\n",
       "    }\n",
       "\n",
       "    .dataframe thead th {\n",
       "        text-align: right;\n",
       "    }\n",
       "</style>\n",
       "<table border=\"1\" class=\"dataframe\">\n",
       "  <thead>\n",
       "    <tr style=\"text-align: right;\">\n",
       "      <th></th>\n",
       "      <th>DT_GERACAO</th>\n",
       "      <th>HH_GERACAO</th>\n",
       "      <th>ANO_ELEICAO</th>\n",
       "      <th>CD_TIPO_ELEICAO</th>\n",
       "      <th>NM_TIPO_ELEICAO</th>\n",
       "      <th>NR_TURNO</th>\n",
       "      <th>CD_ELEICAO</th>\n",
       "      <th>DS_ELEICAO</th>\n",
       "      <th>DT_ELEICAO</th>\n",
       "      <th>TP_ABRANGENCIA</th>\n",
       "      <th>...</th>\n",
       "      <th>NR_SECAO</th>\n",
       "      <th>CD_CARGO</th>\n",
       "      <th>DS_CARGO</th>\n",
       "      <th>NR_VOTAVEL</th>\n",
       "      <th>NM_VOTAVEL</th>\n",
       "      <th>QT_VOTOS</th>\n",
       "      <th>NR_LOCAL_VOTACAO</th>\n",
       "      <th>SQ_CANDIDATO</th>\n",
       "      <th>NM_LOCAL_VOTACAO</th>\n",
       "      <th>DS_LOCAL_VOTACAO_ENDERECO</th>\n",
       "    </tr>\n",
       "  </thead>\n",
       "  <tbody>\n",
       "    <tr>\n",
       "      <th>7</th>\n",
       "      <td>01/11/2022</td>\n",
       "      <td>16:05:25</td>\n",
       "      <td>2022</td>\n",
       "      <td>2</td>\n",
       "      <td>ELEIÇÃO ORDINÁRIA</td>\n",
       "      <td>1</td>\n",
       "      <td>544</td>\n",
       "      <td>ELEIÇÃO GERAL FEDERAL 2022</td>\n",
       "      <td>02/10/2022</td>\n",
       "      <td>F</td>\n",
       "      <td>...</td>\n",
       "      <td>133</td>\n",
       "      <td>1</td>\n",
       "      <td>PRESIDENTE</td>\n",
       "      <td>13</td>\n",
       "      <td>LUIZ INÁCIO LULA DA SILVA</td>\n",
       "      <td>212</td>\n",
       "      <td>1589</td>\n",
       "      <td>280001607829</td>\n",
       "      <td>ESCOLA DE 1 GRAU MARIA DO CARMO DA CONCEICAO</td>\n",
       "      <td>SÍTIO MONTENEGRO</td>\n",
       "    </tr>\n",
       "    <tr>\n",
       "      <th>57</th>\n",
       "      <td>01/11/2022</td>\n",
       "      <td>16:05:25</td>\n",
       "      <td>2022</td>\n",
       "      <td>2</td>\n",
       "      <td>ELEIÇÃO ORDINÁRIA</td>\n",
       "      <td>1</td>\n",
       "      <td>544</td>\n",
       "      <td>ELEIÇÃO GERAL FEDERAL 2022</td>\n",
       "      <td>02/10/2022</td>\n",
       "      <td>F</td>\n",
       "      <td>...</td>\n",
       "      <td>151</td>\n",
       "      <td>1</td>\n",
       "      <td>PRESIDENTE</td>\n",
       "      <td>13</td>\n",
       "      <td>LUIZ INÁCIO LULA DA SILVA</td>\n",
       "      <td>144</td>\n",
       "      <td>1562</td>\n",
       "      <td>280001607829</td>\n",
       "      <td>E.E.F. SAO JOSE</td>\n",
       "      <td>SITIO SAO JOSE</td>\n",
       "    </tr>\n",
       "    <tr>\n",
       "      <th>84</th>\n",
       "      <td>01/11/2022</td>\n",
       "      <td>16:05:25</td>\n",
       "      <td>2022</td>\n",
       "      <td>2</td>\n",
       "      <td>ELEIÇÃO ORDINÁRIA</td>\n",
       "      <td>1</td>\n",
       "      <td>544</td>\n",
       "      <td>ELEIÇÃO GERAL FEDERAL 2022</td>\n",
       "      <td>02/10/2022</td>\n",
       "      <td>F</td>\n",
       "      <td>...</td>\n",
       "      <td>48</td>\n",
       "      <td>1</td>\n",
       "      <td>PRESIDENTE</td>\n",
       "      <td>13</td>\n",
       "      <td>LUIZ INÁCIO LULA DA SILVA</td>\n",
       "      <td>213</td>\n",
       "      <td>1392</td>\n",
       "      <td>280001607829</td>\n",
       "      <td>EMEF DOMINGOS SAVIO</td>\n",
       "      <td>AV DOM BOSCO, 393</td>\n",
       "    </tr>\n",
       "    <tr>\n",
       "      <th>90</th>\n",
       "      <td>01/11/2022</td>\n",
       "      <td>16:05:25</td>\n",
       "      <td>2022</td>\n",
       "      <td>2</td>\n",
       "      <td>ELEIÇÃO ORDINÁRIA</td>\n",
       "      <td>1</td>\n",
       "      <td>544</td>\n",
       "      <td>ELEIÇÃO GERAL FEDERAL 2022</td>\n",
       "      <td>02/10/2022</td>\n",
       "      <td>F</td>\n",
       "      <td>...</td>\n",
       "      <td>176</td>\n",
       "      <td>1</td>\n",
       "      <td>PRESIDENTE</td>\n",
       "      <td>13</td>\n",
       "      <td>LUIZ INÁCIO LULA DA SILVA</td>\n",
       "      <td>148</td>\n",
       "      <td>1872</td>\n",
       "      <td>280001607829</td>\n",
       "      <td>CRECHE CRIANÇA FELIZ</td>\n",
       "      <td>LOCALIDADE DE RESIDÊNCIA,</td>\n",
       "    </tr>\n",
       "    <tr>\n",
       "      <th>136</th>\n",
       "      <td>01/11/2022</td>\n",
       "      <td>16:05:25</td>\n",
       "      <td>2022</td>\n",
       "      <td>2</td>\n",
       "      <td>ELEIÇÃO ORDINÁRIA</td>\n",
       "      <td>1</td>\n",
       "      <td>544</td>\n",
       "      <td>ELEIÇÃO GERAL FEDERAL 2022</td>\n",
       "      <td>02/10/2022</td>\n",
       "      <td>F</td>\n",
       "      <td>...</td>\n",
       "      <td>706</td>\n",
       "      <td>1</td>\n",
       "      <td>PRESIDENTE</td>\n",
       "      <td>13</td>\n",
       "      <td>LUIZ INÁCIO LULA DA SILVA</td>\n",
       "      <td>169</td>\n",
       "      <td>2917</td>\n",
       "      <td>280001607829</td>\n",
       "      <td>IGREJA SÃO PEDRO E SÃO PAULO</td>\n",
       "      <td>RUA PADRE TEODORO, 996</td>\n",
       "    </tr>\n",
       "  </tbody>\n",
       "</table>\n",
       "<p>5 rows × 26 columns</p>\n",
       "</div>"
      ],
      "text/plain": [
       "     DT_GERACAO HH_GERACAO  ANO_ELEICAO  CD_TIPO_ELEICAO    NM_TIPO_ELEICAO  \\\n",
       "7    01/11/2022   16:05:25         2022                2  ELEIÇÃO ORDINÁRIA   \n",
       "57   01/11/2022   16:05:25         2022                2  ELEIÇÃO ORDINÁRIA   \n",
       "84   01/11/2022   16:05:25         2022                2  ELEIÇÃO ORDINÁRIA   \n",
       "90   01/11/2022   16:05:25         2022                2  ELEIÇÃO ORDINÁRIA   \n",
       "136  01/11/2022   16:05:25         2022                2  ELEIÇÃO ORDINÁRIA   \n",
       "\n",
       "     NR_TURNO  CD_ELEICAO                  DS_ELEICAO  DT_ELEICAO  \\\n",
       "7           1         544  ELEIÇÃO GERAL FEDERAL 2022  02/10/2022   \n",
       "57          1         544  ELEIÇÃO GERAL FEDERAL 2022  02/10/2022   \n",
       "84          1         544  ELEIÇÃO GERAL FEDERAL 2022  02/10/2022   \n",
       "90          1         544  ELEIÇÃO GERAL FEDERAL 2022  02/10/2022   \n",
       "136         1         544  ELEIÇÃO GERAL FEDERAL 2022  02/10/2022   \n",
       "\n",
       "    TP_ABRANGENCIA  ... NR_SECAO CD_CARGO    DS_CARGO  NR_VOTAVEL  \\\n",
       "7                F  ...      133        1  PRESIDENTE          13   \n",
       "57               F  ...      151        1  PRESIDENTE          13   \n",
       "84               F  ...       48        1  PRESIDENTE          13   \n",
       "90               F  ...      176        1  PRESIDENTE          13   \n",
       "136              F  ...      706        1  PRESIDENTE          13   \n",
       "\n",
       "                    NM_VOTAVEL  QT_VOTOS  NR_LOCAL_VOTACAO  SQ_CANDIDATO  \\\n",
       "7    LUIZ INÁCIO LULA DA SILVA       212              1589  280001607829   \n",
       "57   LUIZ INÁCIO LULA DA SILVA       144              1562  280001607829   \n",
       "84   LUIZ INÁCIO LULA DA SILVA       213              1392  280001607829   \n",
       "90   LUIZ INÁCIO LULA DA SILVA       148              1872  280001607829   \n",
       "136  LUIZ INÁCIO LULA DA SILVA       169              2917  280001607829   \n",
       "\n",
       "                                 NM_LOCAL_VOTACAO  DS_LOCAL_VOTACAO_ENDERECO  \n",
       "7    ESCOLA DE 1 GRAU MARIA DO CARMO DA CONCEICAO           SÍTIO MONTENEGRO  \n",
       "57                                E.E.F. SAO JOSE             SITIO SAO JOSE  \n",
       "84                            EMEF DOMINGOS SAVIO          AV DOM BOSCO, 393  \n",
       "90                           CRECHE CRIANÇA FELIZ  LOCALIDADE DE RESIDÊNCIA,  \n",
       "136                  IGREJA SÃO PEDRO E SÃO PAULO     RUA PADRE TEODORO, 996  \n",
       "\n",
       "[5 rows x 26 columns]"
      ]
     },
     "execution_count": 7,
     "metadata": {},
     "output_type": "execute_result"
    }
   ],
   "source": [
    "df.head()"
   ]
  },
  {
   "cell_type": "markdown",
   "metadata": {},
   "source": [
    "# 2. Informações do *dataframe*"
   ]
  },
  {
   "cell_type": "markdown",
   "metadata": {},
   "source": [
    "## 2.1. Dimensões do *dataframe*"
   ]
  },
  {
   "cell_type": "code",
   "execution_count": 8,
   "metadata": {},
   "outputs": [
    {
     "data": {
      "text/plain": [
       "'O dataframe contém 26 colunas e 243315 linhas.'"
      ]
     },
     "execution_count": 8,
     "metadata": {},
     "output_type": "execute_result"
    }
   ],
   "source": [
    "f'O dataframe contém {df.shape[1]} colunas e {df.shape[0]} linhas.'"
   ]
  },
  {
   "cell_type": "markdown",
   "metadata": {},
   "source": [
    "## 2.2. Infos do *dataframe*"
   ]
  },
  {
   "cell_type": "code",
   "execution_count": 12,
   "metadata": {},
   "outputs": [
    {
     "name": "stdout",
     "output_type": "stream",
     "text": [
      "<class 'pandas.core.frame.DataFrame'>\n",
      "Int64Index: 243315 entries, 7 to 5380637\n",
      "Data columns (total 26 columns):\n",
      " #   Column                     Non-Null Count   Dtype \n",
      "---  ------                     --------------   ----- \n",
      " 0   DT_GERACAO                 243315 non-null  object\n",
      " 1   HH_GERACAO                 243315 non-null  object\n",
      " 2   ANO_ELEICAO                243315 non-null  int64 \n",
      " 3   CD_TIPO_ELEICAO            243315 non-null  int64 \n",
      " 4   NM_TIPO_ELEICAO            243315 non-null  object\n",
      " 5   NR_TURNO                   243315 non-null  int64 \n",
      " 6   CD_ELEICAO                 243315 non-null  int64 \n",
      " 7   DS_ELEICAO                 243315 non-null  object\n",
      " 8   DT_ELEICAO                 243315 non-null  object\n",
      " 9   TP_ABRANGENCIA             243315 non-null  object\n",
      " 10  SG_UF                      243315 non-null  object\n",
      " 11  SG_UE                      243315 non-null  object\n",
      " 12  NM_UE                      243315 non-null  object\n",
      " 13  CD_MUNICIPIO               243315 non-null  int64 \n",
      " 14  NM_MUNICIPIO               243315 non-null  object\n",
      " 15  NR_ZONA                    243315 non-null  int64 \n",
      " 16  NR_SECAO                   243315 non-null  int64 \n",
      " 17  CD_CARGO                   243315 non-null  int64 \n",
      " 18  DS_CARGO                   243315 non-null  object\n",
      " 19  NR_VOTAVEL                 243315 non-null  int64 \n",
      " 20  NM_VOTAVEL                 243315 non-null  object\n",
      " 21  QT_VOTOS                   243315 non-null  int64 \n",
      " 22  NR_LOCAL_VOTACAO           243315 non-null  int64 \n",
      " 23  SQ_CANDIDATO               243315 non-null  int64 \n",
      " 24  NM_LOCAL_VOTACAO           243315 non-null  object\n",
      " 25  DS_LOCAL_VOTACAO_ENDERECO  243315 non-null  object\n",
      "dtypes: int64(12), object(14)\n",
      "memory usage: 50.1+ MB\n"
     ]
    }
   ],
   "source": [
    "df.info()"
   ]
  },
  {
   "cell_type": "markdown",
   "metadata": {},
   "source": [
    "## 2.3. Presença de dados faltantes"
   ]
  },
  {
   "cell_type": "code",
   "execution_count": 9,
   "metadata": {},
   "outputs": [
    {
     "data": {
      "text/plain": [
       "DT_GERACAO                   0\n",
       "HH_GERACAO                   0\n",
       "ANO_ELEICAO                  0\n",
       "CD_TIPO_ELEICAO              0\n",
       "NM_TIPO_ELEICAO              0\n",
       "NR_TURNO                     0\n",
       "CD_ELEICAO                   0\n",
       "DS_ELEICAO                   0\n",
       "DT_ELEICAO                   0\n",
       "TP_ABRANGENCIA               0\n",
       "SG_UF                        0\n",
       "SG_UE                        0\n",
       "NM_UE                        0\n",
       "CD_MUNICIPIO                 0\n",
       "NM_MUNICIPIO                 0\n",
       "NR_ZONA                      0\n",
       "NR_SECAO                     0\n",
       "CD_CARGO                     0\n",
       "DS_CARGO                     0\n",
       "NR_VOTAVEL                   0\n",
       "NM_VOTAVEL                   0\n",
       "QT_VOTOS                     0\n",
       "NR_LOCAL_VOTACAO             0\n",
       "SQ_CANDIDATO                 0\n",
       "NM_LOCAL_VOTACAO             0\n",
       "DS_LOCAL_VOTACAO_ENDERECO    0\n",
       "dtype: int64"
      ]
     },
     "execution_count": 9,
     "metadata": {},
     "output_type": "execute_result"
    }
   ],
   "source": [
    "df.isna().sum()"
   ]
  },
  {
   "cell_type": "markdown",
   "metadata": {},
   "source": [
    "Não há dados faltantes no conjunto de dados."
   ]
  },
  {
   "cell_type": "markdown",
   "metadata": {},
   "source": [
    "## 2.4. Dados duplicados"
   ]
  },
  {
   "cell_type": "code",
   "execution_count": 11,
   "metadata": {},
   "outputs": [
    {
     "data": {
      "text/html": [
       "<div>\n",
       "<style scoped>\n",
       "    .dataframe tbody tr th:only-of-type {\n",
       "        vertical-align: middle;\n",
       "    }\n",
       "\n",
       "    .dataframe tbody tr th {\n",
       "        vertical-align: top;\n",
       "    }\n",
       "\n",
       "    .dataframe thead th {\n",
       "        text-align: right;\n",
       "    }\n",
       "</style>\n",
       "<table border=\"1\" class=\"dataframe\">\n",
       "  <thead>\n",
       "    <tr style=\"text-align: right;\">\n",
       "      <th></th>\n",
       "      <th>DT_GERACAO</th>\n",
       "      <th>HH_GERACAO</th>\n",
       "      <th>ANO_ELEICAO</th>\n",
       "      <th>CD_TIPO_ELEICAO</th>\n",
       "      <th>NM_TIPO_ELEICAO</th>\n",
       "      <th>NR_TURNO</th>\n",
       "      <th>CD_ELEICAO</th>\n",
       "      <th>DS_ELEICAO</th>\n",
       "      <th>DT_ELEICAO</th>\n",
       "      <th>TP_ABRANGENCIA</th>\n",
       "      <th>...</th>\n",
       "      <th>NR_SECAO</th>\n",
       "      <th>CD_CARGO</th>\n",
       "      <th>DS_CARGO</th>\n",
       "      <th>NR_VOTAVEL</th>\n",
       "      <th>NM_VOTAVEL</th>\n",
       "      <th>QT_VOTOS</th>\n",
       "      <th>NR_LOCAL_VOTACAO</th>\n",
       "      <th>SQ_CANDIDATO</th>\n",
       "      <th>NM_LOCAL_VOTACAO</th>\n",
       "      <th>DS_LOCAL_VOTACAO_ENDERECO</th>\n",
       "    </tr>\n",
       "  </thead>\n",
       "  <tbody>\n",
       "  </tbody>\n",
       "</table>\n",
       "<p>0 rows × 26 columns</p>\n",
       "</div>"
      ],
      "text/plain": [
       "Empty DataFrame\n",
       "Columns: [DT_GERACAO, HH_GERACAO, ANO_ELEICAO, CD_TIPO_ELEICAO, NM_TIPO_ELEICAO, NR_TURNO, CD_ELEICAO, DS_ELEICAO, DT_ELEICAO, TP_ABRANGENCIA, SG_UF, SG_UE, NM_UE, CD_MUNICIPIO, NM_MUNICIPIO, NR_ZONA, NR_SECAO, CD_CARGO, DS_CARGO, NR_VOTAVEL, NM_VOTAVEL, QT_VOTOS, NR_LOCAL_VOTACAO, SQ_CANDIDATO, NM_LOCAL_VOTACAO, DS_LOCAL_VOTACAO_ENDERECO]\n",
       "Index: []\n",
       "\n",
       "[0 rows x 26 columns]"
      ]
     },
     "execution_count": 11,
     "metadata": {},
     "output_type": "execute_result"
    }
   ],
   "source": [
    "df.loc[df.duplicated()]"
   ]
  },
  {
   "cell_type": "markdown",
   "metadata": {},
   "source": [
    "Sem dados duplicados no conjunto de dados."
   ]
  },
  {
   "cell_type": "markdown",
   "metadata": {},
   "source": [
    "# 3. Tratamento dos dados"
   ]
  },
  {
   "cell_type": "markdown",
   "metadata": {},
   "source": [
    "## 3.1. Eliminação de colunas"
   ]
  },
  {
   "cell_type": "markdown",
   "metadata": {},
   "source": [
    "As colunas entre `DT_GERACAO` e `NM_UE` contém apenas valores únicos. Além disso, os dados em algumas outras colunas da base de dados não serão úteis para o objetivo da análise posterior, por isso também devem ser excluídas. \n",
    "\n",
    "São mantidas as colunas `NM_MUNICIPIO`, `NR_ZONA`, `NR_SECAO`, `DS_CARGO`, `NR_VOTAVEL`, `NM_VOTAVEL` e `QT_VOTOS`. Elas contêm informações sobre o nome do município, zona eleitoral, seção eleitoral, cargo ao qual o candidato concorreu, número do candidato e quantidade de votos, respectivamente:"
   ]
  },
  {
   "cell_type": "code",
   "execution_count": 13,
   "metadata": {},
   "outputs": [],
   "source": [
    "df = df[['NM_MUNICIPIO', 'NR_TURNO', 'NR_ZONA', 'NR_SECAO', 'DS_CARGO', 'NR_VOTAVEL', 'NM_VOTAVEL', 'QT_VOTOS']]"
   ]
  },
  {
   "cell_type": "code",
   "execution_count": 14,
   "metadata": {},
   "outputs": [
    {
     "data": {
      "text/html": [
       "<div>\n",
       "<style scoped>\n",
       "    .dataframe tbody tr th:only-of-type {\n",
       "        vertical-align: middle;\n",
       "    }\n",
       "\n",
       "    .dataframe tbody tr th {\n",
       "        vertical-align: top;\n",
       "    }\n",
       "\n",
       "    .dataframe thead th {\n",
       "        text-align: right;\n",
       "    }\n",
       "</style>\n",
       "<table border=\"1\" class=\"dataframe\">\n",
       "  <thead>\n",
       "    <tr style=\"text-align: right;\">\n",
       "      <th></th>\n",
       "      <th>NM_MUNICIPIO</th>\n",
       "      <th>NR_TURNO</th>\n",
       "      <th>NR_ZONA</th>\n",
       "      <th>NR_SECAO</th>\n",
       "      <th>DS_CARGO</th>\n",
       "      <th>NR_VOTAVEL</th>\n",
       "      <th>NM_VOTAVEL</th>\n",
       "      <th>QT_VOTOS</th>\n",
       "    </tr>\n",
       "  </thead>\n",
       "  <tbody>\n",
       "    <tr>\n",
       "      <th>7</th>\n",
       "      <td>JUCÁS</td>\n",
       "      <td>1</td>\n",
       "      <td>43</td>\n",
       "      <td>133</td>\n",
       "      <td>PRESIDENTE</td>\n",
       "      <td>13</td>\n",
       "      <td>LUIZ INÁCIO LULA DA SILVA</td>\n",
       "      <td>212</td>\n",
       "    </tr>\n",
       "    <tr>\n",
       "      <th>57</th>\n",
       "      <td>GRANJA</td>\n",
       "      <td>1</td>\n",
       "      <td>25</td>\n",
       "      <td>151</td>\n",
       "      <td>PRESIDENTE</td>\n",
       "      <td>13</td>\n",
       "      <td>LUIZ INÁCIO LULA DA SILVA</td>\n",
       "      <td>144</td>\n",
       "    </tr>\n",
       "  </tbody>\n",
       "</table>\n",
       "</div>"
      ],
      "text/plain": [
       "   NM_MUNICIPIO  NR_TURNO  NR_ZONA  NR_SECAO    DS_CARGO  NR_VOTAVEL  \\\n",
       "7         JUCÁS         1       43       133  PRESIDENTE          13   \n",
       "57       GRANJA         1       25       151  PRESIDENTE          13   \n",
       "\n",
       "                   NM_VOTAVEL  QT_VOTOS  \n",
       "7   LUIZ INÁCIO LULA DA SILVA       212  \n",
       "57  LUIZ INÁCIO LULA DA SILVA       144  "
      ]
     },
     "execution_count": 14,
     "metadata": {},
     "output_type": "execute_result"
    }
   ],
   "source": [
    "df.head(2)"
   ]
  },
  {
   "cell_type": "markdown",
   "metadata": {},
   "source": [
    "## 3.2. Renomeação das colunas"
   ]
  },
  {
   "cell_type": "code",
   "execution_count": 15,
   "metadata": {},
   "outputs": [],
   "source": [
    "df = df.rename(\n",
    "    {'NM_MUNICIPIO': 'nm_municipio', 'NR_ZONA': 'nr_zona', 'NR_SECAO': 'nr_secao', 'DS_CARGO': 'ds_cargo', \n",
    "     'NR_VOTAVEL': 'nr_votavel', 'NM_VOTAVEL': 'nm_votavel', 'QT_VOTOS': 'qt_votos', 'NR_TURNO': 'nr_turno'}, axis= 1\n",
    ")"
   ]
  },
  {
   "cell_type": "code",
   "execution_count": 16,
   "metadata": {},
   "outputs": [
    {
     "data": {
      "text/html": [
       "<div>\n",
       "<style scoped>\n",
       "    .dataframe tbody tr th:only-of-type {\n",
       "        vertical-align: middle;\n",
       "    }\n",
       "\n",
       "    .dataframe tbody tr th {\n",
       "        vertical-align: top;\n",
       "    }\n",
       "\n",
       "    .dataframe thead th {\n",
       "        text-align: right;\n",
       "    }\n",
       "</style>\n",
       "<table border=\"1\" class=\"dataframe\">\n",
       "  <thead>\n",
       "    <tr style=\"text-align: right;\">\n",
       "      <th></th>\n",
       "      <th>nm_municipio</th>\n",
       "      <th>nr_turno</th>\n",
       "      <th>nr_zona</th>\n",
       "      <th>nr_secao</th>\n",
       "      <th>ds_cargo</th>\n",
       "      <th>nr_votavel</th>\n",
       "      <th>nm_votavel</th>\n",
       "      <th>qt_votos</th>\n",
       "    </tr>\n",
       "  </thead>\n",
       "  <tbody>\n",
       "    <tr>\n",
       "      <th>7</th>\n",
       "      <td>JUCÁS</td>\n",
       "      <td>1</td>\n",
       "      <td>43</td>\n",
       "      <td>133</td>\n",
       "      <td>PRESIDENTE</td>\n",
       "      <td>13</td>\n",
       "      <td>LUIZ INÁCIO LULA DA SILVA</td>\n",
       "      <td>212</td>\n",
       "    </tr>\n",
       "    <tr>\n",
       "      <th>57</th>\n",
       "      <td>GRANJA</td>\n",
       "      <td>1</td>\n",
       "      <td>25</td>\n",
       "      <td>151</td>\n",
       "      <td>PRESIDENTE</td>\n",
       "      <td>13</td>\n",
       "      <td>LUIZ INÁCIO LULA DA SILVA</td>\n",
       "      <td>144</td>\n",
       "    </tr>\n",
       "  </tbody>\n",
       "</table>\n",
       "</div>"
      ],
      "text/plain": [
       "   nm_municipio  nr_turno  nr_zona  nr_secao    ds_cargo  nr_votavel  \\\n",
       "7         JUCÁS         1       43       133  PRESIDENTE          13   \n",
       "57       GRANJA         1       25       151  PRESIDENTE          13   \n",
       "\n",
       "                   nm_votavel  qt_votos  \n",
       "7   LUIZ INÁCIO LULA DA SILVA       212  \n",
       "57  LUIZ INÁCIO LULA DA SILVA       144  "
      ]
     },
     "execution_count": 16,
     "metadata": {},
     "output_type": "execute_result"
    }
   ],
   "source": [
    "df.head(2)"
   ]
  },
  {
   "cell_type": "markdown",
   "metadata": {},
   "source": [
    "# 4. Exportação dos dados processados"
   ]
  },
  {
   "cell_type": "markdown",
   "metadata": {},
   "source": [
    "Finalizado o tratamento dos dados o conjunto de dados passa a ter a seguinte configuração:\n",
    "\n",
    "* `nm_municipio`: nome do município do estado do Ceará;\n",
    "* `nr_turno`: turno da eleição;\n",
    "* `nr_zona`: número da zona eleitoral;\n",
    "* `nr_secao`: número da seção eleitoral;\n",
    "* `ds_cargo`: cargo disputado;\n",
    "* `nr_votavel`: número do candidato;\n",
    "* `nm_votavel`: nome do candidato;\n",
    "* `qt_votos`: quantidade de votos."
   ]
  },
  {
   "cell_type": "markdown",
   "metadata": {},
   "source": [
    "Exportam-se os dados em um arquivo de formato *csv*:"
   ]
  },
  {
   "cell_type": "code",
   "execution_count": 20,
   "metadata": {},
   "outputs": [],
   "source": [
    "df.to_csv(\n",
    "     r'C:\\Users\\Nityananda\\Desktop\\eleicoes_ceara\\votacao_secao_2022_BR_tratado.csv',\n",
    "    index=False, encoding='latin-1'\n",
    ")"
   ]
  }
 ],
 "metadata": {
  "kernelspec": {
   "display_name": "Python 3",
   "language": "python",
   "name": "python3"
  },
  "language_info": {
   "codemirror_mode": {
    "name": "ipython",
    "version": 3
   },
   "file_extension": ".py",
   "mimetype": "text/x-python",
   "name": "python",
   "nbconvert_exporter": "python",
   "pygments_lexer": "ipython3",
   "version": "3.10.11"
  },
  "orig_nbformat": 4
 },
 "nbformat": 4,
 "nbformat_minor": 2
}
