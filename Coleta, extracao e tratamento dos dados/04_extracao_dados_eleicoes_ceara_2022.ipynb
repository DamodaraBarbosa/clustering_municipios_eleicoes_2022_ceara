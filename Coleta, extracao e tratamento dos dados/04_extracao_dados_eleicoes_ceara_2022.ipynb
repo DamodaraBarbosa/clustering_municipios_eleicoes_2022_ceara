{
 "cells": [
  {
   "attachments": {},
   "cell_type": "markdown",
   "metadata": {},
   "source": [
    "# 1. Extração do conjunto de dados do arquivo compactado"
   ]
  },
  {
   "attachments": {
    "image.png": {
     "image/png": "[encoded data removed]"
    }
   },
   "cell_type": "markdown",
   "metadata": {},
   "source": [
    "O arquivo baixado do site do TSE é compactado (*zip*), portanto, para obter o conjunto de dados (*csv*) do Ceará é necessário extrai-lo. \n",
    "\n",
    "![image.png](attachment:image.png)"
   ]
  },
  {
   "attachments": {},
   "cell_type": "markdown",
   "metadata": {},
   "source": [
    "## 1.1 Preparando a extração "
   ]
  },
  {
   "cell_type": "code",
   "execution_count": 1,
   "metadata": {},
   "outputs": [],
   "source": [
    "import dataprocessing.dataextract as dex"
   ]
  },
  {
   "attachments": {},
   "cell_type": "markdown",
   "metadata": {},
   "source": [
    "A classe `Extract` é instanciada e recebe o diretório em que o arquivo *zip* está localizado:"
   ]
  },
  {
   "cell_type": "code",
   "execution_count": 2,
   "metadata": {},
   "outputs": [],
   "source": [
    "extract = dex.Extract(r'C:\\Users\\Nityananda\\Documents\\Python\\datacolect\\files\\votacao_secao_2022_CE.zip')"
   ]
  },
  {
   "attachments": {},
   "cell_type": "markdown",
   "metadata": {},
   "source": [
    "## 1.2 Arquivos compactados"
   ]
  },
  {
   "attachments": {},
   "cell_type": "markdown",
   "metadata": {},
   "source": [
    "O método `zipfiles_list` retorna uma lista que contém os nomes dos arquivos que estão compactados. "
   ]
  },
  {
   "cell_type": "code",
   "execution_count": 3,
   "metadata": {},
   "outputs": [
    {
     "name": "stdout",
     "output_type": "stream",
     "text": [
      "['votacao_secao_2022_CE.csv', 'leiame.pdf']\n"
     ]
    }
   ],
   "source": [
    "files_names = extract.zipfiles_list()\n",
    "print(files_names)"
   ]
  },
  {
   "attachments": {},
   "cell_type": "markdown",
   "metadata": {},
   "source": [
    "## 1.3 Extração do arquivo de interesse"
   ]
  },
  {
   "attachments": {},
   "cell_type": "markdown",
   "metadata": {},
   "source": [
    "O arquivo é extraído e para isso faz-se o uso do método `extract_file`. Para isso o nome do arquivo específico deve ser fornecido, além do diretório para o qual deseja-se extrair o arquivo de interesse."
   ]
  },
  {
   "cell_type": "code",
   "execution_count": 4,
   "metadata": {},
   "outputs": [],
   "source": [
    "extract.extract_file(\n",
    "    file_name= files_names[0], # seleciona-se apenas o elemento da lista que contém o arquivo csv que será extraído\n",
    "    path= r'C:\\Users\\Nityananda\\Desktop\\Datasets'\n",
    ")"
   ]
  },
  {
   "attachments": {
    "image.png": {
     "image/png": "[encoded data removed]"
    }
   },
   "cell_type": "markdown",
   "metadata": {},
   "source": [
    "![image.png](attachment:image.png)"
   ]
  }
 ],
 "metadata": {
  "kernelspec": {
   "display_name": "Python 3",
   "language": "python",
   "name": "python3"
  },
  "language_info": {
   "codemirror_mode": {
    "name": "ipython",
    "version": 3
   },
   "file_extension": ".py",
   "mimetype": "text/x-python",
   "name": "python",
   "nbconvert_exporter": "python",
   "pygments_lexer": "ipython3",
   "version": "3.10.11"
  },
  "orig_nbformat": 4
 },
 "nbformat": 4,
 "nbformat_minor": 2
}
